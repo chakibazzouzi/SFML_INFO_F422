{
 "cells": [
  {
   "cell_type": "markdown",
   "metadata": {},
   "source": [
    "# <center>SFML/INFO-F422: Statistical foundations of machine learning</center>"
   ]
  },
  {
   "cell_type": "markdown",
   "metadata": {},
   "source": [
    "# <center>Regression Part</center>"
   ]
  },
  {
   "cell_type": "markdown",
   "metadata": {},
   "source": [
    "Name: Mathieu Parmentier & Nini\n",
    "\n",
    "Python version: 3.6\n",
    "\n",
    "Date: XXXXX\n"
   ]
  },
  {
   "cell_type": "markdown",
   "metadata": {},
   "source": [
    "## Introduction"
   ]
  },
  {
   "cell_type": "markdown",
   "metadata": {},
   "source": [
    "THe curse of dimentionality is a term invented in 1961 by R.Bellman that refer to the fact that as a number of features or dimensions grows, the amount of data needed to generalize accurately a model groth exponentially.\n"
   ]
  },
  {
   "cell_type": "markdown",
   "metadata": {},
   "source": [
    "# Objective and strategy "
   ]
  },
  {
   "cell_type": "code",
   "execution_count": null,
   "metadata": {},
   "outputs": [],
   "source": []
  },
  {
   "cell_type": "markdown",
   "metadata": {},
   "source": [
    "## Material and method"
   ]
  },
  {
   "cell_type": "code",
   "execution_count": null,
   "metadata": {},
   "outputs": [],
   "source": []
  },
  {
   "cell_type": "code",
   "execution_count": null,
   "metadata": {},
   "outputs": [],
   "source": []
  },
  {
   "cell_type": "markdown",
   "metadata": {},
   "source": [
    "### Synthetic data set:"
   ]
  },
  {
   "cell_type": "markdown",
   "metadata": {},
   "source": [
    "We chose a cubic function to generate our synthetic data set. This function has only one variable and has not noise. This function, although basic, is slightly complex and will allow us to evaluate our good mastery of the algorithms."
   ]
  },
  {
   "cell_type": "code",
   "execution_count": 6,
   "metadata": {},
   "outputs": [],
   "source": [
    "import numpy as np\n",
    "import matplotlib.pyplot as plt\n",
    "\n",
    "n_col = 1\n",
    "n_row = 50\n",
    "np.random.seed()\n",
    "X = np.random.random((n_row,n_col))\n",
    "Y = np.ones(n_row)\n",
    "#X = X*1000\n",
    "\n",
    "\n",
    "for i in range(len(X)):\n",
    "    X[i][0]=i-n_row/2\n",
    "    Y[i]= (X[i][0])**3"
   ]
  },
  {
   "cell_type": "markdown",
   "metadata": {},
   "source": [
    "Let's explore our dataset to make sure that the generation has passed properly."
   ]
  },
  {
   "cell_type": "code",
   "execution_count": 7,
   "metadata": {},
   "outputs": [
    {
     "data": {
      "image/png": "[encoded data removed]",
      "text/plain": [
       "<Figure size 432x288 with 1 Axes>"
      ]
     },
     "metadata": {
      "needs_background": "light"
     },
     "output_type": "display_data"
    }
   ],
   "source": [
    "plt.figure()\n",
    "plt.scatter(X[:,:1], Y, s=20, edgecolor=\"black\",c=\"orange\", label=\"data\")\n",
    "\n",
    "plt.xlabel(\"data\")\n",
    "plt.ylabel(\"target\")\n",
    "plt.title(\"Exploration of the data\")\n",
    "plt.legend()\n",
    "plt.show()\n"
   ]
  },
  {
   "cell_type": "markdown",
   "metadata": {},
   "source": [
    "Now, we're going to divide our data into a test set and a training set.We will also load libraries shared by different algorithms and we will build a scoring function based on negative mean squared error to guide the optimization of our models."
   ]
  },
  {
   "cell_type": "code",
   "execution_count": 8,
   "metadata": {},
   "outputs": [],
   "source": [
    "from sklearn.model_selection import train_test_split\n",
    "\n",
    "x_train, x_test, y_train, y_test = train_test_split(X, Y, test_size = .2, random_state = 25)\n",
    "\n",
    "from sklearn.model_selection import GridSearchCV\n",
    "from sklearn.model_selection import cross_val_score, cross_validate\n",
    "from sklearn.metrics import median_absolute_error, mean_squared_error\n",
    "from sklearn.metrics import explained_variance_score, max_error, r2_score\n",
    "import pandas as pd"
   ]
  },
  {
   "cell_type": "markdown",
   "metadata": {},
   "source": [
    "### I) Algorithm : $\\epsilon$-Support vector machine regression"
   ]
  },
  {
   "cell_type": "markdown",
   "metadata": {},
   "source": [
    "#### A) Introduction\n",
    "\n",
    "..."
   ]
  },
  {
   "cell_type": "markdown",
   "metadata": {},
   "source": [
    "  ##### 1. Theoretical approach\n",
    "  \n",
    "  Let $S= \\{(x_n \\in \\mathbb{R}^d; y_n \\in \\mathbb{R} )  , n = 1, \\dots, m \\}$ be our training sample.\n",
    "  Where $y_n$ is the numerical target value associated to the data-point $x_n$.\n",
    "  \n",
    "  "
   ]
  },
  {
   "cell_type": "markdown",
   "metadata": {},
   "source": [
    "###### a. Linear $\\epsilon$-SVR\n",
    " \n",
    "  The epsillon-support vector regressor ($\\epsilon$-SVR) finds a linear function of the form \n",
    "  $\\begin{align} f: &\\mathbb{R}^d &\\rightarrow &\\mathbb{R}\\\\\n",
    "  &x &\\rightarrow &w^Tx+b\n",
    "  \\end{align}$ \n",
    "  by constructing an $\\epsilon$-insensitive tube, where aiming to reudce the risl of ovefitting, only object that lie outside the tube are penalized.\n",
    "  This method solve the folowing Quadratic Programing problem:\n",
    "  \n",
    "  $$ \\begin{align}\n",
    "  min_{w,b,\\xi,\\xi^*} \\text{      }& \\frac{1}{2}\\|w\\|^2+(C\\overrightarrow{1})^T(\\xi+\\xi^*) &\\\\\n",
    "  s.t. \\text{      } & y-((Aw)^T+b\\overrightarrow{1})\\leq \\epsilon \\overrightarrow{1}+ \\xi &,\\xi \\geq 0\\\\\n",
    "  & ((Aw)^T+b\\overrightarrow{1}) - y \\leq \\epsilon \\overrightarrow{1} + \\xi^* &, \\xi^* \\geq 0\n",
    "  \\end{align}$$\n",
    "  Where:  \n",
    "  $A = [x_1 \\dots x_n]^T \\in \\mathbb{R}^{m\\times d}$,  \n",
    "  $y = (y_1, \\dots , y_n) \\in \\mathbb{R}^m$,  \n",
    "  $ \\overrightarrow{1} \\in \\mathbb{R}^m$ is the is a vector of ones,  \n",
    "  $\\xi$, $\\xi^* \\in \\mathbb{R}^m$ are slack variables that penalize the sample that lie outside the $\\epsilon$-insentive tube,  \n",
    "  $C$  is the regularization factor that balances the trade-off between the fitting errors and the flatness of the linear regression function given by the minimization of the Euclidean norm of the weight vector $w$."
   ]
  },
  {
   "cell_type": "markdown",
   "metadata": {},
   "source": [
    "###### b. Extension of linear $\\epsilon$-SVR using kernel method\n",
    "\n",
    "Thanks to kernel trick, we can extend the linear $\\epsilon$-SVR in non-linear datasets.\n",
    "\n",
    "The kernel version of $\\epsilon$-SVR is given by:\n",
    "$$ \\begin{align}\n",
    "min_{\\alpha, \\alpha^*} \\text{      }& \\frac{1}{2}(\\alpha - \\alpha^*)^Tk(A,A^T)(\\alpha - \\alpha^*)+y^T(\\alpha-\\alpha^*)+ \\epsilon \\overrightarrow{1}^T (\\alpha - \\alpha^*)  \\\\\n",
    "s.t.\\text{      } & \\overrightarrow{1}^T(\\alpha - \\alpha^*) = 0 \\\\\n",
    "& 0 \\leq \\alpha , \\alpha^* \\leq C\\overrightarrow{1}\n",
    "\\end{align}$$\n",
    "\n",
    "\n",
    "Where $k(A,A^T)$ represents the matrix of kernel functions of the form $k_{ij} = \\mathcal{K}(x_i,x_j)$ and $\\mathcal{K} : \\mathbb{R}^d \\times \\mathbb{R}^d$"
   ]
  },
  {
   "cell_type": "markdown",
   "metadata": {},
   "source": [
    "###### c. Different kernel form\n",
    "\n",
    "* Gaussian  \n",
    "...\n",
    "\n",
    "\n",
    "* polynomial  \n",
    "...\n",
    "\n",
    "\n",
    "* rbf  \n",
    "...\n",
    "\n",
    "\n",
    "* sigmoid  \n",
    "..."
   ]
  },
  {
   "cell_type": "markdown",
   "metadata": {},
   "source": [
    "<font color=\"gray\"> Sources:</font> \n",
    "<br><br><font color=\"gray\"> Abu-Mostafa, Yaser S., 1957-. (2012). Learning from data : a short course. [United States] :AMLBook.com, </font> \n",
    "<br><br><font color=\"gray\"> Carrasco, M., López, J., & Maldonado, S. (2019). Epsilon-nonparallel support vector regression. Applied Intelligence, 49(12), 4223-4236. </font> \n",
    "<br><br><font color=\"gray\"> Schölkopf, B., Smola, A. J., & Bach, F. (2002). Learning with kernels: support vector machines, regularization, optimization, and beyond. MIT press. </font> \n",
    "<br><br><font color=\"gray\"> wikipedia: https://en.wikipedia.org/wiki/Radial_basis_function </font>  "
   ]
  },
  {
   "cell_type": "markdown",
   "metadata": {},
   "source": [
    "#### II) Code"
   ]
  },
  {
   "cell_type": "code",
   "execution_count": null,
   "metadata": {},
   "outputs": [],
   "source": [
    "from sklearn.svm import SVR\n",
    "\n",
    "\n",
    "# Default setting\n",
    "svm_r = SVR()\n",
    "svm_r.fit(x_train, y_train)\n",
    "print(\"Our support vector with default settings has an in-sample error equal to\",np.sqrt(mean_squared_error(y_train, svm_r.predict(x_train))))\n",
    "print(\"Our support vector with default settings has an out-sample error equal to\",np.sqrt(mean_squared_error(y_test, svm_r.predict(x_test))))\n",
    "print()\n",
    "print(\"let's try to optimize the model\")\n",
    "\n",
    "\n",
    "# Optimization test\n",
    "param_grid = {'C': [0.001, 0.01, 0.1, 1, 10, 100, 1000], 'kernel':['linear', 'poly', 'rbf', 'sigmoid']}\n",
    "# Where C is Regularization parameter\n",
    "svm_ropt = GridSearchCV(SVR(), param_grid, cv=5, verbose=0)\n",
    "svm_ropt.fit(x_train, y_train)\n",
    "print('The optimize settings are',svm_ropt.best_params_)\n",
    "svm_ropt = SVR(C = svm_ropt.best_params_['C'],kernel = svm_ropt.best_params_['kernel'])\n",
    "svm_ropt.fit(x_train, y_train)\n",
    "print(\"Our support vector with optimize settings has an in-sample error equal to\",np.sqrt(mean_squared_error(y_train, svm_ropt.predict(x_train))))\n",
    "print(\"Our support vector with optimize settings has an out-sample error equal to\",np.sqrt(mean_squared_error(y_test, svm_ropt.predict(x_test))))\n",
    "print(\"it'is much better\")\n",
    "print()\n",
    "print(\"We can also compute the R², the explained variance score, the median absolute error and the maximum error for all the dataset\")\n",
    "print(\"R²:\",r2_score(Y, svm_ropt.predict(X)))\n",
    "print(\"Explained variance score :\",explained_variance_score(Y, svm_ropt.predict(X)))\n",
    "print(\"Median absolute error :\",median_absolute_error(Y, svm_ropt.predict(X)))\n",
    "print(\"Maximum error :\",max_error(Y, svm_ropt.predict(X)))"
   ]
  },
  {
   "cell_type": "markdown",
   "metadata": {},
   "source": [
    "Plot of the results:"
   ]
  },
  {
   "cell_type": "code",
   "execution_count": null,
   "metadata": {},
   "outputs": [],
   "source": [
    "plt.figure()\n",
    "plt.scatter(X[:,:1], Y, s=20, edgecolor=\"black\",c=\"orange\", label=\"data\")\n",
    "plt.scatter(x_test[:,:1], y_test, s=20, edgecolor=\"black\",c=\"blue\", label=\"test set\")\n",
    "plt.scatter(X[:,:1], svm_ropt.predict(X), s=20, edgecolor=\"black\",c=\"green\", label=\"prediction\")\n",
    "plt.xlabel(\"data\")\n",
    "plt.ylabel(\"target\")\n",
    "plt.title(\"Support Vector Regression\")\n",
    "plt.legend()\n",
    "plt.show()\n",
    "\n",
    "print(\"The model parameters:\",svm_ropt)\n",
    "\n",
    "\n"
   ]
  },
  {
   "cell_type": "markdown",
   "metadata": {},
   "source": [
    "### 2) Algorithm : Decision Tree Regression "
   ]
  },
  {
   "cell_type": "markdown",
   "metadata": {},
   "source": [
    "code"
   ]
  },
  {
   "cell_type": "code",
   "execution_count": 11,
   "metadata": {},
   "outputs": [
    {
     "name": "stdout",
     "output_type": "stream",
     "text": [
      "Our DecisionTreeRegressor with default settings has an in-sample error equal to 0.0\n",
      "Our DecisionTreeRegressor with default settings has an out-sample error equal to 742.676914950236\n",
      "\n",
      "let's try to optimize the model\n",
      "The optimize settings are {'criterion': 'mse', 'max_depth': 10, 'max_leaf_nodes': 15, 'min_samples_leaf': 2, 'min_samples_split': 2}\n",
      "Our DecisionTreeRegressor with optimize settings has an in-sample error equal to 610.4983756462146\n",
      "Our DecisionTreeRegressor with optimize settings has an out-sample error equal to 1323.1487150816502\n",
      "it'is much better\n",
      "\n",
      "We can also compute the R², the explained variance score, the median absolute error and the maximum error for all the dataset\n",
      "R²: 0.9814634705637169\n",
      "Explained variance score : 0.9815670433211227\n",
      "Median absolute error : 328.5\n",
      "Maximum error : 2952.0\n"
     ]
    }
   ],
   "source": [
    "from sklearn.tree import DecisionTreeRegressor\n",
    "\n",
    "\n",
    "# Default setting\n",
    "DTR = DecisionTreeRegressor()\n",
    "DTR.fit(x_train, y_train)\n",
    "\n",
    "\n",
    "print(\"Our DecisionTreeRegressor with default settings has an in-sample error equal to\",np.sqrt(mean_squared_error(y_train, DTR.predict(x_train))))\n",
    "print(\"Our DecisionTreeRegressor with default settings has an out-sample error equal to\",np.sqrt(mean_squared_error(y_test, DTR.predict(x_test))))\n",
    "print()\n",
    "print(\"let's try to optimize the model\")\n",
    "\n",
    "\n",
    "# Optimization test\n",
    "param_grid = {\"criterion\": [\"mse\", \"mae\"],\"max_depth\": [2, 3, 4, 8, 10, 20],\"min_samples_split\": [2, 3, 5, 8, 10, 20, 40],\"min_samples_leaf\": [2, 5, 10, 15, 20, 40, 100],\"max_leaf_nodes\": [2, 5, 10,15, 20,40, 100]}\n",
    "DTR_opt = GridSearchCV(DecisionTreeRegressor(), param_grid, cv=5, verbose=0)\n",
    "DTR_opt.fit(x_train, y_train)\n",
    "print('The optimize settings are',DTR_opt.best_params_)\n",
    "DTR_opt = DecisionTreeRegressor(criterion = DTR_opt.best_params_['criterion'],max_depth = DTR_opt.best_params_['max_depth'],min_samples_split = DTR_opt.best_params_['min_samples_split'],min_samples_leaf = DTR_opt.best_params_['min_samples_leaf'],max_leaf_nodes = DTR_opt.best_params_['max_leaf_nodes'])\n",
    "DTR_opt.fit(x_train, y_train)\n",
    "print(\"Our DecisionTreeRegressor with optimize settings has an in-sample error equal to\",np.sqrt(mean_squared_error(y_train, DTR_opt.predict(x_train))))\n",
    "print(\"Our DecisionTreeRegressor with optimize settings has an out-sample error equal to\",np.sqrt(mean_squared_error(y_test, DTR_opt.predict(x_test))))\n",
    "print(\"it'is much better\")\n",
    "print()\n",
    "print(\"We can also compute the R², the explained variance score, the median absolute error and the maximum error for all the dataset\")\n",
    "print(\"R²:\",r2_score(Y, DTR_opt.predict(X)))\n",
    "print(\"Explained variance score :\",explained_variance_score(Y, DTR_opt.predict(X)))\n",
    "print(\"Median absolute error :\",median_absolute_error(Y, DTR_opt.predict(X)))\n",
    "print(\"Maximum error :\",max_error(Y, DTR_opt.predict(X)))"
   ]
  },
  {
   "cell_type": "markdown",
   "metadata": {},
   "source": [
    "Plot of the results"
   ]
  },
  {
   "cell_type": "code",
   "execution_count": 14,
   "metadata": {},
   "outputs": [
    {
     "data": {
      "image/png": "[encoded data removed]",
      "text/plain": [
       "<Figure size 432x288 with 1 Axes>"
      ]
     },
     "metadata": {
      "needs_background": "light"
     },
     "output_type": "display_data"
    },
    {
     "name": "stdout",
     "output_type": "stream",
     "text": [
      "The model parameters: DecisionTreeRegressor(criterion='mse', max_depth=None, max_features=None,\n",
      "                      max_leaf_nodes=None, min_impurity_decrease=0.0,\n",
      "                      min_impurity_split=None, min_samples_leaf=1,\n",
      "                      min_samples_split=2, min_weight_fraction_leaf=0.0,\n",
      "                      presort=False, random_state=None, splitter='best')\n"
     ]
    },
    {
     "data": {
      "image/png": "[encoded data removed]",
      "text/plain": [
       "<Figure size 432x288 with 1 Axes>"
      ]
     },
     "metadata": {
      "needs_background": "light"
     },
     "output_type": "display_data"
    },
    {
     "name": "stdout",
     "output_type": "stream",
     "text": [
      "The model parameters: DecisionTreeRegressor(criterion='mse', max_depth=10, max_features=None,\n",
      "                      max_leaf_nodes=15, min_impurity_decrease=0.0,\n",
      "                      min_impurity_split=None, min_samples_leaf=2,\n",
      "                      min_samples_split=2, min_weight_fraction_leaf=0.0,\n",
      "                      presort=False, random_state=None, splitter='best')\n"
     ]
    }
   ],
   "source": [
    "\n",
    "plt.figure()\n",
    "plt.scatter(X[:,:1], Y, s=20, edgecolor=\"black\",c=\"orange\", label=\"data\")\n",
    "plt.scatter(x_test[:,:1], y_test, s=20, edgecolor=\"black\",c=\"blue\", label=\"test set\")\n",
    "plt.scatter(X[:,:1], DTR.predict(X), s=20, edgecolor=\"black\",c=\"green\", label=\"prediction\")\n",
    "plt.xlabel(\"data\")\n",
    "plt.ylabel(\"target\")\n",
    "plt.title(\"Basic Decision Tree Regression\")\n",
    "plt.legend()\n",
    "plt.show()\n",
    "print(\"The model parameters:\",DTR)\n",
    "\n",
    "\n",
    "plt.figure()\n",
    "plt.scatter(X[:,:1], Y, s=20, edgecolor=\"black\",c=\"orange\", label=\"data\")\n",
    "plt.scatter(x_test[:,:1], y_test, s=20, edgecolor=\"black\",c=\"blue\", label=\"test set\")\n",
    "plt.scatter(X[:,:1], DTR.predict(X), s=20, edgecolor=\"black\",c=\"green\", label=\"prediction\")\n",
    "plt.xlabel(\"data\")\n",
    "plt.ylabel(\"target\")\n",
    "plt.title(\"Optimized Decision Tree Regression\")\n",
    "plt.legend()\n",
    "plt.show()\n",
    "print(\"The model parameters:\",DTR_opt)\n",
    "\n"
   ]
  },
  {
   "cell_type": "markdown",
   "metadata": {},
   "source": [
    "### 3) Algorithm : Neural network Regression  "
   ]
  },
  {
   "cell_type": "markdown",
   "metadata": {},
   "source": [
    "code"
   ]
  },
  {
   "cell_type": "code",
   "execution_count": null,
   "metadata": {},
   "outputs": [],
   "source": [
    "from sklearn.neural_network import MLPRegressor\n",
    "import warnings\n",
    "\n",
    "# Default setting\n",
    "\n",
    "with warnings.catch_warnings():\n",
    "    # ignore all caught warnings\n",
    "    warnings.filterwarnings(\"ignore\")\n",
    "    NNR = MLPRegressor()\n",
    "    NNR.fit(x_train, y_train)\n",
    "    print(\"Our DecisionTreeRegressor with default settings has an in-sample error equal to\",np.sqrt(mean_squared_error(y_train, NNR.predict(x_train))))\n",
    "    print(\"Our DecisionTreeRegressor with default settings has an out-sample error equal to\",np.sqrt(mean_squared_error(y_test, NNR.predict(x_test))))\n",
    "    print()\n",
    "    print(\"let's try to optimize the model\")\n",
    "    \n",
    "    # Optimization test\n",
    "    param_grid = {\"hidden_layer_sizes\": [(i,i) for i in range(1,25)], \"alpha\": [0.00005,0.0001,0.0005],\"activation\" : ['logistic', 'tanh', 'relu']}\n",
    "    NNR_opt = GridSearchCV(MLPRegressor(solver = \"lbfgs\"), param_grid, cv=5, verbose=0)\n",
    "    NNR_opt.fit(x_train, y_train)\n",
    "    print('The optimize settings are',NNR_opt.best_params_)\n",
    "    NNR_opt = MLPRegressor(hidden_layer_sizes = NNR_opt.best_params_['hidden_layer_sizes'],alpha = NNR_opt.best_params_['alpha'],activation = NNR_opt.best_params_['activation'], solver = \"lbfgs\")\n",
    "    NNR_opt.fit(x_train, y_train)\n",
    "    \n",
    "    #param_grid = {\"hidden_layer_sizes\": [(i,i) for i in range(1,25)], \"alpha\": [0.00005,0.0001,0.0005], \"learning_rate\" : ['constant', 'invscaling','adaptive'],\"activation\" : ['logistic', 'tanh', 'relu']}\n",
    "    #NNR_opt = GridSearchCV(MLPRegressor(solver = \"lbfgs\"), param_grid, cv=5, verbose=0)\n",
    "    #NNR_opt.fit(x_train, y_train)\n",
    "    #print('The optimize settings are',NNR_opt.best_params_)\n",
    "    #NNR_opt = MLPRegressor(hidden_layer_sizes = NNR_opt.best_params_['hidden_layer_sizes'],alpha = NNR_opt.best_params_['alpha'],learning_rate = NNR_opt.best_params_['learning_rate'],activation = NNR_opt.best_params_['activation'], solver = \"lbfgs\")\n",
    "    #NNR_opt.fit(x_train, y_train)\n",
    "    \n",
    "    \n",
    "    \n",
    "    \n",
    "print(\"Our support vector with optimize settings has an in-sample error equal to\",np.sqrt(mean_squared_error(y_train, NNR_opt.predict(x_train))))\n",
    "print(\"Our support vector with optimize settings has an out-sample error equal to\",np.sqrt(mean_squared_error(y_test, NNR_opt.predict(x_test))))\n",
    "print(\"it'is much better\")\n",
    "print()\n",
    "print(\"We can also compute the R², the explained variance score, the median absolute error and the maximum error for all the dataset\")\n",
    "print(\"R²:\",r2_score(Y, NNR_opt.predict(X)))\n",
    "print(\"Explained variance score :\",explained_variance_score(Y, NNR_opt.predict(X)))\n",
    "print(\"Median absolute error :\",median_absolute_error(Y, NNR_opt.predict(X)))\n",
    "print(\"Maximum error :\",max_error(Y, NNR_opt.predict(X)))"
   ]
  },
  {
   "cell_type": "markdown",
   "metadata": {},
   "source": [
    "Plot of the results"
   ]
  },
  {
   "cell_type": "code",
   "execution_count": null,
   "metadata": {},
   "outputs": [],
   "source": [
    "plt.figure()\n",
    "plt.scatter(X[:,:1], Y, s=20, edgecolor=\"black\",c=\"orange\", label=\"data\")\n",
    "plt.scatter(x_test[:,:1], y_test, s=20, edgecolor=\"black\",c=\"blue\", label=\"test set\")\n",
    "plt.scatter(X[:,:1], NNR_opt.predict(X), s=20, edgecolor=\"black\",c=\"green\", label=\"prediction\")\n",
    "plt.xlabel(\"data\")\n",
    "plt.ylabel(\"target\")\n",
    "plt.title(\"Neural network\")\n",
    "plt.legend()\n",
    "plt.show()\n",
    "print(\"The model parameters:\",NNR_opt)"
   ]
  },
  {
   "cell_type": "markdown",
   "metadata": {},
   "source": [
    "### 4) Algorithm : K Nearest neighbors regression"
   ]
  },
  {
   "cell_type": "markdown",
   "metadata": {},
   "source": [
    "code"
   ]
  },
  {
   "cell_type": "code",
   "execution_count": null,
   "metadata": {},
   "outputs": [],
   "source": [
    "from sklearn import neighbors\n",
    "\n",
    "\n",
    "# Default setting\n",
    "knn = neighbors.KNeighborsRegressor()\n",
    "knn.fit(x_train, y_train)\n",
    "\n",
    "\n",
    "print(\"Our DecisionTreeRegressor with default settings has an in-sample error equal to\",np.sqrt(mean_squared_error(y_train, knn.predict(x_train))))\n",
    "print(\"Our DecisionTreeRegressor with default settings has an out-sample error equal to\",np.sqrt(mean_squared_error(y_test, knn.predict(x_test))))\n",
    "print()\n",
    "print(\"let's try to optimize the model\")\n",
    "\n",
    "\n",
    "# Optimization test\n",
    "param_grid = {\"n_neighbors\": [2,3,4,5,6,7,8,9],\"leaf_size\": [2,5,10,20,30,50,100], \"weights\": [\"uniform\", \"distance\"], \"metric\": [\"euclidean\", \"manhattan\"]}\n",
    "knn_opt = GridSearchCV(neighbors.KNeighborsRegressor(), param_grid, cv=5, verbose=0)\n",
    "knn_opt.fit(x_train, y_train)\n",
    "print('The optimize settings are',knn_opt.best_params_)\n",
    "knn_opt = neighbors.KNeighborsRegressor(n_neighbors = knn_opt.best_params_['n_neighbors'],leaf_size = knn_opt.best_params_['leaf_size'],weights = knn_opt.best_params_['weights'],metric = knn_opt.best_params_['metric'])\n",
    "knn_opt.fit(x_train, y_train)\n",
    "print(\"Our support vector with optimize settings has an in-sample error equal to\",np.sqrt(mean_squared_error(y_train, knn_opt.predict(x_train))))\n",
    "print(\"Our support vector with optimize settings has an out-sample error equal to\",np.sqrt(mean_squared_error(y_test, knn_opt.predict(x_test))))\n",
    "print(\"it'is much better\")\n",
    "print()\n",
    "print(\"We can also compute the R², the explained variance score, the median absolute error and the maximum error for all the dataset\")\n",
    "print(\"R²:\",r2_score(Y, knn_opt.predict(X)))\n",
    "print(\"Explained variance score :\",explained_variance_score(Y, knn_opt.predict(X)))\n",
    "print(\"Median absolute error :\",median_absolute_error(Y, knn_opt.predict(X)))\n",
    "print(\"Maximum error :\",max_error(Y, knn_opt.predict(X)))"
   ]
  },
  {
   "cell_type": "markdown",
   "metadata": {},
   "source": [
    "Plot of the results"
   ]
  },
  {
   "cell_type": "code",
   "execution_count": null,
   "metadata": {},
   "outputs": [],
   "source": [
    "plt.figure()\n",
    "plt.scatter(X[:,:1], Y, s=20, edgecolor=\"black\",c=\"orange\", label=\"data\")\n",
    "plt.scatter(x_test[:,:1], y_test, s=20, edgecolor=\"black\",c=\"blue\", label=\"test set\")\n",
    "plt.scatter(X[:,:1], knn_opt.predict(X), s=20, edgecolor=\"black\",c=\"green\", label=\"prediction\")\n",
    "plt.xlabel(\"data\")\n",
    "plt.ylabel(\"target\")\n",
    "plt.title(\"K Nearest neighbors\")\n",
    "plt.legend()\n",
    "plt.show()\n",
    "print(\"The model parameters:\",knn_opt)"
   ]
  },
  {
   "cell_type": "markdown",
   "metadata": {},
   "source": [
    "## Cross Validation"
   ]
  },
  {
   "cell_type": "markdown",
   "metadata": {},
   "source": [
    "We try to optimize our model the best that we can do. Now, we would like to compare our models between each either to know which one seem to fit the best. "
   ]
  },
  {
   "cell_type": "code",
   "execution_count": null,
   "metadata": {},
   "outputs": [],
   "source": [
    "from sklearn.linear_model import LinearRegression\n",
    "\n",
    "linr = LinearRegression()\n",
    "linr.fit(x_train, y_train)\n",
    "\n",
    "\n",
    "models = [linr,svm_ropt,DTR_opt,NNR_opt,knn_opt]\n",
    "models_label = ['Linear regression','Support Vector Machine (Regression)','Decision Tree Regression','Neural network Regression','K Nearest neighbors']\n",
    "cv = [2,3,4,5,6,8,10,20]\n",
    "R2 = []\n",
    "Fittime = [] \n",
    "\n",
    "with warnings.catch_warnings():\n",
    "    # ignore all caught warnings\n",
    "    warnings.filterwarnings(\"ignore\")\n",
    "    for j in cv:\n",
    "        R2_cv = []\n",
    "        fittime_cv = []\n",
    "        for i in range(len(models)):\n",
    "            score = cross_validate(models[i], X, Y, cv=j)\n",
    "            R2_cv.append(np.mean(score['test_score']))\n",
    "            fittime_cv.append(np.mean(score['fit_time']))\n",
    "            \n",
    "        R2.append(R2_cv)\n",
    "        Fittime.append(fittime_cv)\n",
    "\n",
    "header = models_label\n",
    "table = R2\n",
    "print()\n",
    "print('R² mean of all models for different cv:')\n",
    "pd.DataFrame(table, columns = header,index = cv)"
   ]
  },
  {
   "cell_type": "markdown",
   "metadata": {},
   "source": [
    "RMQ: 0 signifique le model predit bien y mais qu'il s'en fou des input (model est indepandant des donné). score négatif sinfique le model est dégeulase. check https://scikit-learn.org/stable/modules/generated/sklearn.neural_network.MLPRegressor.html#sklearn.neural_network.MLPRegressor.score"
   ]
  },
  {
   "cell_type": "code",
   "execution_count": null,
   "metadata": {},
   "outputs": [],
   "source": [
    "header = models_label\n",
    "table = Fittime\n",
    "print()\n",
    "print('Time of fit for all models in function of cv:')\n",
    "pd.DataFrame(table, columns = header,index = cv)"
   ]
  },
  {
   "cell_type": "markdown",
   "metadata": {},
   "source": []
  },
  {
   "cell_type": "markdown",
   "metadata": {},
   "source": [
    "## How the size of the training set influance the algorithm efficiency "
   ]
  },
  {
   "cell_type": "code",
   "execution_count": null,
   "metadata": {},
   "outputs": [],
   "source": [
    "def measurement(model,test_size,X,Y):\n",
    "    ''' Measure the training efficiency for a particular training size'''\n",
    "    measure = []\n",
    "    for i in range(len(test_size)):\n",
    "        x_train, x_test, y_train, y_test = train_test_split(X, Y, test_size = test_size[i], random_state = 25)\n",
    "        model.fit(x_train, y_train)\n",
    "        E_in = np.sqrt(mean_squared_error(y_train, model.predict(x_train)))\n",
    "        E_out = np.sqrt(mean_squared_error(y_test, model.predict(x_test)))\n",
    "        EV = explained_variance_score(Y, model.predict(X))\n",
    "        R2 = model.score(X,Y)\n",
    "        ME = median_absolute_error(Y, model.predict(X))\n",
    "        MAE = max_error(Y, model.predict(X))\n",
    "        measure.append([E_in,E_out,EV,R2,ME,MAE])\n",
    "    return measure\n",
    " \n",
    "\n",
    "test_size = [0.05,0.1,0.15,0.2,0.25,0.33,0.4,0.5,0.7,0.9,0.95]\n",
    "stat = ['E_in','E_out','EV','R²','ME','MAE']\n",
    "resume = []"
   ]
  },
  {
   "cell_type": "code",
   "execution_count": null,
   "metadata": {},
   "outputs": [],
   "source": [
    "header = stat\n",
    "table = measurement(linr,test_size,X,Y)\n",
    "print()\n",
    "print('Linear regression error for different training size:')\n",
    "pd.DataFrame(table, columns = header,index = test_size)"
   ]
  },
  {
   "cell_type": "code",
   "execution_count": null,
   "metadata": {},
   "outputs": [],
   "source": [
    "header = stat\n",
    "table = measurement(svm_ropt,test_size,X,Y)\n",
    "print()\n",
    "print('Support Vector Machine (Regression) error for different training size:')\n",
    "pd.DataFrame(table, columns = header,index = test_size)"
   ]
  },
  {
   "cell_type": "code",
   "execution_count": null,
   "metadata": {},
   "outputs": [],
   "source": [
    "header = stat\n",
    "table = measurement(DTR_opt,test_size,X,Y)\n",
    "print()\n",
    "print('Decision Tree Regression error for different training size:')\n",
    "pd.DataFrame(table, columns = header,index = test_size)"
   ]
  },
  {
   "cell_type": "code",
   "execution_count": null,
   "metadata": {},
   "outputs": [],
   "source": [
    "header = stat\n",
    "with warnings.catch_warnings():\n",
    "    # ignore all caught warnings\n",
    "    warnings.filterwarnings(\"ignore\")\n",
    "    table = measurement(NNR_opt,test_size,X,Y)\n",
    "print()\n",
    "print('Neural network Regression error for different training size:')\n",
    "pd.DataFrame(table, columns = header,index = test_size)"
   ]
  },
  {
   "cell_type": "code",
   "execution_count": null,
   "metadata": {},
   "outputs": [],
   "source": [
    "header = stat\n",
    "table = measurement(knn_opt,test_size,X,Y)\n",
    "print()\n",
    "print('K Nearest neighbors error for different training size:')\n",
    "pd.DataFrame(table, columns = header,index = test_size)"
   ]
  },
  {
   "cell_type": "markdown",
   "metadata": {},
   "source": [
    "### Discusion"
   ]
  },
  {
   "cell_type": "markdown",
   "metadata": {},
   "source": []
  },
  {
   "cell_type": "markdown",
   "metadata": {},
   "source": [
    "### Application on real data set"
   ]
  },
  {
   "cell_type": "code",
   "execution_count": null,
   "metadata": {},
   "outputs": [],
   "source": [
    "data = pd.read_csv('datasets_619175_1118179_housing_in_london_monthly_variables.csv')\n",
    "\n",
    "data = data.dropna()\n",
    "\n",
    "print(\"The data's dimension are\", data.shape)\n",
    "print('The features of the data are: ', list(data.columns))"
   ]
  },
  {
   "cell_type": "markdown",
   "metadata": {},
   "source": [
    "Let's explore our data"
   ]
  },
  {
   "cell_type": "code",
   "execution_count": null,
   "metadata": {},
   "outputs": [],
   "source": [
    "from pandas.plotting import scatter_matrix\n",
    "\n",
    "with warnings.catch_warnings():\n",
    "    # ignore all caught warnings\n",
    "    warnings.filterwarnings(\"ignore\")\n",
    "    corr_matrix = data.corr()\n",
    "    print('The correlation matrix shows the average price in function of all variables:')\n",
    "    print(corr_matrix['average_price'].sort_values())\n",
    "\n",
    "    scatter_matrix(data[list(data.columns)], figsize=[len(list(data.columns)),len(list(data.columns))])\n",
    "    plt.show()"
   ]
  },
  {
   "cell_type": "markdown",
   "metadata": {},
   "source": [
    "Let's build our regression model"
   ]
  },
  {
   "cell_type": "code",
   "execution_count": null,
   "metadata": {},
   "outputs": [],
   "source": [
    "Yd = data['average_price']\n",
    "Xd = data['houses_sold']\n",
    "\n",
    "Yd = np.array(Yd)\n",
    "Xd = np.array(Xd)\n",
    "Xd.resize((len(Xd),1))\n",
    "\n",
    "with warnings.catch_warnings():\n",
    "    # ignore all caught warnings\n",
    "    warnings.filterwarnings(\"ignore\")\n",
    "    #Split set\n",
    "    xd_train, xd_test, yd_train, yd_test = train_test_split(Xd, Yd, test_size = 0.25, random_state = 25)\n",
    "    #linr\n",
    "    linrd = LinearRegression()\n",
    "    linrd.fit(xd_train, yd_train)\n",
    "    #SVMR\n",
    "    param_grid = {'C': [0.001, 0.01, 0.1, 1, 10, 100, 1000], 'kernel':['linear', 'poly', 'rbf', 'sigmoid']}\n",
    "    svm_roptd = GridSearchCV(SVR(), param_grid, cv=5, verbose=0)\n",
    "    svm_roptd.fit(xd_train, yd_train)\n",
    "    #DTR\n",
    "    param_grid = {\"criterion\": [\"mse\", \"mae\"],\"max_depth\": [2, 3, 4, 8, 10, 20],\"min_samples_split\": [2, 3, 5, 8, 10, 20, 40],\"min_samples_leaf\": [2, 5, 10, 15, 20, 40, 100],\"max_leaf_nodes\": [2, 5, 10,15, 20,40, 100]}\n",
    "    DTR_optd = GridSearchCV(DecisionTreeRegressor(), param_grid, cv=5, verbose=0)\n",
    "    DTR_optd.fit(xd_train, yd_train)\n",
    "    #NNR\n",
    "    param_grid = {\"hidden_layer_sizes\": [(i,i) for i in range(1,25)], \"alpha\": [0.00005,0.0001,0.0005],\"activation\" : ['logistic', 'tanh', 'relu']}\n",
    "    NNR_optd = GridSearchCV(MLPRegressor(solver = \"lbfgs\"), param_grid, cv=5, verbose=0)\n",
    "    NNR_optd.fit(xd_train, yd_train)\n",
    "    #Knn\n",
    "    param_grid = {\"n_neighbors\": [2,3,4,5,6,7,8,9],\"leaf_size\": [2,5,10,20,30,50,100], \"weights\": [\"uniform\", \"distance\"], \"metric\": [\"euclidean\", \"manhattan\"]}\n",
    "    knn_optd = GridSearchCV(neighbors.KNeighborsRegressor(), param_grid, cv=5, verbose=0)\n",
    "    knn_optd.fit(xd_train, yd_train)\n",
    "    summary_r2 = [linrd.score(xd_test, yd_test),svm_roptd.score(xd_test, yd_test),DTR_optd.score(xd_test, yd_test),NNR_optd,knn_optd.score(xd_test, yd_test)]\n",
    "    "
   ]
  },
  {
   "cell_type": "code",
   "execution_count": null,
   "metadata": {},
   "outputs": [],
   "source": [
    "print(summary_r2[3])"
   ]
  },
  {
   "cell_type": "code",
   "execution_count": null,
   "metadata": {},
   "outputs": [],
   "source": [
    "header = stat\n",
    "table = measurement(linrd,test_size,Xd,Yd)\n",
    "print()\n",
    "print('Linear regression error for different training size:')\n",
    "pd.DataFrame(table, columns = header,index = test_size)"
   ]
  },
  {
   "cell_type": "code",
   "execution_count": null,
   "metadata": {},
   "outputs": [],
   "source": [
    "header = stat\n",
    "table = measurement(svm_roptd,test_size,Xd,Yd)\n",
    "print()\n",
    "print('Support Vector Machine (Regression) error for different training size:')\n",
    "pd.DataFrame(table, columns = header,index = test_size)"
   ]
  },
  {
   "cell_type": "code",
   "execution_count": null,
   "metadata": {},
   "outputs": [],
   "source": [
    "header = stat\n",
    "table = measurement(DTR_optd,test_size,Xd,Yd)\n",
    "print()\n",
    "print('Decision Tree Regression error for different training size:')\n",
    "pd.DataFrame(table, columns = header,index = test_size)"
   ]
  },
  {
   "cell_type": "code",
   "execution_count": null,
   "metadata": {},
   "outputs": [],
   "source": [
    "header = stat\n",
    "with warnings.catch_warnings():\n",
    "    # ignore all caught warnings\n",
    "    warnings.filterwarnings(\"ignore\")\n",
    "    table = measurement(NNR_optd,test_size,Xd,Yd)\n",
    "print()\n",
    "print('Neural network Regression error for different training size:')\n",
    "pd.DataFrame(table, columns = header,index = test_size)"
   ]
  },
  {
   "cell_type": "code",
   "execution_count": null,
   "metadata": {},
   "outputs": [],
   "source": [
    "header = stat\n",
    "table = measurement(knn_optd,test_size,Xd,Yd)\n",
    "print()\n",
    "print('K Nearest neighbors error for different training size:')\n",
    "pd.DataFrame(table, columns = header,index = test_size)"
   ]
  },
  {
   "cell_type": "markdown",
   "metadata": {},
   "source": [
    "### Discusion"
   ]
  },
  {
   "cell_type": "markdown",
   "metadata": {},
   "source": []
  },
  {
   "cell_type": "markdown",
   "metadata": {},
   "source": [
    "## Conclusion "
   ]
  },
  {
   "cell_type": "code",
   "execution_count": null,
   "metadata": {},
   "outputs": [],
   "source": []
  },
  {
   "cell_type": "markdown",
   "metadata": {},
   "source": [
    "## Bibliography"
   ]
  },
  {
   "cell_type": "markdown",
   "metadata": {},
   "source": [
    " Lecture + ..."
   ]
  },
  {
   "cell_type": "markdown",
   "metadata": {},
   "source": [
    "regression validation: https://dziganto.github.io/cross-validation/data%20science/machine%20learning/model%20tuning/python/Model-Tuning-with-Validation-and-Cross-Validation/\n",
    "regression validation : https://scikit-learn.org/stable/modules/model_evaluation.html\n",
    "\n",
    "#####################################################\"\n",
    "https://www.youtube.com/watch?v=Gol_qOgRqfA\n"
   ]
  }
 ],
 "metadata": {
  "kernelspec": {
   "display_name": "Python 3",
   "language": "python",
   "name": "python3"
  },
  "language_info": {
   "codemirror_mode": {
    "name": "ipython",
    "version": 3
   },
   "file_extension": ".py",
   "mimetype": "text/x-python",
   "name": "python",
   "nbconvert_exporter": "python",
   "pygments_lexer": "ipython3",
   "version": "3.7.3"
  }
 },
 "nbformat": 4,
 "nbformat_minor": 2
}
