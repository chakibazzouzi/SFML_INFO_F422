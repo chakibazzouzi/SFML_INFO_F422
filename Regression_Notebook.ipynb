{
 "cells": [
  {
   "cell_type": "markdown",
   "metadata": {},
   "source": [
    "# <center>SFML/INFO-F422: Statistical foundations of machine learning</center>"
   ]
  },
  {
   "cell_type": "markdown",
   "metadata": {},
   "source": [
    "# <center>Regression Part</center>"
   ]
  },
  {
   "cell_type": "markdown",
   "metadata": {},
   "source": [
    "Name: Mathieu Parmentier & Nilson Toula\n",
    "\n",
    "Matricule: 000502042 & 000506378\n",
    "\n",
    "Python version: 3.7\n",
    "\n",
    "Date: 07/06/2020\n"
   ]
  },
  {
   "cell_type": "markdown",
   "metadata": {},
   "source": [
    "## Introduction"
   ]
  },
  {
   "cell_type": "markdown",
   "metadata": {},
   "source": [
    "In 1961, R.Bellman used for the first time the term of \"curse of dimentionality\" which can be refered as:  \n",
    ">As the number of feature or dimension grows, the amount of data we need to generalize accurately grows exponentialy.\n",
    "\n",
    "In this notebook we aim to study this effect by only focusiong on the variation in size of the training set in order to answer the question:\n",
    "\n",
    "* **Is there a perfect training test size that allows us to correctly generalize any dataset?**\n",
    "\n"
   ]
  },
  {
   "cell_type": "markdown",
   "metadata": {},
   "source": [
    "# Objective and strategy "
   ]
  },
  {
   "cell_type": "markdown",
   "metadata": {},
   "source": [
    "In this notebook we will study 2 diffent dataset:\n",
    " * Some **sythetic dataset** that while being simple will alows us to determine if our research question make sense in a controled environment.\n",
    " * A real dataset **Housing in london** (datasets_619175_1118179_housing_in_london_monthly_variables.csv)\n",
    " \n",
    "We plan to use the synthetic dataset to identify candidate values for the size of our test set and formulate hypothesis, then we will try to apply thoose hypothesis on the real case dataset."
   ]
  },
  {
   "cell_type": "markdown",
   "metadata": {},
   "source": [
    "## Material and method"
   ]
  },
  {
   "cell_type": "markdown",
   "metadata": {},
   "source": [
    "* First step: Finding accurate parameters  \n",
    "Every algorithm having parameters, we will search a method that allows us to automatically choose correct parameters.  \n",
    "\n",
    "\n",
    "* Second step: Comparing our algorithms  \n",
    "We want to identify if for a given cross validation set, our algorithm perform in the same range.  \n",
    " \n",
    " \n",
    "* Third step: Individual performances  \n",
    "In this section we will identify how an algorithm perform individualy regarding some fixed percentages of the dataset in order to indentify a tendency.  \n",
    "\n",
    "\n",
    "* Fourth step: Verification of our hypothesis using real dataset"
   ]
  },
  {
   "cell_type": "code",
   "execution_count": null,
   "metadata": {},
   "outputs": [],
   "source": []
  },
  {
   "cell_type": "markdown",
   "metadata": {},
   "source": [
    "### Synthetic datasets selection:"
   ]
  },
  {
   "cell_type": "markdown",
   "metadata": {},
   "source": [
    "We decided to create two different dataset, they both don't have noise and are unidimention, the first one is a basic polynoma and the second is slithly more complex function with multiple local extrema."
   ]
  },
  {
   "cell_type": "code",
   "execution_count": 2,
   "metadata": {},
   "outputs": [],
   "source": [
    "import numpy as np\n",
    "import matplotlib.pyplot as plt\n",
    "\n",
    "n_col = 1 #Number of dimentions of our dataset, we will keep it at 1 for our experimentations\n",
    "n_row = 100 #Number of points in the dataset\n",
    "np.random.seed(42)\n",
    "X = np.random.random((n_row,n_col))\n",
    "Y = np.ones(n_row)"
   ]
  },
  {
   "cell_type": "markdown",
   "metadata": {},
   "source": [
    "#### Synhtetic dataset 1: $f(x) = x^3$\n",
    "\n",
    "We chose a cubic function to generate our synthetic dataset. This function has only one variable and has not noise. This function, although basic, this function complex enought not to be linearly separable, beeing computed really fast by our algorithms."
   ]
  },
  {
   "cell_type": "code",
   "execution_count": 3,
   "metadata": {},
   "outputs": [],
   "source": [
    "for i in range(len(X)):\n",
    "    X[i][0]=i-n_row/2\n",
    "    Y[i]= (X[i][0])**3"
   ]
  },
  {
   "cell_type": "markdown",
   "metadata": {},
   "source": [
    "#### Synhtetic data-set 2: $f(x) = ax^2 +b\\sin (x)x$\n",
    "\n",
    "This function is have a global parabola form but using parameter $b$ we can create several extrema, while parameter $a$ alows us to flatten the parabola, inducing even more similarities in the images, in other words:\n",
    "\n",
    "* $a$ will influence horizontal distibutions of the points, the higher, the stiffer the parabola will be and the less similarities will occure\n",
    "* $b$ will influence the depth of the parabola's local extremas, the higher, the deeper and stiffer local extrema will be"
   ]
  },
  {
   "cell_type": "code",
   "execution_count": 4,
   "metadata": {},
   "outputs": [],
   "source": [
    "#Special parameters for Synthesis set 2:\n",
    "a = 0.5 \n",
    "b = 2 \n",
    "\n",
    "for i in range(len(X)):\n",
    "    X[i][0]=i-n_row/2\n",
    "    Y[i]= a*(X[i][0])**2 + b*np.sin(X[i][0])*X[i][0] "
   ]
  },
  {
   "cell_type": "markdown",
   "metadata": {},
   "source": [
    "Now lets look at our dataset."
   ]
  },
  {
   "cell_type": "code",
   "execution_count": 5,
   "metadata": {},
   "outputs": [
    {
     "data": {
      "image/png": "[encoded data removed]",
      "text/plain": [
       "<Figure size 432x288 with 1 Axes>"
      ]
     },
     "metadata": {
      "needs_background": "light"
     },
     "output_type": "display_data"
    }
   ],
   "source": [
    "plt.figure()\n",
    "plt.scatter(X[:,:1], Y, s=20, edgecolor=\"black\",c=\"orange\", label=\"data\")\n",
    "\n",
    "plt.xlabel(\"data\")\n",
    "plt.ylabel(\"target\")\n",
    "plt.title(\"Exploration of the data\")\n",
    "plt.legend()\n",
    "plt.show()\n"
   ]
  },
  {
   "cell_type": "markdown",
   "metadata": {},
   "source": [
    "### Importing libraries and splitting\n",
    "\n",
    "We divide our data into a test set and a training set, and also load libraries shared by different algorithms and build a scoring function based on negative mean squared error to guide the optimization of our models."
   ]
  },
  {
   "cell_type": "code",
   "execution_count": 6,
   "metadata": {},
   "outputs": [],
   "source": [
    "from sklearn.model_selection import train_test_split\n",
    "\n",
    "x_train, x_test, y_train, y_test = train_test_split(X, Y, test_size = .2, random_state = 25)\n",
    "\n",
    "from sklearn.model_selection import GridSearchCV\n",
    "from sklearn.model_selection import cross_val_score, cross_validate\n",
    "from sklearn.metrics import median_absolute_error, mean_squared_error\n",
    "from sklearn.metrics import explained_variance_score, max_error, r2_score\n",
    "import pandas as pd"
   ]
  },
  {
   "cell_type": "markdown",
   "metadata": {},
   "source": [
    " # I - Finding accurate parameters"
   ]
  },
  {
   "cell_type": "markdown",
   "metadata": {},
   "source": [
    "### 1) Algorithm : $\\epsilon$-Support vector machine regression"
   ]
  },
  {
   "cell_type": "markdown",
   "metadata": {},
   "source": [
    "#### A) Introduction\n",
    "\n",
    "The method of Support Vector Classification can be extended to solve regression problems. This method is called Support Vector Regression. The model produced by this method depend only on a subset of the training set."
   ]
  },
  {
   "cell_type": "markdown",
   "metadata": {},
   "source": [
    "  ##### 1. Theoretical approach\n",
    "  \n",
    "  Let $S= \\{(x_n \\in \\mathbb{R}^d; y_n \\in \\mathbb{R} )  , n = 1, \\dots, m \\}$ be our training sample.\n",
    "  Where $y_n$ is the numerical target value associated to the data-point $x_n$.\n",
    "  \n",
    "  "
   ]
  },
  {
   "cell_type": "markdown",
   "metadata": {},
   "source": [
    "###### a. Linear $\\epsilon$-SVR\n",
    " \n",
    "  The epsillon-support vector regressor ($\\epsilon$-SVR) finds a linear function of the form \n",
    "  $\\begin{align} f: &\\mathbb{R}^d &\\rightarrow &\\mathbb{R}\\\\\n",
    "  &x &\\rightarrow &w^Tx+b\n",
    "  \\end{align}$ \n",
    "  by constructing an $\\epsilon$-insensitive tube, where aiming to reudce the risl of ovefitting, only object that lie outside the tube are penalized.\n",
    "  This method solve the folowing Quadratic Programing problem:\n",
    "  \n",
    "  $$ \\begin{align}\n",
    "  min_{w,b,\\xi,\\xi^*} \\text{      }& \\frac{1}{2}\\|w\\|^2+(C\\overrightarrow{1})^T(\\xi+\\xi^*) &\\\\\n",
    "  s.t. \\text{      } & y-((Aw)^T+b\\overrightarrow{1})\\leq \\epsilon \\overrightarrow{1}+ \\xi &,\\xi \\geq 0\\\\\n",
    "  & ((Aw)^T+b\\overrightarrow{1}) - y \\leq \\epsilon \\overrightarrow{1} + \\xi^* &, \\xi^* \\geq 0\n",
    "  \\end{align}$$\n",
    "  Where:  \n",
    "  $A = [x_1 \\dots x_n]^T \\in \\mathbb{R}^{m\\times d}$,  \n",
    "  $y = (y_1, \\dots , y_n) \\in \\mathbb{R}^m$,  \n",
    "  $ \\overrightarrow{1} \\in \\mathbb{R}^m$ is the is a vector of ones,  \n",
    "  $\\xi$, $\\xi^* \\in \\mathbb{R}^m$ are slack variables that penalize the sample that lie outside the $\\epsilon$-insentive tube,  \n",
    "  $C$  is the regularization factor that balances the trade-off between the fitting errors and the flatness of the linear regression function given by the minimization of the Euclidean norm of the weight vector $w$."
   ]
  },
  {
   "cell_type": "markdown",
   "metadata": {},
   "source": [
    "###### b. Extension of linear $\\epsilon$-SVR using kernel method\n",
    "\n",
    "Thanks to kernel trick, we can extend the linear $\\epsilon$-SVR in non-linear datasets.\n",
    "\n",
    "The kernel version of $\\epsilon$-SVR is given by:\n",
    "$$ \\begin{align}\n",
    "min_{\\alpha, \\alpha^*} \\text{      }& \\frac{1}{2}(\\alpha - \\alpha^*)^Tk(A,A^T)(\\alpha - \\alpha^*)+y^T(\\alpha-\\alpha^*)+ \\epsilon \\overrightarrow{1}^T (\\alpha - \\alpha^*)  \\\\\n",
    "s.t.\\text{      } & \\overrightarrow{1}^T(\\alpha - \\alpha^*) = 0 \\\\\n",
    "& 0 \\leq \\alpha , \\alpha^* \\leq C\\overrightarrow{1}\n",
    "\\end{align}$$\n",
    "\n",
    "\n",
    "Where $k(A,A^T)$ represents the matrix of kernel functions of the form $k_{ij} = \\mathcal{K}(x_i,x_j)$  \n",
    "$\\mathcal{K} : \\mathbb{R}^d \\times \\mathbb{R}^d \\rightarrow \\mathbb{R}$ is a kernel function,  \n",
    "and $(\\alpha, \\alpha^*)$ are the dual variable vectors related with the constraint of section **a.**'s QP-problem."
   ]
  },
  {
   "cell_type": "markdown",
   "metadata": {},
   "source": [
    "###### c. Different kernel form\n",
    "We will use an optimizer function that will choose the best kernel between two points of the training set $x_i$ and $x_j$\n",
    "\n",
    "* Gaussian  \n",
    "$\\mathcal{K}(x_i,x_j) = exp\\big(-\\frac{ \\|x_i-x_j \\|^2}{2\\sigma^2}\\big)$ , with $\\sigma > 0$ the kernel width parameter. \n",
    "\n",
    "\n",
    "* Polynomial  \n",
    "$\\mathcal{K}(x_i,x_j) = \\langle x_i , x_j \\rangle ^d$\n",
    "\n",
    "\n",
    "* Radial Basis Function  (RBF)  \n",
    "$\\mathcal{K}(x_i,x_j) = f\\big(d(x_i,x_j)\\big)$ , where $f$ is a radial function (i.e. a real valued function whose value depends only on the distance between the data-points).\n",
    "\n",
    "\n",
    "* sigmoid  \n",
    "$\\mathcal{K}(x_i,x_j) = tanh\\big(ax_i^Tx_j+r\\big)$, where $a>0$ can be viewed as a scaling parameter of the input data, and $r<0$ as a shifting parameter that control the treshold of mapping. "
   ]
  },
  {
   "cell_type": "markdown",
   "metadata": {},
   "source": [
    "<font color=\"gray\"> Sources:</font> \n",
    "<br><br><font color=\"gray\"> Abu-Mostafa, Yaser S., 1957-. (2012). Learning from data : a short course. [United States] :AMLBook.com, </font>\n",
    "<br><br><font color=\"gray\"> Scikit-Learn: https://scikit-learn.org/stable/modules/svm.html#svm-regression</font>\n",
    "<br><br><font color=\"gray\"> Carrasco, M., López, J., & Maldonado, S. (2019). Epsilon-nonparallel support vector regression. Applied Intelligence, 49(12), 4223-4236. </font> \n",
    "<br><br><font color=\"gray\"> Schölkopf, B., Smola, A. J., & Bach, F. (2002). Learning with kernels: support vector machines, regularization, optimization, and beyond. MIT press. </font> \n",
    "<br><br><font color=\"gray\"> wikipedia: https://en.wikipedia.org/wiki/Radial_basis_function </font> \n",
    "<br><br><font color=\"gray\">Hsuan-tien, Lin, and Lin Chih-Jen. A Study on Sigmoid Kernels for SVM and the Training of Non-PSD Kernels by SMO-Type Methods. Technical repport, Version 3, 2003, https://citeseer.ist.psu.edu/viewdoc/summary?doi=10.1.1.14.6709.</font> "
   ]
  },
  {
   "cell_type": "markdown",
   "metadata": {},
   "source": [
    "#### B) Code"
   ]
  },
  {
   "cell_type": "markdown",
   "metadata": {},
   "source": [
    "##### B-1) Default parameters"
   ]
  },
  {
   "cell_type": "code",
   "execution_count": 7,
   "metadata": {},
   "outputs": [
    {
     "name": "stdout",
     "output_type": "stream",
     "text": [
      "Our support vector with default parameters has an in-sample error equal to 360.82464225741353\n",
      "Our support vector with default parameters has an out-sample error equal to 412.8358352338825\n",
      "\n",
      "We can also compute the R², the explained variance score, the median absolute error and the maximum error for all the dataset\n",
      "R²: -0.003948713252887037\n",
      "Explained variance score : 0.0061727317697336526\n",
      "Median absolute error : 299.29116888753924\n",
      "Maximum error : 845.7323144781953\n"
     ]
    }
   ],
   "source": [
    "from sklearn.svm import SVR\n",
    "import warnings\n",
    "\n",
    "# Default parameters\n",
    "\n",
    "svm_optimized = False\n",
    "\n",
    "with warnings.catch_warnings():\n",
    "    # ignore all caught warnings\n",
    "    warnings.filterwarnings(\"ignore\")\n",
    "\n",
    "    # Default parameters\n",
    "    svm_r = SVR()\n",
    "    svm_r.fit(x_train, y_train)\n",
    "    print(\"Our support vector with default parameters has an in-sample error equal to\",np.sqrt(mean_squared_error(y_train, svm_r.predict(x_train))))\n",
    "    print(\"Our support vector with default parameters has an out-sample error equal to\",np.sqrt(mean_squared_error(y_test, svm_r.predict(x_test))))\n",
    "    print()\n",
    "    print(\"We can also compute the R², the explained variance score, the median absolute error and the maximum error for all the dataset\")\n",
    "    print(\"R²:\",r2_score(Y, svm_r.predict(X)))\n",
    "    print(\"Explained variance score :\",explained_variance_score(Y, svm_r.predict(X)))\n",
    "    print(\"Median absolute error :\",median_absolute_error(Y, svm_r.predict(X)))\n",
    "    print(\"Maximum error :\",max_error(Y, svm_r.predict(X)))"
   ]
  },
  {
   "cell_type": "markdown",
   "metadata": {},
   "source": [
    "##### B-2) Optimized parameters"
   ]
  },
  {
   "cell_type": "code",
   "execution_count": 8,
   "metadata": {},
   "outputs": [
    {
     "name": "stdout",
     "output_type": "stream",
     "text": [
      "Optimization of our model:\n",
      "Optimized parameters: {'C': 10000, 'kernel': 'rbf'}\n",
      "Our support vector with optimized parameters has an in-sample error equal to 43.6205070082566\n",
      "Our support vector with optimized parameters has an out-sample error equal to 43.14177370179135\n",
      "\n",
      "We can also compute the R², the explained variance score, the median absolute error and the maximum error for all the dataset\n",
      "R²: 0.9862421046695329\n",
      "Explained variance score : 0.986255647601105\n",
      "Median absolute error : 23.980944948541943\n",
      "Maximum error : 117.80144749601732\n"
     ]
    }
   ],
   "source": [
    "with warnings.catch_warnings():\n",
    "    # ignore all caught warnings\n",
    "    #warnings.filterwarnings(\"ignore\")\n",
    "    \n",
    "    print(\"Optimization of our model:\")\n",
    "    \n",
    "    svm_optimized = True\n",
    "    \n",
    "    # Optimization test\n",
    "    param_grid = {'C': [0.0001, 0.001, 0.01, 0.1, 1, 10, 100, 10000, 100000], 'kernel':[ 'rbf', 'linear', 'sigmoid']}\n",
    "    # Where C is Regularization parameter\n",
    "    svm_ropt = GridSearchCV(SVR(gamma='scale'), param_grid, cv=5, verbose=0, n_jobs=-1)\n",
    "    svm_ropt.fit(x_train, y_train)\n",
    "    print('Optimized parameters:',svm_ropt.best_params_)\n",
    "    svm_ropt = SVR(C = svm_ropt.best_params_['C'],kernel = svm_ropt.best_params_['kernel'], gamma='scale')\n",
    "    svm_ropt.fit(x_train, y_train)\n",
    "    print(\"Our support vector with optimized parameters has an in-sample error equal to\",np.sqrt(mean_squared_error(y_train, svm_ropt.predict(x_train))))\n",
    "    print(\"Our support vector with optimized parameters has an out-sample error equal to\",np.sqrt(mean_squared_error(y_test, svm_ropt.predict(x_test))))\n",
    "    print()\n",
    "    print(\"We can also compute the R², the explained variance score, the median absolute error and the maximum error for all the dataset\")\n",
    "    print(\"R²:\",r2_score(Y, svm_ropt.predict(X)))\n",
    "    print(\"Explained variance score :\",explained_variance_score(Y, svm_ropt.predict(X)))\n",
    "    print(\"Median absolute error :\",median_absolute_error(Y, svm_ropt.predict(X)))\n",
    "    print(\"Maximum error :\",max_error(Y, svm_ropt.predict(X)))\n",
    "    "
   ]
  },
  {
   "cell_type": "markdown",
   "metadata": {},
   "source": [
    "##### Plot of the results:"
   ]
  },
  {
   "cell_type": "code",
   "execution_count": 9,
   "metadata": {},
   "outputs": [
    {
     "data": {
      "image/png": "[encoded data removed]",
      "text/plain": [
       "<Figure size 432x288 with 1 Axes>"
      ]
     },
     "metadata": {
      "needs_background": "light"
     },
     "output_type": "display_data"
    },
    {
     "name": "stdout",
     "output_type": "stream",
     "text": [
      "The model parameters: SVR(C=1.0, cache_size=200, coef0=0.0, degree=3, epsilon=0.1,\n",
      "    gamma='auto_deprecated', kernel='rbf', max_iter=-1, shrinking=True,\n",
      "    tol=0.001, verbose=False)\n"
     ]
    },
    {
     "data": {
      "image/png": "[encoded data removed]",
      "text/plain": [
       "<Figure size 432x288 with 1 Axes>"
      ]
     },
     "metadata": {
      "needs_background": "light"
     },
     "output_type": "display_data"
    },
    {
     "name": "stdout",
     "output_type": "stream",
     "text": [
      "The model parameters: SVR(C=10000, cache_size=200, coef0=0.0, degree=3, epsilon=0.1, gamma='scale',\n",
      "    kernel='rbf', max_iter=-1, shrinking=True, tol=0.001, verbose=False)\n"
     ]
    }
   ],
   "source": [
    "plt.figure()\n",
    "plt.scatter(X[:,:1], Y, s=20, edgecolor=\"black\",c=\"orange\", label=\"data\")\n",
    "plt.scatter(x_test[:,:1], y_test, s=20, edgecolor=\"black\",c=\"blue\", label=\"test set\")\n",
    "plt.scatter(X[:,:1], svm_r.predict(X), s=20, edgecolor=\"black\",c=\"green\", label=\"prediction\")\n",
    "plt.xlabel(\"data\")\n",
    "plt.ylabel(\"target\")\n",
    "plt.title(\"Basic Support Vector Regression\")\n",
    "plt.legend()\n",
    "plt.show()\n",
    "\n",
    "print(\"The model parameters:\",svm_r)\n",
    "\n",
    "\n",
    "if svm_optimized :\n",
    "    plt.figure()\n",
    "    plt.scatter(X[:,:1], Y, s=20, edgecolor=\"black\",c=\"orange\", label=\"data\")\n",
    "    plt.scatter(x_test[:,:1], y_test, s=20, edgecolor=\"black\",c=\"blue\", label=\"test set\")\n",
    "    plt.scatter(X[:,:1], svm_ropt.predict(X), s=20, edgecolor=\"black\",c=\"green\", label=\"prediction\")\n",
    "    plt.xlabel(\"data\")\n",
    "    plt.ylabel(\"target\")\n",
    "    plt.title(\"Optimized Support Vector Regression\")\n",
    "    plt.legend()\n",
    "    plt.show()\n",
    "\n",
    "    print(\"The model parameters:\",svm_ropt)\n",
    "\n",
    "\n"
   ]
  },
  {
   "cell_type": "markdown",
   "metadata": {},
   "source": [
    "##### Discussion:\n",
    "With all the parameters we tried for our sythetic dataset, we noted that optimization was performing better than the defaults parameters.\n",
    "\n",
    "Throught try and error, we found that C is the most important parameter, most of the time, a high C paired with RBF kernel perform better than other alternatives.  \n",
    "We were also optimising with a polynomial kernel, but the processing time with higher C were note reasonable while being most of the time outperformed by either (high C, RBF kernel) or (Low C, sigmoid kernel), thus we choose to skip it in our optimization set, while keeping the others to keep generality."
   ]
  },
  {
   "cell_type": "markdown",
   "metadata": {},
   "source": []
  },
  {
   "cell_type": "markdown",
   "metadata": {},
   "source": [
    "### 2) Algorithm : Decision Tree Regression "
   ]
  },
  {
   "cell_type": "markdown",
   "metadata": {},
   "source": [
    "#### A) Introduction\n",
    ">Decision tree are a non-parametric supervised learning method used for classification and regression. The goal is to create a model that predicts the value of a target variable by learning simple decision rules inferred from the data features.\n",
    "\n",
    "Decision tree regression is an algorithm based on Frequency Table to develop a tree from the root to the leafs.  \n",
    "This method is really similar to Decision Tree Classifier, the processing of the data is the same except that instead of Information Gain, the output will be Standard Deviation Reduction.\n",
    "The goal is to create the most homogenous branches (i.e. minimize the Coefficient of Variation for every branches)."
   ]
  },
  {
   "cell_type": "markdown",
   "metadata": {},
   "source": [
    "  ##### 1. The problem\n",
    "  \n",
    "  Given a training set with $N$ observations of $x_{m} \\in \\mathbb{R}^d $ where $x_m = (x_{m1}, \\dots, x_{md})$,  \n",
    "  we want to create regions  $\\{R\\}_{m=1}^M$ that minimize the mean sample error (MSE), where:\n",
    "$$min_{MSE}\\big(\\{R\\}_{m=1}^M\\big) \\sim min_{\\{R\\}_{m=1}^M}\\big(\\frac{1}{N_m}\\sum_{i\\in R_m}(y_i - \\bar{y_m})^2 \\big)$$\n",
    "\n",
    "The only issue is that this problem is NP-Hard, for exemple, having $N=50$ and $M=5$ $\\Rightarrow$ $\\binom{50}{5} > 2 \\times 10^6$\n",
    "\n",
    "  ##### 2. A solution\n",
    "  We do not want to iterate on every possible group, so we decide to only groups on *hypercubes* using a recursive binary split method.\n",
    "  \n",
    "  To do so, we use a greedy algorithm iterating 3 steps:\n",
    "   * For each variable $x_k$ ,we find a candidate that will be the optimal cutoff point $s$ such that: $min_s \\big[MSE(y_i \\mid x_{ik} <s) + MSE(y_i \\mid x_{ik} \\geq s)\\big]$.\n",
    "   * Then, we chose tha value $k$ yelling the candidate with the lowest MSE.\n",
    "   * Finaly, we add s as a node and iterate until MSE-gain become too small or if all branches have a leave.\n",
    "   \n",
    "   \n",
    "   ##### 3. Improvement methods\n",
    "   We can impove the fit with hyperparameters such as:\n",
    "   * increasing the max number of split\n",
    "   * imposing a minimum number of observation per leaves\n",
    "   * imposing a maximum depth for the tree\n",
    "  \n",
    "  "
   ]
  },
  {
   "cell_type": "markdown",
   "metadata": {},
   "source": [
    "<font color=\"gray\"> Main source:</font>  \n",
    "<font color=\"gray\"> University of copenhag, departement of economics, Big data, lecture 21 - N.Anders Munk, 2016 </font>\n",
    "\n",
    "<font color=\"gray\"> Other sources:</font>  \n",
    "<font color=\"gray\"> StatQuest with Josh Starmer: Regression Trees, Clearly Explained!!!</font>  \n",
    "<font color=\"gray\"> Scikit-Learn: https://scikit-learn.org/stable/modules/tree.html#regression </font>\n",
    "  "
   ]
  },
  {
   "cell_type": "markdown",
   "metadata": {},
   "source": [
    "#### B) Code"
   ]
  },
  {
   "cell_type": "code",
   "execution_count": 10,
   "metadata": {},
   "outputs": [
    {
     "name": "stdout",
     "output_type": "stream",
     "text": [
      "Our DecisionTreeRegressor with default parameters has an in-sample error equal to 0.0\n",
      "Our DecisionTreeRegressor with default parameters has an out-sample error equal to 58.62538357650477\n",
      "Explained variance score with default parameters: 0.9951335731966152\n",
      "\n",
      "Optimization of our model:\n",
      "Optimized parameters: {'criterion': 'mse', 'max_depth': 10, 'max_leaf_nodes': 40, 'min_samples_leaf': 2, 'min_samples_split': 2}\n",
      "Our DecisionTreeRegressor with optimized parameters has an in-sample error equal to 25.56020194411469\n",
      "Our DecisionTreeRegressor with optimized parameters has an out-sample error equal to 77.15760282531733\n",
      "\n",
      "R²: 0.9875574651903103\n",
      "Explained variance score : 0.9876951488175769\n",
      "Median absolute error : 14.798330865030877\n",
      "Maximum error : 177.81874643646222\n"
     ]
    }
   ],
   "source": [
    "from sklearn.tree import DecisionTreeRegressor\n",
    "\n",
    "\n",
    "# Default parameters\n",
    "DTR = DecisionTreeRegressor()\n",
    "DTR.fit(x_train, y_train)\n",
    "\n",
    "\n",
    "print(\"Our DecisionTreeRegressor with default parameters has an in-sample error equal to\",np.sqrt(mean_squared_error(y_train, DTR.predict(x_train))))\n",
    "print(\"Our DecisionTreeRegressor with default parameters has an out-sample error equal to\",np.sqrt(mean_squared_error(y_test, DTR.predict(x_test))))\n",
    "print(\"Explained variance score with default parameters:\",explained_variance_score(Y, DTR.predict(X)))\n",
    "print()\n",
    "\n",
    "print(\"Optimization of our model:\")\n",
    "\n",
    "\n",
    "# Optimization test\n",
    "param_grid = {\"criterion\": [\"mse\", \"mae\"],\"max_depth\": [2, 3, 4, 8, 10, 20],\"min_samples_split\": [2, 3, 5, 8, 10, 20, 40],\"min_samples_leaf\": [2, 5, 10, 15, 20, 40, 100],\"max_leaf_nodes\": [2, 5, 10,15, 20,40, 100]}\n",
    "DTR_opt = GridSearchCV(DecisionTreeRegressor(), param_grid, cv=5, verbose=0)\n",
    "DTR_opt.fit(x_train, y_train)\n",
    "print('Optimized parameters:',DTR_opt.best_params_)\n",
    "DTR_opt = DecisionTreeRegressor(criterion = DTR_opt.best_params_['criterion'],max_depth = DTR_opt.best_params_['max_depth'],min_samples_split = DTR_opt.best_params_['min_samples_split'],min_samples_leaf = DTR_opt.best_params_['min_samples_leaf'],max_leaf_nodes = DTR_opt.best_params_['max_leaf_nodes'])\n",
    "DTR_opt.fit(x_train, y_train)\n",
    "print(\"Our DecisionTreeRegressor with optimized parameters has an in-sample error equal to\",np.sqrt(mean_squared_error(y_train, DTR_opt.predict(x_train))))\n",
    "print(\"Our DecisionTreeRegressor with optimized parameters has an out-sample error equal to\",np.sqrt(mean_squared_error(y_test, DTR_opt.predict(x_test))))\n",
    "print()\n",
    "#print(\"We can also compute the R², the explained variance score, the median absolute error and the maximum error for all the dataset\")\n",
    "print(\"R²:\",r2_score(Y, DTR_opt.predict(X)))\n",
    "print(\"Explained variance score :\",explained_variance_score(Y, DTR_opt.predict(X)))\n",
    "print(\"Median absolute error :\",median_absolute_error(Y, DTR_opt.predict(X)))\n",
    "print(\"Maximum error :\",max_error(Y, DTR_opt.predict(X)))"
   ]
  },
  {
   "cell_type": "markdown",
   "metadata": {},
   "source": [
    "##### Plot of the results:"
   ]
  },
  {
   "cell_type": "code",
   "execution_count": 11,
   "metadata": {},
   "outputs": [
    {
     "data": {
      "image/png": "[encoded data removed]",
      "text/plain": [
       "<Figure size 432x288 with 1 Axes>"
      ]
     },
     "metadata": {
      "needs_background": "light"
     },
     "output_type": "display_data"
    },
    {
     "name": "stdout",
     "output_type": "stream",
     "text": [
      "The model parameters: DecisionTreeRegressor(criterion='mse', max_depth=None, max_features=None,\n",
      "                      max_leaf_nodes=None, min_impurity_decrease=0.0,\n",
      "                      min_impurity_split=None, min_samples_leaf=1,\n",
      "                      min_samples_split=2, min_weight_fraction_leaf=0.0,\n",
      "                      presort=False, random_state=None, splitter='best')\n"
     ]
    },
    {
     "data": {
      "image/png": "[encoded data removed]",
      "text/plain": [
       "<Figure size 432x288 with 1 Axes>"
      ]
     },
     "metadata": {
      "needs_background": "light"
     },
     "output_type": "display_data"
    },
    {
     "name": "stdout",
     "output_type": "stream",
     "text": [
      "The model parameters: DecisionTreeRegressor(criterion='mse', max_depth=10, max_features=None,\n",
      "                      max_leaf_nodes=40, min_impurity_decrease=0.0,\n",
      "                      min_impurity_split=None, min_samples_leaf=2,\n",
      "                      min_samples_split=2, min_weight_fraction_leaf=0.0,\n",
      "                      presort=False, random_state=None, splitter='best')\n"
     ]
    }
   ],
   "source": [
    "\n",
    "plt.figure()\n",
    "plt.scatter(X[:,:1], Y, s=20, edgecolor=\"black\",c=\"orange\", label=\"data\")\n",
    "plt.scatter(x_test[:,:1], y_test, s=20, edgecolor=\"black\",c=\"blue\", label=\"test set\")\n",
    "plt.scatter(X[:,:1], DTR.predict(X), s=20, edgecolor=\"black\",c=\"green\", label=\"prediction\")\n",
    "plt.xlabel(\"data\")\n",
    "plt.ylabel(\"target\")\n",
    "plt.title(\"Basic Decision Tree Regression\")\n",
    "plt.legend()\n",
    "plt.show()\n",
    "print(\"The model parameters:\",DTR)\n",
    "\n",
    "\n",
    "plt.figure()\n",
    "plt.scatter(X[:,:1], Y, s=20, edgecolor=\"black\",c=\"orange\", label=\"data\")\n",
    "plt.scatter(x_test[:,:1], y_test, s=20, edgecolor=\"black\",c=\"blue\", label=\"test set\")\n",
    "plt.scatter(X[:,:1], DTR_opt.predict(X), s=20, edgecolor=\"black\",c=\"green\", label=\"prediction\")\n",
    "plt.xlabel(\"data\")\n",
    "plt.ylabel(\"target\")\n",
    "plt.title(\"Optimized Decision Tree Regression\")\n",
    "plt.legend()\n",
    "plt.show()\n",
    "print(\"The model parameters:\",DTR_opt)\n",
    "\n"
   ]
  },
  {
   "cell_type": "markdown",
   "metadata": {},
   "source": [
    "##### Discussion:\n",
    "On every sythesis dataset parameter we tested, our method of optimization seem to be less reliable on DTR than the default parameters.\n",
    "\n",
    "We had two hypothesis regarding this result:  \n",
    "* Our scoring method is not suited to corectly evaluate DTR.\n",
    "* DTR's parameter space is too big for our method of optimization, thus it stays stuck in a local optima.\n",
    "\n",
    "\n",
    "Let study the case with the parameters:\n",
    "* $f(x) = 0.5x^2 + 2sin(x)x$\n",
    "* $seed = 42$\n",
    "* $N = 100  $  \n",
    "In this case, we can note that the only difference between the optimised parameters and the defaults ones are min_sample_leaf parameter which are respectively set to 2 and 1.  \n",
    "This parameter represents the minimum number of node for a set of points to be considered as a leaf, while in the one hand this value is set to 1, some leafs will be perfect nodes inducing a lower Biais, in the other hand, having at least twice as much leave for one node will force a bigger biais and theoriticaly reduce the variance.  \n",
    "\n",
    "But this exemple show us that a bigger bias and less overfitting not always result in an increased performance regarding generalisation.\n"
   ]
  },
  {
   "cell_type": "markdown",
   "metadata": {},
   "source": []
  },
  {
   "cell_type": "markdown",
   "metadata": {},
   "source": [
    "### 3) Algorithm : Neural network Regression  "
   ]
  },
  {
   "cell_type": "markdown",
   "metadata": {},
   "source": [
    "#### A) Introduction\n",
    "An artificial neural network is an algorithm based on a biomimetic of the interactions of the neurons in the brain of leaving creatures."
   ]
  },
  {
   "cell_type": "markdown",
   "metadata": {},
   "source": [
    "  ##### - Theoretical approach\n",
    "  \n",
    "  As its name stand, a neural network can be represented as a graph, we can identify 3 different layers:\n",
    "   * Input layer: It will take a vector $x_n \\in \\mathbb{R}^d$ as an input and transfer values to the hidden layer linked to the coefficients $x_{ni}$ according to activations functions of its neurons.\n",
    "   * Hidden layer: We call the hidden layer any layer between the input and the output layer. All neurons from those layers answer to an activation function that we will present you a little further.\n",
    "   * Output layer: It will sum all the activations values (a) from the last hidden layer which has been multiplied by their linked weight (w) together and add an extra bias value (b).\n",
    "  \n",
    "######  a) How does that work?\n",
    "  \n",
    "  Let $S= \\{(x_n \\in \\mathbb{R}^d; y_n \\in \\mathbb{R} )  , n = 1, \\dots, m \\}$ be our training sample.\n",
    "  Where $y_n$ is the numerical target value associated to the data-point $x_n$.\n",
    "  \n",
    "  \n",
    "  Let's pick $(x_1, y_1)$, the first data-point that we put in the first neuron of the input layer.\n",
    "  \n",
    "  It's activation function look like: $a_1^0 = x_1$ where 0 is number of the layer and 1 stand for the first neuron.\n",
    "  \n",
    "  We set like that all the n neurons of the input layer.\n",
    "  \n",
    "  Then the first neuron of the hidden layer plays its part. It retrieves all the activation values of the neurons of the previous layer to calculate its own activation function as:\n",
    "  \n",
    "$Z_1^1 = (w_1^1 * a_1^0 + w_2^1 * a_2^0 + ... + w_n^1 * a_n^0) + b_1^1$\n",
    " \n",
    "$a_1^1 = g^1(Z_1^1)$ where g is a hyperbolic tan by default in our algorithm.\n",
    "  \n",
    "  All the neurons from the hidden layers will be set like that with the activation values from the previous neurons layer.\n",
    "  \n",
    "  There is only one neuron in the output layer but it will follow the same activation rule as the neurons from the hidden layer except for the last step:\n",
    "  \n",
    "$a_1^{\\text{output layer}}= Z_1^{\\text{output layer}}$ For the output layer $g$ is the identity function.\n",
    "\n",
    "  ###### b) Backpropagation\n",
    "  \n",
    "  The loss function can be written as,\n",
    "  \n",
    "  $Loss(\\hat {y},y,W) = \\frac{1}{2}\\|\\hat {y}-y\\|_2^2+\\frac{\\alpha}{2}\\|w\\|_2^2$ where $\\alpha$ is a non-negative hyperparameter.\n",
    "  \n",
    "  In our case, we do a gradient descent as:\n",
    "  \n",
    "  $W^{i+1} = W^{i} - \\epsilon \\nabla Loss_w^i$ where $\\epsilon$ and i are the learning rate and the iteration step respectively.\n",
    "  \n",
    "  "
   ]
  },
  {
   "cell_type": "markdown",
   "metadata": {},
   "source": [
    "<font color=\"gray\"> Sources:</font>  \n",
    "<font color=\"gray\"> Scikit-Learn: https://scikit-learn.org/stable/modules/neural_networks_supervised.html#neural-networks-supervised </font>  \n",
    "<font color=\"gray\">Toward datascience: https://towardsdatascience.com/machine-learning-for-beginners-an-introduction-to-neural-networks-d49f22d238f9 </font>  \n",
    "<font color=\"gray\">3blue1Brown, Grant Sanderson: https://youtu.be/tIeHLnjs5U8 </font>"
   ]
  },
  {
   "cell_type": "markdown",
   "metadata": {},
   "source": [
    "#### B) Code"
   ]
  },
  {
   "cell_type": "code",
   "execution_count": 12,
   "metadata": {},
   "outputs": [
    {
     "name": "stdout",
     "output_type": "stream",
     "text": [
      "Our DecisionTreeRegressor with default parameters has an in-sample error equal to 439.717905705127\n",
      "Our DecisionTreeRegressor with default parameters has an out-sample error equal to 481.07321249843693\n",
      "\n",
      "Optimization of our model:\n",
      "Optimized parameters: {'activation': 'relu', 'alpha': 0.0001, 'hidden_layer_sizes': (15, 15)}\n",
      "Our support vector with optimized parameters has an in-sample error equal to 44.0461708023162\n",
      "Our support vector with optimized parameters has an out-sample error equal to 39.19649545903982\n",
      "\n",
      "R²: 0.9864971274475173\n",
      "Explained variance score : 0.9866089616714246\n",
      "Median absolute error : 27.849021732137764\n",
      "Maximum error : 118.39976085571266\n"
     ]
    }
   ],
   "source": [
    "from sklearn.neural_network import MLPRegressor\n",
    "import warnings\n",
    "\n",
    "# Default parameters\n",
    "\n",
    "with warnings.catch_warnings():\n",
    "    # ignore all caught warnings\n",
    "    warnings.filterwarnings(\"ignore\")\n",
    "    \n",
    "    NNR = MLPRegressor()\n",
    "    NNR.fit(x_train, y_train)\n",
    "    print(\"Our DecisionTreeRegressor with default parameters has an in-sample error equal to\",np.sqrt(mean_squared_error(y_train, NNR.predict(x_train))))\n",
    "    print(\"Our DecisionTreeRegressor with default parameters has an out-sample error equal to\",np.sqrt(mean_squared_error(y_test, NNR.predict(x_test))))\n",
    "    print()\n",
    "    print(\"Optimization of our model:\")\n",
    "    \n",
    "    # Optimization test\n",
    "    param_grid = {\"hidden_layer_sizes\": [(i,i) for i in range(1,25)], \"alpha\": [0.00005,0.0001,0.0005],\"activation\" : ['logistic', 'tanh', 'relu']}\n",
    "    NNR_opt = GridSearchCV(MLPRegressor(solver = \"lbfgs\"), param_grid, cv=5, verbose=0)\n",
    "    NNR_opt.fit(x_train, y_train)\n",
    "    print('Optimized parameters:',NNR_opt.best_params_)\n",
    "    NNR_opt = MLPRegressor(hidden_layer_sizes = NNR_opt.best_params_['hidden_layer_sizes'],alpha = NNR_opt.best_params_['alpha'],activation = NNR_opt.best_params_['activation'], solver = \"lbfgs\")\n",
    "    NNR_opt.fit(x_train, y_train)\n",
    "    \n",
    "    #param_grid = {\"hidden_layer_sizes\": [(i,i) for i in range(1,25)], \"alpha\": [0.00005,0.0001,0.0005], \"learning_rate\" : ['constant', 'invscaling','adaptive'],\"activation\" : ['logistic', 'tanh', 'relu']}\n",
    "    #NNR_opt = GridSearchCV(MLPRegressor(solver = \"lbfgs\"), param_grid, cv=5, verbose=0)\n",
    "    #NNR_opt.fit(x_train, y_train)\n",
    "    #print('The optimize settings are',NNR_opt.best_params_)\n",
    "    #NNR_opt = MLPRegressor(hidden_layer_sizes = NNR_opt.best_params_['hidden_layer_sizes'],alpha = NNR_opt.best_params_['alpha'],learning_rate = NNR_opt.best_params_['learning_rate'],activation = NNR_opt.best_params_['activation'], solver = \"lbfgs\")\n",
    "    #NNR_opt.fit(x_train, y_train)\n",
    "    \n",
    "    \n",
    "    \n",
    "    \n",
    "print(\"Our support vector with optimized parameters has an in-sample error equal to\",np.sqrt(mean_squared_error(y_train, NNR_opt.predict(x_train))))\n",
    "print(\"Our support vector with optimized parameters has an out-sample error equal to\",np.sqrt(mean_squared_error(y_test, NNR_opt.predict(x_test))))\n",
    "\n",
    "print()\n",
    "#print(\"We can also compute the R², the explained variance score, the median absolute error and the maximum error for all the dataset\")\n",
    "print(\"R²:\",r2_score(Y, NNR_opt.predict(X)))\n",
    "print(\"Explained variance score :\",explained_variance_score(Y, NNR_opt.predict(X)))\n",
    "print(\"Median absolute error :\",median_absolute_error(Y, NNR_opt.predict(X)))\n",
    "print(\"Maximum error :\",max_error(Y, NNR_opt.predict(X)))"
   ]
  },
  {
   "cell_type": "markdown",
   "metadata": {},
   "source": [
    "##### Plot of the results:"
   ]
  },
  {
   "cell_type": "code",
   "execution_count": 13,
   "metadata": {},
   "outputs": [
    {
     "data": {
      "image/png": "[encoded data removed]",
      "text/plain": [
       "<Figure size 432x288 with 1 Axes>"
      ]
     },
     "metadata": {
      "needs_background": "light"
     },
     "output_type": "display_data"
    },
    {
     "name": "stdout",
     "output_type": "stream",
     "text": [
      "The model parameters: MLPRegressor(activation='relu', alpha=0.0001, batch_size='auto', beta_1=0.9,\n",
      "             beta_2=0.999, early_stopping=False, epsilon=1e-08,\n",
      "             hidden_layer_sizes=(100,), learning_rate='constant',\n",
      "             learning_rate_init=0.001, max_iter=200, momentum=0.9,\n",
      "             n_iter_no_change=10, nesterovs_momentum=True, power_t=0.5,\n",
      "             random_state=None, shuffle=True, solver='adam', tol=0.0001,\n",
      "             validation_fraction=0.1, verbose=False, warm_start=False)\n"
     ]
    },
    {
     "data": {
      "image/png": "[encoded data removed]",
      "text/plain": [
       "<Figure size 432x288 with 1 Axes>"
      ]
     },
     "metadata": {
      "needs_background": "light"
     },
     "output_type": "display_data"
    },
    {
     "name": "stdout",
     "output_type": "stream",
     "text": [
      "The model parameters: MLPRegressor(activation='relu', alpha=0.0001, batch_size='auto', beta_1=0.9,\n",
      "             beta_2=0.999, early_stopping=False, epsilon=1e-08,\n",
      "             hidden_layer_sizes=(15, 15), learning_rate='constant',\n",
      "             learning_rate_init=0.001, max_iter=200, momentum=0.9,\n",
      "             n_iter_no_change=10, nesterovs_momentum=True, power_t=0.5,\n",
      "             random_state=None, shuffle=True, solver='lbfgs', tol=0.0001,\n",
      "             validation_fraction=0.1, verbose=False, warm_start=False)\n"
     ]
    }
   ],
   "source": [
    "plt.figure()\n",
    "plt.scatter(X[:,:1], Y, s=20, edgecolor=\"black\",c=\"orange\", label=\"data\")\n",
    "plt.scatter(x_test[:,:1], y_test, s=20, edgecolor=\"black\",c=\"blue\", label=\"test set\")\n",
    "plt.scatter(X[:,:1], NNR.predict(X), s=20, edgecolor=\"black\",c=\"green\", label=\"prediction\")\n",
    "plt.xlabel(\"data\")\n",
    "plt.ylabel(\"target\")\n",
    "plt.title(\"Basic Neural network\")\n",
    "plt.legend()\n",
    "plt.show()\n",
    "print(\"The model parameters:\",NNR)\n",
    "\n",
    "\n",
    "plt.figure()\n",
    "plt.scatter(X[:,:1], Y, s=20, edgecolor=\"black\",c=\"orange\", label=\"data\")\n",
    "plt.scatter(x_test[:,:1], y_test, s=20, edgecolor=\"black\",c=\"blue\", label=\"test set\")\n",
    "plt.scatter(X[:,:1], NNR_opt.predict(X), s=20, edgecolor=\"black\",c=\"green\", label=\"prediction\")\n",
    "plt.xlabel(\"data\")\n",
    "plt.ylabel(\"target\")\n",
    "plt.title(\"Optimized Neural network\")\n",
    "plt.legend()\n",
    "plt.show()\n",
    "print(\"The model parameters:\",NNR_opt)"
   ]
  },
  {
   "cell_type": "markdown",
   "metadata": {},
   "source": [
    "#####  Discussion:\n",
    "We can notice that the architecture of the Neural Network plays a key role on determining how the data are proceeded.\n",
    "But since this algorithm is a black bow, we can hardly indentify the main parameters that have the most influence on the result.\n",
    "\n",
    "For exemple, the parameters:\n",
    "* $f(x) = 0.5x^2 + 2sin(x)x$\n",
    "* $seed = 42$\n",
    "* $N = 100  $  \n",
    "We can notice that the choosen architecture for the hidden layers (15,15) and using lbfgs as solver, is much more efficient than the default one (100,) with an adam solver.\n",
    "Though, we can notice that the neural network is getting some of the complexity of $f$ by not beeing totally convex for the values close from zero."
   ]
  },
  {
   "cell_type": "code",
   "execution_count": null,
   "metadata": {},
   "outputs": [],
   "source": []
  },
  {
   "cell_type": "markdown",
   "metadata": {},
   "source": [
    "### 4) Algorithm : K Nearest neighbors regression"
   ]
  },
  {
   "cell_type": "markdown",
   "metadata": {},
   "source": [
    "#### A) Introduction\n",
    "k-Nearest Neighbors regressor is a neighbors based algorithm (i.e. an algorithm approximating a data-point's value based on the mean value of data-points in its topological's neighbourhood). \n",
    "\n",
    "##### 1. theoretical approach\n",
    "\n",
    "* Let $f : \\mathbb{R}^d \\rightarrow \\mathbb{R}$ be a function and let $S = \\{(x_1,y_1),\\dots,(x_n,y_n)\\}$ observations of $f$ be our training set. Without loss of generality, lets assume that $x_1$ and $x_n$ are respectively upper and lower range of the $x_i$ values.  \n",
    "\n",
    "* **interpolation of a testing point $x_j \\in [x_1,x_n]$**  \n",
    "Let $\\mathcal{B}$ be the smallest ball such that $\\mathcal{B}$ contain at least $k$ training data-points.  \n",
    "To compute $y_j$ we will take the mean of all the values of the data-points included in $\\mathcal{B}$, formally:\n",
    "$$y_j = \\frac{1}{ N_{\\mathcal{B}} }\\sum_{i, \\forall x_i \\in \\mathcal{B} } y_i$$ , where $N_{\\mathcal{B}}$ is the number of points other than $x_j$ in $\\mathcal{B}$\n",
    "\n",
    "##### 2. discussion\n",
    "\n",
    "* **How can we choose $k$?**  \n",
    "On the one hand, if $k$ is too low, we have an high risk of overfit and our algorithm will be too sensitive to outlayers.  \n",
    "On the other hand, if $k$ is too big, we will not be precise enought to coreclty interpolate our point. Especially if $k=n$, returned value will be the mean of our training set regardless of the test point we try to evaluate.\n",
    "\n",
    "Thus, we can use cross-validation in order to compute a adequate $k$.\n",
    "\n",
    "* **Which distance should I we use to compute $\\mathcal{B}$?**  \n",
    "Most of the time, we use the Euclidian distance:  $ d(x_n, x_j) = \\sqrt{ \\sum_d \\mid x_{nd} - x_{jd} \\mid^2 }$  \n",
    "But this distance is very sensitive to extreme values and can only be applyed on numeric attributes.\n",
    "\n",
    "However, we can generalise this distance an take $p$-norm (or Minkowski distance) which have a free parameter $p$.  \n",
    "$ d(x_n, x_j) = \\sqrt[p]{ \\sum_d \\mid x_{nd} - x_{jd} \\mid^p }$, with $p=1$ we have the Manhattan distance and with $p=2$ we have the Euclidian distance, depending of the value of $p$, this distance can have various propierty that can help have a better exploitation of our model.\n",
    "\n",
    "NB: For non numerical features we can use various other distances such as Hamming distances for qualitative distances, BM25 for text, or Kullback-Leibler distance for histograms, most of general metric functions can be applied with this algorithm.\n",
    "\n",
    "\n",
    "##### 3. Alternatives, Issues and Improvements\n",
    "* Breacking a tie  \n",
    "There is several methods to breack a tie: \n",
    "  - Flip a coin\n",
    "  - Use the closest higher or lower $k$\n",
    "  - choose the class with greater prior\n",
    "  - etc..\n",
    "  \n",
    "* Missing values  \n",
    "As we are computing distances, we have to compute any missing values, then we can use the mean of the missing datas.\n",
    "\n",
    "* Weighted means\n",
    "We can use weighted means in order for the nearest data-point to have a greater effect on the mean by using the invert of the distance as a weight.\n",
    "\n"
   ]
  },
  {
   "cell_type": "markdown",
   "metadata": {},
   "source": [
    "<font color=\"gray\"> Main source:</font>  \n",
    "<font color=\"gray\"> Victor Lavrenko and Nigel Goddard - Introductory Applied Machine Learning- School of Informatics, University of Eidinburgh </font>\n",
    "\n",
    "<font color=\"gray\"> Other sources:</font>  \n",
    "<font color=\"gray\"> University of Utah - Machine learning course  </font>  \n",
    "<font color=\"gray\"> StatQuest with josh Stamer: https://youtu.be/HVXime0nQeI  </font>  \n",
    "<font color=\"gray\"> Udacty, SL4 - Intance based learning https://www.udacity.com/ </font>  "
   ]
  },
  {
   "cell_type": "code",
   "execution_count": 14,
   "metadata": {},
   "outputs": [
    {
     "name": "stdout",
     "output_type": "stream",
     "text": [
      "Our DecisionTreeRegressor with default parameters has an in-sample error equal to 35.074057828963404\n",
      "Our DecisionTreeRegressor with default parameters has an out-sample error equal to 54.64431670572599\n",
      "\n",
      "Optimization of our model:\n",
      "Optimized parameters: {'leaf_size': 2, 'metric': 'euclidean', 'n_neighbors': 2, 'weights': 'distance'}\n",
      "Our support vector with optimized parameters has an in-sample error equal to 0.0\n",
      "Our support vector with optimized parameters has an out-sample error equal to 37.88339129772194\n",
      "\n",
      "R²: 0.9979155162547027\n",
      "Explained variance score : 0.9979558355487377\n",
      "Median absolute error : 0.0\n",
      "Maximum error : 126.32517043891653\n"
     ]
    }
   ],
   "source": [
    "from sklearn import neighbors\n",
    "\n",
    "\n",
    "# Default parameters\n",
    "knn = neighbors.KNeighborsRegressor()\n",
    "knn.fit(x_train, y_train)\n",
    "\n",
    "\n",
    "print(\"Our DecisionTreeRegressor with default parameters has an in-sample error equal to\",np.sqrt(mean_squared_error(y_train, knn.predict(x_train))))\n",
    "print(\"Our DecisionTreeRegressor with default parameters has an out-sample error equal to\",np.sqrt(mean_squared_error(y_test, knn.predict(x_test))))\n",
    "print()\n",
    "print(\"Optimization of our model:\")\n",
    "\n",
    "\n",
    "# Optimization test\n",
    "param_grid = {\"n_neighbors\": [2,3,4,5,6,7,8,9],\"leaf_size\": [2,5,10,20,30,50,100], \"weights\": [\"uniform\", \"distance\"], \"metric\": [\"euclidean\", \"manhattan\"]}\n",
    "knn_opt = GridSearchCV(neighbors.KNeighborsRegressor(), param_grid, cv=5, verbose=0)\n",
    "knn_opt.fit(x_train, y_train)\n",
    "print('Optimized parameters:',knn_opt.best_params_)\n",
    "knn_opt = neighbors.KNeighborsRegressor(n_neighbors = knn_opt.best_params_['n_neighbors'],leaf_size = knn_opt.best_params_['leaf_size'],weights = knn_opt.best_params_['weights'],metric = knn_opt.best_params_['metric'])\n",
    "knn_opt.fit(x_train, y_train)\n",
    "print(\"Our support vector with optimized parameters has an in-sample error equal to\",np.sqrt(mean_squared_error(y_train, knn_opt.predict(x_train))))\n",
    "print(\"Our support vector with optimized parameters has an out-sample error equal to\",np.sqrt(mean_squared_error(y_test, knn_opt.predict(x_test))))\n",
    "print()\n",
    "#print(\"We can also compute the R², the explained variance score, the median absolute error and the maximum error for all the dataset\")\n",
    "print(\"R²:\",r2_score(Y, knn_opt.predict(X)))\n",
    "print(\"Explained variance score :\",explained_variance_score(Y, knn_opt.predict(X)))\n",
    "print(\"Median absolute error :\",median_absolute_error(Y, knn_opt.predict(X)))\n",
    "print(\"Maximum error :\",max_error(Y, knn_opt.predict(X)))"
   ]
  },
  {
   "cell_type": "markdown",
   "metadata": {},
   "source": [
    "##### Plot of the results:"
   ]
  },
  {
   "cell_type": "code",
   "execution_count": 15,
   "metadata": {},
   "outputs": [
    {
     "data": {
      "image/png": "[encoded data removed]",
      "text/plain": [
       "<Figure size 432x288 with 1 Axes>"
      ]
     },
     "metadata": {
      "needs_background": "light"
     },
     "output_type": "display_data"
    },
    {
     "name": "stdout",
     "output_type": "stream",
     "text": [
      "The model parameters: KNeighborsRegressor(algorithm='auto', leaf_size=30, metric='minkowski',\n",
      "                    metric_params=None, n_jobs=None, n_neighbors=5, p=2,\n",
      "                    weights='uniform')\n"
     ]
    },
    {
     "data": {
      "image/png": "[encoded data removed]",
      "text/plain": [
       "<Figure size 432x288 with 1 Axes>"
      ]
     },
     "metadata": {
      "needs_background": "light"
     },
     "output_type": "display_data"
    },
    {
     "name": "stdout",
     "output_type": "stream",
     "text": [
      "The model parameters: KNeighborsRegressor(algorithm='auto', leaf_size=2, metric='euclidean',\n",
      "                    metric_params=None, n_jobs=None, n_neighbors=2, p=2,\n",
      "                    weights='distance')\n"
     ]
    }
   ],
   "source": [
    "plt.figure()\n",
    "plt.scatter(X[:,:1], Y, s=20, edgecolor=\"black\",c=\"orange\", label=\"data\")\n",
    "plt.scatter(x_test[:,:1], y_test, s=20, edgecolor=\"black\",c=\"blue\", label=\"test set\")\n",
    "plt.scatter(X[:,:1], knn.predict(X), s=20, edgecolor=\"black\",c=\"green\", label=\"prediction\")\n",
    "plt.xlabel(\"data\")\n",
    "plt.ylabel(\"target\")\n",
    "plt.title(\"Basic K-Nearest Neighbors\")\n",
    "plt.legend()\n",
    "plt.show()\n",
    "print(\"The model parameters:\",knn)\n",
    "\n",
    "\n",
    "\n",
    "plt.figure()\n",
    "plt.scatter(X[:,:1], Y, s=20, edgecolor=\"black\",c=\"orange\", label=\"data\")\n",
    "plt.scatter(x_test[:,:1], y_test, s=20, edgecolor=\"black\",c=\"blue\", label=\"test set\")\n",
    "plt.scatter(X[:,:1], knn_opt.predict(X), s=20, edgecolor=\"black\",c=\"green\", label=\"prediction\")\n",
    "plt.xlabel(\"data\")\n",
    "plt.ylabel(\"target\")\n",
    "plt.title(\"Optimized K-Nearest Neighbors\")\n",
    "plt.legend()\n",
    "plt.show()\n",
    "print(\"The model parameters:\",knn_opt)"
   ]
  },
  {
   "cell_type": "markdown",
   "metadata": {},
   "source": [
    "##### Discussion:\n",
    "k-NN perform surprisingly well, and once again we note a improvement with optimized parameters.\n",
    "\n",
    "For Synthetic Dataset-2 (a= 0.5, b=2, seed=42, N=100)\n",
    "We can notice that almost all parameters have been changed in the optimization process, but, the optimized version capture the details of the function particularly well compared to all other algorithms."
   ]
  },
  {
   "cell_type": "markdown",
   "metadata": {},
   "source": [
    "## Part 1 - Conclusion\n",
    "\n",
    "In this section we wanted to know if there were a way to automaticaly change our algorithm's parameters in order to improve them. Using two different sythetic dataset and changing the parameters, we notice that at the exception of the Decision-Tree, there was a sinificative improvement of the generalization after optimization.\n",
    "\n",
    "We can then easily suppose that parameter optimization is a good way to adapt our algorithms to unknown datasets."
   ]
  },
  {
   "cell_type": "markdown",
   "metadata": {},
   "source": [
    "# II - Comparing our algorithms"
   ]
  },
  {
   "cell_type": "markdown",
   "metadata": {},
   "source": [
    "We tried to optimize our algorithms the best that we can. Now, we would like to compare our models between each other to know  if their is sinificative differences in the quality of there output.  \n",
    "\n",
    "Using $R^2$-means applyed on cross-validation, we want to see if thoose algorithm's perforlances, knowing that:  \n",
    "$$ R^2(y, \\hat{y}) = 1 - \\frac{\\sum_{i=1}^{n} (y_i - \\hat{y}_i)^2}{\\sum_{i=1}^{n} (y_i - \\bar{y})^2} $$, where $\\bar{y} = \\frac{1}{n} \\sum_{i=1}^{n} y_i$ is the mean of the outputs and $\\sum_{i=1}^{n} (y_i - \\hat{y}_i)^2 = \\sum_{i=1}^{n} \\epsilon_i^2$ is the residual variance.\n",
    "\n",
    "\n",
    "* Procedure\n",
    "\n",
    "For a fixed dataset, we will evaluate our algorithms with several partitioning size as $CV$ for the cross-validation method.\n",
    "\n",
    "According to Scikit-Learn, the method used for this cross validation will be K-Folds.\n",
    "\n",
    "K-Folds cross-validator:\n",
    "> Provides train/test indices to split data in train/test sets. Split dataset into k consecutive folds (without shuffling by default).\n",
    ">Each fold is then used once as a validation while the k - 1 remaining folds form the training set."
   ]
  },
  {
   "cell_type": "code",
   "execution_count": 16,
   "metadata": {},
   "outputs": [
    {
     "name": "stdout",
     "output_type": "stream",
     "text": [
      "\n",
      "R²-mean of all models for different cv:\n"
     ]
    },
    {
     "data": {
      "text/html": [
       "<div>\n",
       "<style scoped>\n",
       "    .dataframe tbody tr th:only-of-type {\n",
       "        vertical-align: middle;\n",
       "    }\n",
       "\n",
       "    .dataframe tbody tr th {\n",
       "        vertical-align: top;\n",
       "    }\n",
       "\n",
       "    .dataframe thead th {\n",
       "        text-align: right;\n",
       "    }\n",
       "</style>\n",
       "<table border=\"1\" class=\"dataframe\">\n",
       "  <thead>\n",
       "    <tr style=\"text-align: right;\">\n",
       "      <th></th>\n",
       "      <th>Linear regression</th>\n",
       "      <th>SVR</th>\n",
       "      <th>DTR(Basic)</th>\n",
       "      <th>DTR(Optimized)</th>\n",
       "      <th>Neural network</th>\n",
       "      <th>K-Nearest Neighbors</th>\n",
       "    </tr>\n",
       "  </thead>\n",
       "  <tbody>\n",
       "    <tr>\n",
       "      <th>2</th>\n",
       "      <td>-13.972139</td>\n",
       "      <td>0.387798</td>\n",
       "      <td>-1.245367</td>\n",
       "      <td>-1.236895</td>\n",
       "      <td>-1.090890</td>\n",
       "      <td>-1.237016</td>\n",
       "    </tr>\n",
       "    <tr>\n",
       "      <th>3</th>\n",
       "      <td>-58.923651</td>\n",
       "      <td>0.247816</td>\n",
       "      <td>-2.159221</td>\n",
       "      <td>-2.119267</td>\n",
       "      <td>-0.955141</td>\n",
       "      <td>-2.366828</td>\n",
       "    </tr>\n",
       "    <tr>\n",
       "      <th>4</th>\n",
       "      <td>-19.626209</td>\n",
       "      <td>-0.503477</td>\n",
       "      <td>-1.882404</td>\n",
       "      <td>-2.286448</td>\n",
       "      <td>0.374400</td>\n",
       "      <td>-2.173227</td>\n",
       "    </tr>\n",
       "    <tr>\n",
       "      <th>5</th>\n",
       "      <td>-151.444196</td>\n",
       "      <td>-0.225346</td>\n",
       "      <td>-1.584206</td>\n",
       "      <td>-1.702092</td>\n",
       "      <td>-1.830766</td>\n",
       "      <td>-1.809146</td>\n",
       "    </tr>\n",
       "    <tr>\n",
       "      <th>6</th>\n",
       "      <td>-40.748325</td>\n",
       "      <td>0.877349</td>\n",
       "      <td>-0.677580</td>\n",
       "      <td>-0.906848</td>\n",
       "      <td>0.680372</td>\n",
       "      <td>-0.814087</td>\n",
       "    </tr>\n",
       "    <tr>\n",
       "      <th>8</th>\n",
       "      <td>-123.696986</td>\n",
       "      <td>0.114399</td>\n",
       "      <td>-2.177676</td>\n",
       "      <td>-2.730753</td>\n",
       "      <td>-0.426870</td>\n",
       "      <td>-2.603950</td>\n",
       "    </tr>\n",
       "    <tr>\n",
       "      <th>10</th>\n",
       "      <td>-134.508994</td>\n",
       "      <td>0.725787</td>\n",
       "      <td>-0.652061</td>\n",
       "      <td>-0.968412</td>\n",
       "      <td>0.307950</td>\n",
       "      <td>-0.633248</td>\n",
       "    </tr>\n",
       "    <tr>\n",
       "      <th>20</th>\n",
       "      <td>-6031.364593</td>\n",
       "      <td>-4.371465</td>\n",
       "      <td>-8.210489</td>\n",
       "      <td>-18.469685</td>\n",
       "      <td>-6.471927</td>\n",
       "      <td>-13.408277</td>\n",
       "    </tr>\n",
       "  </tbody>\n",
       "</table>\n",
       "</div>"
      ],
      "text/plain": [
       "    Linear regression       SVR  DTR(Basic)  DTR(Optimized)  Neural network  \\\n",
       "2          -13.972139  0.387798   -1.245367       -1.236895       -1.090890   \n",
       "3          -58.923651  0.247816   -2.159221       -2.119267       -0.955141   \n",
       "4          -19.626209 -0.503477   -1.882404       -2.286448        0.374400   \n",
       "5         -151.444196 -0.225346   -1.584206       -1.702092       -1.830766   \n",
       "6          -40.748325  0.877349   -0.677580       -0.906848        0.680372   \n",
       "8         -123.696986  0.114399   -2.177676       -2.730753       -0.426870   \n",
       "10        -134.508994  0.725787   -0.652061       -0.968412        0.307950   \n",
       "20       -6031.364593 -4.371465   -8.210489      -18.469685       -6.471927   \n",
       "\n",
       "    K-Nearest Neighbors  \n",
       "2             -1.237016  \n",
       "3             -2.366828  \n",
       "4             -2.173227  \n",
       "5             -1.809146  \n",
       "6             -0.814087  \n",
       "8             -2.603950  \n",
       "10            -0.633248  \n",
       "20           -13.408277  "
      ]
     },
     "execution_count": 16,
     "metadata": {},
     "output_type": "execute_result"
    }
   ],
   "source": [
    "from sklearn.linear_model import LinearRegression\n",
    "\n",
    "linr = LinearRegression()\n",
    "linr.fit(x_train, y_train)\n",
    "\n",
    "models = [linr,svm_ropt,DTR,DTR_opt,NNR_opt,knn_opt]\n",
    "models_label = ['Linear regression','SVR','DTR(Basic)','DTR(Optimized)','Neural network','K-Nearest Neighbors']\n",
    "\n",
    "cv = [2,3,4,5,6,8,10,20]\n",
    "R2 = []\n",
    "Fittime = [] \n",
    "\n",
    "with warnings.catch_warnings():\n",
    "    # ignore all caught warnings\n",
    "    warnings.filterwarnings(\"ignore\")\n",
    "    for j in cv:\n",
    "        R2_cv = []\n",
    "        fittime_cv = []\n",
    "        for i in range(len(models)):\n",
    "            score = cross_validate(models[i], X, Y, cv=j)\n",
    "            R2_cv.append(np.mean(score['test_score']))\n",
    "            fittime_cv.append(np.mean(score['fit_time']))\n",
    "            \n",
    "        R2.append(R2_cv)\n",
    "        Fittime.append(fittime_cv)\n",
    "\n",
    "header = models_label\n",
    "table = R2\n",
    "print()\n",
    "print('R²-mean of all models for different cv:')\n",
    "pd.DataFrame(table, columns = header,index = cv)"
   ]
  },
  {
   "cell_type": "markdown",
   "metadata": {},
   "source": [
    "* Meaning of those values:\n",
    "  -  $R²$ = 1, means that our predictions are always accurate, it is the best possible value.\n",
    "  -  $R²$ = 0, means that our prediction are as acurate than the mean of the observed data.\n",
    "  -  $R²$ $\\leq$ 0 means that the residual variance os larger than the data variance (i.e. the observed mean is better than our predicator)\n",
    "  \n",
    "  \n",
    "* Interpretation\n",
    "Even if every model is dominating the Linear regressor, we can note that exept for SV-R and Neural network, our models' $R²$ values are globaly negatives with no order of similarities whatsoever.\n",
    "\n",
    "We can then conclude with no surprise than our models have no similatities one to another and thus our objective of identify a \"perfect training set size\" is probably compromised... However, we can still probably determine a range where our algorithms are performing well even if that range is proper to the algorithm."
   ]
  },
  {
   "cell_type": "code",
   "execution_count": 17,
   "metadata": {},
   "outputs": [
    {
     "name": "stdout",
     "output_type": "stream",
     "text": [
      "\n",
      "Time of fit for all models in function of cv:\n"
     ]
    },
    {
     "data": {
      "text/html": [
       "<div>\n",
       "<style scoped>\n",
       "    .dataframe tbody tr th:only-of-type {\n",
       "        vertical-align: middle;\n",
       "    }\n",
       "\n",
       "    .dataframe tbody tr th {\n",
       "        vertical-align: top;\n",
       "    }\n",
       "\n",
       "    .dataframe thead th {\n",
       "        text-align: right;\n",
       "    }\n",
       "</style>\n",
       "<table border=\"1\" class=\"dataframe\">\n",
       "  <thead>\n",
       "    <tr style=\"text-align: right;\">\n",
       "      <th></th>\n",
       "      <th>Linear regression</th>\n",
       "      <th>SVR</th>\n",
       "      <th>DTR(Basic)</th>\n",
       "      <th>DTR(Optimized)</th>\n",
       "      <th>Neural network</th>\n",
       "      <th>K-Nearest Neighbors</th>\n",
       "    </tr>\n",
       "  </thead>\n",
       "  <tbody>\n",
       "    <tr>\n",
       "      <th>2</th>\n",
       "      <td>0.002494</td>\n",
       "      <td>0.004987</td>\n",
       "      <td>0.000999</td>\n",
       "      <td>0.000498</td>\n",
       "      <td>0.123195</td>\n",
       "      <td>0.000998</td>\n",
       "    </tr>\n",
       "    <tr>\n",
       "      <th>3</th>\n",
       "      <td>0.000996</td>\n",
       "      <td>0.004986</td>\n",
       "      <td>0.000997</td>\n",
       "      <td>0.000998</td>\n",
       "      <td>0.152926</td>\n",
       "      <td>0.000667</td>\n",
       "    </tr>\n",
       "    <tr>\n",
       "      <th>4</th>\n",
       "      <td>0.001238</td>\n",
       "      <td>0.006483</td>\n",
       "      <td>0.000750</td>\n",
       "      <td>0.000998</td>\n",
       "      <td>0.146621</td>\n",
       "      <td>0.000750</td>\n",
       "    </tr>\n",
       "    <tr>\n",
       "      <th>5</th>\n",
       "      <td>0.001189</td>\n",
       "      <td>0.003990</td>\n",
       "      <td>0.000598</td>\n",
       "      <td>0.000599</td>\n",
       "      <td>0.136455</td>\n",
       "      <td>0.000798</td>\n",
       "    </tr>\n",
       "    <tr>\n",
       "      <th>6</th>\n",
       "      <td>0.000994</td>\n",
       "      <td>0.006815</td>\n",
       "      <td>0.000997</td>\n",
       "      <td>0.000665</td>\n",
       "      <td>0.160413</td>\n",
       "      <td>0.000666</td>\n",
       "    </tr>\n",
       "    <tr>\n",
       "      <th>8</th>\n",
       "      <td>0.000872</td>\n",
       "      <td>0.004986</td>\n",
       "      <td>0.000623</td>\n",
       "      <td>0.000623</td>\n",
       "      <td>0.139755</td>\n",
       "      <td>0.000624</td>\n",
       "    </tr>\n",
       "    <tr>\n",
       "      <th>10</th>\n",
       "      <td>0.000798</td>\n",
       "      <td>0.007779</td>\n",
       "      <td>0.000798</td>\n",
       "      <td>0.000997</td>\n",
       "      <td>0.117184</td>\n",
       "      <td>0.000599</td>\n",
       "    </tr>\n",
       "    <tr>\n",
       "      <th>20</th>\n",
       "      <td>0.000698</td>\n",
       "      <td>0.006282</td>\n",
       "      <td>0.000848</td>\n",
       "      <td>0.000449</td>\n",
       "      <td>0.138031</td>\n",
       "      <td>0.000753</td>\n",
       "    </tr>\n",
       "  </tbody>\n",
       "</table>\n",
       "</div>"
      ],
      "text/plain": [
       "    Linear regression       SVR  DTR(Basic)  DTR(Optimized)  Neural network  \\\n",
       "2            0.002494  0.004987    0.000999        0.000498        0.123195   \n",
       "3            0.000996  0.004986    0.000997        0.000998        0.152926   \n",
       "4            0.001238  0.006483    0.000750        0.000998        0.146621   \n",
       "5            0.001189  0.003990    0.000598        0.000599        0.136455   \n",
       "6            0.000994  0.006815    0.000997        0.000665        0.160413   \n",
       "8            0.000872  0.004986    0.000623        0.000623        0.139755   \n",
       "10           0.000798  0.007779    0.000798        0.000997        0.117184   \n",
       "20           0.000698  0.006282    0.000848        0.000449        0.138031   \n",
       "\n",
       "    K-Nearest Neighbors  \n",
       "2              0.000998  \n",
       "3              0.000667  \n",
       "4              0.000750  \n",
       "5              0.000798  \n",
       "6              0.000666  \n",
       "8              0.000624  \n",
       "10             0.000599  \n",
       "20             0.000753  "
      ]
     },
     "execution_count": 17,
     "metadata": {},
     "output_type": "execute_result"
    }
   ],
   "source": [
    "header = models_label\n",
    "table = Fittime \n",
    "print()\n",
    "print('Time of fit for all models in function of cv:')\n",
    "pd.DataFrame(table, columns = header,index = cv)"
   ]
  },
  {
   "cell_type": "markdown",
   "metadata": {},
   "source": [
    "The goal of this table was to identify if an algorithm was dominan in regard of its result and its processing time.\n",
    "\n",
    "We can note that at the exception of **Neural Network** that is dominated by **SV-R** and **Linear regressor** dominated by both **Decision trees**, no algorithm dominate overall.\n"
   ]
  },
  {
   "cell_type": "markdown",
   "metadata": {},
   "source": [
    "# III - How the size of the training set influance the algorithm efficiency "
   ]
  },
  {
   "cell_type": "markdown",
   "metadata": {},
   "source": [
    "Thanks to **Part II**, we now know that there is nothing like \"a perfect training set size\", however, we can still try to identify a \"global range\" where results are interesting, or, in the worst case, a \"range proper to every algorithm\". And finaly, we could at least expect to identify \"no go range\", where algorithms do not perfom correctly...\n",
    "\n",
    "\n",
    "First of all, we start by creating a **measurement function** that will help us extract datas from our functions for a large range of test size.\n",
    "Those range are from 5% of the total dataset up to 95% representing the **percentage of the test set**.\n",
    "\n"
   ]
  },
  {
   "cell_type": "code",
   "execution_count": 18,
   "metadata": {},
   "outputs": [],
   "source": [
    "def measurement(model,test_size,X,Y):\n",
    "    ''' Measure the training efficiency for a particular training size'''\n",
    "    measure = []\n",
    "    for i in range(len(test_size)):\n",
    "        x_train, x_test, y_train, y_test = train_test_split(X, Y, test_size = test_size[i], random_state = 25)\n",
    "        model.fit(x_train, y_train)\n",
    "        E_in = np.sqrt(mean_squared_error(y_train, model.predict(x_train)))\n",
    "        E_out = np.sqrt(mean_squared_error(y_test, model.predict(x_test)))\n",
    "        EV = explained_variance_score(Y, model.predict(X))\n",
    "        R2 = model.score(X,Y)\n",
    "        ME = median_absolute_error(Y, model.predict(X))\n",
    "        MAE = max_error(Y, model.predict(X))\n",
    "        measure.append([E_in,E_out,EV,R2,ME,MAE])\n",
    "    return measure\n",
    " \n",
    "\n",
    "test_size = [0.05,0.1,0.15,0.2,0.25,0.33,0.4,0.5,0.7,0.9,0.95] #Represent the proportion of the dataset to include in the train split.\n",
    "stat = ['E_in','E_out','EV','R²','ME','MAE']\n",
    "resume = []"
   ]
  },
  {
   "cell_type": "code",
   "execution_count": 19,
   "metadata": {},
   "outputs": [
    {
     "name": "stdout",
     "output_type": "stream",
     "text": [
      "\n",
      "Linear regression error for different training size:\n"
     ]
    },
    {
     "data": {
      "text/html": [
       "<div>\n",
       "<style scoped>\n",
       "    .dataframe tbody tr th:only-of-type {\n",
       "        vertical-align: middle;\n",
       "    }\n",
       "\n",
       "    .dataframe tbody tr th {\n",
       "        vertical-align: top;\n",
       "    }\n",
       "\n",
       "    .dataframe thead th {\n",
       "        text-align: right;\n",
       "    }\n",
       "</style>\n",
       "<table border=\"1\" class=\"dataframe\">\n",
       "  <thead>\n",
       "    <tr style=\"text-align: right;\">\n",
       "      <th></th>\n",
       "      <th>E_in</th>\n",
       "      <th>E_out</th>\n",
       "      <th>EV</th>\n",
       "      <th>R²</th>\n",
       "      <th>ME</th>\n",
       "      <th>MAE</th>\n",
       "    </tr>\n",
       "  </thead>\n",
       "  <tbody>\n",
       "    <tr>\n",
       "      <th>0.05</th>\n",
       "      <td>375.126613</td>\n",
       "      <td>282.954085</td>\n",
       "      <td>0.001413</td>\n",
       "      <td>0.000083</td>\n",
       "      <td>331.179300</td>\n",
       "      <td>769.002163</td>\n",
       "    </tr>\n",
       "    <tr>\n",
       "      <th>0.10</th>\n",
       "      <td>368.426032</td>\n",
       "      <td>394.455080</td>\n",
       "      <td>-0.000111</td>\n",
       "      <td>-0.000181</td>\n",
       "      <td>322.593924</td>\n",
       "      <td>775.095536</td>\n",
       "    </tr>\n",
       "    <tr>\n",
       "      <th>0.15</th>\n",
       "      <td>366.613442</td>\n",
       "      <td>394.091141</td>\n",
       "      <td>0.001251</td>\n",
       "      <td>0.001145</td>\n",
       "      <td>320.603751</td>\n",
       "      <td>796.980931</td>\n",
       "    </tr>\n",
       "    <tr>\n",
       "      <th>0.20</th>\n",
       "      <td>359.461099</td>\n",
       "      <td>414.564639</td>\n",
       "      <td>-0.000043</td>\n",
       "      <td>-0.000320</td>\n",
       "      <td>319.348397</td>\n",
       "      <td>777.645773</td>\n",
       "    </tr>\n",
       "    <tr>\n",
       "      <th>0.25</th>\n",
       "      <td>366.491173</td>\n",
       "      <td>384.490170</td>\n",
       "      <td>0.000032</td>\n",
       "      <td>0.000025</td>\n",
       "      <td>326.301897</td>\n",
       "      <td>769.920488</td>\n",
       "    </tr>\n",
       "    <tr>\n",
       "      <th>0.33</th>\n",
       "      <td>367.230676</td>\n",
       "      <td>380.989717</td>\n",
       "      <td>-0.004046</td>\n",
       "      <td>-0.004046</td>\n",
       "      <td>328.647629</td>\n",
       "      <td>792.530432</td>\n",
       "    </tr>\n",
       "    <tr>\n",
       "      <th>0.40</th>\n",
       "      <td>362.333521</td>\n",
       "      <td>393.426836</td>\n",
       "      <td>-0.018497</td>\n",
       "      <td>-0.021690</td>\n",
       "      <td>317.852449</td>\n",
       "      <td>853.901195</td>\n",
       "    </tr>\n",
       "    <tr>\n",
       "      <th>0.50</th>\n",
       "      <td>381.170368</td>\n",
       "      <td>366.635792</td>\n",
       "      <td>-0.014473</td>\n",
       "      <td>-0.015671</td>\n",
       "      <td>316.332089</td>\n",
       "      <td>836.774647</td>\n",
       "    </tr>\n",
       "    <tr>\n",
       "      <th>0.70</th>\n",
       "      <td>386.609067</td>\n",
       "      <td>367.244272</td>\n",
       "      <td>-0.005599</td>\n",
       "      <td>-0.011252</td>\n",
       "      <td>336.743169</td>\n",
       "      <td>770.758165</td>\n",
       "    </tr>\n",
       "    <tr>\n",
       "      <th>0.90</th>\n",
       "      <td>361.108993</td>\n",
       "      <td>410.883109</td>\n",
       "      <td>-0.169376</td>\n",
       "      <td>-0.198142</td>\n",
       "      <td>292.877641</td>\n",
       "      <td>1058.541845</td>\n",
       "    </tr>\n",
       "    <tr>\n",
       "      <th>0.95</th>\n",
       "      <td>399.622818</td>\n",
       "      <td>410.987786</td>\n",
       "      <td>-0.144072</td>\n",
       "      <td>-0.223327</td>\n",
       "      <td>375.302527</td>\n",
       "      <td>872.104230</td>\n",
       "    </tr>\n",
       "  </tbody>\n",
       "</table>\n",
       "</div>"
      ],
      "text/plain": [
       "            E_in       E_out        EV        R²          ME          MAE\n",
       "0.05  375.126613  282.954085  0.001413  0.000083  331.179300   769.002163\n",
       "0.10  368.426032  394.455080 -0.000111 -0.000181  322.593924   775.095536\n",
       "0.15  366.613442  394.091141  0.001251  0.001145  320.603751   796.980931\n",
       "0.20  359.461099  414.564639 -0.000043 -0.000320  319.348397   777.645773\n",
       "0.25  366.491173  384.490170  0.000032  0.000025  326.301897   769.920488\n",
       "0.33  367.230676  380.989717 -0.004046 -0.004046  328.647629   792.530432\n",
       "0.40  362.333521  393.426836 -0.018497 -0.021690  317.852449   853.901195\n",
       "0.50  381.170368  366.635792 -0.014473 -0.015671  316.332089   836.774647\n",
       "0.70  386.609067  367.244272 -0.005599 -0.011252  336.743169   770.758165\n",
       "0.90  361.108993  410.883109 -0.169376 -0.198142  292.877641  1058.541845\n",
       "0.95  399.622818  410.987786 -0.144072 -0.223327  375.302527   872.104230"
      ]
     },
     "execution_count": 19,
     "metadata": {},
     "output_type": "execute_result"
    }
   ],
   "source": [
    "header = stat\n",
    "table = measurement(linr,test_size,X,Y)\n",
    "print()\n",
    "print('Linear regression error for different training size:')\n",
    "pd.DataFrame(table, columns = header,index = test_size)"
   ]
  },
  {
   "cell_type": "markdown",
   "metadata": {},
   "source": [
    "* Linear regression error:  \n",
    "Those values of the Linear Regressor will be used as a lower bound/benshmark for our algorithms."
   ]
  },
  {
   "cell_type": "code",
   "execution_count": 20,
   "metadata": {},
   "outputs": [
    {
     "name": "stdout",
     "output_type": "stream",
     "text": [
      "\n",
      "Support Vector Machine (Regression) error for different training size:\n"
     ]
    },
    {
     "data": {
      "text/html": [
       "<div>\n",
       "<style scoped>\n",
       "    .dataframe tbody tr th:only-of-type {\n",
       "        vertical-align: middle;\n",
       "    }\n",
       "\n",
       "    .dataframe tbody tr th {\n",
       "        vertical-align: top;\n",
       "    }\n",
       "\n",
       "    .dataframe thead th {\n",
       "        text-align: right;\n",
       "    }\n",
       "</style>\n",
       "<table border=\"1\" class=\"dataframe\">\n",
       "  <thead>\n",
       "    <tr style=\"text-align: right;\">\n",
       "      <th></th>\n",
       "      <th>E_in</th>\n",
       "      <th>E_out</th>\n",
       "      <th>EV</th>\n",
       "      <th>R²</th>\n",
       "      <th>ME</th>\n",
       "      <th>MAE</th>\n",
       "    </tr>\n",
       "  </thead>\n",
       "  <tbody>\n",
       "    <tr>\n",
       "      <th>0.05</th>\n",
       "      <td>41.547610</td>\n",
       "      <td>31.356932</td>\n",
       "      <td>0.987735</td>\n",
       "      <td>0.987734</td>\n",
       "      <td>23.857709</td>\n",
       "      <td>116.687629</td>\n",
       "    </tr>\n",
       "    <tr>\n",
       "      <th>0.10</th>\n",
       "      <td>41.537056</td>\n",
       "      <td>38.170256</td>\n",
       "      <td>0.987902</td>\n",
       "      <td>0.987665</td>\n",
       "      <td>27.241062</td>\n",
       "      <td>104.884307</td>\n",
       "    </tr>\n",
       "    <tr>\n",
       "      <th>0.15</th>\n",
       "      <td>42.693928</td>\n",
       "      <td>41.927911</td>\n",
       "      <td>0.986873</td>\n",
       "      <td>0.986833</td>\n",
       "      <td>26.087360</td>\n",
       "      <td>118.086474</td>\n",
       "    </tr>\n",
       "    <tr>\n",
       "      <th>0.20</th>\n",
       "      <td>43.620507</td>\n",
       "      <td>43.141774</td>\n",
       "      <td>0.986256</td>\n",
       "      <td>0.986242</td>\n",
       "      <td>23.980945</td>\n",
       "      <td>117.801447</td>\n",
       "    </tr>\n",
       "    <tr>\n",
       "      <th>0.25</th>\n",
       "      <td>43.951478</td>\n",
       "      <td>45.622483</td>\n",
       "      <td>0.985721</td>\n",
       "      <td>0.985700</td>\n",
       "      <td>22.657407</td>\n",
       "      <td>121.003159</td>\n",
       "    </tr>\n",
       "    <tr>\n",
       "      <th>0.33</th>\n",
       "      <td>42.805036</td>\n",
       "      <td>48.421503</td>\n",
       "      <td>0.985467</td>\n",
       "      <td>0.985466</td>\n",
       "      <td>21.751160</td>\n",
       "      <td>123.971905</td>\n",
       "    </tr>\n",
       "    <tr>\n",
       "      <th>0.40</th>\n",
       "      <td>40.472510</td>\n",
       "      <td>54.457950</td>\n",
       "      <td>0.984396</td>\n",
       "      <td>0.984248</td>\n",
       "      <td>19.502496</td>\n",
       "      <td>123.365146</td>\n",
       "    </tr>\n",
       "    <tr>\n",
       "      <th>0.50</th>\n",
       "      <td>40.092075</td>\n",
       "      <td>50.824156</td>\n",
       "      <td>0.984890</td>\n",
       "      <td>0.984784</td>\n",
       "      <td>22.359142</td>\n",
       "      <td>127.407309</td>\n",
       "    </tr>\n",
       "    <tr>\n",
       "      <th>0.70</th>\n",
       "      <td>42.074091</td>\n",
       "      <td>45.919948</td>\n",
       "      <td>0.985498</td>\n",
       "      <td>0.985424</td>\n",
       "      <td>23.738522</td>\n",
       "      <td>136.816932</td>\n",
       "    </tr>\n",
       "    <tr>\n",
       "      <th>0.90</th>\n",
       "      <td>37.817475</td>\n",
       "      <td>61.698243</td>\n",
       "      <td>0.974645</td>\n",
       "      <td>0.974081</td>\n",
       "      <td>25.040681</td>\n",
       "      <td>191.987768</td>\n",
       "    </tr>\n",
       "    <tr>\n",
       "      <th>0.95</th>\n",
       "      <td>0.099937</td>\n",
       "      <td>130.283179</td>\n",
       "      <td>0.893434</td>\n",
       "      <td>0.882896</td>\n",
       "      <td>105.196520</td>\n",
       "      <td>245.622758</td>\n",
       "    </tr>\n",
       "  </tbody>\n",
       "</table>\n",
       "</div>"
      ],
      "text/plain": [
       "           E_in       E_out        EV        R²          ME         MAE\n",
       "0.05  41.547610   31.356932  0.987735  0.987734   23.857709  116.687629\n",
       "0.10  41.537056   38.170256  0.987902  0.987665   27.241062  104.884307\n",
       "0.15  42.693928   41.927911  0.986873  0.986833   26.087360  118.086474\n",
       "0.20  43.620507   43.141774  0.986256  0.986242   23.980945  117.801447\n",
       "0.25  43.951478   45.622483  0.985721  0.985700   22.657407  121.003159\n",
       "0.33  42.805036   48.421503  0.985467  0.985466   21.751160  123.971905\n",
       "0.40  40.472510   54.457950  0.984396  0.984248   19.502496  123.365146\n",
       "0.50  40.092075   50.824156  0.984890  0.984784   22.359142  127.407309\n",
       "0.70  42.074091   45.919948  0.985498  0.985424   23.738522  136.816932\n",
       "0.90  37.817475   61.698243  0.974645  0.974081   25.040681  191.987768\n",
       "0.95   0.099937  130.283179  0.893434  0.882896  105.196520  245.622758"
      ]
     },
     "execution_count": 20,
     "metadata": {},
     "output_type": "execute_result"
    }
   ],
   "source": [
    "   \n",
    "    header = stat\n",
    "    table = measurement(svm_ropt,test_size,X,Y)\n",
    "    print()\n",
    "    print('Support Vector Machine (Regression) error for different training size:')\n",
    "    pd.DataFrame(table, columns = header,index = test_size)"
   ]
  },
  {
   "cell_type": "markdown",
   "metadata": {},
   "source": [
    "* Support Vector Machine:  \n",
    "At the exception of a clear case of overfiting at 95% (while still being dominan in regard to the LR), **SVM** is prety consistant in the range  **[5% ; 70%]**.\n",
    "We can also note that those results seems of a very good."
   ]
  },
  {
   "cell_type": "code",
   "execution_count": 21,
   "metadata": {},
   "outputs": [
    {
     "name": "stdout",
     "output_type": "stream",
     "text": [
      "\n",
      "Decision Tree Regression error for different training size:\n"
     ]
    },
    {
     "data": {
      "text/html": [
       "<div>\n",
       "<style scoped>\n",
       "    .dataframe tbody tr th:only-of-type {\n",
       "        vertical-align: middle;\n",
       "    }\n",
       "\n",
       "    .dataframe tbody tr th {\n",
       "        vertical-align: top;\n",
       "    }\n",
       "\n",
       "    .dataframe thead th {\n",
       "        text-align: right;\n",
       "    }\n",
       "</style>\n",
       "<table border=\"1\" class=\"dataframe\">\n",
       "  <thead>\n",
       "    <tr style=\"text-align: right;\">\n",
       "      <th></th>\n",
       "      <th>E_in</th>\n",
       "      <th>E_out</th>\n",
       "      <th>EV</th>\n",
       "      <th>R²</th>\n",
       "      <th>ME</th>\n",
       "      <th>MAE</th>\n",
       "    </tr>\n",
       "  </thead>\n",
       "  <tbody>\n",
       "    <tr>\n",
       "      <th>0.05</th>\n",
       "      <td>25.117848</td>\n",
       "      <td>18.629070</td>\n",
       "      <td>0.995521</td>\n",
       "      <td>0.995521</td>\n",
       "      <td>15.725205</td>\n",
       "      <td>59.761774</td>\n",
       "    </tr>\n",
       "    <tr>\n",
       "      <th>0.10</th>\n",
       "      <td>24.392559</td>\n",
       "      <td>53.485834</td>\n",
       "      <td>0.994037</td>\n",
       "      <td>0.994034</td>\n",
       "      <td>16.058056</td>\n",
       "      <td>145.465153</td>\n",
       "    </tr>\n",
       "    <tr>\n",
       "      <th>0.15</th>\n",
       "      <td>22.758222</td>\n",
       "      <td>58.618282</td>\n",
       "      <td>0.993080</td>\n",
       "      <td>0.993060</td>\n",
       "      <td>14.392344</td>\n",
       "      <td>145.829470</td>\n",
       "    </tr>\n",
       "    <tr>\n",
       "      <th>0.20</th>\n",
       "      <td>25.560202</td>\n",
       "      <td>77.157603</td>\n",
       "      <td>0.987695</td>\n",
       "      <td>0.987557</td>\n",
       "      <td>14.798331</td>\n",
       "      <td>177.818746</td>\n",
       "    </tr>\n",
       "    <tr>\n",
       "      <th>0.25</th>\n",
       "      <td>25.570105</td>\n",
       "      <td>80.248737</td>\n",
       "      <td>0.984748</td>\n",
       "      <td>0.984747</td>\n",
       "      <td>15.725205</td>\n",
       "      <td>177.818746</td>\n",
       "    </tr>\n",
       "    <tr>\n",
       "      <th>0.33</th>\n",
       "      <td>24.706878</td>\n",
       "      <td>69.654072</td>\n",
       "      <td>0.985447</td>\n",
       "      <td>0.985403</td>\n",
       "      <td>15.204453</td>\n",
       "      <td>177.818746</td>\n",
       "    </tr>\n",
       "    <tr>\n",
       "      <th>0.40</th>\n",
       "      <td>20.030934</td>\n",
       "      <td>66.889612</td>\n",
       "      <td>0.985255</td>\n",
       "      <td>0.985255</td>\n",
       "      <td>15.725205</td>\n",
       "      <td>210.764368</td>\n",
       "    </tr>\n",
       "    <tr>\n",
       "      <th>0.50</th>\n",
       "      <td>21.379941</td>\n",
       "      <td>66.557265</td>\n",
       "      <td>0.982256</td>\n",
       "      <td>0.982255</td>\n",
       "      <td>19.160180</td>\n",
       "      <td>190.547279</td>\n",
       "    </tr>\n",
       "    <tr>\n",
       "      <th>0.70</th>\n",
       "      <td>50.310863</td>\n",
       "      <td>88.524469</td>\n",
       "      <td>0.954718</td>\n",
       "      <td>0.954648</td>\n",
       "      <td>34.102475</td>\n",
       "      <td>217.080034</td>\n",
       "    </tr>\n",
       "    <tr>\n",
       "      <th>0.90</th>\n",
       "      <td>222.361813</td>\n",
       "      <td>243.503399</td>\n",
       "      <td>0.577508</td>\n",
       "      <td>0.576546</td>\n",
       "      <td>120.193916</td>\n",
       "      <td>681.598877</td>\n",
       "    </tr>\n",
       "    <tr>\n",
       "      <th>0.95</th>\n",
       "      <td>344.790029</td>\n",
       "      <td>412.475449</td>\n",
       "      <td>-0.119665</td>\n",
       "      <td>-0.216957</td>\n",
       "      <td>288.398185</td>\n",
       "      <td>821.887355</td>\n",
       "    </tr>\n",
       "  </tbody>\n",
       "</table>\n",
       "</div>"
      ],
      "text/plain": [
       "            E_in       E_out        EV        R²          ME         MAE\n",
       "0.05   25.117848   18.629070  0.995521  0.995521   15.725205   59.761774\n",
       "0.10   24.392559   53.485834  0.994037  0.994034   16.058056  145.465153\n",
       "0.15   22.758222   58.618282  0.993080  0.993060   14.392344  145.829470\n",
       "0.20   25.560202   77.157603  0.987695  0.987557   14.798331  177.818746\n",
       "0.25   25.570105   80.248737  0.984748  0.984747   15.725205  177.818746\n",
       "0.33   24.706878   69.654072  0.985447  0.985403   15.204453  177.818746\n",
       "0.40   20.030934   66.889612  0.985255  0.985255   15.725205  210.764368\n",
       "0.50   21.379941   66.557265  0.982256  0.982255   19.160180  190.547279\n",
       "0.70   50.310863   88.524469  0.954718  0.954648   34.102475  217.080034\n",
       "0.90  222.361813  243.503399  0.577508  0.576546  120.193916  681.598877\n",
       "0.95  344.790029  412.475449 -0.119665 -0.216957  288.398185  821.887355"
      ]
     },
     "execution_count": 21,
     "metadata": {},
     "output_type": "execute_result"
    }
   ],
   "source": [
    "header = stat\n",
    "table = measurement(DTR_opt,test_size,X,Y)\n",
    "print()\n",
    "print('Decision Tree Regression error for different training size:')\n",
    "pd.DataFrame(table, columns = header,index = test_size)"
   ]
  },
  {
   "cell_type": "markdown",
   "metadata": {},
   "source": [
    "* Decision Tree Regression:\n",
    "We can identify a concistancy in the **[5% ; 50%]** range, however our results are still good even at 70%, this is maybe pointing to a brutal drop of performance as seen with the SVM passed 90%."
   ]
  },
  {
   "cell_type": "code",
   "execution_count": 22,
   "metadata": {},
   "outputs": [
    {
     "name": "stdout",
     "output_type": "stream",
     "text": [
      "\n",
      "Neural network Regression error for different training size:\n"
     ]
    },
    {
     "data": {
      "text/html": [
       "<div>\n",
       "<style scoped>\n",
       "    .dataframe tbody tr th:only-of-type {\n",
       "        vertical-align: middle;\n",
       "    }\n",
       "\n",
       "    .dataframe tbody tr th {\n",
       "        vertical-align: top;\n",
       "    }\n",
       "\n",
       "    .dataframe thead th {\n",
       "        text-align: right;\n",
       "    }\n",
       "</style>\n",
       "<table border=\"1\" class=\"dataframe\">\n",
       "  <thead>\n",
       "    <tr style=\"text-align: right;\">\n",
       "      <th></th>\n",
       "      <th>E_in</th>\n",
       "      <th>E_out</th>\n",
       "      <th>EV</th>\n",
       "      <th>R²</th>\n",
       "      <th>ME</th>\n",
       "      <th>MAE</th>\n",
       "    </tr>\n",
       "  </thead>\n",
       "  <tbody>\n",
       "    <tr>\n",
       "      <th>0.05</th>\n",
       "      <td>42.403629</td>\n",
       "      <td>33.715660</td>\n",
       "      <td>0.987254</td>\n",
       "      <td>0.987182</td>\n",
       "      <td>30.907136</td>\n",
       "      <td>101.592680</td>\n",
       "    </tr>\n",
       "    <tr>\n",
       "      <th>0.10</th>\n",
       "      <td>40.353916</td>\n",
       "      <td>39.315857</td>\n",
       "      <td>0.988244</td>\n",
       "      <td>0.988234</td>\n",
       "      <td>25.630897</td>\n",
       "      <td>95.609318</td>\n",
       "    </tr>\n",
       "    <tr>\n",
       "      <th>0.15</th>\n",
       "      <td>41.626608</td>\n",
       "      <td>37.112845</td>\n",
       "      <td>0.987830</td>\n",
       "      <td>0.987803</td>\n",
       "      <td>30.693180</td>\n",
       "      <td>99.668968</td>\n",
       "    </tr>\n",
       "    <tr>\n",
       "      <th>0.20</th>\n",
       "      <td>41.566431</td>\n",
       "      <td>37.771456</td>\n",
       "      <td>0.988107</td>\n",
       "      <td>0.987890</td>\n",
       "      <td>31.210999</td>\n",
       "      <td>103.744695</td>\n",
       "    </tr>\n",
       "    <tr>\n",
       "      <th>0.25</th>\n",
       "      <td>41.697323</td>\n",
       "      <td>41.424153</td>\n",
       "      <td>0.987419</td>\n",
       "      <td>0.987415</td>\n",
       "      <td>26.506295</td>\n",
       "      <td>112.033942</td>\n",
       "    </tr>\n",
       "    <tr>\n",
       "      <th>0.33</th>\n",
       "      <td>47.815207</td>\n",
       "      <td>57.979174</td>\n",
       "      <td>0.981220</td>\n",
       "      <td>0.980819</td>\n",
       "      <td>33.945089</td>\n",
       "      <td>160.275104</td>\n",
       "    </tr>\n",
       "    <tr>\n",
       "      <th>0.40</th>\n",
       "      <td>38.471678</td>\n",
       "      <td>49.963388</td>\n",
       "      <td>0.986315</td>\n",
       "      <td>0.986299</td>\n",
       "      <td>26.000460</td>\n",
       "      <td>130.509388</td>\n",
       "    </tr>\n",
       "    <tr>\n",
       "      <th>0.50</th>\n",
       "      <td>38.721712</td>\n",
       "      <td>52.144709</td>\n",
       "      <td>0.984693</td>\n",
       "      <td>0.984682</td>\n",
       "      <td>28.583234</td>\n",
       "      <td>117.380093</td>\n",
       "    </tr>\n",
       "    <tr>\n",
       "      <th>0.70</th>\n",
       "      <td>42.771957</td>\n",
       "      <td>56.578352</td>\n",
       "      <td>0.980600</td>\n",
       "      <td>0.979741</td>\n",
       "      <td>34.900521</td>\n",
       "      <td>160.061262</td>\n",
       "    </tr>\n",
       "    <tr>\n",
       "      <th>0.90</th>\n",
       "      <td>47.032025</td>\n",
       "      <td>65.010441</td>\n",
       "      <td>0.974098</td>\n",
       "      <td>0.970770</td>\n",
       "      <td>36.203396</td>\n",
       "      <td>177.317730</td>\n",
       "    </tr>\n",
       "    <tr>\n",
       "      <th>0.95</th>\n",
       "      <td>8.669158</td>\n",
       "      <td>71.650161</td>\n",
       "      <td>0.967989</td>\n",
       "      <td>0.964554</td>\n",
       "      <td>41.165254</td>\n",
       "      <td>180.053195</td>\n",
       "    </tr>\n",
       "  </tbody>\n",
       "</table>\n",
       "</div>"
      ],
      "text/plain": [
       "           E_in      E_out        EV        R²         ME         MAE\n",
       "0.05  42.403629  33.715660  0.987254  0.987182  30.907136  101.592680\n",
       "0.10  40.353916  39.315857  0.988244  0.988234  25.630897   95.609318\n",
       "0.15  41.626608  37.112845  0.987830  0.987803  30.693180   99.668968\n",
       "0.20  41.566431  37.771456  0.988107  0.987890  31.210999  103.744695\n",
       "0.25  41.697323  41.424153  0.987419  0.987415  26.506295  112.033942\n",
       "0.33  47.815207  57.979174  0.981220  0.980819  33.945089  160.275104\n",
       "0.40  38.471678  49.963388  0.986315  0.986299  26.000460  130.509388\n",
       "0.50  38.721712  52.144709  0.984693  0.984682  28.583234  117.380093\n",
       "0.70  42.771957  56.578352  0.980600  0.979741  34.900521  160.061262\n",
       "0.90  47.032025  65.010441  0.974098  0.970770  36.203396  177.317730\n",
       "0.95   8.669158  71.650161  0.967989  0.964554  41.165254  180.053195"
      ]
     },
     "execution_count": 22,
     "metadata": {},
     "output_type": "execute_result"
    }
   ],
   "source": [
    "header = stat\n",
    "with warnings.catch_warnings():\n",
    "    # ignore all caught warnings\n",
    "    warnings.filterwarnings(\"ignore\")\n",
    "    table = measurement(NNR_opt,test_size,X,Y)\n",
    "print()\n",
    "print('Neural network Regression error for different training size:')\n",
    "pd.DataFrame(table, columns = header,index = test_size)"
   ]
  },
  {
   "cell_type": "markdown",
   "metadata": {},
   "source": [
    "* Neural network Regression:\n",
    "Orverall result of the NN are really good, by only picking the best cheries, we can identify a consistancy zone in the rage **[5% ; 25%]** that we can easily extend to the range [5% ; 90%]"
   ]
  },
  {
   "cell_type": "code",
   "execution_count": 23,
   "metadata": {},
   "outputs": [
    {
     "name": "stdout",
     "output_type": "stream",
     "text": [
      "\n",
      "K Nearest neighbors error for different training size:\n"
     ]
    },
    {
     "data": {
      "text/html": [
       "<div>\n",
       "<style scoped>\n",
       "    .dataframe tbody tr th:only-of-type {\n",
       "        vertical-align: middle;\n",
       "    }\n",
       "\n",
       "    .dataframe tbody tr th {\n",
       "        vertical-align: top;\n",
       "    }\n",
       "\n",
       "    .dataframe thead th {\n",
       "        text-align: right;\n",
       "    }\n",
       "</style>\n",
       "<table border=\"1\" class=\"dataframe\">\n",
       "  <thead>\n",
       "    <tr style=\"text-align: right;\">\n",
       "      <th></th>\n",
       "      <th>E_in</th>\n",
       "      <th>E_out</th>\n",
       "      <th>EV</th>\n",
       "      <th>R²</th>\n",
       "      <th>ME</th>\n",
       "      <th>MAE</th>\n",
       "    </tr>\n",
       "  </thead>\n",
       "  <tbody>\n",
       "    <tr>\n",
       "      <th>0.05</th>\n",
       "      <td>0.0</td>\n",
       "      <td>14.598985</td>\n",
       "      <td>0.999923</td>\n",
       "      <td>0.999923</td>\n",
       "      <td>0.000000</td>\n",
       "      <td>21.195898</td>\n",
       "    </tr>\n",
       "    <tr>\n",
       "      <th>0.10</th>\n",
       "      <td>0.0</td>\n",
       "      <td>19.684610</td>\n",
       "      <td>0.999719</td>\n",
       "      <td>0.999719</td>\n",
       "      <td>0.000000</td>\n",
       "      <td>33.609508</td>\n",
       "    </tr>\n",
       "    <tr>\n",
       "      <th>0.15</th>\n",
       "      <td>0.0</td>\n",
       "      <td>38.754000</td>\n",
       "      <td>0.998379</td>\n",
       "      <td>0.998364</td>\n",
       "      <td>0.000000</td>\n",
       "      <td>126.325170</td>\n",
       "    </tr>\n",
       "    <tr>\n",
       "      <th>0.20</th>\n",
       "      <td>0.0</td>\n",
       "      <td>37.883391</td>\n",
       "      <td>0.997956</td>\n",
       "      <td>0.997916</td>\n",
       "      <td>0.000000</td>\n",
       "      <td>126.325170</td>\n",
       "    </tr>\n",
       "    <tr>\n",
       "      <th>0.25</th>\n",
       "      <td>0.0</td>\n",
       "      <td>41.066941</td>\n",
       "      <td>0.996944</td>\n",
       "      <td>0.996938</td>\n",
       "      <td>0.000000</td>\n",
       "      <td>126.325170</td>\n",
       "    </tr>\n",
       "    <tr>\n",
       "      <th>0.33</th>\n",
       "      <td>0.0</td>\n",
       "      <td>42.718032</td>\n",
       "      <td>0.995657</td>\n",
       "      <td>0.995627</td>\n",
       "      <td>0.000000</td>\n",
       "      <td>126.325170</td>\n",
       "    </tr>\n",
       "    <tr>\n",
       "      <th>0.40</th>\n",
       "      <td>0.0</td>\n",
       "      <td>46.353270</td>\n",
       "      <td>0.993759</td>\n",
       "      <td>0.993758</td>\n",
       "      <td>0.000000</td>\n",
       "      <td>136.817951</td>\n",
       "    </tr>\n",
       "    <tr>\n",
       "      <th>0.50</th>\n",
       "      <td>0.0</td>\n",
       "      <td>50.135416</td>\n",
       "      <td>0.990993</td>\n",
       "      <td>0.990873</td>\n",
       "      <td>0.309171</td>\n",
       "      <td>136.817951</td>\n",
       "    </tr>\n",
       "    <tr>\n",
       "      <th>0.70</th>\n",
       "      <td>0.0</td>\n",
       "      <td>61.563667</td>\n",
       "      <td>0.980845</td>\n",
       "      <td>0.980733</td>\n",
       "      <td>17.001698</td>\n",
       "      <td>190.289441</td>\n",
       "    </tr>\n",
       "    <tr>\n",
       "      <th>0.90</th>\n",
       "      <td>0.0</td>\n",
       "      <td>127.005484</td>\n",
       "      <td>0.898174</td>\n",
       "      <td>0.894571</td>\n",
       "      <td>40.542236</td>\n",
       "      <td>404.040170</td>\n",
       "    </tr>\n",
       "    <tr>\n",
       "      <th>0.95</th>\n",
       "      <td>0.0</td>\n",
       "      <td>225.332157</td>\n",
       "      <td>0.677952</td>\n",
       "      <td>0.649699</td>\n",
       "      <td>72.954355</td>\n",
       "      <td>658.527962</td>\n",
       "    </tr>\n",
       "  </tbody>\n",
       "</table>\n",
       "</div>"
      ],
      "text/plain": [
       "      E_in       E_out        EV        R²         ME         MAE\n",
       "0.05   0.0   14.598985  0.999923  0.999923   0.000000   21.195898\n",
       "0.10   0.0   19.684610  0.999719  0.999719   0.000000   33.609508\n",
       "0.15   0.0   38.754000  0.998379  0.998364   0.000000  126.325170\n",
       "0.20   0.0   37.883391  0.997956  0.997916   0.000000  126.325170\n",
       "0.25   0.0   41.066941  0.996944  0.996938   0.000000  126.325170\n",
       "0.33   0.0   42.718032  0.995657  0.995627   0.000000  126.325170\n",
       "0.40   0.0   46.353270  0.993759  0.993758   0.000000  136.817951\n",
       "0.50   0.0   50.135416  0.990993  0.990873   0.309171  136.817951\n",
       "0.70   0.0   61.563667  0.980845  0.980733  17.001698  190.289441\n",
       "0.90   0.0  127.005484  0.898174  0.894571  40.542236  404.040170\n",
       "0.95   0.0  225.332157  0.677952  0.649699  72.954355  658.527962"
      ]
     },
     "execution_count": 23,
     "metadata": {},
     "output_type": "execute_result"
    }
   ],
   "source": [
    "header = stat\n",
    "table = measurement(knn_opt,test_size,X,Y)\n",
    "print()\n",
    "print('K Nearest neighbors error for different training size:')\n",
    "pd.DataFrame(table, columns = header,index = test_size)"
   ]
  },
  {
   "cell_type": "markdown",
   "metadata": {},
   "source": [
    "* k-Nearest Neighbors:\n",
    "Logically, we can notice a constant improvement of the results as the number of point in the training set increase. \n",
    "Once in the range **[5% ; 50%]**, the overall results are pretty good, while not stopping improving in term of **E_out**."
   ]
  },
  {
   "cell_type": "markdown",
   "metadata": {},
   "source": [
    "### Discusion\n"
   ]
  },
  {
   "cell_type": "markdown",
   "metadata": {},
   "source": []
  },
  {
   "cell_type": "markdown",
   "metadata": {},
   "source": [
    "# IV - Application on a real dataset"
   ]
  },
  {
   "cell_type": "code",
   "execution_count": 28,
   "metadata": {},
   "outputs": [
    {
     "name": "stdout",
     "output_type": "stream",
     "text": [
      "The data's dimension are (7375, 7)\n",
      "The features of the data are:  ['date', 'area', 'average_price', 'code', 'houses_sold', 'no_of_crimes', 'borough_flag']\n"
     ]
    }
   ],
   "source": [
    "data = pd.read_csv('datasets_619175_1118179_housing_in_london_monthly_variables.csv')\n",
    "\n",
    "data = data.dropna()\n",
    "\n",
    "print(\"The data's dimension are\", data.shape)\n",
    "print('The features of the data are: ', list(data.columns))"
   ]
  },
  {
   "cell_type": "markdown",
   "metadata": {},
   "source": [
    "Let's explore our data"
   ]
  },
  {
   "cell_type": "code",
   "execution_count": 29,
   "metadata": {},
   "outputs": [
    {
     "name": "stdout",
     "output_type": "stream",
     "text": [
      "The correlation matrix shows the average price in function of all variables:\n",
      "houses_sold     -0.305322\n",
      "no_of_crimes     0.109721\n",
      "average_price    1.000000\n",
      "borough_flag          NaN\n",
      "Name: average_price, dtype: float64\n"
     ]
    },
    {
     "data": {
      "image/png": "[encoded data removed]",
      "text/plain": [
       "<Figure size 504x504 with 16 Axes>"
      ]
     },
     "metadata": {
      "needs_background": "light"
     },
     "output_type": "display_data"
    }
   ],
   "source": [
    "from pandas.plotting import scatter_matrix\n",
    "\n",
    "with warnings.catch_warnings():\n",
    "    # ignore all caught warnings\n",
    "    warnings.filterwarnings(\"ignore\")\n",
    "    corr_matrix = data.corr()\n",
    "    print('The correlation matrix shows the average price in function of all variables:')\n",
    "    print(corr_matrix['average_price'].sort_values())\n",
    "\n",
    "    scatter_matrix(data[list(data.columns)], figsize=[len(list(data.columns)),len(list(data.columns))])\n",
    "    plt.show()"
   ]
  },
  {
   "cell_type": "markdown",
   "metadata": {},
   "source": [
    "Let's build our regression model"
   ]
  },
  {
   "cell_type": "code",
   "execution_count": 41,
   "metadata": {},
   "outputs": [],
   "source": [
    "Yd = data['average_price']\n",
    "Xd = data['houses_sold']\n",
    "\n",
    "Yd = np.array(Yd)\n",
    "Xd = np.array(Xd)\n",
    "Xd.resize((len(Xd),1))\n",
    "\n",
    "with warnings.catch_warnings():\n",
    "    # ignore all caught warnings\n",
    "    warnings.filterwarnings(\"ignore\")\n",
    "    \n",
    "    #Split set\n",
    "    xd_train, xd_test, yd_train, yd_test = train_test_split(Xd, Yd, test_size = 0.25, random_state = 25)\n",
    "    \n",
    "    #linr\n",
    "    linrd = LinearRegression()\n",
    "    linrd.fit(xd_train, yd_train)\n",
    "    \n",
    "    #SVMR\n",
    "    param_grid = {'C': [ 0.001, 0.01, 0.1, 1, 10, 100, 1000], 'kernel':[ 'rbf', 'linear', 'sigmoid']}\n",
    "    svm_roptd = GridSearchCV(SVR(), param_grid, cv=5, verbose=0, n_jobs=-1)\n",
    "    svm_roptd.fit(xd_train, yd_train)\n",
    "    svm_roptd_param = SVR(C = svm_roptd.best_params_['C'],kernel = svm_roptd.best_params_['kernel'], gamma='scale')\n",
    "    \n",
    "    #DTR\n",
    "    param_grid = {\"criterion\": [\"mse\", \"mae\"],\"max_depth\": [2, 3, 4, 8, 10, 20],\"min_samples_split\": [2, 3, 5, 8, 10, 20, 40],\"min_samples_leaf\": [2, 5, 10, 15, 20, 40, 100],\"max_leaf_nodes\": [2, 5, 10,15, 20,40, 100]}\n",
    "    DTR_optd = GridSearchCV(DecisionTreeRegressor(), param_grid, cv=5, verbose=0, n_jobs=-1)\n",
    "    DTR_optd.fit(xd_train, yd_train)\n",
    "    DTR_optd_param = DecisionTreeRegressor(criterion = DTR_optd.best_params_['criterion'],max_depth = DTR_optd.best_params_['max_depth'],min_samples_split = DTR_optd.best_params_['min_samples_split'],min_samples_leaf = DTR_optd.best_params_['min_samples_leaf'],max_leaf_nodes = DTR_optd.best_params_['max_leaf_nodes'])\n",
    "    \n",
    "    #NNR\n",
    "    param_grid = {\"hidden_layer_sizes\": [(i,i) for i in range(1,25)], \"alpha\": [0.00005,0.0001,0.0005],\"activation\" : ['logistic', 'tanh', 'relu']}\n",
    "    NNR_optd = GridSearchCV(MLPRegressor(solver = \"lbfgs\"), param_grid, cv=5, verbose=0, n_jobs=-1)\n",
    "    NNR_optd.fit(xd_train, yd_train)\n",
    "    NNR_optd_param = MLPRegressor(hidden_layer_sizes = NNR_optd.best_params_['hidden_layer_sizes'],alpha = NNR_optd.best_params_['alpha'],activation = NNR_optd.best_params_['activation'], solver = \"lbfgs\")\n",
    "    \n",
    "    #Knn\n",
    "    param_grid = {\"n_neighbors\": [2,3,4,5,6,7,8,9],\"leaf_size\": [2,5,10,20,30,50,100], \"weights\": [\"uniform\", \"distance\"], \"metric\": [\"euclidean\", \"manhattan\"]}\n",
    "    knn_optd = GridSearchCV(neighbors.KNeighborsRegressor(), param_grid, cv=5, verbose=0, n_jobs=-1)\n",
    "    knn_optd.fit(xd_train, yd_train)\n",
    "    knn_optd_param = neighbors.KNeighborsRegressor(n_neighbors = knn_optd.best_params_['n_neighbors'],leaf_size = knn_optd.best_params_['leaf_size'],weights = knn_optd.best_params_['weights'],metric = knn_optd.best_params_['metric'])\n",
    "    \n",
    "    summary_r2 = [linrd.score(xd_test, yd_test),svm_roptd.score(xd_test, yd_test),DTR_optd.score(xd_test, yd_test),NNR_optd,knn_optd.score(xd_test, yd_test)]"
   ]
  },
  {
   "cell_type": "code",
   "execution_count": 42,
   "metadata": {},
   "outputs": [
    {
     "name": "stdout",
     "output_type": "stream",
     "text": [
      "GridSearchCV(cv=5, error_score='raise-deprecating',\n",
      "             estimator=MLPRegressor(activation='relu', alpha=0.0001,\n",
      "                                    batch_size='auto', beta_1=0.9, beta_2=0.999,\n",
      "                                    early_stopping=False, epsilon=1e-08,\n",
      "                                    hidden_layer_sizes=(100,),\n",
      "                                    learning_rate='constant',\n",
      "                                    learning_rate_init=0.001, max_iter=200,\n",
      "                                    momentum=0.9, n_iter_no_change=10,\n",
      "                                    nesterovs_momentum=True, power_t=0.5,\n",
      "                                    random_stat...\n",
      "             param_grid={'activation': ['logistic', 'tanh', 'relu'],\n",
      "                         'alpha': [5e-05, 0.0001, 0.0005],\n",
      "                         'hidden_layer_sizes': [(1, 1), (2, 2), (3, 3), (4, 4),\n",
      "                                                (5, 5), (6, 6), (7, 7), (8, 8),\n",
      "                                                (9, 9), (10, 10), (11, 11),\n",
      "                                                (12, 12), (13, 13), (14, 14),\n",
      "                                                (15, 15), (16, 16), (17, 17),\n",
      "                                                (18, 18), (19, 19), (20, 20),\n",
      "                                                (21, 21), (22, 22), (23, 23),\n",
      "                                                (24, 24)]},\n",
      "             pre_dispatch='2*n_jobs', refit=True, return_train_score=False,\n",
      "             scoring=None, verbose=0)\n"
     ]
    }
   ],
   "source": [
    "print(summary_r2[3])"
   ]
  },
  {
   "cell_type": "code",
   "execution_count": 43,
   "metadata": {},
   "outputs": [
    {
     "data": {
      "text/plain": [
       "'\\ndef measurement(model,test_size,X,Y):\\n    # Measure the training efficiency for a particular training size\\n    measure = []\\n    for i in range(len(test_size)):\\n        x_train, x_test, y_train, y_test = train_test_split(X, Y, test_size = test_size[i], random_state = 25)\\n        model.fit(x_train, y_train)\\n        E_in = np.sqrt(mean_squared_error(y_train, model.predict(x_train)))\\n        E_out = np.sqrt(mean_squared_error(y_test, model.predict(x_test)))\\n        EV = explained_variance_score(Y, model.predict(X))\\n        R2 = model.score(X,Y)\\n        ME = median_absolute_error(Y, model.predict(X))\\n        MAE = max_error(Y, model.predict(X))\\n        measure.append([E_in,E_out,EV,R2,ME,MAE])\\n    return measure\\n'"
      ]
     },
     "execution_count": 43,
     "metadata": {},
     "output_type": "execute_result"
    }
   ],
   "source": [
    "\"\"\"\n",
    "def measurement(model,test_size,X,Y):\n",
    "    # Measure the training efficiency for a particular training size\n",
    "    measure = []\n",
    "    for i in range(len(test_size)):\n",
    "        x_train, x_test, y_train, y_test = train_test_split(X, Y, test_size = test_size[i], random_state = 25)\n",
    "        model.fit(x_train, y_train)\n",
    "        E_in = np.sqrt(mean_squared_error(y_train, model.predict(x_train)))\n",
    "        E_out = np.sqrt(mean_squared_error(y_test, model.predict(x_test)))\n",
    "        EV = explained_variance_score(Y, model.predict(X))\n",
    "        R2 = model.score(X,Y)\n",
    "        ME = median_absolute_error(Y, model.predict(X))\n",
    "        MAE = max_error(Y, model.predict(X))\n",
    "        measure.append([E_in,E_out,EV,R2,ME,MAE])\n",
    "    return measure\n",
    "\"\"\""
   ]
  },
  {
   "cell_type": "code",
   "execution_count": 44,
   "metadata": {},
   "outputs": [
    {
     "name": "stdout",
     "output_type": "stream",
     "text": [
      "\n",
      "Linear regression error for different training size:\n"
     ]
    },
    {
     "data": {
      "text/html": [
       "<div>\n",
       "<style scoped>\n",
       "    .dataframe tbody tr th:only-of-type {\n",
       "        vertical-align: middle;\n",
       "    }\n",
       "\n",
       "    .dataframe tbody tr th {\n",
       "        vertical-align: top;\n",
       "    }\n",
       "\n",
       "    .dataframe thead th {\n",
       "        text-align: right;\n",
       "    }\n",
       "</style>\n",
       "<table border=\"1\" class=\"dataframe\">\n",
       "  <thead>\n",
       "    <tr style=\"text-align: right;\">\n",
       "      <th></th>\n",
       "      <th>E_in</th>\n",
       "      <th>E_out</th>\n",
       "      <th>EV</th>\n",
       "      <th>R²</th>\n",
       "      <th>ME</th>\n",
       "      <th>MAE</th>\n",
       "    </tr>\n",
       "  </thead>\n",
       "  <tbody>\n",
       "    <tr>\n",
       "      <th>0.05</th>\n",
       "      <td>178692.598747</td>\n",
       "      <td>189928.596632</td>\n",
       "      <td>0.093221</td>\n",
       "      <td>0.093205</td>\n",
       "      <td>101209.515021</td>\n",
       "      <td>1.045976e+06</td>\n",
       "    </tr>\n",
       "    <tr>\n",
       "      <th>0.10</th>\n",
       "      <td>178871.905628</td>\n",
       "      <td>182829.820182</td>\n",
       "      <td>0.093218</td>\n",
       "      <td>0.093201</td>\n",
       "      <td>101265.393348</td>\n",
       "      <td>1.045701e+06</td>\n",
       "    </tr>\n",
       "    <tr>\n",
       "      <th>0.15</th>\n",
       "      <td>179800.114133</td>\n",
       "      <td>176237.789868</td>\n",
       "      <td>0.093222</td>\n",
       "      <td>0.093221</td>\n",
       "      <td>101616.560220</td>\n",
       "      <td>1.045434e+06</td>\n",
       "    </tr>\n",
       "    <tr>\n",
       "      <th>0.20</th>\n",
       "      <td>179315.888998</td>\n",
       "      <td>179101.135440</td>\n",
       "      <td>0.093193</td>\n",
       "      <td>0.093191</td>\n",
       "      <td>101381.845748</td>\n",
       "      <td>1.044356e+06</td>\n",
       "    </tr>\n",
       "    <tr>\n",
       "      <th>0.25</th>\n",
       "      <td>179202.605588</td>\n",
       "      <td>179477.203429</td>\n",
       "      <td>0.093214</td>\n",
       "      <td>0.093207</td>\n",
       "      <td>101956.770200</td>\n",
       "      <td>1.044220e+06</td>\n",
       "    </tr>\n",
       "    <tr>\n",
       "      <th>0.33</th>\n",
       "      <td>179527.387884</td>\n",
       "      <td>178750.274523</td>\n",
       "      <td>0.093208</td>\n",
       "      <td>0.093208</td>\n",
       "      <td>101665.850744</td>\n",
       "      <td>1.044367e+06</td>\n",
       "    </tr>\n",
       "    <tr>\n",
       "      <th>0.40</th>\n",
       "      <td>180756.311549</td>\n",
       "      <td>177026.056452</td>\n",
       "      <td>0.093211</td>\n",
       "      <td>0.093185</td>\n",
       "      <td>102027.661671</td>\n",
       "      <td>1.045197e+06</td>\n",
       "    </tr>\n",
       "    <tr>\n",
       "      <th>0.50</th>\n",
       "      <td>182039.160768</td>\n",
       "      <td>176493.773984</td>\n",
       "      <td>0.093221</td>\n",
       "      <td>0.093043</td>\n",
       "      <td>102854.297342</td>\n",
       "      <td>1.043026e+06</td>\n",
       "    </tr>\n",
       "    <tr>\n",
       "      <th>0.70</th>\n",
       "      <td>178974.034957</td>\n",
       "      <td>179429.940842</td>\n",
       "      <td>0.093032</td>\n",
       "      <td>0.092985</td>\n",
       "      <td>102326.404706</td>\n",
       "      <td>1.047447e+06</td>\n",
       "    </tr>\n",
       "    <tr>\n",
       "      <th>0.90</th>\n",
       "      <td>184522.205629</td>\n",
       "      <td>178698.500842</td>\n",
       "      <td>0.093080</td>\n",
       "      <td>0.093029</td>\n",
       "      <td>100960.217124</td>\n",
       "      <td>1.049636e+06</td>\n",
       "    </tr>\n",
       "    <tr>\n",
       "      <th>0.95</th>\n",
       "      <td>196417.547786</td>\n",
       "      <td>178574.308732</td>\n",
       "      <td>0.092777</td>\n",
       "      <td>0.090824</td>\n",
       "      <td>105353.218952</td>\n",
       "      <td>1.042216e+06</td>\n",
       "    </tr>\n",
       "  </tbody>\n",
       "</table>\n",
       "</div>"
      ],
      "text/plain": [
       "               E_in          E_out        EV        R²             ME  \\\n",
       "0.05  178692.598747  189928.596632  0.093221  0.093205  101209.515021   \n",
       "0.10  178871.905628  182829.820182  0.093218  0.093201  101265.393348   \n",
       "0.15  179800.114133  176237.789868  0.093222  0.093221  101616.560220   \n",
       "0.20  179315.888998  179101.135440  0.093193  0.093191  101381.845748   \n",
       "0.25  179202.605588  179477.203429  0.093214  0.093207  101956.770200   \n",
       "0.33  179527.387884  178750.274523  0.093208  0.093208  101665.850744   \n",
       "0.40  180756.311549  177026.056452  0.093211  0.093185  102027.661671   \n",
       "0.50  182039.160768  176493.773984  0.093221  0.093043  102854.297342   \n",
       "0.70  178974.034957  179429.940842  0.093032  0.092985  102326.404706   \n",
       "0.90  184522.205629  178698.500842  0.093080  0.093029  100960.217124   \n",
       "0.95  196417.547786  178574.308732  0.092777  0.090824  105353.218952   \n",
       "\n",
       "               MAE  \n",
       "0.05  1.045976e+06  \n",
       "0.10  1.045701e+06  \n",
       "0.15  1.045434e+06  \n",
       "0.20  1.044356e+06  \n",
       "0.25  1.044220e+06  \n",
       "0.33  1.044367e+06  \n",
       "0.40  1.045197e+06  \n",
       "0.50  1.043026e+06  \n",
       "0.70  1.047447e+06  \n",
       "0.90  1.049636e+06  \n",
       "0.95  1.042216e+06  "
      ]
     },
     "execution_count": 44,
     "metadata": {},
     "output_type": "execute_result"
    }
   ],
   "source": [
    "header = stat\n",
    "table = measurement(linrd,test_size,Xd,Yd)\n",
    "print()\n",
    "print('Linear regression error for different training size:')\n",
    "pd.DataFrame(table, columns = header,index = test_size)"
   ]
  },
  {
   "cell_type": "code",
   "execution_count": 45,
   "metadata": {},
   "outputs": [
    {
     "name": "stderr",
     "output_type": "stream",
     "text": [
      "C:\\ProgramData\\Anaconda3\\lib\\site-packages\\sklearn\\model_selection\\_search.py:813: DeprecationWarning: The default of the `iid` parameter will change from True to False in version 0.22 and will be removed in 0.24. This will change numeric results when test-set sizes are unequal.\n",
      "  DeprecationWarning)\n"
     ]
    },
    {
     "name": "stdout",
     "output_type": "stream",
     "text": [
      "The model parameters: SVR(C=1000, cache_size=200, coef0=0.0, degree=3, epsilon=0.1, gamma='scale',\n",
      "    kernel='linear', max_iter=-1, shrinking=True, tol=0.001, verbose=False)\n",
      "\n",
      "Support Vector Machine (Regression) error for different training size:\n"
     ]
    },
    {
     "data": {
      "text/html": [
       "<div>\n",
       "<style scoped>\n",
       "    .dataframe tbody tr th:only-of-type {\n",
       "        vertical-align: middle;\n",
       "    }\n",
       "\n",
       "    .dataframe tbody tr th {\n",
       "        vertical-align: top;\n",
       "    }\n",
       "\n",
       "    .dataframe thead th {\n",
       "        text-align: right;\n",
       "    }\n",
       "</style>\n",
       "<table border=\"1\" class=\"dataframe\">\n",
       "  <thead>\n",
       "    <tr style=\"text-align: right;\">\n",
       "      <th></th>\n",
       "      <th>E_in</th>\n",
       "      <th>E_out</th>\n",
       "      <th>EV</th>\n",
       "      <th>R²</th>\n",
       "      <th>ME</th>\n",
       "      <th>MAE</th>\n",
       "    </tr>\n",
       "  </thead>\n",
       "  <tbody>\n",
       "    <tr>\n",
       "      <th>0.05</th>\n",
       "      <td>186807.478310</td>\n",
       "      <td>201404.185466</td>\n",
       "      <td>0.079897</td>\n",
       "      <td>0.007366</td>\n",
       "      <td>82869.935294</td>\n",
       "      <td>1.120175e+06</td>\n",
       "    </tr>\n",
       "    <tr>\n",
       "      <th>0.10</th>\n",
       "      <td>187204.335895</td>\n",
       "      <td>193416.898964</td>\n",
       "      <td>0.079113</td>\n",
       "      <td>0.004501</td>\n",
       "      <td>82489.454430</td>\n",
       "      <td>1.121697e+06</td>\n",
       "    </tr>\n",
       "    <tr>\n",
       "      <th>0.15</th>\n",
       "      <td>188230.471054</td>\n",
       "      <td>185016.935035</td>\n",
       "      <td>0.079752</td>\n",
       "      <td>0.005388</td>\n",
       "      <td>82718.505466</td>\n",
       "      <td>1.120961e+06</td>\n",
       "    </tr>\n",
       "    <tr>\n",
       "      <th>0.20</th>\n",
       "      <td>187593.332089</td>\n",
       "      <td>188396.263781</td>\n",
       "      <td>0.079747</td>\n",
       "      <td>0.005360</td>\n",
       "      <td>82722.691444</td>\n",
       "      <td>1.120974e+06</td>\n",
       "    </tr>\n",
       "    <tr>\n",
       "      <th>0.25</th>\n",
       "      <td>187333.585597</td>\n",
       "      <td>187451.648245</td>\n",
       "      <td>0.080712</td>\n",
       "      <td>0.009500</td>\n",
       "      <td>82909.604097</td>\n",
       "      <td>1.118855e+06</td>\n",
       "    </tr>\n",
       "    <tr>\n",
       "      <th>0.33</th>\n",
       "      <td>187787.181158</td>\n",
       "      <td>187353.716971</td>\n",
       "      <td>0.079455</td>\n",
       "      <td>0.006525</td>\n",
       "      <td>82882.895215</td>\n",
       "      <td>1.120768e+06</td>\n",
       "    </tr>\n",
       "    <tr>\n",
       "      <th>0.40</th>\n",
       "      <td>188639.571853</td>\n",
       "      <td>184353.018892</td>\n",
       "      <td>0.082854</td>\n",
       "      <td>0.014003</td>\n",
       "      <td>83238.180840</td>\n",
       "      <td>1.115622e+06</td>\n",
       "    </tr>\n",
       "    <tr>\n",
       "      <th>0.50</th>\n",
       "      <td>190077.508303</td>\n",
       "      <td>183481.634994</td>\n",
       "      <td>0.082786</td>\n",
       "      <td>0.015358</td>\n",
       "      <td>83317.847368</td>\n",
       "      <td>1.115187e+06</td>\n",
       "    </tr>\n",
       "    <tr>\n",
       "      <th>0.70</th>\n",
       "      <td>186338.165412</td>\n",
       "      <td>186020.625096</td>\n",
       "      <td>0.085512</td>\n",
       "      <td>0.022642</td>\n",
       "      <td>83877.778261</td>\n",
       "      <td>1.110079e+06</td>\n",
       "    </tr>\n",
       "    <tr>\n",
       "      <th>0.90</th>\n",
       "      <td>194082.416300</td>\n",
       "      <td>188469.154838</td>\n",
       "      <td>0.079268</td>\n",
       "      <td>-0.008284</td>\n",
       "      <td>81233.560000</td>\n",
       "      <td>1.125822e+06</td>\n",
       "    </tr>\n",
       "    <tr>\n",
       "      <th>0.95</th>\n",
       "      <td>206421.906735</td>\n",
       "      <td>186055.118621</td>\n",
       "      <td>0.086566</td>\n",
       "      <td>0.012027</td>\n",
       "      <td>83072.141253</td>\n",
       "      <td>1.112787e+06</td>\n",
       "    </tr>\n",
       "  </tbody>\n",
       "</table>\n",
       "</div>"
      ],
      "text/plain": [
       "               E_in          E_out        EV        R²            ME  \\\n",
       "0.05  186807.478310  201404.185466  0.079897  0.007366  82869.935294   \n",
       "0.10  187204.335895  193416.898964  0.079113  0.004501  82489.454430   \n",
       "0.15  188230.471054  185016.935035  0.079752  0.005388  82718.505466   \n",
       "0.20  187593.332089  188396.263781  0.079747  0.005360  82722.691444   \n",
       "0.25  187333.585597  187451.648245  0.080712  0.009500  82909.604097   \n",
       "0.33  187787.181158  187353.716971  0.079455  0.006525  82882.895215   \n",
       "0.40  188639.571853  184353.018892  0.082854  0.014003  83238.180840   \n",
       "0.50  190077.508303  183481.634994  0.082786  0.015358  83317.847368   \n",
       "0.70  186338.165412  186020.625096  0.085512  0.022642  83877.778261   \n",
       "0.90  194082.416300  188469.154838  0.079268 -0.008284  81233.560000   \n",
       "0.95  206421.906735  186055.118621  0.086566  0.012027  83072.141253   \n",
       "\n",
       "               MAE  \n",
       "0.05  1.120175e+06  \n",
       "0.10  1.121697e+06  \n",
       "0.15  1.120961e+06  \n",
       "0.20  1.120974e+06  \n",
       "0.25  1.118855e+06  \n",
       "0.33  1.120768e+06  \n",
       "0.40  1.115622e+06  \n",
       "0.50  1.115187e+06  \n",
       "0.70  1.110079e+06  \n",
       "0.90  1.125822e+06  \n",
       "0.95  1.112787e+06  "
      ]
     },
     "execution_count": 45,
     "metadata": {},
     "output_type": "execute_result"
    }
   ],
   "source": [
    "header = stat\n",
    "table = measurement(svm_roptd,test_size,Xd,Yd)\n",
    "print(\"The model parameters:\",svm_roptd_param)\n",
    "print()\n",
    "print('Support Vector Machine (Regression) error for different training size:')\n",
    "pd.DataFrame(table, columns = header,index = test_size)"
   ]
  },
  {
   "cell_type": "code",
   "execution_count": 46,
   "metadata": {},
   "outputs": [
    {
     "name": "stderr",
     "output_type": "stream",
     "text": [
      "C:\\ProgramData\\Anaconda3\\lib\\site-packages\\sklearn\\model_selection\\_search.py:813: DeprecationWarning: The default of the `iid` parameter will change from True to False in version 0.22 and will be removed in 0.24. This will change numeric results when test-set sizes are unequal.\n",
      "  DeprecationWarning)\n"
     ]
    },
    {
     "name": "stdout",
     "output_type": "stream",
     "text": [
      "The model parameters: DecisionTreeRegressor(criterion='mse', max_depth=3, max_features=None,\n",
      "                      max_leaf_nodes=10, min_impurity_decrease=0.0,\n",
      "                      min_impurity_split=None, min_samples_leaf=15,\n",
      "                      min_samples_split=2, min_weight_fraction_leaf=0.0,\n",
      "                      presort=False, random_state=None, splitter='best')\n",
      "\n",
      "Decision Tree Regression error for different training size:\n"
     ]
    },
    {
     "name": "stderr",
     "output_type": "stream",
     "text": [
      "C:\\ProgramData\\Anaconda3\\lib\\site-packages\\sklearn\\model_selection\\_search.py:813: DeprecationWarning: The default of the `iid` parameter will change from True to False in version 0.22 and will be removed in 0.24. This will change numeric results when test-set sizes are unequal.\n",
      "  DeprecationWarning)\n"
     ]
    },
    {
     "data": {
      "text/html": [
       "<div>\n",
       "<style scoped>\n",
       "    .dataframe tbody tr th:only-of-type {\n",
       "        vertical-align: middle;\n",
       "    }\n",
       "\n",
       "    .dataframe tbody tr th {\n",
       "        vertical-align: top;\n",
       "    }\n",
       "\n",
       "    .dataframe thead th {\n",
       "        text-align: right;\n",
       "    }\n",
       "</style>\n",
       "<table border=\"1\" class=\"dataframe\">\n",
       "  <thead>\n",
       "    <tr style=\"text-align: right;\">\n",
       "      <th></th>\n",
       "      <th>E_in</th>\n",
       "      <th>E_out</th>\n",
       "      <th>EV</th>\n",
       "      <th>R²</th>\n",
       "      <th>ME</th>\n",
       "      <th>MAE</th>\n",
       "    </tr>\n",
       "  </thead>\n",
       "  <tbody>\n",
       "    <tr>\n",
       "      <th>0.05</th>\n",
       "      <td>175508.966113</td>\n",
       "      <td>187676.698319</td>\n",
       "      <td>0.124643</td>\n",
       "      <td>0.124631</td>\n",
       "      <td>93827.555008</td>\n",
       "      <td>1.057080e+06</td>\n",
       "    </tr>\n",
       "    <tr>\n",
       "      <th>0.10</th>\n",
       "      <td>175866.212390</td>\n",
       "      <td>179743.493069</td>\n",
       "      <td>0.123446</td>\n",
       "      <td>0.123435</td>\n",
       "      <td>93924.365231</td>\n",
       "      <td>1.061432e+06</td>\n",
       "    </tr>\n",
       "    <tr>\n",
       "      <th>0.15</th>\n",
       "      <td>176502.366184</td>\n",
       "      <td>174028.663297</td>\n",
       "      <td>0.124675</td>\n",
       "      <td>0.124675</td>\n",
       "      <td>94797.602837</td>\n",
       "      <td>1.061072e+06</td>\n",
       "    </tr>\n",
       "    <tr>\n",
       "      <th>0.20</th>\n",
       "      <td>176196.620729</td>\n",
       "      <td>176585.813230</td>\n",
       "      <td>0.123274</td>\n",
       "      <td>0.123271</td>\n",
       "      <td>94568.492347</td>\n",
       "      <td>1.061099e+06</td>\n",
       "    </tr>\n",
       "    <tr>\n",
       "      <th>0.25</th>\n",
       "      <td>175977.595476</td>\n",
       "      <td>177220.139836</td>\n",
       "      <td>0.123127</td>\n",
       "      <td>0.123126</td>\n",
       "      <td>94814.498305</td>\n",
       "      <td>1.061060e+06</td>\n",
       "    </tr>\n",
       "    <tr>\n",
       "      <th>0.33</th>\n",
       "      <td>176177.145455</td>\n",
       "      <td>176631.430305</td>\n",
       "      <td>0.122747</td>\n",
       "      <td>0.122747</td>\n",
       "      <td>94202.477581</td>\n",
       "      <td>1.040658e+06</td>\n",
       "    </tr>\n",
       "    <tr>\n",
       "      <th>0.40</th>\n",
       "      <td>177358.270290</td>\n",
       "      <td>174715.888840</td>\n",
       "      <td>0.122976</td>\n",
       "      <td>0.122957</td>\n",
       "      <td>94555.132824</td>\n",
       "      <td>1.060676e+06</td>\n",
       "    </tr>\n",
       "    <tr>\n",
       "      <th>0.50</th>\n",
       "      <td>178338.466318</td>\n",
       "      <td>174636.249395</td>\n",
       "      <td>0.121203</td>\n",
       "      <td>0.121058</td>\n",
       "      <td>94330.441426</td>\n",
       "      <td>1.060616e+06</td>\n",
       "    </tr>\n",
       "    <tr>\n",
       "      <th>0.70</th>\n",
       "      <td>174893.046694</td>\n",
       "      <td>177337.000086</td>\n",
       "      <td>0.120053</td>\n",
       "      <td>0.119955</td>\n",
       "      <td>93804.905707</td>\n",
       "      <td>1.062297e+06</td>\n",
       "    </tr>\n",
       "    <tr>\n",
       "      <th>0.90</th>\n",
       "      <td>179656.521869</td>\n",
       "      <td>177878.191297</td>\n",
       "      <td>0.105570</td>\n",
       "      <td>0.105453</td>\n",
       "      <td>92407.462733</td>\n",
       "      <td>1.071095e+06</td>\n",
       "    </tr>\n",
       "    <tr>\n",
       "      <th>0.95</th>\n",
       "      <td>189667.915198</td>\n",
       "      <td>179726.843781</td>\n",
       "      <td>0.083516</td>\n",
       "      <td>0.083423</td>\n",
       "      <td>97030.327273</td>\n",
       "      <td>1.073570e+06</td>\n",
       "    </tr>\n",
       "  </tbody>\n",
       "</table>\n",
       "</div>"
      ],
      "text/plain": [
       "               E_in          E_out        EV        R²            ME  \\\n",
       "0.05  175508.966113  187676.698319  0.124643  0.124631  93827.555008   \n",
       "0.10  175866.212390  179743.493069  0.123446  0.123435  93924.365231   \n",
       "0.15  176502.366184  174028.663297  0.124675  0.124675  94797.602837   \n",
       "0.20  176196.620729  176585.813230  0.123274  0.123271  94568.492347   \n",
       "0.25  175977.595476  177220.139836  0.123127  0.123126  94814.498305   \n",
       "0.33  176177.145455  176631.430305  0.122747  0.122747  94202.477581   \n",
       "0.40  177358.270290  174715.888840  0.122976  0.122957  94555.132824   \n",
       "0.50  178338.466318  174636.249395  0.121203  0.121058  94330.441426   \n",
       "0.70  174893.046694  177337.000086  0.120053  0.119955  93804.905707   \n",
       "0.90  179656.521869  177878.191297  0.105570  0.105453  92407.462733   \n",
       "0.95  189667.915198  179726.843781  0.083516  0.083423  97030.327273   \n",
       "\n",
       "               MAE  \n",
       "0.05  1.057080e+06  \n",
       "0.10  1.061432e+06  \n",
       "0.15  1.061072e+06  \n",
       "0.20  1.061099e+06  \n",
       "0.25  1.061060e+06  \n",
       "0.33  1.040658e+06  \n",
       "0.40  1.060676e+06  \n",
       "0.50  1.060616e+06  \n",
       "0.70  1.062297e+06  \n",
       "0.90  1.071095e+06  \n",
       "0.95  1.073570e+06  "
      ]
     },
     "execution_count": 46,
     "metadata": {},
     "output_type": "execute_result"
    }
   ],
   "source": [
    "header = stat\n",
    "table = measurement(DTR_optd,test_size,Xd,Yd)\n",
    "print(\"The model parameters:\",DTR_optd_param)\n",
    "print()\n",
    "print('Decision Tree Regression error for different training size:')\n",
    "pd.DataFrame(table, columns = header,index = test_size)"
   ]
  },
  {
   "cell_type": "code",
   "execution_count": 49,
   "metadata": {},
   "outputs": [
    {
     "name": "stdout",
     "output_type": "stream",
     "text": [
      "The model parameters: MLPRegressor(activation='relu', alpha=0.0005, batch_size='auto', beta_1=0.9,\n",
      "             beta_2=0.999, early_stopping=False, epsilon=1e-08,\n",
      "             hidden_layer_sizes=(19, 19), learning_rate='constant',\n",
      "             learning_rate_init=0.001, max_iter=200, momentum=0.9,\n",
      "             n_iter_no_change=10, nesterovs_momentum=True, power_t=0.5,\n",
      "             random_state=None, shuffle=True, solver='lbfgs', tol=0.0001,\n",
      "             validation_fraction=0.1, verbose=False, warm_start=False)\n",
      "\n",
      "Neural network Regression error for different training size:\n"
     ]
    },
    {
     "data": {
      "text/html": [
       "<div>\n",
       "<style scoped>\n",
       "    .dataframe tbody tr th:only-of-type {\n",
       "        vertical-align: middle;\n",
       "    }\n",
       "\n",
       "    .dataframe tbody tr th {\n",
       "        vertical-align: top;\n",
       "    }\n",
       "\n",
       "    .dataframe thead th {\n",
       "        text-align: right;\n",
       "    }\n",
       "</style>\n",
       "<table border=\"1\" class=\"dataframe\">\n",
       "  <thead>\n",
       "    <tr style=\"text-align: right;\">\n",
       "      <th></th>\n",
       "      <th>E_in</th>\n",
       "      <th>E_out</th>\n",
       "      <th>EV</th>\n",
       "      <th>R²</th>\n",
       "      <th>ME</th>\n",
       "      <th>MAE</th>\n",
       "    </tr>\n",
       "  </thead>\n",
       "  <tbody>\n",
       "    <tr>\n",
       "      <th>0.05</th>\n",
       "      <td>178692.598747</td>\n",
       "      <td>189928.596002</td>\n",
       "      <td>0.093221</td>\n",
       "      <td>0.093205</td>\n",
       "      <td>101209.507364</td>\n",
       "      <td>1.045976e+06</td>\n",
       "    </tr>\n",
       "    <tr>\n",
       "      <th>0.10</th>\n",
       "      <td>178213.133327</td>\n",
       "      <td>181930.537890</td>\n",
       "      <td>0.100161</td>\n",
       "      <td>0.100101</td>\n",
       "      <td>100660.995559</td>\n",
       "      <td>1.050635e+06</td>\n",
       "    </tr>\n",
       "    <tr>\n",
       "      <th>0.15</th>\n",
       "      <td>178876.774998</td>\n",
       "      <td>175490.343132</td>\n",
       "      <td>0.102277</td>\n",
       "      <td>0.102277</td>\n",
       "      <td>98183.577512</td>\n",
       "      <td>1.061772e+06</td>\n",
       "    </tr>\n",
       "    <tr>\n",
       "      <th>0.20</th>\n",
       "      <td>178491.664770</td>\n",
       "      <td>178293.181090</td>\n",
       "      <td>0.101480</td>\n",
       "      <td>0.101477</td>\n",
       "      <td>101410.090769</td>\n",
       "      <td>1.048363e+06</td>\n",
       "    </tr>\n",
       "    <tr>\n",
       "      <th>0.25</th>\n",
       "      <td>179200.067011</td>\n",
       "      <td>179476.768068</td>\n",
       "      <td>0.093235</td>\n",
       "      <td>0.093228</td>\n",
       "      <td>101968.749988</td>\n",
       "      <td>1.044234e+06</td>\n",
       "    </tr>\n",
       "    <tr>\n",
       "      <th>0.33</th>\n",
       "      <td>178673.052392</td>\n",
       "      <td>178034.395127</td>\n",
       "      <td>0.101371</td>\n",
       "      <td>0.101371</td>\n",
       "      <td>98460.190189</td>\n",
       "      <td>1.065823e+06</td>\n",
       "    </tr>\n",
       "    <tr>\n",
       "      <th>0.40</th>\n",
       "      <td>179717.989389</td>\n",
       "      <td>176257.722280</td>\n",
       "      <td>0.102600</td>\n",
       "      <td>0.102585</td>\n",
       "      <td>98493.882292</td>\n",
       "      <td>1.056988e+06</td>\n",
       "    </tr>\n",
       "    <tr>\n",
       "      <th>0.50</th>\n",
       "      <td>180855.483323</td>\n",
       "      <td>175678.431940</td>\n",
       "      <td>0.103392</td>\n",
       "      <td>0.103154</td>\n",
       "      <td>99418.506062</td>\n",
       "      <td>1.047725e+06</td>\n",
       "    </tr>\n",
       "    <tr>\n",
       "      <th>0.70</th>\n",
       "      <td>176355.469900</td>\n",
       "      <td>177420.595817</td>\n",
       "      <td>0.115244</td>\n",
       "      <td>0.115022</td>\n",
       "      <td>98280.136991</td>\n",
       "      <td>1.080711e+06</td>\n",
       "    </tr>\n",
       "    <tr>\n",
       "      <th>0.90</th>\n",
       "      <td>184412.701672</td>\n",
       "      <td>178770.823486</td>\n",
       "      <td>0.092511</td>\n",
       "      <td>0.092486</td>\n",
       "      <td>101558.898074</td>\n",
       "      <td>1.051937e+06</td>\n",
       "    </tr>\n",
       "    <tr>\n",
       "      <th>0.95</th>\n",
       "      <td>194157.486145</td>\n",
       "      <td>177988.486105</td>\n",
       "      <td>0.098403</td>\n",
       "      <td>0.097667</td>\n",
       "      <td>99444.293997</td>\n",
       "      <td>1.063914e+06</td>\n",
       "    </tr>\n",
       "  </tbody>\n",
       "</table>\n",
       "</div>"
      ],
      "text/plain": [
       "               E_in          E_out        EV        R²             ME  \\\n",
       "0.05  178692.598747  189928.596002  0.093221  0.093205  101209.507364   \n",
       "0.10  178213.133327  181930.537890  0.100161  0.100101  100660.995559   \n",
       "0.15  178876.774998  175490.343132  0.102277  0.102277   98183.577512   \n",
       "0.20  178491.664770  178293.181090  0.101480  0.101477  101410.090769   \n",
       "0.25  179200.067011  179476.768068  0.093235  0.093228  101968.749988   \n",
       "0.33  178673.052392  178034.395127  0.101371  0.101371   98460.190189   \n",
       "0.40  179717.989389  176257.722280  0.102600  0.102585   98493.882292   \n",
       "0.50  180855.483323  175678.431940  0.103392  0.103154   99418.506062   \n",
       "0.70  176355.469900  177420.595817  0.115244  0.115022   98280.136991   \n",
       "0.90  184412.701672  178770.823486  0.092511  0.092486  101558.898074   \n",
       "0.95  194157.486145  177988.486105  0.098403  0.097667   99444.293997   \n",
       "\n",
       "               MAE  \n",
       "0.05  1.045976e+06  \n",
       "0.10  1.050635e+06  \n",
       "0.15  1.061772e+06  \n",
       "0.20  1.048363e+06  \n",
       "0.25  1.044234e+06  \n",
       "0.33  1.065823e+06  \n",
       "0.40  1.056988e+06  \n",
       "0.50  1.047725e+06  \n",
       "0.70  1.080711e+06  \n",
       "0.90  1.051937e+06  \n",
       "0.95  1.063914e+06  "
      ]
     },
     "execution_count": 49,
     "metadata": {},
     "output_type": "execute_result"
    }
   ],
   "source": [
    "header = stat\n",
    "with warnings.catch_warnings():\n",
    "    #ignore all caught warnings\n",
    "    warnings.filterwarnings(\"ignore\")\n",
    "    table = measurement(NNR_optd,test_size,Xd,Yd)\n",
    "print(\"The model parameters:\",NNR_optd_param)\n",
    "print()\n",
    "print('Neural network Regression error for different training size:')\n",
    "pd.DataFrame(table, columns = header,index = test_size)"
   ]
  },
  {
   "cell_type": "code",
   "execution_count": 50,
   "metadata": {},
   "outputs": [
    {
     "name": "stderr",
     "output_type": "stream",
     "text": [
      "C:\\ProgramData\\Anaconda3\\lib\\site-packages\\sklearn\\model_selection\\_search.py:813: DeprecationWarning: The default of the `iid` parameter will change from True to False in version 0.22 and will be removed in 0.24. This will change numeric results when test-set sizes are unequal.\n",
      "  DeprecationWarning)\n",
      "C:\\ProgramData\\Anaconda3\\lib\\site-packages\\sklearn\\model_selection\\_search.py:813: DeprecationWarning: The default of the `iid` parameter will change from True to False in version 0.22 and will be removed in 0.24. This will change numeric results when test-set sizes are unequal.\n",
      "  DeprecationWarning)\n"
     ]
    },
    {
     "name": "stdout",
     "output_type": "stream",
     "text": [
      "The model parameters: KNeighborsRegressor(algorithm='auto', leaf_size=10, metric='euclidean',\n",
      "                    metric_params=None, n_jobs=None, n_neighbors=9, p=2,\n",
      "                    weights='uniform')\n",
      "\n",
      "K Nearest neighbors error for different training size:\n"
     ]
    },
    {
     "name": "stderr",
     "output_type": "stream",
     "text": [
      "C:\\ProgramData\\Anaconda3\\lib\\site-packages\\sklearn\\model_selection\\_search.py:813: DeprecationWarning: The default of the `iid` parameter will change from True to False in version 0.22 and will be removed in 0.24. This will change numeric results when test-set sizes are unequal.\n",
      "  DeprecationWarning)\n"
     ]
    },
    {
     "data": {
      "text/html": [
       "<div>\n",
       "<style scoped>\n",
       "    .dataframe tbody tr th:only-of-type {\n",
       "        vertical-align: middle;\n",
       "    }\n",
       "\n",
       "    .dataframe tbody tr th {\n",
       "        vertical-align: top;\n",
       "    }\n",
       "\n",
       "    .dataframe thead th {\n",
       "        text-align: right;\n",
       "    }\n",
       "</style>\n",
       "<table border=\"1\" class=\"dataframe\">\n",
       "  <thead>\n",
       "    <tr style=\"text-align: right;\">\n",
       "      <th></th>\n",
       "      <th>E_in</th>\n",
       "      <th>E_out</th>\n",
       "      <th>EV</th>\n",
       "      <th>R²</th>\n",
       "      <th>ME</th>\n",
       "      <th>MAE</th>\n",
       "    </tr>\n",
       "  </thead>\n",
       "  <tbody>\n",
       "    <tr>\n",
       "      <th>0.05</th>\n",
       "      <td>174301.419220</td>\n",
       "      <td>192047.553057</td>\n",
       "      <td>0.133642</td>\n",
       "      <td>0.133610</td>\n",
       "      <td>90675.666667</td>\n",
       "      <td>1.080972e+06</td>\n",
       "    </tr>\n",
       "    <tr>\n",
       "      <th>0.10</th>\n",
       "      <td>173907.331674</td>\n",
       "      <td>192232.989708</td>\n",
       "      <td>0.128114</td>\n",
       "      <td>0.127715</td>\n",
       "      <td>88821.333333</td>\n",
       "      <td>1.081139e+06</td>\n",
       "    </tr>\n",
       "    <tr>\n",
       "      <th>0.15</th>\n",
       "      <td>173600.665305</td>\n",
       "      <td>186732.063014</td>\n",
       "      <td>0.129771</td>\n",
       "      <td>0.129627</td>\n",
       "      <td>90112.666667</td>\n",
       "      <td>1.008635e+06</td>\n",
       "    </tr>\n",
       "    <tr>\n",
       "      <th>0.20</th>\n",
       "      <td>173423.220396</td>\n",
       "      <td>186659.387618</td>\n",
       "      <td>0.124527</td>\n",
       "      <td>0.124509</td>\n",
       "      <td>92052.222222</td>\n",
       "      <td>1.085822e+06</td>\n",
       "    </tr>\n",
       "    <tr>\n",
       "      <th>0.25</th>\n",
       "      <td>172835.883031</td>\n",
       "      <td>187497.633470</td>\n",
       "      <td>0.120043</td>\n",
       "      <td>0.119871</td>\n",
       "      <td>92633.777778</td>\n",
       "      <td>1.089261e+06</td>\n",
       "    </tr>\n",
       "    <tr>\n",
       "      <th>0.33</th>\n",
       "      <td>172384.253582</td>\n",
       "      <td>187475.547772</td>\n",
       "      <td>0.111026</td>\n",
       "      <td>0.110970</td>\n",
       "      <td>92121.000000</td>\n",
       "      <td>1.095321e+06</td>\n",
       "    </tr>\n",
       "    <tr>\n",
       "      <th>0.40</th>\n",
       "      <td>171989.325927</td>\n",
       "      <td>184442.319217</td>\n",
       "      <td>0.115300</td>\n",
       "      <td>0.115284</td>\n",
       "      <td>91829.333333</td>\n",
       "      <td>1.110685e+06</td>\n",
       "    </tr>\n",
       "    <tr>\n",
       "      <th>0.50</th>\n",
       "      <td>170318.030550</td>\n",
       "      <td>186958.644470</td>\n",
       "      <td>0.097903</td>\n",
       "      <td>0.097635</td>\n",
       "      <td>93650.333333</td>\n",
       "      <td>1.100244e+06</td>\n",
       "    </tr>\n",
       "    <tr>\n",
       "      <th>0.70</th>\n",
       "      <td>166033.527338</td>\n",
       "      <td>185649.720846</td>\n",
       "      <td>0.086006</td>\n",
       "      <td>0.085914</td>\n",
       "      <td>95047.111111</td>\n",
       "      <td>1.122682e+06</td>\n",
       "    </tr>\n",
       "    <tr>\n",
       "      <th>0.90</th>\n",
       "      <td>170594.002195</td>\n",
       "      <td>190040.102483</td>\n",
       "      <td>0.000781</td>\n",
       "      <td>0.000767</td>\n",
       "      <td>95258.111111</td>\n",
       "      <td>1.119427e+06</td>\n",
       "    </tr>\n",
       "    <tr>\n",
       "      <th>0.95</th>\n",
       "      <td>181399.397100</td>\n",
       "      <td>186160.261364</td>\n",
       "      <td>0.024819</td>\n",
       "      <td>0.024640</td>\n",
       "      <td>96083.333333</td>\n",
       "      <td>1.117816e+06</td>\n",
       "    </tr>\n",
       "  </tbody>\n",
       "</table>\n",
       "</div>"
      ],
      "text/plain": [
       "               E_in          E_out        EV        R²            ME  \\\n",
       "0.05  174301.419220  192047.553057  0.133642  0.133610  90675.666667   \n",
       "0.10  173907.331674  192232.989708  0.128114  0.127715  88821.333333   \n",
       "0.15  173600.665305  186732.063014  0.129771  0.129627  90112.666667   \n",
       "0.20  173423.220396  186659.387618  0.124527  0.124509  92052.222222   \n",
       "0.25  172835.883031  187497.633470  0.120043  0.119871  92633.777778   \n",
       "0.33  172384.253582  187475.547772  0.111026  0.110970  92121.000000   \n",
       "0.40  171989.325927  184442.319217  0.115300  0.115284  91829.333333   \n",
       "0.50  170318.030550  186958.644470  0.097903  0.097635  93650.333333   \n",
       "0.70  166033.527338  185649.720846  0.086006  0.085914  95047.111111   \n",
       "0.90  170594.002195  190040.102483  0.000781  0.000767  95258.111111   \n",
       "0.95  181399.397100  186160.261364  0.024819  0.024640  96083.333333   \n",
       "\n",
       "               MAE  \n",
       "0.05  1.080972e+06  \n",
       "0.10  1.081139e+06  \n",
       "0.15  1.008635e+06  \n",
       "0.20  1.085822e+06  \n",
       "0.25  1.089261e+06  \n",
       "0.33  1.095321e+06  \n",
       "0.40  1.110685e+06  \n",
       "0.50  1.100244e+06  \n",
       "0.70  1.122682e+06  \n",
       "0.90  1.119427e+06  \n",
       "0.95  1.117816e+06  "
      ]
     },
     "execution_count": 50,
     "metadata": {},
     "output_type": "execute_result"
    }
   ],
   "source": [
    "header = stat\n",
    "table = measurement(knn_optd,test_size,Xd,Yd)\n",
    "print(\"The model parameters:\",knn_optd_param)\n",
    "print()\n",
    "print('K Nearest neighbors error for different training size:')\n",
    "pd.DataFrame(table, columns = header,index = test_size)"
   ]
  },
  {
   "cell_type": "markdown",
   "metadata": {},
   "source": [
    "### Discusion"
   ]
  },
  {
   "cell_type": "markdown",
   "metadata": {},
   "source": []
  },
  {
   "cell_type": "markdown",
   "metadata": {},
   "source": [
    "## Conclusion "
   ]
  },
  {
   "cell_type": "code",
   "execution_count": null,
   "metadata": {},
   "outputs": [],
   "source": []
  },
  {
   "cell_type": "markdown",
   "metadata": {},
   "source": [
    "## Bibliography"
   ]
  },
  {
   "cell_type": "markdown",
   "metadata": {},
   "source": [
    " Lecture + ..."
   ]
  },
  {
   "cell_type": "markdown",
   "metadata": {},
   "source": [
    "regression validation: https://dziganto.github.io/cross-validation/data%20science/machine%20learning/model%20tuning/python/Model-Tuning-with-Validation-and-Cross-Validation/\n",
    "regression validation : https://scikit-learn.org/stable/modules/model_evaluation.html\n",
    "\n",
    "#####################################################\"\n",
    "https://www.youtube.com/watch?v=Gol_qOgRqfA\n"
   ]
  }
 ],
 "metadata": {
  "kernelspec": {
   "display_name": "Python 3",
   "language": "python",
   "name": "python3"
  },
  "language_info": {
   "codemirror_mode": {
    "name": "ipython",
    "version": 3
   },
   "file_extension": ".py",
   "mimetype": "text/x-python",
   "name": "python",
   "nbconvert_exporter": "python",
   "pygments_lexer": "ipython3",
   "version": "3.7.3"
  }
 },
 "nbformat": 4,
 "nbformat_minor": 2
}
