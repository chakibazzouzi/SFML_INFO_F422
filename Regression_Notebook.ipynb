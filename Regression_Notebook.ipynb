{
 "cells": [
  {
   "cell_type": "markdown",
   "metadata": {},
   "source": [
    "# <center>SFML/INFO-F422: Statistical foundations of machine learning</center>"
   ]
  },
  {
   "cell_type": "markdown",
   "metadata": {},
   "source": [
    "# <center>Regression Part</center>"
   ]
  },
  {
   "cell_type": "markdown",
   "metadata": {},
   "source": [
    "Name: Mathieu Parmentier & Nini\n",
    "\n",
    "Python version: 3.6\n",
    "\n",
    "Date: XXXXX\n"
   ]
  },
  {
   "cell_type": "markdown",
   "metadata": {},
   "source": [
    "## Introduction"
   ]
  },
  {
   "cell_type": "markdown",
   "metadata": {},
   "source": [
    "THe curse of dimentionality is a term invented in 1961 by R.Bellman that refer to the fact that as a number of features or dimensions grows, the amount of data needed to generalize accurately a model groth exponentially.\n"
   ]
  },
  {
   "cell_type": "markdown",
   "metadata": {},
   "source": [
    "# Objective and strategy "
   ]
  },
  {
   "cell_type": "code",
   "execution_count": null,
   "metadata": {},
   "outputs": [],
   "source": []
  },
  {
   "cell_type": "markdown",
   "metadata": {},
   "source": [
    "## Material and method"
   ]
  },
  {
   "cell_type": "code",
   "execution_count": null,
   "metadata": {},
   "outputs": [],
   "source": []
  },
  {
   "cell_type": "code",
   "execution_count": null,
   "metadata": {},
   "outputs": [],
   "source": []
  },
  {
   "cell_type": "markdown",
   "metadata": {},
   "source": [
    "### Synthetic data set:"
   ]
  },
  {
   "cell_type": "markdown",
   "metadata": {},
   "source": [
    "We chose a cubic function to generate our synthetic data set. This function has only one variable and has not noise. This function, although basic, is slightly complex and will allow us to evaluate our good mastery of the algorithms."
   ]
  },
  {
   "cell_type": "code",
   "execution_count": 6,
   "metadata": {},
   "outputs": [],
   "source": [
    "import numpy as np\n",
    "import matplotlib.pyplot as plt\n",
    "\n",
    "n_col = 1\n",
    "n_row = 50\n",
    "np.random.seed()\n",
    "X = np.random.random((n_row,n_col))\n",
    "Y = np.ones(n_row)\n",
    "#X = X*1000\n",
    "\n",
    "\n",
    "for i in range(len(X)):\n",
    "    X[i][0]=i-n_row/2\n",
    "    Y[i]= (X[i][0])**3"
   ]
  },
  {
   "cell_type": "markdown",
   "metadata": {},
   "source": [
    "Let's explore our dataset to make sure that the generation has passed properly."
   ]
  },
  {
   "cell_type": "code",
   "execution_count": 7,
   "metadata": {},
   "outputs": [
    {
     "data": {
      "image/png": "[encoded data removed]",
      "text/plain": [
       "<Figure size 432x288 with 1 Axes>"
      ]
     },
     "metadata": {
      "needs_background": "light"
     },
     "output_type": "display_data"
    }
   ],
   "source": [
    "plt.figure()\n",
    "plt.scatter(X[:,:1], Y, s=20, edgecolor=\"black\",c=\"orange\", label=\"data\")\n",
    "\n",
    "plt.xlabel(\"data\")\n",
    "plt.ylabel(\"target\")\n",
    "plt.title(\"Exploration of the data\")\n",
    "plt.legend()\n",
    "plt.show()\n"
   ]
  },
  {
   "cell_type": "markdown",
   "metadata": {},
   "source": [
    "Now, we're going to divide our data into a test set and a training set.We will also load libraries shared by different algorithms and we will build a scoring function based on negative mean squared error to guide the optimization of our models."
   ]
  },
  {
   "cell_type": "code",
   "execution_count": 8,
   "metadata": {},
   "outputs": [],
   "source": [
    "from sklearn.model_selection import train_test_split\n",
    "\n",
    "x_train, x_test, y_train, y_test = train_test_split(X, Y, test_size = .2, random_state = 25)\n",
    "\n",
    "from sklearn.model_selection import GridSearchCV\n",
    "from sklearn.model_selection import cross_val_score, cross_validate\n",
    "from sklearn.metrics import median_absolute_error, mean_squared_error\n",
    "from sklearn.metrics import explained_variance_score, max_error, r2_score\n",
    "import pandas as pd"
   ]
  },
  {
   "cell_type": "markdown",
   "metadata": {},
   "source": [
    "### I) Algorithm : $\\epsilon$-Support vector machine regression"
   ]
  },
  {
   "cell_type": "markdown",
   "metadata": {},
   "source": [
    "#### A) Introduction\n",
    "\n",
    "..."
   ]
  },
  {
   "cell_type": "markdown",
   "metadata": {},
   "source": [
    "  ##### 1. Theoretical approach\n",
    "  \n",
    "  Let $S= \\{(x_n \\in \\mathbb{R}^d; y_n \\in \\mathbb{R} )  , n = 1, \\dots, m \\}$ be our training sample.\n",
    "  Where $y_n$ is the numerical target value associated to the data-point $x_n$.\n",
    "  \n",
    "  "
   ]
  },
  {
   "cell_type": "markdown",
   "metadata": {},
   "source": [
    "###### a. Linear $\\epsilon$-SVR\n",
    " \n",
    "  The epsillon-support vector regressor ($\\epsilon$-SVR) finds a linear function of the form \n",
    "  $\\begin{align} f: &\\mathbb{R}^d &\\rightarrow &\\mathbb{R}\\\\\n",
    "  &x &\\rightarrow &w^Tx+b\n",
    "  \\end{align}$ \n",
    "  by constructing an $\\epsilon$-insensitive tube, where aiming to reudce the risl of ovefitting, only object that lie outside the tube are penalized.\n",
    "  This method solve the folowing Quadratic Programing problem:\n",
    "  \n",
    "  $$ \\begin{align}\n",
    "  min_{w,b,\\xi,\\xi^*} \\text{      }& \\frac{1}{2}\\|w\\|^2+(C\\overrightarrow{1})^T(\\xi+\\xi^*) &\\\\\n",
    "  s.t. \\text{      } & y-((Aw)^T+b\\overrightarrow{1})\\leq \\epsilon \\overrightarrow{1}+ \\xi &,\\xi \\geq 0\\\\\n",
    "  & ((Aw)^T+b\\overrightarrow{1}) - y \\leq \\epsilon \\overrightarrow{1} + \\xi^* &, \\xi^* \\geq 0\n",
    "  \\end{align}$$\n",
    "  Where:  \n",
    "  $A = [x_1 \\dots x_n]^T \\in \\mathbb{R}^{m\\times d}$,  \n",
    "  $y = (y_1, \\dots , y_n) \\in \\mathbb{R}^m$,  \n",
    "  $ \\overrightarrow{1} \\in \\mathbb{R}^m$ is the is a vector of ones,  \n",
    "  $\\xi$, $\\xi^* \\in \\mathbb{R}^m$ are slack variables that penalize the sample that lie outside the $\\epsilon$-insentive tube,  \n",
    "  $C$  is the regularization factor that balances the trade-off between the fitting errors and the flatness of the linear regression function given by the minimization of the Euclidean norm of the weight vector $w$."
   ]
  },
  {
   "cell_type": "markdown",
   "metadata": {},
   "source": [
    "###### b. Extension of linear $\\epsilon$-SVR using kernel method\n",
    "\n",
    "Thanks to kernel trick, we can extend the linear $\\epsilon$-SVR in non-linear datasets.\n",
    "\n",
    "The kernel version of $\\epsilon$-SVR is given by:\n",
    "$$ \\begin{align}\n",
    "min_{\\alpha, \\alpha^*} \\text{      }& \\frac{1}{2}(\\alpha - \\alpha^*)^Tk(A,A^T)(\\alpha - \\alpha^*)+y^T(\\alpha-\\alpha^*)+ \\epsilon \\overrightarrow{1}^T (\\alpha - \\alpha^*)  \\\\\n",
    "s.t.\\text{      } & \\overrightarrow{1}^T(\\alpha - \\alpha^*) = 0 \\\\\n",
    "& 0 \\leq \\alpha , \\alpha^* \\leq C\\overrightarrow{1}\n",
    "\\end{align}$$\n",
    "\n",
    "\n",
    "Where $k(A,A^T)$ represents the matrix of kernel functions of the form $k_{ij} = \\mathcal{K}(x_i,x_j)$ and $\\mathcal{K} : \\mathbb{R}^d \\times \\mathbb{R}^d$"
   ]
  },
  {
   "cell_type": "markdown",
   "metadata": {},
   "source": [
    "###### c. Different kernel form\n",
    "\n",
    "* Gaussian  \n",
    "...\n",
    "\n",
    "\n",
    "* polynomial  \n",
    "...\n",
    "\n",
    "\n",
    "* rbf  \n",
    "...\n",
    "\n",
    "\n",
    "* sigmoid  \n",
    "..."
   ]
  },
  {
   "cell_type": "markdown",
   "metadata": {},
   "source": [
    "<font color=\"gray\"> Sources:</font> \n",
    "<br><br><font color=\"gray\"> Abu-Mostafa, Yaser S., 1957-. (2012). Learning from data : a short course. [United States] :AMLBook.com, </font> \n",
    "<br><br><font color=\"gray\"> Carrasco, M., López, J., & Maldonado, S. (2019). Epsilon-nonparallel support vector regression. Applied Intelligence, 49(12), 4223-4236. </font> \n",
    "<br><br><font color=\"gray\"> Schölkopf, B., Smola, A. J., & Bach, F. (2002). Learning with kernels: support vector machines, regularization, optimization, and beyond. MIT press. </font> \n",
    "<br><br><font color=\"gray\"> wikipedia: https://en.wikipedia.org/wiki/Radial_basis_function </font>  "
   ]
  },
  {
   "cell_type": "markdown",
   "metadata": {},
   "source": [
    "#### II) Code"
   ]
  },
  {
   "cell_type": "code",
   "execution_count": 5,
   "metadata": {},
   "outputs": [
    {
     "name": "stdout",
     "output_type": "stream",
     "text": [
      "Our support vector with default settings has an in-sample error equal to 6196.7154490691155\n",
      "Our support vector with default settings has an out-sample error equal to 4610.2637149356315\n",
      "\n",
      "let's try to optimize the model\n",
      "The optimize settings are {'C': 1000, 'kernel': 'poly'}\n",
      "Our support vector with optimize settings has an in-sample error equal to 0.04182847020618212\n",
      "Our support vector with optimize settings has an out-sample error equal to 0.03440204257050222\n",
      "it'is much better\n",
      "\n",
      "We can also compute the R², the explained variance score, the median absolute error and the maximum error for all the dataset\n",
      "R²: 0.9999999999532121\n",
      "Explained variance score : 0.9999999999536846\n",
      "Median absolute error : 0.014123591619863873\n",
      "Maximum error : 0.10027158386219526\n"
     ]
    }
   ],
   "source": [
    "from sklearn.svm import SVR\n",
    "\n",
    "\n",
    "# Default setting\n",
    "svm_r = SVR()\n",
    "svm_r.fit(x_train, y_train)\n",
    "print(\"Our support vector with default settings has an in-sample error equal to\",np.sqrt(mean_squared_error(y_train, svm_r.predict(x_train))))\n",
    "print(\"Our support vector with default settings has an out-sample error equal to\",np.sqrt(mean_squared_error(y_test, svm_r.predict(x_test))))\n",
    "print()\n",
    "print(\"let's try to optimize the model\")\n",
    "\n",
    "\n",
    "# Optimization test\n",
    "param_grid = {'C': [0.001, 0.01, 0.1, 1, 10, 100, 1000], 'kernel':['linear', 'poly', 'rbf', 'sigmoid']}\n",
    "# Where C is Regularization parameter\n",
    "svm_ropt = GridSearchCV(SVR(), param_grid, cv=5, verbose=0)\n",
    "svm_ropt.fit(x_train, y_train)\n",
    "print('The optimize settings are',svm_ropt.best_params_)\n",
    "svm_ropt = SVR(C = svm_ropt.best_params_['C'],kernel = svm_ropt.best_params_['kernel'])\n",
    "svm_ropt.fit(x_train, y_train)\n",
    "print(\"Our support vector with optimize settings has an in-sample error equal to\",np.sqrt(mean_squared_error(y_train, svm_ropt.predict(x_train))))\n",
    "print(\"Our support vector with optimize settings has an out-sample error equal to\",np.sqrt(mean_squared_error(y_test, svm_ropt.predict(x_test))))\n",
    "print(\"it'is much better\")\n",
    "print()\n",
    "print(\"We can also compute the R², the explained variance score, the median absolute error and the maximum error for all the dataset\")\n",
    "print(\"R²:\",r2_score(Y, svm_ropt.predict(X)))\n",
    "print(\"Explained variance score :\",explained_variance_score(Y, svm_ropt.predict(X)))\n",
    "print(\"Median absolute error :\",median_absolute_error(Y, svm_ropt.predict(X)))\n",
    "print(\"Maximum error :\",max_error(Y, svm_ropt.predict(X)))"
   ]
  },
  {
   "cell_type": "markdown",
   "metadata": {},
   "source": [
    "Plot of the results:"
   ]
  },
  {
   "cell_type": "code",
   "execution_count": 6,
   "metadata": {},
   "outputs": [
    {
     "data": {
      "image/png": "[encoded data removed]",
      "text/plain": [
       "<Figure size 432x288 with 1 Axes>"
      ]
     },
     "metadata": {
      "needs_background": "light"
     },
     "output_type": "display_data"
    },
    {
     "name": "stdout",
     "output_type": "stream",
     "text": [
      "The model parameters: SVR(C=1000, cache_size=200, coef0=0.0, degree=3, epsilon=0.1, gamma='scale',\n",
      "    kernel='poly', max_iter=-1, shrinking=True, tol=0.001, verbose=False)\n"
     ]
    }
   ],
   "source": [
    "plt.figure()\n",
    "plt.scatter(X[:,:1], Y, s=20, edgecolor=\"black\",c=\"orange\", label=\"data\")\n",
    "plt.scatter(x_test[:,:1], y_test, s=20, edgecolor=\"black\",c=\"blue\", label=\"test set\")\n",
    "plt.scatter(X[:,:1], svm_ropt.predict(X), s=20, edgecolor=\"black\",c=\"green\", label=\"prediction\")\n",
    "plt.xlabel(\"data\")\n",
    "plt.ylabel(\"target\")\n",
    "plt.title(\"Support Vector Regression\")\n",
    "plt.legend()\n",
    "plt.show()\n",
    "\n",
    "print(\"The model parameters:\",svm_ropt)\n",
    "\n",
    "\n"
   ]
  },
  {
   "cell_type": "markdown",
   "metadata": {},
   "source": [
    "### 2) Algorithm : Decision Tree Regression "
   ]
  },
  {
   "cell_type": "markdown",
   "metadata": {},
   "source": [
    "code"
   ]
  },
  {
   "cell_type": "code",
   "execution_count": 11,
   "metadata": {},
   "outputs": [
    {
     "name": "stdout",
     "output_type": "stream",
     "text": [
      "Our DecisionTreeRegressor with default settings has an in-sample error equal to 0.0\n",
      "Our DecisionTreeRegressor with default settings has an out-sample error equal to 742.676914950236\n",
      "\n",
      "let's try to optimize the model\n",
      "The optimize settings are {'criterion': 'mse', 'max_depth': 10, 'max_leaf_nodes': 15, 'min_samples_leaf': 2, 'min_samples_split': 2}\n",
      "Our DecisionTreeRegressor with optimize settings has an in-sample error equal to 610.4983756462146\n",
      "Our DecisionTreeRegressor with optimize settings has an out-sample error equal to 1323.1487150816502\n",
      "it'is much better\n",
      "\n",
      "We can also compute the R², the explained variance score, the median absolute error and the maximum error for all the dataset\n",
      "R²: 0.9814634705637169\n",
      "Explained variance score : 0.9815670433211227\n",
      "Median absolute error : 328.5\n",
      "Maximum error : 2952.0\n"
     ]
    }
   ],
   "source": [
    "from sklearn.tree import DecisionTreeRegressor\n",
    "\n",
    "\n",
    "# Default setting\n",
    "DTR = DecisionTreeRegressor()\n",
    "DTR.fit(x_train, y_train)\n",
    "\n",
    "\n",
    "print(\"Our DecisionTreeRegressor with default settings has an in-sample error equal to\",np.sqrt(mean_squared_error(y_train, DTR.predict(x_train))))\n",
    "print(\"Our DecisionTreeRegressor with default settings has an out-sample error equal to\",np.sqrt(mean_squared_error(y_test, DTR.predict(x_test))))\n",
    "print()\n",
    "print(\"let's try to optimize the model\")\n",
    "\n",
    "\n",
    "# Optimization test\n",
    "param_grid = {\"criterion\": [\"mse\", \"mae\"],\"max_depth\": [2, 3, 4, 8, 10, 20],\"min_samples_split\": [2, 3, 5, 8, 10, 20, 40],\"min_samples_leaf\": [2, 5, 10, 15, 20, 40, 100],\"max_leaf_nodes\": [2, 5, 10,15, 20,40, 100]}\n",
    "DTR_opt = GridSearchCV(DecisionTreeRegressor(), param_grid, cv=5, verbose=0)\n",
    "DTR_opt.fit(x_train, y_train)\n",
    "print('The optimize settings are',DTR_opt.best_params_)\n",
    "DTR_opt = DecisionTreeRegressor(criterion = DTR_opt.best_params_['criterion'],max_depth = DTR_opt.best_params_['max_depth'],min_samples_split = DTR_opt.best_params_['min_samples_split'],min_samples_leaf = DTR_opt.best_params_['min_samples_leaf'],max_leaf_nodes = DTR_opt.best_params_['max_leaf_nodes'])\n",
    "DTR_opt.fit(x_train, y_train)\n",
    "print(\"Our DecisionTreeRegressor with optimize settings has an in-sample error equal to\",np.sqrt(mean_squared_error(y_train, DTR_opt.predict(x_train))))\n",
    "print(\"Our DecisionTreeRegressor with optimize settings has an out-sample error equal to\",np.sqrt(mean_squared_error(y_test, DTR_opt.predict(x_test))))\n",
    "print(\"it'is much better\")\n",
    "print()\n",
    "print(\"We can also compute the R², the explained variance score, the median absolute error and the maximum error for all the dataset\")\n",
    "print(\"R²:\",r2_score(Y, DTR_opt.predict(X)))\n",
    "print(\"Explained variance score :\",explained_variance_score(Y, DTR_opt.predict(X)))\n",
    "print(\"Median absolute error :\",median_absolute_error(Y, DTR_opt.predict(X)))\n",
    "print(\"Maximum error :\",max_error(Y, DTR_opt.predict(X)))"
   ]
  },
  {
   "cell_type": "markdown",
   "metadata": {},
   "source": [
    "Plot of the results"
   ]
  },
  {
   "cell_type": "code",
   "execution_count": 14,
   "metadata": {},
   "outputs": [
    {
     "data": {
      "image/png": "[encoded data removed]",
      "text/plain": [
       "<Figure size 432x288 with 1 Axes>"
      ]
     },
     "metadata": {
      "needs_background": "light"
     },
     "output_type": "display_data"
    },
    {
     "name": "stdout",
     "output_type": "stream",
     "text": [
      "The model parameters: DecisionTreeRegressor(criterion='mse', max_depth=None, max_features=None,\n",
      "                      max_leaf_nodes=None, min_impurity_decrease=0.0,\n",
      "                      min_impurity_split=None, min_samples_leaf=1,\n",
      "                      min_samples_split=2, min_weight_fraction_leaf=0.0,\n",
      "                      presort=False, random_state=None, splitter='best')\n"
     ]
    },
    {
     "data": {
      "image/png": "[encoded data removed]",
      "text/plain": [
       "<Figure size 432x288 with 1 Axes>"
      ]
     },
     "metadata": {
      "needs_background": "light"
     },
     "output_type": "display_data"
    },
    {
     "name": "stdout",
     "output_type": "stream",
     "text": [
      "The model parameters: DecisionTreeRegressor(criterion='mse', max_depth=10, max_features=None,\n",
      "                      max_leaf_nodes=15, min_impurity_decrease=0.0,\n",
      "                      min_impurity_split=None, min_samples_leaf=2,\n",
      "                      min_samples_split=2, min_weight_fraction_leaf=0.0,\n",
      "                      presort=False, random_state=None, splitter='best')\n"
     ]
    }
   ],
   "source": [
    "\n",
    "plt.figure()\n",
    "plt.scatter(X[:,:1], Y, s=20, edgecolor=\"black\",c=\"orange\", label=\"data\")\n",
    "plt.scatter(x_test[:,:1], y_test, s=20, edgecolor=\"black\",c=\"blue\", label=\"test set\")\n",
    "plt.scatter(X[:,:1], DTR.predict(X), s=20, edgecolor=\"black\",c=\"green\", label=\"prediction\")\n",
    "plt.xlabel(\"data\")\n",
    "plt.ylabel(\"target\")\n",
    "plt.title(\"Basic Decision Tree Regression\")\n",
    "plt.legend()\n",
    "plt.show()\n",
    "print(\"The model parameters:\",DTR)\n",
    "\n",
    "\n",
    "plt.figure()\n",
    "plt.scatter(X[:,:1], Y, s=20, edgecolor=\"black\",c=\"orange\", label=\"data\")\n",
    "plt.scatter(x_test[:,:1], y_test, s=20, edgecolor=\"black\",c=\"blue\", label=\"test set\")\n",
    "plt.scatter(X[:,:1], DTR_opt.predict(X), s=20, edgecolor=\"black\",c=\"green\", label=\"prediction\")\n",
    "plt.xlabel(\"data\")\n",
    "plt.ylabel(\"target\")\n",
    "plt.title(\"Optimized Decision Tree Regression\")\n",
    "plt.legend()\n",
    "plt.show()\n",
    "print(\"The model parameters:\",DTR_opt)\n",
    "\n"
   ]
  },
  {
   "cell_type": "markdown",
   "metadata": {},
   "source": [
    "### 3) Algorithm : Neural network Regression  "
   ]
  },
  {
   "cell_type": "markdown",
   "metadata": {},
   "source": [
    "code"
   ]
  },
  {
   "cell_type": "code",
   "execution_count": 75,
   "metadata": {},
   "outputs": [
    {
     "name": "stdout",
     "output_type": "stream",
     "text": [
      "Our DecisionTreeRegressor with default settings has an in-sample error equal to 6145.266598583775\n",
      "Our DecisionTreeRegressor with default settings has an out-sample error equal to 4550.942795638461\n",
      "\n",
      "let's try to optimize the model\n",
      "The optimize settings are {'activation': 'relu', 'alpha': 5e-05, 'hidden_layer_sizes': (21, 21)}\n",
      "Our support vector with optimize settings has an in-sample error equal to 73.45369117934796\n",
      "Our support vector with optimize settings has an out-sample error equal to 153.73999812534308\n",
      "it'is much better\n",
      "\n",
      "We can also compute the R², the explained variance score, the median absolute error and the maximum error for all the dataset\n",
      "R²: 0.9997414264763331\n",
      "Explained variance score : 0.9997423318837859\n",
      "Median absolute error : 54.17828838130913\n",
      "Maximum error : 262.62533621461716\n"
     ]
    }
   ],
   "source": [
    "from sklearn.neural_network import MLPRegressor\n",
    "import warnings\n",
    "\n",
    "# Default setting\n",
    "\n",
    "with warnings.catch_warnings():\n",
    "    # ignore all caught warnings\n",
    "    warnings.filterwarnings(\"ignore\")\n",
    "    NNR = MLPRegressor()\n",
    "    NNR.fit(x_train, y_train)\n",
    "    print(\"Our DecisionTreeRegressor with default settings has an in-sample error equal to\",np.sqrt(mean_squared_error(y_train, NNR.predict(x_train))))\n",
    "    print(\"Our DecisionTreeRegressor with default settings has an out-sample error equal to\",np.sqrt(mean_squared_error(y_test, NNR.predict(x_test))))\n",
    "    print()\n",
    "    print(\"let's try to optimize the model\")\n",
    "    \n",
    "    # Optimization test\n",
    "    param_grid = {\"hidden_layer_sizes\": [(i,i) for i in range(1,25)], \"alpha\": [0.00005,0.0001,0.0005],\"activation\" : ['logistic', 'tanh', 'relu']}\n",
    "    NNR_opt = GridSearchCV(MLPRegressor(solver = \"lbfgs\"), param_grid, cv=5, verbose=0)\n",
    "    NNR_opt.fit(x_train, y_train)\n",
    "    print('The optimize settings are',NNR_opt.best_params_)\n",
    "    NNR_opt = MLPRegressor(hidden_layer_sizes = NNR_opt.best_params_['hidden_layer_sizes'],alpha = NNR_opt.best_params_['alpha'],activation = NNR_opt.best_params_['activation'], solver = \"lbfgs\")\n",
    "    NNR_opt.fit(x_train, y_train)\n",
    "    \n",
    "    #param_grid = {\"hidden_layer_sizes\": [(i,i) for i in range(1,25)], \"alpha\": [0.00005,0.0001,0.0005], \"learning_rate\" : ['constant', 'invscaling','adaptive'],\"activation\" : ['logistic', 'tanh', 'relu']}\n",
    "    #NNR_opt = GridSearchCV(MLPRegressor(solver = \"lbfgs\"), param_grid, cv=5, verbose=0)\n",
    "    #NNR_opt.fit(x_train, y_train)\n",
    "    #print('The optimize settings are',NNR_opt.best_params_)\n",
    "    #NNR_opt = MLPRegressor(hidden_layer_sizes = NNR_opt.best_params_['hidden_layer_sizes'],alpha = NNR_opt.best_params_['alpha'],learning_rate = NNR_opt.best_params_['learning_rate'],activation = NNR_opt.best_params_['activation'], solver = \"lbfgs\")\n",
    "    #NNR_opt.fit(x_train, y_train)\n",
    "    \n",
    "    \n",
    "    \n",
    "    \n",
    "print(\"Our support vector with optimize settings has an in-sample error equal to\",np.sqrt(mean_squared_error(y_train, NNR_opt.predict(x_train))))\n",
    "print(\"Our support vector with optimize settings has an out-sample error equal to\",np.sqrt(mean_squared_error(y_test, NNR_opt.predict(x_test))))\n",
    "print(\"it'is much better\")\n",
    "print()\n",
    "print(\"We can also compute the R², the explained variance score, the median absolute error and the maximum error for all the dataset\")\n",
    "print(\"R²:\",r2_score(Y, NNR_opt.predict(X)))\n",
    "print(\"Explained variance score :\",explained_variance_score(Y, NNR_opt.predict(X)))\n",
    "print(\"Median absolute error :\",median_absolute_error(Y, NNR_opt.predict(X)))\n",
    "print(\"Maximum error :\",max_error(Y, NNR_opt.predict(X)))"
   ]
  },
  {
   "cell_type": "markdown",
   "metadata": {},
   "source": [
    "Plot of the results"
   ]
  },
  {
   "cell_type": "code",
   "execution_count": 11,
   "metadata": {},
   "outputs": [
    {
     "data": {
      "image/png": "[encoded data removed]",
      "text/plain": [
       "<Figure size 432x288 with 1 Axes>"
      ]
     },
     "metadata": {
      "needs_background": "light"
     },
     "output_type": "display_data"
    },
    {
     "name": "stdout",
     "output_type": "stream",
     "text": [
      "The model parameters: MLPRegressor(activation='relu', alpha=5e-05, batch_size='auto', beta_1=0.9,\n",
      "             beta_2=0.999, early_stopping=False, epsilon=1e-08,\n",
      "             hidden_layer_sizes=(24, 24), learning_rate='adaptive',\n",
      "             learning_rate_init=0.001, max_fun=15000, max_iter=100000,\n",
      "             momentum=0.9, n_iter_no_change=10, nesterovs_momentum=True,\n",
      "             power_t=0.5, random_state=None, shuffle=True, solver='lbfgs',\n",
      "             tol=0.0001, validation_fraction=0.1, verbose=False,\n",
      "             warm_start=False)\n"
     ]
    }
   ],
   "source": [
    "plt.figure()\n",
    "plt.scatter(X[:,:1], Y, s=20, edgecolor=\"black\",c=\"orange\", label=\"data\")\n",
    "plt.scatter(x_test[:,:1], y_test, s=20, edgecolor=\"black\",c=\"blue\", label=\"test set\")\n",
    "plt.scatter(X[:,:1], NNR_opt.predict(X), s=20, edgecolor=\"black\",c=\"green\", label=\"prediction\")\n",
    "plt.xlabel(\"data\")\n",
    "plt.ylabel(\"target\")\n",
    "plt.title(\"Neural network\")\n",
    "plt.legend()\n",
    "plt.show()\n",
    "print(\"The model parameters:\",NNR_opt)"
   ]
  },
  {
   "cell_type": "markdown",
   "metadata": {},
   "source": [
    "### 4) Algorithm : K Nearest neighbors regression"
   ]
  },
  {
   "cell_type": "markdown",
   "metadata": {},
   "source": [
    "code"
   ]
  },
  {
   "cell_type": "code",
   "execution_count": 79,
   "metadata": {},
   "outputs": [
    {
     "name": "stdout",
     "output_type": "stream",
     "text": [
      "Our DecisionTreeRegressor with default settings has an in-sample error equal to 985.6838768083812\n",
      "Our DecisionTreeRegressor with default settings has an out-sample error equal to 432.20620541588704\n",
      "\n",
      "let's try to optimize the model\n",
      "The optimize settings are {'leaf_size': 20, 'metric': 'euclidean', 'n_neighbors': 2, 'weights': 'distance'}\n",
      "Our support vector with optimize settings has an in-sample error equal to 0.0\n",
      "Our support vector with optimize settings has an out-sample error equal to 761.5727732061388\n",
      "it'is much better\n",
      "\n",
      "We can also compute the R², the explained variance score, the median absolute error and the maximum error for all the dataset\n",
      "R²: 0.9966833643075932\n",
      "Explained variance score : 0.996686504581432\n",
      "Median absolute error : 0.0\n",
      "Maximum error : 1893.333333333334\n"
     ]
    }
   ],
   "source": [
    "from sklearn import neighbors\n",
    "\n",
    "\n",
    "# Default setting\n",
    "knn = neighbors.KNeighborsRegressor()\n",
    "knn.fit(x_train, y_train)\n",
    "\n",
    "\n",
    "print(\"Our DecisionTreeRegressor with default settings has an in-sample error equal to\",np.sqrt(mean_squared_error(y_train, knn.predict(x_train))))\n",
    "print(\"Our DecisionTreeRegressor with default settings has an out-sample error equal to\",np.sqrt(mean_squared_error(y_test, knn.predict(x_test))))\n",
    "print()\n",
    "print(\"let's try to optimize the model\")\n",
    "\n",
    "\n",
    "# Optimization test\n",
    "param_grid = {\"n_neighbors\": [2,3,4,5,6,7,8,9],\"leaf_size\": [2,5,10,20,30,50,100], \"weights\": [\"uniform\", \"distance\"], \"metric\": [\"euclidean\", \"manhattan\"]}\n",
    "knn_opt = GridSearchCV(neighbors.KNeighborsRegressor(), param_grid, cv=5, verbose=0)\n",
    "knn_opt.fit(x_train, y_train)\n",
    "print('The optimize settings are',knn_opt.best_params_)\n",
    "knn_opt = neighbors.KNeighborsRegressor(n_neighbors = knn_opt.best_params_['n_neighbors'],leaf_size = knn_opt.best_params_['leaf_size'],weights = knn_opt.best_params_['weights'],metric = knn_opt.best_params_['metric'])\n",
    "knn_opt.fit(x_train, y_train)\n",
    "print(\"Our support vector with optimize settings has an in-sample error equal to\",np.sqrt(mean_squared_error(y_train, knn_opt.predict(x_train))))\n",
    "print(\"Our support vector with optimize settings has an out-sample error equal to\",np.sqrt(mean_squared_error(y_test, knn_opt.predict(x_test))))\n",
    "print(\"it'is much better\")\n",
    "print()\n",
    "print(\"We can also compute the R², the explained variance score, the median absolute error and the maximum error for all the dataset\")\n",
    "print(\"R²:\",r2_score(Y, knn_opt.predict(X)))\n",
    "print(\"Explained variance score :\",explained_variance_score(Y, knn_opt.predict(X)))\n",
    "print(\"Median absolute error :\",median_absolute_error(Y, knn_opt.predict(X)))\n",
    "print(\"Maximum error :\",max_error(Y, knn_opt.predict(X)))"
   ]
  },
  {
   "cell_type": "markdown",
   "metadata": {},
   "source": [
    "Plot of the results"
   ]
  },
  {
   "cell_type": "code",
   "execution_count": 80,
   "metadata": {},
   "outputs": [
    {
     "data": {
      "image/png": "[encoded data removed]",
      "text/plain": [
       "<Figure size 432x288 with 1 Axes>"
      ]
     },
     "metadata": {
      "needs_background": "light"
     },
     "output_type": "display_data"
    },
    {
     "name": "stdout",
     "output_type": "stream",
     "text": [
      "The model parameters: KNeighborsRegressor(algorithm='auto', leaf_size=20, metric='euclidean',\n",
      "                    metric_params=None, n_jobs=None, n_neighbors=2, p=2,\n",
      "                    weights='distance')\n"
     ]
    }
   ],
   "source": [
    "plt.figure()\n",
    "plt.scatter(X[:,:1], Y, s=20, edgecolor=\"black\",c=\"orange\", label=\"data\")\n",
    "plt.scatter(x_test[:,:1], y_test, s=20, edgecolor=\"black\",c=\"blue\", label=\"test set\")\n",
    "plt.scatter(X[:,:1], knn_opt.predict(X), s=20, edgecolor=\"black\",c=\"green\", label=\"prediction\")\n",
    "plt.xlabel(\"data\")\n",
    "plt.ylabel(\"target\")\n",
    "plt.title(\"K Nearest neighbors\")\n",
    "plt.legend()\n",
    "plt.show()\n",
    "print(\"The model parameters:\",knn_opt)"
   ]
  },
  {
   "cell_type": "markdown",
   "metadata": {},
   "source": [
    "## Cross Validation"
   ]
  },
  {
   "cell_type": "markdown",
   "metadata": {},
   "source": [
    "We try to optimize our model the best that we can do. Now, we would like to compare our models between each either to know which one seem to fit the best. "
   ]
  },
  {
   "cell_type": "code",
   "execution_count": 81,
   "metadata": {},
   "outputs": [
    {
     "name": "stdout",
     "output_type": "stream",
     "text": [
      "\n",
      "R² mean of all models for different cv:\n"
     ]
    },
    {
     "data": {
      "text/html": [
       "<div>\n",
       "<style scoped>\n",
       "    .dataframe tbody tr th:only-of-type {\n",
       "        vertical-align: middle;\n",
       "    }\n",
       "\n",
       "    .dataframe tbody tr th {\n",
       "        vertical-align: top;\n",
       "    }\n",
       "\n",
       "    .dataframe thead th {\n",
       "        text-align: right;\n",
       "    }\n",
       "</style>\n",
       "<table border=\"1\" class=\"dataframe\">\n",
       "  <thead>\n",
       "    <tr style=\"text-align: right;\">\n",
       "      <th></th>\n",
       "      <th>Linear regression</th>\n",
       "      <th>Support Vector Machine (Regression)</th>\n",
       "      <th>Decision Tree Regression</th>\n",
       "      <th>Neural network Regression</th>\n",
       "      <th>K Nearest neighbors</th>\n",
       "    </tr>\n",
       "  </thead>\n",
       "  <tbody>\n",
       "    <tr>\n",
       "      <th>2</th>\n",
       "      <td>-1.310450</td>\n",
       "      <td>1.000000</td>\n",
       "      <td>-0.781387</td>\n",
       "      <td>-2.193424</td>\n",
       "      <td>-0.780888</td>\n",
       "    </tr>\n",
       "    <tr>\n",
       "      <th>3</th>\n",
       "      <td>-17.720828</td>\n",
       "      <td>1.000000</td>\n",
       "      <td>-4.852670</td>\n",
       "      <td>-8.574589</td>\n",
       "      <td>-3.707021</td>\n",
       "    </tr>\n",
       "    <tr>\n",
       "      <th>4</th>\n",
       "      <td>-12.777181</td>\n",
       "      <td>1.000000</td>\n",
       "      <td>-3.449996</td>\n",
       "      <td>-2.005141</td>\n",
       "      <td>-2.340941</td>\n",
       "    </tr>\n",
       "    <tr>\n",
       "      <th>5</th>\n",
       "      <td>-108.378400</td>\n",
       "      <td>1.000000</td>\n",
       "      <td>-14.649392</td>\n",
       "      <td>-3.366922</td>\n",
       "      <td>-4.241267</td>\n",
       "    </tr>\n",
       "    <tr>\n",
       "      <th>6</th>\n",
       "      <td>-61.840816</td>\n",
       "      <td>1.000000</td>\n",
       "      <td>-3.378730</td>\n",
       "      <td>-0.006628</td>\n",
       "      <td>-2.683909</td>\n",
       "    </tr>\n",
       "    <tr>\n",
       "      <th>8</th>\n",
       "      <td>-164.796384</td>\n",
       "      <td>1.000000</td>\n",
       "      <td>-4.969236</td>\n",
       "      <td>0.157883</td>\n",
       "      <td>-2.928260</td>\n",
       "    </tr>\n",
       "    <tr>\n",
       "      <th>10</th>\n",
       "      <td>-252.240978</td>\n",
       "      <td>1.000000</td>\n",
       "      <td>-4.241073</td>\n",
       "      <td>0.029106</td>\n",
       "      <td>-2.948833</td>\n",
       "    </tr>\n",
       "    <tr>\n",
       "      <th>20</th>\n",
       "      <td>-8816.433664</td>\n",
       "      <td>0.999997</td>\n",
       "      <td>-9.759456</td>\n",
       "      <td>-23.711607</td>\n",
       "      <td>-11.249864</td>\n",
       "    </tr>\n",
       "  </tbody>\n",
       "</table>\n",
       "</div>"
      ],
      "text/plain": [
       "    Linear regression  Support Vector Machine (Regression)  \\\n",
       "2           -1.310450                             1.000000   \n",
       "3          -17.720828                             1.000000   \n",
       "4          -12.777181                             1.000000   \n",
       "5         -108.378400                             1.000000   \n",
       "6          -61.840816                             1.000000   \n",
       "8         -164.796384                             1.000000   \n",
       "10        -252.240978                             1.000000   \n",
       "20       -8816.433664                             0.999997   \n",
       "\n",
       "    Decision Tree Regression  Neural network Regression  K Nearest neighbors  \n",
       "2                  -0.781387                  -2.193424            -0.780888  \n",
       "3                  -4.852670                  -8.574589            -3.707021  \n",
       "4                  -3.449996                  -2.005141            -2.340941  \n",
       "5                 -14.649392                  -3.366922            -4.241267  \n",
       "6                  -3.378730                  -0.006628            -2.683909  \n",
       "8                  -4.969236                   0.157883            -2.928260  \n",
       "10                 -4.241073                   0.029106            -2.948833  \n",
       "20                 -9.759456                 -23.711607           -11.249864  "
      ]
     },
     "execution_count": 81,
     "metadata": {},
     "output_type": "execute_result"
    }
   ],
   "source": [
    "from sklearn.linear_model import LinearRegression\n",
    "\n",
    "linr = LinearRegression()\n",
    "linr.fit(x_train, y_train)\n",
    "\n",
    "\n",
    "models = [linr,svm_ropt,DTR_opt,NNR_opt,knn_opt]\n",
    "models_label = ['Linear regression','Support Vector Machine (Regression)','Decision Tree Regression','Neural network Regression','K Nearest neighbors']\n",
    "cv = [2,3,4,5,6,8,10,20]\n",
    "R2 = []\n",
    "Fittime = [] \n",
    "\n",
    "with warnings.catch_warnings():\n",
    "    # ignore all caught warnings\n",
    "    warnings.filterwarnings(\"ignore\")\n",
    "    for j in cv:\n",
    "        R2_cv = []\n",
    "        fittime_cv = []\n",
    "        for i in range(len(models)):\n",
    "            score = cross_validate(models[i], X, Y, cv=j)\n",
    "            R2_cv.append(np.mean(score['test_score']))\n",
    "            fittime_cv.append(np.mean(score['fit_time']))\n",
    "            \n",
    "        R2.append(R2_cv)\n",
    "        Fittime.append(fittime_cv)\n",
    "\n",
    "header = models_label\n",
    "table = R2\n",
    "print()\n",
    "print('R² mean of all models for different cv:')\n",
    "pd.DataFrame(table, columns = header,index = cv)"
   ]
  },
  {
   "cell_type": "markdown",
   "metadata": {},
   "source": [
    "RMQ: 0 signifique le model predit bien y mais qu'il s'en fou des input (model est indepandant des donné). score négatif sinfique le model est dégeulase. check https://scikit-learn.org/stable/modules/generated/sklearn.neural_network.MLPRegressor.html#sklearn.neural_network.MLPRegressor.score"
   ]
  },
  {
   "cell_type": "code",
   "execution_count": 82,
   "metadata": {},
   "outputs": [
    {
     "name": "stdout",
     "output_type": "stream",
     "text": [
      "\n",
      "Time of fit for all models in function of cv:\n"
     ]
    },
    {
     "data": {
      "text/html": [
       "<div>\n",
       "<style scoped>\n",
       "    .dataframe tbody tr th:only-of-type {\n",
       "        vertical-align: middle;\n",
       "    }\n",
       "\n",
       "    .dataframe tbody tr th {\n",
       "        vertical-align: top;\n",
       "    }\n",
       "\n",
       "    .dataframe thead th {\n",
       "        text-align: right;\n",
       "    }\n",
       "</style>\n",
       "<table border=\"1\" class=\"dataframe\">\n",
       "  <thead>\n",
       "    <tr style=\"text-align: right;\">\n",
       "      <th></th>\n",
       "      <th>Linear regression</th>\n",
       "      <th>Support Vector Machine (Regression)</th>\n",
       "      <th>Decision Tree Regression</th>\n",
       "      <th>Neural network Regression</th>\n",
       "      <th>K Nearest neighbors</th>\n",
       "    </tr>\n",
       "  </thead>\n",
       "  <tbody>\n",
       "    <tr>\n",
       "      <th>2</th>\n",
       "      <td>0.00050</td>\n",
       "      <td>0.000500</td>\n",
       "      <td>0.000000</td>\n",
       "      <td>0.115509</td>\n",
       "      <td>0.000499</td>\n",
       "    </tr>\n",
       "    <tr>\n",
       "      <th>3</th>\n",
       "      <td>0.00100</td>\n",
       "      <td>0.000667</td>\n",
       "      <td>0.000322</td>\n",
       "      <td>0.114333</td>\n",
       "      <td>0.000667</td>\n",
       "    </tr>\n",
       "    <tr>\n",
       "      <th>4</th>\n",
       "      <td>0.00025</td>\n",
       "      <td>0.000000</td>\n",
       "      <td>0.001000</td>\n",
       "      <td>0.091250</td>\n",
       "      <td>0.000499</td>\n",
       "    </tr>\n",
       "    <tr>\n",
       "      <th>5</th>\n",
       "      <td>0.00100</td>\n",
       "      <td>0.000200</td>\n",
       "      <td>0.000000</td>\n",
       "      <td>0.114302</td>\n",
       "      <td>0.000402</td>\n",
       "    </tr>\n",
       "    <tr>\n",
       "      <th>6</th>\n",
       "      <td>0.00000</td>\n",
       "      <td>0.000500</td>\n",
       "      <td>0.000833</td>\n",
       "      <td>0.116000</td>\n",
       "      <td>0.000167</td>\n",
       "    </tr>\n",
       "    <tr>\n",
       "      <th>8</th>\n",
       "      <td>0.00075</td>\n",
       "      <td>0.000126</td>\n",
       "      <td>0.000000</td>\n",
       "      <td>0.104117</td>\n",
       "      <td>0.000374</td>\n",
       "    </tr>\n",
       "    <tr>\n",
       "      <th>10</th>\n",
       "      <td>0.00050</td>\n",
       "      <td>0.000900</td>\n",
       "      <td>0.000000</td>\n",
       "      <td>0.110099</td>\n",
       "      <td>0.000500</td>\n",
       "    </tr>\n",
       "    <tr>\n",
       "      <th>20</th>\n",
       "      <td>0.00050</td>\n",
       "      <td>0.000100</td>\n",
       "      <td>0.000100</td>\n",
       "      <td>0.106801</td>\n",
       "      <td>0.000400</td>\n",
       "    </tr>\n",
       "  </tbody>\n",
       "</table>\n",
       "</div>"
      ],
      "text/plain": [
       "    Linear regression  Support Vector Machine (Regression)  \\\n",
       "2             0.00050                             0.000500   \n",
       "3             0.00100                             0.000667   \n",
       "4             0.00025                             0.000000   \n",
       "5             0.00100                             0.000200   \n",
       "6             0.00000                             0.000500   \n",
       "8             0.00075                             0.000126   \n",
       "10            0.00050                             0.000900   \n",
       "20            0.00050                             0.000100   \n",
       "\n",
       "    Decision Tree Regression  Neural network Regression  K Nearest neighbors  \n",
       "2                   0.000000                   0.115509             0.000499  \n",
       "3                   0.000322                   0.114333             0.000667  \n",
       "4                   0.001000                   0.091250             0.000499  \n",
       "5                   0.000000                   0.114302             0.000402  \n",
       "6                   0.000833                   0.116000             0.000167  \n",
       "8                   0.000000                   0.104117             0.000374  \n",
       "10                  0.000000                   0.110099             0.000500  \n",
       "20                  0.000100                   0.106801             0.000400  "
      ]
     },
     "execution_count": 82,
     "metadata": {},
     "output_type": "execute_result"
    }
   ],
   "source": [
    "header = models_label\n",
    "table = Fittime\n",
    "print()\n",
    "print('Time of fit for all models in function of cv:')\n",
    "pd.DataFrame(table, columns = header,index = cv)"
   ]
  },
  {
   "cell_type": "markdown",
   "metadata": {},
   "source": []
  },
  {
   "cell_type": "markdown",
   "metadata": {},
   "source": [
    "## How the size of the training set influance the algorithm efficiency "
   ]
  },
  {
   "cell_type": "code",
   "execution_count": 83,
   "metadata": {},
   "outputs": [],
   "source": [
    "def measurement(model,test_size,X,Y):\n",
    "    ''' Measure the training efficiency for a particular training size'''\n",
    "    measure = []\n",
    "    for i in range(len(test_size)):\n",
    "        x_train, x_test, y_train, y_test = train_test_split(X, Y, test_size = test_size[i], random_state = 25)\n",
    "        model.fit(x_train, y_train)\n",
    "        E_in = np.sqrt(mean_squared_error(y_train, model.predict(x_train)))\n",
    "        E_out = np.sqrt(mean_squared_error(y_test, model.predict(x_test)))\n",
    "        EV = explained_variance_score(Y, model.predict(X))\n",
    "        R2 = model.score(X,Y)\n",
    "        ME = median_absolute_error(Y, model.predict(X))\n",
    "        MAE = max_error(Y, model.predict(X))\n",
    "        measure.append([E_in,E_out,EV,R2,ME,MAE])\n",
    "    return measure\n",
    " \n",
    "\n",
    "test_size = [0.05,0.1,0.15,0.2,0.25,0.33,0.4,0.5,0.7,0.9,0.95]\n",
    "stat = ['E_in','E_out','EV','R²','ME','MAE']\n",
    "resume = []"
   ]
  },
  {
   "cell_type": "code",
   "execution_count": 84,
   "metadata": {},
   "outputs": [
    {
     "name": "stdout",
     "output_type": "stream",
     "text": [
      "\n",
      "Linear regression error for different training size:\n"
     ]
    },
    {
     "data": {
      "text/html": [
       "<div>\n",
       "<style scoped>\n",
       "    .dataframe tbody tr th:only-of-type {\n",
       "        vertical-align: middle;\n",
       "    }\n",
       "\n",
       "    .dataframe tbody tr th {\n",
       "        vertical-align: top;\n",
       "    }\n",
       "\n",
       "    .dataframe thead th {\n",
       "        text-align: right;\n",
       "    }\n",
       "</style>\n",
       "<table border=\"1\" class=\"dataframe\">\n",
       "  <thead>\n",
       "    <tr style=\"text-align: right;\">\n",
       "      <th></th>\n",
       "      <th>E_in</th>\n",
       "      <th>E_out</th>\n",
       "      <th>EV</th>\n",
       "      <th>R²</th>\n",
       "      <th>ME</th>\n",
       "      <th>MAE</th>\n",
       "    </tr>\n",
       "  </thead>\n",
       "  <tbody>\n",
       "    <tr>\n",
       "      <th>0.05</th>\n",
       "      <td>2.400434e+03</td>\n",
       "      <td>1877.170345</td>\n",
       "      <td>0.839091</td>\n",
       "      <td>0.839090</td>\n",
       "      <td>2164.821471</td>\n",
       "      <td>6074.913494</td>\n",
       "    </tr>\n",
       "    <tr>\n",
       "      <th>0.10</th>\n",
       "      <td>2.405258e+03</td>\n",
       "      <td>2076.415212</td>\n",
       "      <td>0.838805</td>\n",
       "      <td>0.838801</td>\n",
       "      <td>2179.763819</td>\n",
       "      <td>5928.285223</td>\n",
       "    </tr>\n",
       "    <tr>\n",
       "      <th>0.15</th>\n",
       "      <td>2.380481e+03</td>\n",
       "      <td>2400.255558</td>\n",
       "      <td>0.837596</td>\n",
       "      <td>0.837545</td>\n",
       "      <td>2159.983232</td>\n",
       "      <td>5766.759081</td>\n",
       "    </tr>\n",
       "    <tr>\n",
       "      <th>0.20</th>\n",
       "      <td>2.400758e+03</td>\n",
       "      <td>2362.369853</td>\n",
       "      <td>0.836598</td>\n",
       "      <td>0.836251</td>\n",
       "      <td>2199.295748</td>\n",
       "      <td>5722.186324</td>\n",
       "    </tr>\n",
       "    <tr>\n",
       "      <th>0.25</th>\n",
       "      <td>2.346628e+03</td>\n",
       "      <td>2467.250692</td>\n",
       "      <td>0.838858</td>\n",
       "      <td>0.838237</td>\n",
       "      <td>2160.813770</td>\n",
       "      <td>6103.370718</td>\n",
       "    </tr>\n",
       "    <tr>\n",
       "      <th>0.33</th>\n",
       "      <td>2.400763e+03</td>\n",
       "      <td>2368.858166</td>\n",
       "      <td>0.837525</td>\n",
       "      <td>0.836685</td>\n",
       "      <td>2152.842492</td>\n",
       "      <td>5886.952227</td>\n",
       "    </tr>\n",
       "    <tr>\n",
       "      <th>0.40</th>\n",
       "      <td>2.427429e+03</td>\n",
       "      <td>2357.664691</td>\n",
       "      <td>0.835548</td>\n",
       "      <td>0.835342</td>\n",
       "      <td>2242.399249</td>\n",
       "      <td>5601.042174</td>\n",
       "    </tr>\n",
       "    <tr>\n",
       "      <th>0.50</th>\n",
       "      <td>2.281541e+03</td>\n",
       "      <td>2502.235438</td>\n",
       "      <td>0.837935</td>\n",
       "      <td>0.836073</td>\n",
       "      <td>2231.665823</td>\n",
       "      <td>6026.273013</td>\n",
       "    </tr>\n",
       "    <tr>\n",
       "      <th>0.70</th>\n",
       "      <td>2.069309e+03</td>\n",
       "      <td>2698.467882</td>\n",
       "      <td>0.817642</td>\n",
       "      <td>0.817531</td>\n",
       "      <td>2440.210093</td>\n",
       "      <td>4581.759223</td>\n",
       "    </tr>\n",
       "    <tr>\n",
       "      <th>0.90</th>\n",
       "      <td>1.400879e+03</td>\n",
       "      <td>2495.262216</td>\n",
       "      <td>0.839083</td>\n",
       "      <td>0.834168</td>\n",
       "      <td>2088.546954</td>\n",
       "      <td>6581.535502</td>\n",
       "    </tr>\n",
       "    <tr>\n",
       "      <th>0.95</th>\n",
       "      <td>6.833042e-13</td>\n",
       "      <td>2533.375219</td>\n",
       "      <td>0.826728</td>\n",
       "      <td>0.823837</td>\n",
       "      <td>2310.000000</td>\n",
       "      <td>4680.000000</td>\n",
       "    </tr>\n",
       "  </tbody>\n",
       "</table>\n",
       "</div>"
      ],
      "text/plain": [
       "              E_in        E_out        EV        R²           ME          MAE\n",
       "0.05  2.400434e+03  1877.170345  0.839091  0.839090  2164.821471  6074.913494\n",
       "0.10  2.405258e+03  2076.415212  0.838805  0.838801  2179.763819  5928.285223\n",
       "0.15  2.380481e+03  2400.255558  0.837596  0.837545  2159.983232  5766.759081\n",
       "0.20  2.400758e+03  2362.369853  0.836598  0.836251  2199.295748  5722.186324\n",
       "0.25  2.346628e+03  2467.250692  0.838858  0.838237  2160.813770  6103.370718\n",
       "0.33  2.400763e+03  2368.858166  0.837525  0.836685  2152.842492  5886.952227\n",
       "0.40  2.427429e+03  2357.664691  0.835548  0.835342  2242.399249  5601.042174\n",
       "0.50  2.281541e+03  2502.235438  0.837935  0.836073  2231.665823  6026.273013\n",
       "0.70  2.069309e+03  2698.467882  0.817642  0.817531  2440.210093  4581.759223\n",
       "0.90  1.400879e+03  2495.262216  0.839083  0.834168  2088.546954  6581.535502\n",
       "0.95  6.833042e-13  2533.375219  0.826728  0.823837  2310.000000  4680.000000"
      ]
     },
     "execution_count": 84,
     "metadata": {},
     "output_type": "execute_result"
    }
   ],
   "source": [
    "header = stat\n",
    "table = measurement(linr,test_size,X,Y)\n",
    "print()\n",
    "print('Linear regression error for different training size:')\n",
    "pd.DataFrame(table, columns = header,index = test_size)"
   ]
  },
  {
   "cell_type": "code",
   "execution_count": 85,
   "metadata": {},
   "outputs": [
    {
     "name": "stdout",
     "output_type": "stream",
     "text": [
      "\n",
      "Support Vector Machine (Regression) error for different training size:\n"
     ]
    },
    {
     "data": {
      "text/html": [
       "<div>\n",
       "<style scoped>\n",
       "    .dataframe tbody tr th:only-of-type {\n",
       "        vertical-align: middle;\n",
       "    }\n",
       "\n",
       "    .dataframe tbody tr th {\n",
       "        vertical-align: top;\n",
       "    }\n",
       "\n",
       "    .dataframe thead th {\n",
       "        text-align: right;\n",
       "    }\n",
       "</style>\n",
       "<table border=\"1\" class=\"dataframe\">\n",
       "  <thead>\n",
       "    <tr style=\"text-align: right;\">\n",
       "      <th></th>\n",
       "      <th>E_in</th>\n",
       "      <th>E_out</th>\n",
       "      <th>EV</th>\n",
       "      <th>R²</th>\n",
       "      <th>ME</th>\n",
       "      <th>MAE</th>\n",
       "    </tr>\n",
       "  </thead>\n",
       "  <tbody>\n",
       "    <tr>\n",
       "      <th>0.05</th>\n",
       "      <td>0.040025</td>\n",
       "      <td>0.045152</td>\n",
       "      <td>1.0</td>\n",
       "      <td>1.0</td>\n",
       "      <td>0.014102</td>\n",
       "      <td>0.100031</td>\n",
       "    </tr>\n",
       "    <tr>\n",
       "      <th>0.10</th>\n",
       "      <td>0.040661</td>\n",
       "      <td>0.038174</td>\n",
       "      <td>1.0</td>\n",
       "      <td>1.0</td>\n",
       "      <td>0.014003</td>\n",
       "      <td>0.100204</td>\n",
       "    </tr>\n",
       "    <tr>\n",
       "      <th>0.15</th>\n",
       "      <td>0.041972</td>\n",
       "      <td>0.030620</td>\n",
       "      <td>1.0</td>\n",
       "      <td>1.0</td>\n",
       "      <td>0.014046</td>\n",
       "      <td>0.100031</td>\n",
       "    </tr>\n",
       "    <tr>\n",
       "      <th>0.20</th>\n",
       "      <td>0.041828</td>\n",
       "      <td>0.034402</td>\n",
       "      <td>1.0</td>\n",
       "      <td>1.0</td>\n",
       "      <td>0.014124</td>\n",
       "      <td>0.100272</td>\n",
       "    </tr>\n",
       "    <tr>\n",
       "      <th>0.25</th>\n",
       "      <td>0.038563</td>\n",
       "      <td>0.045017</td>\n",
       "      <td>1.0</td>\n",
       "      <td>1.0</td>\n",
       "      <td>0.014131</td>\n",
       "      <td>0.100031</td>\n",
       "    </tr>\n",
       "    <tr>\n",
       "      <th>0.33</th>\n",
       "      <td>0.040095</td>\n",
       "      <td>0.040636</td>\n",
       "      <td>1.0</td>\n",
       "      <td>1.0</td>\n",
       "      <td>0.013816</td>\n",
       "      <td>0.100056</td>\n",
       "    </tr>\n",
       "    <tr>\n",
       "      <th>0.40</th>\n",
       "      <td>0.041969</td>\n",
       "      <td>0.037831</td>\n",
       "      <td>1.0</td>\n",
       "      <td>1.0</td>\n",
       "      <td>0.014169</td>\n",
       "      <td>0.100114</td>\n",
       "    </tr>\n",
       "    <tr>\n",
       "      <th>0.50</th>\n",
       "      <td>0.042469</td>\n",
       "      <td>0.043049</td>\n",
       "      <td>1.0</td>\n",
       "      <td>1.0</td>\n",
       "      <td>0.014170</td>\n",
       "      <td>0.112817</td>\n",
       "    </tr>\n",
       "    <tr>\n",
       "      <th>0.70</th>\n",
       "      <td>0.050276</td>\n",
       "      <td>0.039409</td>\n",
       "      <td>1.0</td>\n",
       "      <td>1.0</td>\n",
       "      <td>0.014236</td>\n",
       "      <td>0.113342</td>\n",
       "    </tr>\n",
       "    <tr>\n",
       "      <th>0.90</th>\n",
       "      <td>0.064037</td>\n",
       "      <td>0.075354</td>\n",
       "      <td>1.0</td>\n",
       "      <td>1.0</td>\n",
       "      <td>0.027176</td>\n",
       "      <td>0.186686</td>\n",
       "    </tr>\n",
       "    <tr>\n",
       "      <th>0.95</th>\n",
       "      <td>0.100000</td>\n",
       "      <td>0.160112</td>\n",
       "      <td>1.0</td>\n",
       "      <td>1.0</td>\n",
       "      <td>0.101017</td>\n",
       "      <td>0.398545</td>\n",
       "    </tr>\n",
       "  </tbody>\n",
       "</table>\n",
       "</div>"
      ],
      "text/plain": [
       "          E_in     E_out   EV   R²        ME       MAE\n",
       "0.05  0.040025  0.045152  1.0  1.0  0.014102  0.100031\n",
       "0.10  0.040661  0.038174  1.0  1.0  0.014003  0.100204\n",
       "0.15  0.041972  0.030620  1.0  1.0  0.014046  0.100031\n",
       "0.20  0.041828  0.034402  1.0  1.0  0.014124  0.100272\n",
       "0.25  0.038563  0.045017  1.0  1.0  0.014131  0.100031\n",
       "0.33  0.040095  0.040636  1.0  1.0  0.013816  0.100056\n",
       "0.40  0.041969  0.037831  1.0  1.0  0.014169  0.100114\n",
       "0.50  0.042469  0.043049  1.0  1.0  0.014170  0.112817\n",
       "0.70  0.050276  0.039409  1.0  1.0  0.014236  0.113342\n",
       "0.90  0.064037  0.075354  1.0  1.0  0.027176  0.186686\n",
       "0.95  0.100000  0.160112  1.0  1.0  0.101017  0.398545"
      ]
     },
     "execution_count": 85,
     "metadata": {},
     "output_type": "execute_result"
    }
   ],
   "source": [
    "header = stat\n",
    "table = measurement(svm_ropt,test_size,X,Y)\n",
    "print()\n",
    "print('Support Vector Machine (Regression) error for different training size:')\n",
    "pd.DataFrame(table, columns = header,index = test_size)"
   ]
  },
  {
   "cell_type": "code",
   "execution_count": 86,
   "metadata": {},
   "outputs": [
    {
     "name": "stdout",
     "output_type": "stream",
     "text": [
      "\n",
      "Decision Tree Regression error for different training size:\n"
     ]
    },
    {
     "data": {
      "text/html": [
       "<div>\n",
       "<style scoped>\n",
       "    .dataframe tbody tr th:only-of-type {\n",
       "        vertical-align: middle;\n",
       "    }\n",
       "\n",
       "    .dataframe tbody tr th {\n",
       "        vertical-align: top;\n",
       "    }\n",
       "\n",
       "    .dataframe thead th {\n",
       "        text-align: right;\n",
       "    }\n",
       "</style>\n",
       "<table border=\"1\" class=\"dataframe\">\n",
       "  <thead>\n",
       "    <tr style=\"text-align: right;\">\n",
       "      <th></th>\n",
       "      <th>E_in</th>\n",
       "      <th>E_out</th>\n",
       "      <th>EV</th>\n",
       "      <th>R²</th>\n",
       "      <th>ME</th>\n",
       "      <th>MAE</th>\n",
       "    </tr>\n",
       "  </thead>\n",
       "  <tbody>\n",
       "    <tr>\n",
       "      <th>0.05</th>\n",
       "      <td>543.480548</td>\n",
       "      <td>1690.237878</td>\n",
       "      <td>0.987405</td>\n",
       "      <td>0.987160</td>\n",
       "      <td>315.500000</td>\n",
       "      <td>2208.000000</td>\n",
       "    </tr>\n",
       "    <tr>\n",
       "      <th>0.10</th>\n",
       "      <td>548.340993</td>\n",
       "      <td>1388.946867</td>\n",
       "      <td>0.987144</td>\n",
       "      <td>0.986747</td>\n",
       "      <td>237.500000</td>\n",
       "      <td>2208.000000</td>\n",
       "    </tr>\n",
       "    <tr>\n",
       "      <th>0.15</th>\n",
       "      <td>565.783110</td>\n",
       "      <td>1162.463304</td>\n",
       "      <td>0.986424</td>\n",
       "      <td>0.986130</td>\n",
       "      <td>315.500000</td>\n",
       "      <td>2208.000000</td>\n",
       "    </tr>\n",
       "    <tr>\n",
       "      <th>0.20</th>\n",
       "      <td>610.498376</td>\n",
       "      <td>1323.148715</td>\n",
       "      <td>0.981567</td>\n",
       "      <td>0.981463</td>\n",
       "      <td>328.500000</td>\n",
       "      <td>2952.000000</td>\n",
       "    </tr>\n",
       "    <tr>\n",
       "      <th>0.25</th>\n",
       "      <td>648.051803</td>\n",
       "      <td>1498.911148</td>\n",
       "      <td>0.974516</td>\n",
       "      <td>0.974412</td>\n",
       "      <td>331.583333</td>\n",
       "      <td>2975.000000</td>\n",
       "    </tr>\n",
       "    <tr>\n",
       "      <th>0.33</th>\n",
       "      <td>684.262004</td>\n",
       "      <td>1338.023558</td>\n",
       "      <td>0.973963</td>\n",
       "      <td>0.973760</td>\n",
       "      <td>356.500000</td>\n",
       "      <td>2975.000000</td>\n",
       "    </tr>\n",
       "    <tr>\n",
       "      <th>0.40</th>\n",
       "      <td>779.426206</td>\n",
       "      <td>1252.112773</td>\n",
       "      <td>0.971765</td>\n",
       "      <td>0.971648</td>\n",
       "      <td>439.583333</td>\n",
       "      <td>2975.000000</td>\n",
       "    </tr>\n",
       "    <tr>\n",
       "      <th>0.50</th>\n",
       "      <td>1133.715493</td>\n",
       "      <td>1925.472374</td>\n",
       "      <td>0.929631</td>\n",
       "      <td>0.928624</td>\n",
       "      <td>408.500000</td>\n",
       "      <td>5530.666667</td>\n",
       "    </tr>\n",
       "    <tr>\n",
       "      <th>0.70</th>\n",
       "      <td>1652.126058</td>\n",
       "      <td>2263.899337</td>\n",
       "      <td>0.874333</td>\n",
       "      <td>0.874009</td>\n",
       "      <td>756.000000</td>\n",
       "      <td>6245.500000</td>\n",
       "    </tr>\n",
       "    <tr>\n",
       "      <th>0.90</th>\n",
       "      <td>3619.890565</td>\n",
       "      <td>4420.765825</td>\n",
       "      <td>0.463533</td>\n",
       "      <td>0.459633</td>\n",
       "      <td>2329.500000</td>\n",
       "      <td>11540.000000</td>\n",
       "    </tr>\n",
       "    <tr>\n",
       "      <th>0.95</th>\n",
       "      <td>4631.000000</td>\n",
       "      <td>7413.230294</td>\n",
       "      <td>0.000000</td>\n",
       "      <td>-0.532978</td>\n",
       "      <td>4675.500000</td>\n",
       "      <td>18454.000000</td>\n",
       "    </tr>\n",
       "  </tbody>\n",
       "</table>\n",
       "</div>"
      ],
      "text/plain": [
       "             E_in        E_out        EV        R²           ME           MAE\n",
       "0.05   543.480548  1690.237878  0.987405  0.987160   315.500000   2208.000000\n",
       "0.10   548.340993  1388.946867  0.987144  0.986747   237.500000   2208.000000\n",
       "0.15   565.783110  1162.463304  0.986424  0.986130   315.500000   2208.000000\n",
       "0.20   610.498376  1323.148715  0.981567  0.981463   328.500000   2952.000000\n",
       "0.25   648.051803  1498.911148  0.974516  0.974412   331.583333   2975.000000\n",
       "0.33   684.262004  1338.023558  0.973963  0.973760   356.500000   2975.000000\n",
       "0.40   779.426206  1252.112773  0.971765  0.971648   439.583333   2975.000000\n",
       "0.50  1133.715493  1925.472374  0.929631  0.928624   408.500000   5530.666667\n",
       "0.70  1652.126058  2263.899337  0.874333  0.874009   756.000000   6245.500000\n",
       "0.90  3619.890565  4420.765825  0.463533  0.459633  2329.500000  11540.000000\n",
       "0.95  4631.000000  7413.230294  0.000000 -0.532978  4675.500000  18454.000000"
      ]
     },
     "execution_count": 86,
     "metadata": {},
     "output_type": "execute_result"
    }
   ],
   "source": [
    "header = stat\n",
    "table = measurement(DTR_opt,test_size,X,Y)\n",
    "print()\n",
    "print('Decision Tree Regression error for different training size:')\n",
    "pd.DataFrame(table, columns = header,index = test_size)"
   ]
  },
  {
   "cell_type": "code",
   "execution_count": 87,
   "metadata": {},
   "outputs": [
    {
     "name": "stdout",
     "output_type": "stream",
     "text": [
      "\n",
      "Neural network Regression error for different training size:\n"
     ]
    },
    {
     "data": {
      "text/html": [
       "<div>\n",
       "<style scoped>\n",
       "    .dataframe tbody tr th:only-of-type {\n",
       "        vertical-align: middle;\n",
       "    }\n",
       "\n",
       "    .dataframe tbody tr th {\n",
       "        vertical-align: top;\n",
       "    }\n",
       "\n",
       "    .dataframe thead th {\n",
       "        text-align: right;\n",
       "    }\n",
       "</style>\n",
       "<table border=\"1\" class=\"dataframe\">\n",
       "  <thead>\n",
       "    <tr style=\"text-align: right;\">\n",
       "      <th></th>\n",
       "      <th>E_in</th>\n",
       "      <th>E_out</th>\n",
       "      <th>EV</th>\n",
       "      <th>R²</th>\n",
       "      <th>ME</th>\n",
       "      <th>MAE</th>\n",
       "    </tr>\n",
       "  </thead>\n",
       "  <tbody>\n",
       "    <tr>\n",
       "      <th>0.05</th>\n",
       "      <td>92.503922</td>\n",
       "      <td>246.153468</td>\n",
       "      <td>0.999669</td>\n",
       "      <td>0.999666</td>\n",
       "      <td>49.377582</td>\n",
       "      <td>404.562451</td>\n",
       "    </tr>\n",
       "    <tr>\n",
       "      <th>0.10</th>\n",
       "      <td>58.909314</td>\n",
       "      <td>145.747037</td>\n",
       "      <td>0.999854</td>\n",
       "      <td>0.999850</td>\n",
       "      <td>42.478371</td>\n",
       "      <td>228.759727</td>\n",
       "    </tr>\n",
       "    <tr>\n",
       "      <th>0.15</th>\n",
       "      <td>114.661668</td>\n",
       "      <td>217.268015</td>\n",
       "      <td>0.999482</td>\n",
       "      <td>0.999468</td>\n",
       "      <td>69.338012</td>\n",
       "      <td>394.293558</td>\n",
       "    </tr>\n",
       "    <tr>\n",
       "      <th>0.20</th>\n",
       "      <td>61.899491</td>\n",
       "      <td>100.953865</td>\n",
       "      <td>0.999854</td>\n",
       "      <td>0.999854</td>\n",
       "      <td>45.775350</td>\n",
       "      <td>180.428505</td>\n",
       "    </tr>\n",
       "    <tr>\n",
       "      <th>0.25</th>\n",
       "      <td>25.543906</td>\n",
       "      <td>149.908253</td>\n",
       "      <td>0.999827</td>\n",
       "      <td>0.999819</td>\n",
       "      <td>23.112535</td>\n",
       "      <td>393.846236</td>\n",
       "    </tr>\n",
       "    <tr>\n",
       "      <th>0.33</th>\n",
       "      <td>81.837706</td>\n",
       "      <td>248.599753</td>\n",
       "      <td>0.999280</td>\n",
       "      <td>0.999273</td>\n",
       "      <td>51.390521</td>\n",
       "      <td>791.980855</td>\n",
       "    </tr>\n",
       "    <tr>\n",
       "      <th>0.40</th>\n",
       "      <td>55.623920</td>\n",
       "      <td>119.574975</td>\n",
       "      <td>0.999799</td>\n",
       "      <td>0.999783</td>\n",
       "      <td>29.173200</td>\n",
       "      <td>334.143879</td>\n",
       "    </tr>\n",
       "    <tr>\n",
       "      <th>0.50</th>\n",
       "      <td>39.822629</td>\n",
       "      <td>245.623887</td>\n",
       "      <td>0.999126</td>\n",
       "      <td>0.999115</td>\n",
       "      <td>50.654059</td>\n",
       "      <td>582.365340</td>\n",
       "    </tr>\n",
       "    <tr>\n",
       "      <th>0.70</th>\n",
       "      <td>202.291513</td>\n",
       "      <td>363.298936</td>\n",
       "      <td>0.997280</td>\n",
       "      <td>0.997007</td>\n",
       "      <td>230.324179</td>\n",
       "      <td>968.529781</td>\n",
       "    </tr>\n",
       "    <tr>\n",
       "      <th>0.90</th>\n",
       "      <td>0.000007</td>\n",
       "      <td>1758.809701</td>\n",
       "      <td>0.922321</td>\n",
       "      <td>0.920398</td>\n",
       "      <td>1153.003393</td>\n",
       "      <td>5036.989193</td>\n",
       "    </tr>\n",
       "    <tr>\n",
       "      <th>0.95</th>\n",
       "      <td>0.000094</td>\n",
       "      <td>4385.496984</td>\n",
       "      <td>0.656918</td>\n",
       "      <td>0.472097</td>\n",
       "      <td>2299.121358</td>\n",
       "      <td>13801.913158</td>\n",
       "    </tr>\n",
       "  </tbody>\n",
       "</table>\n",
       "</div>"
      ],
      "text/plain": [
       "            E_in        E_out        EV        R²           ME           MAE\n",
       "0.05   92.503922   246.153468  0.999669  0.999666    49.377582    404.562451\n",
       "0.10   58.909314   145.747037  0.999854  0.999850    42.478371    228.759727\n",
       "0.15  114.661668   217.268015  0.999482  0.999468    69.338012    394.293558\n",
       "0.20   61.899491   100.953865  0.999854  0.999854    45.775350    180.428505\n",
       "0.25   25.543906   149.908253  0.999827  0.999819    23.112535    393.846236\n",
       "0.33   81.837706   248.599753  0.999280  0.999273    51.390521    791.980855\n",
       "0.40   55.623920   119.574975  0.999799  0.999783    29.173200    334.143879\n",
       "0.50   39.822629   245.623887  0.999126  0.999115    50.654059    582.365340\n",
       "0.70  202.291513   363.298936  0.997280  0.997007   230.324179    968.529781\n",
       "0.90    0.000007  1758.809701  0.922321  0.920398  1153.003393   5036.989193\n",
       "0.95    0.000094  4385.496984  0.656918  0.472097  2299.121358  13801.913158"
      ]
     },
     "execution_count": 87,
     "metadata": {},
     "output_type": "execute_result"
    }
   ],
   "source": [
    "header = stat\n",
    "with warnings.catch_warnings():\n",
    "    # ignore all caught warnings\n",
    "    warnings.filterwarnings(\"ignore\")\n",
    "    table = measurement(NNR_opt,test_size,X,Y)\n",
    "print()\n",
    "print('Neural network Regression error for different training size:')\n",
    "pd.DataFrame(table, columns = header,index = test_size)"
   ]
  },
  {
   "cell_type": "code",
   "execution_count": 88,
   "metadata": {},
   "outputs": [
    {
     "name": "stdout",
     "output_type": "stream",
     "text": [
      "\n",
      "K Nearest neighbors error for different training size:\n"
     ]
    },
    {
     "data": {
      "text/html": [
       "<div>\n",
       "<style scoped>\n",
       "    .dataframe tbody tr th:only-of-type {\n",
       "        vertical-align: middle;\n",
       "    }\n",
       "\n",
       "    .dataframe tbody tr th {\n",
       "        vertical-align: top;\n",
       "    }\n",
       "\n",
       "    .dataframe thead th {\n",
       "        text-align: right;\n",
       "    }\n",
       "</style>\n",
       "<table border=\"1\" class=\"dataframe\">\n",
       "  <thead>\n",
       "    <tr style=\"text-align: right;\">\n",
       "      <th></th>\n",
       "      <th>E_in</th>\n",
       "      <th>E_out</th>\n",
       "      <th>EV</th>\n",
       "      <th>R²</th>\n",
       "      <th>ME</th>\n",
       "      <th>MAE</th>\n",
       "    </tr>\n",
       "  </thead>\n",
       "  <tbody>\n",
       "    <tr>\n",
       "      <th>0.05</th>\n",
       "      <td>0.0</td>\n",
       "      <td>51.555795</td>\n",
       "      <td>0.999995</td>\n",
       "      <td>0.999995</td>\n",
       "      <td>0.000</td>\n",
       "      <td>63.000000</td>\n",
       "    </tr>\n",
       "    <tr>\n",
       "      <th>0.10</th>\n",
       "      <td>0.0</td>\n",
       "      <td>46.591845</td>\n",
       "      <td>0.999994</td>\n",
       "      <td>0.999994</td>\n",
       "      <td>0.000</td>\n",
       "      <td>63.000000</td>\n",
       "    </tr>\n",
       "    <tr>\n",
       "      <th>0.15</th>\n",
       "      <td>0.0</td>\n",
       "      <td>46.296598</td>\n",
       "      <td>0.999990</td>\n",
       "      <td>0.999990</td>\n",
       "      <td>0.000</td>\n",
       "      <td>63.000000</td>\n",
       "    </tr>\n",
       "    <tr>\n",
       "      <th>0.20</th>\n",
       "      <td>0.0</td>\n",
       "      <td>761.572773</td>\n",
       "      <td>0.996687</td>\n",
       "      <td>0.996683</td>\n",
       "      <td>0.000</td>\n",
       "      <td>1893.333333</td>\n",
       "    </tr>\n",
       "    <tr>\n",
       "      <th>0.25</th>\n",
       "      <td>0.0</td>\n",
       "      <td>556.431303</td>\n",
       "      <td>0.997705</td>\n",
       "      <td>0.997698</td>\n",
       "      <td>0.000</td>\n",
       "      <td>1483.333333</td>\n",
       "    </tr>\n",
       "    <tr>\n",
       "      <th>0.33</th>\n",
       "      <td>0.0</td>\n",
       "      <td>578.521606</td>\n",
       "      <td>0.996751</td>\n",
       "      <td>0.996746</td>\n",
       "      <td>0.000</td>\n",
       "      <td>1483.333333</td>\n",
       "    </tr>\n",
       "    <tr>\n",
       "      <th>0.40</th>\n",
       "      <td>0.0</td>\n",
       "      <td>556.363595</td>\n",
       "      <td>0.996479</td>\n",
       "      <td>0.996460</td>\n",
       "      <td>0.000</td>\n",
       "      <td>1483.333333</td>\n",
       "    </tr>\n",
       "    <tr>\n",
       "      <th>0.50</th>\n",
       "      <td>0.0</td>\n",
       "      <td>773.050545</td>\n",
       "      <td>0.991745</td>\n",
       "      <td>0.991457</td>\n",
       "      <td>3.000</td>\n",
       "      <td>2595.000000</td>\n",
       "    </tr>\n",
       "    <tr>\n",
       "      <th>0.70</th>\n",
       "      <td>0.0</td>\n",
       "      <td>706.345301</td>\n",
       "      <td>0.990020</td>\n",
       "      <td>0.990014</td>\n",
       "      <td>146.000</td>\n",
       "      <td>2595.000000</td>\n",
       "    </tr>\n",
       "    <tr>\n",
       "      <th>0.90</th>\n",
       "      <td>0.0</td>\n",
       "      <td>2655.358760</td>\n",
       "      <td>0.818772</td>\n",
       "      <td>0.818560</td>\n",
       "      <td>837.000</td>\n",
       "      <td>8189.642857</td>\n",
       "    </tr>\n",
       "    <tr>\n",
       "      <th>0.95</th>\n",
       "      <td>0.0</td>\n",
       "      <td>5878.771474</td>\n",
       "      <td>0.402132</td>\n",
       "      <td>0.051386</td>\n",
       "      <td>3179.475</td>\n",
       "      <td>16955.735294</td>\n",
       "    </tr>\n",
       "  </tbody>\n",
       "</table>\n",
       "</div>"
      ],
      "text/plain": [
       "      E_in        E_out        EV        R²        ME           MAE\n",
       "0.05   0.0    51.555795  0.999995  0.999995     0.000     63.000000\n",
       "0.10   0.0    46.591845  0.999994  0.999994     0.000     63.000000\n",
       "0.15   0.0    46.296598  0.999990  0.999990     0.000     63.000000\n",
       "0.20   0.0   761.572773  0.996687  0.996683     0.000   1893.333333\n",
       "0.25   0.0   556.431303  0.997705  0.997698     0.000   1483.333333\n",
       "0.33   0.0   578.521606  0.996751  0.996746     0.000   1483.333333\n",
       "0.40   0.0   556.363595  0.996479  0.996460     0.000   1483.333333\n",
       "0.50   0.0   773.050545  0.991745  0.991457     3.000   2595.000000\n",
       "0.70   0.0   706.345301  0.990020  0.990014   146.000   2595.000000\n",
       "0.90   0.0  2655.358760  0.818772  0.818560   837.000   8189.642857\n",
       "0.95   0.0  5878.771474  0.402132  0.051386  3179.475  16955.735294"
      ]
     },
     "execution_count": 88,
     "metadata": {},
     "output_type": "execute_result"
    }
   ],
   "source": [
    "header = stat\n",
    "table = measurement(knn_opt,test_size,X,Y)\n",
    "print()\n",
    "print('K Nearest neighbors error for different training size:')\n",
    "pd.DataFrame(table, columns = header,index = test_size)"
   ]
  },
  {
   "cell_type": "markdown",
   "metadata": {},
   "source": [
    "### Discusion"
   ]
  },
  {
   "cell_type": "markdown",
   "metadata": {},
   "source": []
  },
  {
   "cell_type": "markdown",
   "metadata": {},
   "source": [
    "### Application on real data set"
   ]
  },
  {
   "cell_type": "code",
   "execution_count": 89,
   "metadata": {},
   "outputs": [
    {
     "name": "stdout",
     "output_type": "stream",
     "text": [
      "The data's dimension are (7375, 7)\n",
      "The features of the data are:  ['date', 'area', 'average_price', 'code', 'houses_sold', 'no_of_crimes', 'borough_flag']\n"
     ]
    }
   ],
   "source": [
    "data = pd.read_csv('datasets_619175_1118179_housing_in_london_monthly_variables.csv')\n",
    "\n",
    "data = data.dropna()\n",
    "\n",
    "print(\"The data's dimension are\", data.shape)\n",
    "print('The features of the data are: ', list(data.columns))"
   ]
  },
  {
   "cell_type": "markdown",
   "metadata": {},
   "source": [
    "Let's explore our data"
   ]
  },
  {
   "cell_type": "code",
   "execution_count": 90,
   "metadata": {},
   "outputs": [
    {
     "name": "stdout",
     "output_type": "stream",
     "text": [
      "The correlation matrix shows the average price in function of all variables:\n",
      "houses_sold     -0.305322\n",
      "no_of_crimes     0.109721\n",
      "average_price    1.000000\n",
      "borough_flag          NaN\n",
      "Name: average_price, dtype: float64\n"
     ]
    },
    {
     "data": {
      "image/png": "[encoded data removed]",
      "text/plain": [
       "<Figure size 504x504 with 16 Axes>"
      ]
     },
     "metadata": {
      "needs_background": "light"
     },
     "output_type": "display_data"
    }
   ],
   "source": [
    "from pandas.plotting import scatter_matrix\n",
    "\n",
    "with warnings.catch_warnings():\n",
    "    # ignore all caught warnings\n",
    "    warnings.filterwarnings(\"ignore\")\n",
    "    corr_matrix = data.corr()\n",
    "    print('The correlation matrix shows the average price in function of all variables:')\n",
    "    print(corr_matrix['average_price'].sort_values())\n",
    "\n",
    "    scatter_matrix(data[list(data.columns)], figsize=[len(list(data.columns)),len(list(data.columns))])\n",
    "    plt.show()"
   ]
  },
  {
   "cell_type": "markdown",
   "metadata": {},
   "source": [
    "Let's build our regression model"
   ]
  },
  {
   "cell_type": "code",
   "execution_count": 91,
   "metadata": {},
   "outputs": [
    {
     "name": "stdout",
     "output_type": "stream",
     "text": [
      "\n",
      "Summary of the performance of all models on real data set:\n"
     ]
    },
    {
     "ename": "TypeError",
     "evalue": "Index(...) must be called with a collection of some kind, 'R²' was passed",
     "output_type": "error",
     "traceback": [
      "\u001b[1;31m---------------------------------------------------------------------------\u001b[0m",
      "\u001b[1;31mTypeError\u001b[0m                                 Traceback (most recent call last)",
      "\u001b[1;32m<ipython-input-91-f9e975341e93>\u001b[0m in \u001b[0;36m<module>\u001b[1;34m\u001b[0m\n\u001b[0;32m     37\u001b[0m \u001b[0mprint\u001b[0m\u001b[1;33m(\u001b[0m\u001b[1;33m)\u001b[0m\u001b[1;33m\u001b[0m\u001b[1;33m\u001b[0m\u001b[0m\n\u001b[0;32m     38\u001b[0m \u001b[0mprint\u001b[0m\u001b[1;33m(\u001b[0m\u001b[1;34m'Summary of the performance of all models on real data set:'\u001b[0m\u001b[1;33m)\u001b[0m\u001b[1;33m\u001b[0m\u001b[1;33m\u001b[0m\u001b[0m\n\u001b[1;32m---> 39\u001b[1;33m \u001b[0mpd\u001b[0m\u001b[1;33m.\u001b[0m\u001b[0mDataFrame\u001b[0m\u001b[1;33m(\u001b[0m\u001b[0mtable\u001b[0m\u001b[1;33m,\u001b[0m \u001b[0mcolumns\u001b[0m \u001b[1;33m=\u001b[0m \u001b[0mheader\u001b[0m\u001b[1;33m,\u001b[0m\u001b[0mindex\u001b[0m \u001b[1;33m=\u001b[0m \u001b[1;34m'R²'\u001b[0m\u001b[1;33m)\u001b[0m\u001b[1;33m\u001b[0m\u001b[1;33m\u001b[0m\u001b[0m\n\u001b[0m\u001b[0;32m     40\u001b[0m \u001b[1;33m\u001b[0m\u001b[0m\n",
      "\u001b[1;32m~\\AppData\\Roaming\\Python\\Python37\\site-packages\\pandas\\core\\frame.py\u001b[0m in \u001b[0;36m__init__\u001b[1;34m(self, data, index, columns, dtype, copy)\u001b[0m\n\u001b[0;32m    462\u001b[0m                     \u001b[0mmgr\u001b[0m \u001b[1;33m=\u001b[0m \u001b[0marrays_to_mgr\u001b[0m\u001b[1;33m(\u001b[0m\u001b[0marrays\u001b[0m\u001b[1;33m,\u001b[0m \u001b[0mcolumns\u001b[0m\u001b[1;33m,\u001b[0m \u001b[0mindex\u001b[0m\u001b[1;33m,\u001b[0m \u001b[0mcolumns\u001b[0m\u001b[1;33m,\u001b[0m \u001b[0mdtype\u001b[0m\u001b[1;33m=\u001b[0m\u001b[0mdtype\u001b[0m\u001b[1;33m)\u001b[0m\u001b[1;33m\u001b[0m\u001b[1;33m\u001b[0m\u001b[0m\n\u001b[0;32m    463\u001b[0m                 \u001b[1;32melse\u001b[0m\u001b[1;33m:\u001b[0m\u001b[1;33m\u001b[0m\u001b[1;33m\u001b[0m\u001b[0m\n\u001b[1;32m--> 464\u001b[1;33m                     \u001b[0mmgr\u001b[0m \u001b[1;33m=\u001b[0m \u001b[0minit_ndarray\u001b[0m\u001b[1;33m(\u001b[0m\u001b[0mdata\u001b[0m\u001b[1;33m,\u001b[0m \u001b[0mindex\u001b[0m\u001b[1;33m,\u001b[0m \u001b[0mcolumns\u001b[0m\u001b[1;33m,\u001b[0m \u001b[0mdtype\u001b[0m\u001b[1;33m=\u001b[0m\u001b[0mdtype\u001b[0m\u001b[1;33m,\u001b[0m \u001b[0mcopy\u001b[0m\u001b[1;33m=\u001b[0m\u001b[0mcopy\u001b[0m\u001b[1;33m)\u001b[0m\u001b[1;33m\u001b[0m\u001b[1;33m\u001b[0m\u001b[0m\n\u001b[0m\u001b[0;32m    465\u001b[0m             \u001b[1;32melse\u001b[0m\u001b[1;33m:\u001b[0m\u001b[1;33m\u001b[0m\u001b[1;33m\u001b[0m\u001b[0m\n\u001b[0;32m    466\u001b[0m                 \u001b[0mmgr\u001b[0m \u001b[1;33m=\u001b[0m \u001b[0minit_dict\u001b[0m\u001b[1;33m(\u001b[0m\u001b[1;33m{\u001b[0m\u001b[1;33m}\u001b[0m\u001b[1;33m,\u001b[0m \u001b[0mindex\u001b[0m\u001b[1;33m,\u001b[0m \u001b[0mcolumns\u001b[0m\u001b[1;33m,\u001b[0m \u001b[0mdtype\u001b[0m\u001b[1;33m=\u001b[0m\u001b[0mdtype\u001b[0m\u001b[1;33m)\u001b[0m\u001b[1;33m\u001b[0m\u001b[1;33m\u001b[0m\u001b[0m\n",
      "\u001b[1;32m~\\AppData\\Roaming\\Python\\Python37\\site-packages\\pandas\\core\\internals\\construction.py\u001b[0m in \u001b[0;36minit_ndarray\u001b[1;34m(values, index, columns, dtype, copy)\u001b[0m\n\u001b[0;32m    182\u001b[0m                 \u001b[0mraise_with_traceback\u001b[0m\u001b[1;33m(\u001b[0m\u001b[0me\u001b[0m\u001b[1;33m)\u001b[0m\u001b[1;33m\u001b[0m\u001b[1;33m\u001b[0m\u001b[0m\n\u001b[0;32m    183\u001b[0m \u001b[1;33m\u001b[0m\u001b[0m\n\u001b[1;32m--> 184\u001b[1;33m     \u001b[0mindex\u001b[0m\u001b[1;33m,\u001b[0m \u001b[0mcolumns\u001b[0m \u001b[1;33m=\u001b[0m \u001b[0m_get_axes\u001b[0m\u001b[1;33m(\u001b[0m\u001b[1;33m*\u001b[0m\u001b[0mvalues\u001b[0m\u001b[1;33m.\u001b[0m\u001b[0mshape\u001b[0m\u001b[1;33m,\u001b[0m \u001b[0mindex\u001b[0m\u001b[1;33m=\u001b[0m\u001b[0mindex\u001b[0m\u001b[1;33m,\u001b[0m \u001b[0mcolumns\u001b[0m\u001b[1;33m=\u001b[0m\u001b[0mcolumns\u001b[0m\u001b[1;33m)\u001b[0m\u001b[1;33m\u001b[0m\u001b[1;33m\u001b[0m\u001b[0m\n\u001b[0m\u001b[0;32m    185\u001b[0m     \u001b[0mvalues\u001b[0m \u001b[1;33m=\u001b[0m \u001b[0mvalues\u001b[0m\u001b[1;33m.\u001b[0m\u001b[0mT\u001b[0m\u001b[1;33m\u001b[0m\u001b[1;33m\u001b[0m\u001b[0m\n\u001b[0;32m    186\u001b[0m \u001b[1;33m\u001b[0m\u001b[0m\n",
      "\u001b[1;32m~\\AppData\\Roaming\\Python\\Python37\\site-packages\\pandas\\core\\internals\\construction.py\u001b[0m in \u001b[0;36m_get_axes\u001b[1;34m(N, K, index, columns)\u001b[0m\n\u001b[0;32m    425\u001b[0m         \u001b[0mindex\u001b[0m \u001b[1;33m=\u001b[0m \u001b[0mibase\u001b[0m\u001b[1;33m.\u001b[0m\u001b[0mdefault_index\u001b[0m\u001b[1;33m(\u001b[0m\u001b[0mN\u001b[0m\u001b[1;33m)\u001b[0m\u001b[1;33m\u001b[0m\u001b[1;33m\u001b[0m\u001b[0m\n\u001b[0;32m    426\u001b[0m     \u001b[1;32melse\u001b[0m\u001b[1;33m:\u001b[0m\u001b[1;33m\u001b[0m\u001b[1;33m\u001b[0m\u001b[0m\n\u001b[1;32m--> 427\u001b[1;33m         \u001b[0mindex\u001b[0m \u001b[1;33m=\u001b[0m \u001b[0mensure_index\u001b[0m\u001b[1;33m(\u001b[0m\u001b[0mindex\u001b[0m\u001b[1;33m)\u001b[0m\u001b[1;33m\u001b[0m\u001b[1;33m\u001b[0m\u001b[0m\n\u001b[0m\u001b[0;32m    428\u001b[0m \u001b[1;33m\u001b[0m\u001b[0m\n\u001b[0;32m    429\u001b[0m     \u001b[1;32mif\u001b[0m \u001b[0mcolumns\u001b[0m \u001b[1;32mis\u001b[0m \u001b[1;32mNone\u001b[0m\u001b[1;33m:\u001b[0m\u001b[1;33m\u001b[0m\u001b[1;33m\u001b[0m\u001b[0m\n",
      "\u001b[1;32m~\\AppData\\Roaming\\Python\\Python37\\site-packages\\pandas\\core\\indexes\\base.py\u001b[0m in \u001b[0;36mensure_index\u001b[1;34m(index_like, copy)\u001b[0m\n\u001b[0;32m   5769\u001b[0m             \u001b[0mindex_like\u001b[0m \u001b[1;33m=\u001b[0m \u001b[0mcopy\u001b[0m\u001b[1;33m(\u001b[0m\u001b[0mindex_like\u001b[0m\u001b[1;33m)\u001b[0m\u001b[1;33m\u001b[0m\u001b[1;33m\u001b[0m\u001b[0m\n\u001b[0;32m   5770\u001b[0m \u001b[1;33m\u001b[0m\u001b[0m\n\u001b[1;32m-> 5771\u001b[1;33m     \u001b[1;32mreturn\u001b[0m \u001b[0mIndex\u001b[0m\u001b[1;33m(\u001b[0m\u001b[0mindex_like\u001b[0m\u001b[1;33m)\u001b[0m\u001b[1;33m\u001b[0m\u001b[1;33m\u001b[0m\u001b[0m\n\u001b[0m\u001b[0;32m   5772\u001b[0m \u001b[1;33m\u001b[0m\u001b[0m\n\u001b[0;32m   5773\u001b[0m \u001b[1;33m\u001b[0m\u001b[0m\n",
      "\u001b[1;32m~\\AppData\\Roaming\\Python\\Python37\\site-packages\\pandas\\core\\indexes\\base.py\u001b[0m in \u001b[0;36m__new__\u001b[1;34m(cls, data, dtype, copy, name, fastpath, tupleize_cols, **kwargs)\u001b[0m\n\u001b[0;32m    517\u001b[0m             \u001b[1;32mreturn\u001b[0m \u001b[0mIndex\u001b[0m\u001b[1;33m(\u001b[0m\u001b[0mnp\u001b[0m\u001b[1;33m.\u001b[0m\u001b[0masarray\u001b[0m\u001b[1;33m(\u001b[0m\u001b[0mdata\u001b[0m\u001b[1;33m)\u001b[0m\u001b[1;33m,\u001b[0m \u001b[0mdtype\u001b[0m\u001b[1;33m=\u001b[0m\u001b[0mdtype\u001b[0m\u001b[1;33m,\u001b[0m \u001b[0mcopy\u001b[0m\u001b[1;33m=\u001b[0m\u001b[0mcopy\u001b[0m\u001b[1;33m,\u001b[0m \u001b[0mname\u001b[0m\u001b[1;33m=\u001b[0m\u001b[0mname\u001b[0m\u001b[1;33m,\u001b[0m \u001b[1;33m**\u001b[0m\u001b[0mkwargs\u001b[0m\u001b[1;33m)\u001b[0m\u001b[1;33m\u001b[0m\u001b[1;33m\u001b[0m\u001b[0m\n\u001b[0;32m    518\u001b[0m         \u001b[1;32melif\u001b[0m \u001b[0mdata\u001b[0m \u001b[1;32mis\u001b[0m \u001b[1;32mNone\u001b[0m \u001b[1;32mor\u001b[0m \u001b[0mis_scalar\u001b[0m\u001b[1;33m(\u001b[0m\u001b[0mdata\u001b[0m\u001b[1;33m)\u001b[0m\u001b[1;33m:\u001b[0m\u001b[1;33m\u001b[0m\u001b[1;33m\u001b[0m\u001b[0m\n\u001b[1;32m--> 519\u001b[1;33m             \u001b[0mcls\u001b[0m\u001b[1;33m.\u001b[0m\u001b[0m_scalar_data_error\u001b[0m\u001b[1;33m(\u001b[0m\u001b[0mdata\u001b[0m\u001b[1;33m)\u001b[0m\u001b[1;33m\u001b[0m\u001b[1;33m\u001b[0m\u001b[0m\n\u001b[0m\u001b[0;32m    520\u001b[0m         \u001b[1;32melse\u001b[0m\u001b[1;33m:\u001b[0m\u001b[1;33m\u001b[0m\u001b[1;33m\u001b[0m\u001b[0m\n\u001b[0;32m    521\u001b[0m             \u001b[1;32mif\u001b[0m \u001b[0mtupleize_cols\u001b[0m \u001b[1;32mand\u001b[0m \u001b[0mis_list_like\u001b[0m\u001b[1;33m(\u001b[0m\u001b[0mdata\u001b[0m\u001b[1;33m)\u001b[0m\u001b[1;33m:\u001b[0m\u001b[1;33m\u001b[0m\u001b[1;33m\u001b[0m\u001b[0m\n",
      "\u001b[1;32m~\\AppData\\Roaming\\Python\\Python37\\site-packages\\pandas\\core\\indexes\\base.py\u001b[0m in \u001b[0;36m_scalar_data_error\u001b[1;34m(cls, data)\u001b[0m\n\u001b[0;32m   4106\u001b[0m         raise TypeError(\n\u001b[0;32m   4107\u001b[0m             \u001b[1;34m\"{0}(...) must be called with a collection of some \"\u001b[0m\u001b[1;33m\u001b[0m\u001b[1;33m\u001b[0m\u001b[0m\n\u001b[1;32m-> 4108\u001b[1;33m             \u001b[1;34m\"kind, {1} was passed\"\u001b[0m\u001b[1;33m.\u001b[0m\u001b[0mformat\u001b[0m\u001b[1;33m(\u001b[0m\u001b[0mcls\u001b[0m\u001b[1;33m.\u001b[0m\u001b[0m__name__\u001b[0m\u001b[1;33m,\u001b[0m \u001b[0mrepr\u001b[0m\u001b[1;33m(\u001b[0m\u001b[0mdata\u001b[0m\u001b[1;33m)\u001b[0m\u001b[1;33m)\u001b[0m\u001b[1;33m\u001b[0m\u001b[1;33m\u001b[0m\u001b[0m\n\u001b[0m\u001b[0;32m   4109\u001b[0m         )\n\u001b[0;32m   4110\u001b[0m \u001b[1;33m\u001b[0m\u001b[0m\n",
      "\u001b[1;31mTypeError\u001b[0m: Index(...) must be called with a collection of some kind, 'R²' was passed"
     ]
    }
   ],
   "source": [
    "Yd = data['average_price']\n",
    "Xd = data['houses_sold']\n",
    "\n",
    "Yd = np.array(Yd)\n",
    "Xd = np.array(Xd)\n",
    "Xd.resize((len(Xd),1))\n",
    "\n",
    "with warnings.catch_warnings():\n",
    "    # ignore all caught warnings\n",
    "    warnings.filterwarnings(\"ignore\")\n",
    "    #Split set\n",
    "    xd_train, xd_test, yd_train, yd_test = train_test_split(Xd, Yd, test_size = 0.25, random_state = 25)\n",
    "    #linr\n",
    "    linrd = LinearRegression()\n",
    "    linrd.fit(xd_train, yd_train)\n",
    "    #SVMR\n",
    "    param_grid = {'C': [0.001, 0.01, 0.1, 1, 10, 100, 1000], 'kernel':['linear', 'poly', 'rbf', 'sigmoid']}\n",
    "    svm_roptd = GridSearchCV(SVR(), param_grid, cv=5, verbose=0)\n",
    "    svm_roptd.fit(xd_train, yd_train)\n",
    "    #DTR\n",
    "    param_grid = {\"criterion\": [\"mse\", \"mae\"],\"max_depth\": [2, 3, 4, 8, 10, 20],\"min_samples_split\": [2, 3, 5, 8, 10, 20, 40],\"min_samples_leaf\": [2, 5, 10, 15, 20, 40, 100],\"max_leaf_nodes\": [2, 5, 10,15, 20,40, 100]}\n",
    "    DTR_optd = GridSearchCV(DecisionTreeRegressor(), param_grid, cv=5, verbose=0)\n",
    "    DTR_optd.fit(xd_train, yd_train)\n",
    "    #NNR\n",
    "    param_grid = {\"hidden_layer_sizes\": [(i,i) for i in range(1,25)], \"alpha\": [0.00005,0.0001,0.0005],\"activation\" : ['logistic', 'tanh', 'relu']}\n",
    "    NNR_optd = GridSearchCV(MLPRegressor(solver = \"lbfgs\"), param_grid, cv=5, verbose=0)\n",
    "    NNR_optd.fit(xd_train, yd_train)\n",
    "    #Knn\n",
    "    param_grid = {\"n_neighbors\": [2,3,4,5,6,7,8,9],\"leaf_size\": [2,5,10,20,30,50,100], \"weights\": [\"uniform\", \"distance\"], \"metric\": [\"euclidean\", \"manhattan\"]}\n",
    "    knn_optd = GridSearchCV(neighbors.KNeighborsRegressor(), param_grid, cv=5, verbose=0)\n",
    "    knn_optd.fit(xd_train, yd_train)\n",
    "    summary_r2 = [linrd.score(xd_test, yd_test),svm_roptd.score(xd_test, yd_test),DTR_optd.score(xd_test, yd_test),NNR_optd,knn_optd.score(xd_test, yd_test)]\n",
    "    "
   ]
  },
  {
   "cell_type": "code",
   "execution_count": 100,
   "metadata": {},
   "outputs": [
    {
     "name": "stdout",
     "output_type": "stream",
     "text": [
      "GridSearchCV(cv=5, error_score=nan,\n",
      "             estimator=MLPRegressor(activation='relu', alpha=0.0001,\n",
      "                                    batch_size='auto', beta_1=0.9, beta_2=0.999,\n",
      "                                    early_stopping=False, epsilon=1e-08,\n",
      "                                    hidden_layer_sizes=(100,),\n",
      "                                    learning_rate='constant',\n",
      "                                    learning_rate_init=0.001, max_fun=15000,\n",
      "                                    max_iter=200, momentum=0.9,\n",
      "                                    n_iter_no_change=10,\n",
      "                                    nesterovs_momentum=True, power_t=0.5,\n",
      "                                    random_state=...\n",
      "             param_grid={'activation': ['logistic', 'tanh', 'relu'],\n",
      "                         'alpha': [5e-05, 0.0001, 0.0005],\n",
      "                         'hidden_layer_sizes': [(1, 1), (2, 2), (3, 3), (4, 4),\n",
      "                                                (5, 5), (6, 6), (7, 7), (8, 8),\n",
      "                                                (9, 9), (10, 10), (11, 11),\n",
      "                                                (12, 12), (13, 13), (14, 14),\n",
      "                                                (15, 15), (16, 16), (17, 17),\n",
      "                                                (18, 18), (19, 19), (20, 20),\n",
      "                                                (21, 21), (22, 22), (23, 23),\n",
      "                                                (24, 24)]},\n",
      "             pre_dispatch='2*n_jobs', refit=True, return_train_score=False,\n",
      "             scoring=None, verbose=0)\n"
     ]
    }
   ],
   "source": [
    "print(summary_r2[3])"
   ]
  },
  {
   "cell_type": "code",
   "execution_count": 101,
   "metadata": {},
   "outputs": [
    {
     "name": "stdout",
     "output_type": "stream",
     "text": [
      "\n",
      "Linear regression error for different training size:\n"
     ]
    },
    {
     "data": {
      "text/html": [
       "<div>\n",
       "<style scoped>\n",
       "    .dataframe tbody tr th:only-of-type {\n",
       "        vertical-align: middle;\n",
       "    }\n",
       "\n",
       "    .dataframe tbody tr th {\n",
       "        vertical-align: top;\n",
       "    }\n",
       "\n",
       "    .dataframe thead th {\n",
       "        text-align: right;\n",
       "    }\n",
       "</style>\n",
       "<table border=\"1\" class=\"dataframe\">\n",
       "  <thead>\n",
       "    <tr style=\"text-align: right;\">\n",
       "      <th></th>\n",
       "      <th>E_in</th>\n",
       "      <th>E_out</th>\n",
       "      <th>EV</th>\n",
       "      <th>R²</th>\n",
       "      <th>ME</th>\n",
       "      <th>MAE</th>\n",
       "    </tr>\n",
       "  </thead>\n",
       "  <tbody>\n",
       "    <tr>\n",
       "      <th>0.05</th>\n",
       "      <td>178692.598747</td>\n",
       "      <td>189928.596632</td>\n",
       "      <td>0.093221</td>\n",
       "      <td>0.093205</td>\n",
       "      <td>101209.515021</td>\n",
       "      <td>1.045976e+06</td>\n",
       "    </tr>\n",
       "    <tr>\n",
       "      <th>0.10</th>\n",
       "      <td>178871.905628</td>\n",
       "      <td>182829.820182</td>\n",
       "      <td>0.093218</td>\n",
       "      <td>0.093201</td>\n",
       "      <td>101265.393348</td>\n",
       "      <td>1.045701e+06</td>\n",
       "    </tr>\n",
       "    <tr>\n",
       "      <th>0.15</th>\n",
       "      <td>179800.114133</td>\n",
       "      <td>176237.789868</td>\n",
       "      <td>0.093222</td>\n",
       "      <td>0.093221</td>\n",
       "      <td>101616.560220</td>\n",
       "      <td>1.045434e+06</td>\n",
       "    </tr>\n",
       "    <tr>\n",
       "      <th>0.20</th>\n",
       "      <td>179315.888998</td>\n",
       "      <td>179101.135440</td>\n",
       "      <td>0.093193</td>\n",
       "      <td>0.093191</td>\n",
       "      <td>101381.845748</td>\n",
       "      <td>1.044356e+06</td>\n",
       "    </tr>\n",
       "    <tr>\n",
       "      <th>0.25</th>\n",
       "      <td>179202.605588</td>\n",
       "      <td>179477.203429</td>\n",
       "      <td>0.093214</td>\n",
       "      <td>0.093207</td>\n",
       "      <td>101956.770200</td>\n",
       "      <td>1.044220e+06</td>\n",
       "    </tr>\n",
       "    <tr>\n",
       "      <th>0.33</th>\n",
       "      <td>179527.387884</td>\n",
       "      <td>178750.274523</td>\n",
       "      <td>0.093208</td>\n",
       "      <td>0.093208</td>\n",
       "      <td>101665.850744</td>\n",
       "      <td>1.044367e+06</td>\n",
       "    </tr>\n",
       "    <tr>\n",
       "      <th>0.40</th>\n",
       "      <td>180756.311549</td>\n",
       "      <td>177026.056452</td>\n",
       "      <td>0.093211</td>\n",
       "      <td>0.093185</td>\n",
       "      <td>102027.661671</td>\n",
       "      <td>1.045197e+06</td>\n",
       "    </tr>\n",
       "    <tr>\n",
       "      <th>0.50</th>\n",
       "      <td>182039.160768</td>\n",
       "      <td>176493.773984</td>\n",
       "      <td>0.093221</td>\n",
       "      <td>0.093043</td>\n",
       "      <td>102854.297342</td>\n",
       "      <td>1.043026e+06</td>\n",
       "    </tr>\n",
       "    <tr>\n",
       "      <th>0.70</th>\n",
       "      <td>178974.034957</td>\n",
       "      <td>179429.940842</td>\n",
       "      <td>0.093032</td>\n",
       "      <td>0.092985</td>\n",
       "      <td>102326.404706</td>\n",
       "      <td>1.047447e+06</td>\n",
       "    </tr>\n",
       "    <tr>\n",
       "      <th>0.90</th>\n",
       "      <td>184522.205629</td>\n",
       "      <td>178698.500842</td>\n",
       "      <td>0.093080</td>\n",
       "      <td>0.093029</td>\n",
       "      <td>100960.217124</td>\n",
       "      <td>1.049636e+06</td>\n",
       "    </tr>\n",
       "    <tr>\n",
       "      <th>0.95</th>\n",
       "      <td>196417.547786</td>\n",
       "      <td>178574.308732</td>\n",
       "      <td>0.092777</td>\n",
       "      <td>0.090824</td>\n",
       "      <td>105353.218952</td>\n",
       "      <td>1.042216e+06</td>\n",
       "    </tr>\n",
       "  </tbody>\n",
       "</table>\n",
       "</div>"
      ],
      "text/plain": [
       "               E_in          E_out        EV        R²             ME  \\\n",
       "0.05  178692.598747  189928.596632  0.093221  0.093205  101209.515021   \n",
       "0.10  178871.905628  182829.820182  0.093218  0.093201  101265.393348   \n",
       "0.15  179800.114133  176237.789868  0.093222  0.093221  101616.560220   \n",
       "0.20  179315.888998  179101.135440  0.093193  0.093191  101381.845748   \n",
       "0.25  179202.605588  179477.203429  0.093214  0.093207  101956.770200   \n",
       "0.33  179527.387884  178750.274523  0.093208  0.093208  101665.850744   \n",
       "0.40  180756.311549  177026.056452  0.093211  0.093185  102027.661671   \n",
       "0.50  182039.160768  176493.773984  0.093221  0.093043  102854.297342   \n",
       "0.70  178974.034957  179429.940842  0.093032  0.092985  102326.404706   \n",
       "0.90  184522.205629  178698.500842  0.093080  0.093029  100960.217124   \n",
       "0.95  196417.547786  178574.308732  0.092777  0.090824  105353.218952   \n",
       "\n",
       "               MAE  \n",
       "0.05  1.045976e+06  \n",
       "0.10  1.045701e+06  \n",
       "0.15  1.045434e+06  \n",
       "0.20  1.044356e+06  \n",
       "0.25  1.044220e+06  \n",
       "0.33  1.044367e+06  \n",
       "0.40  1.045197e+06  \n",
       "0.50  1.043026e+06  \n",
       "0.70  1.047447e+06  \n",
       "0.90  1.049636e+06  \n",
       "0.95  1.042216e+06  "
      ]
     },
     "execution_count": 101,
     "metadata": {},
     "output_type": "execute_result"
    }
   ],
   "source": [
    "header = stat\n",
    "table = measurement(linrd,test_size,Xd,Yd)\n",
    "print()\n",
    "print('Linear regression error for different training size:')\n",
    "pd.DataFrame(table, columns = header,index = test_size)"
   ]
  },
  {
   "cell_type": "code",
   "execution_count": 102,
   "metadata": {},
   "outputs": [
    {
     "name": "stdout",
     "output_type": "stream",
     "text": [
      "\n",
      "Support Vector Machine (Regression) error for different training size:\n"
     ]
    },
    {
     "data": {
      "text/html": [
       "<div>\n",
       "<style scoped>\n",
       "    .dataframe tbody tr th:only-of-type {\n",
       "        vertical-align: middle;\n",
       "    }\n",
       "\n",
       "    .dataframe tbody tr th {\n",
       "        vertical-align: top;\n",
       "    }\n",
       "\n",
       "    .dataframe thead th {\n",
       "        text-align: right;\n",
       "    }\n",
       "</style>\n",
       "<table border=\"1\" class=\"dataframe\">\n",
       "  <thead>\n",
       "    <tr style=\"text-align: right;\">\n",
       "      <th></th>\n",
       "      <th>E_in</th>\n",
       "      <th>E_out</th>\n",
       "      <th>EV</th>\n",
       "      <th>R²</th>\n",
       "      <th>ME</th>\n",
       "      <th>MAE</th>\n",
       "    </tr>\n",
       "  </thead>\n",
       "  <tbody>\n",
       "    <tr>\n",
       "      <th>0.05</th>\n",
       "      <td>185906.308796</td>\n",
       "      <td>200637.911847</td>\n",
       "      <td>0.087641</td>\n",
       "      <td>0.016804</td>\n",
       "      <td>80479.735650</td>\n",
       "      <td>1.142072e+06</td>\n",
       "    </tr>\n",
       "    <tr>\n",
       "      <th>0.10</th>\n",
       "      <td>186495.404230</td>\n",
       "      <td>192688.666428</td>\n",
       "      <td>0.084884</td>\n",
       "      <td>0.012022</td>\n",
       "      <td>80383.950295</td>\n",
       "      <td>1.145965e+06</td>\n",
       "    </tr>\n",
       "    <tr>\n",
       "      <th>0.15</th>\n",
       "      <td>187803.968328</td>\n",
       "      <td>184413.832571</td>\n",
       "      <td>0.083384</td>\n",
       "      <td>0.010177</td>\n",
       "      <td>80341.619560</td>\n",
       "      <td>1.147524e+06</td>\n",
       "    </tr>\n",
       "    <tr>\n",
       "      <th>0.20</th>\n",
       "      <td>187129.818880</td>\n",
       "      <td>188653.292034</td>\n",
       "      <td>0.082546</td>\n",
       "      <td>0.008734</td>\n",
       "      <td>80331.031870</td>\n",
       "      <td>1.148919e+06</td>\n",
       "    </tr>\n",
       "    <tr>\n",
       "      <th>0.25</th>\n",
       "      <td>187174.240352</td>\n",
       "      <td>188283.323401</td>\n",
       "      <td>0.082043</td>\n",
       "      <td>0.008558</td>\n",
       "      <td>80310.333789</td>\n",
       "      <td>1.149722e+06</td>\n",
       "    </tr>\n",
       "    <tr>\n",
       "      <th>0.33</th>\n",
       "      <td>187546.197194</td>\n",
       "      <td>187234.130711</td>\n",
       "      <td>0.084192</td>\n",
       "      <td>0.008652</td>\n",
       "      <td>80397.895797</td>\n",
       "      <td>1.148357e+06</td>\n",
       "    </tr>\n",
       "    <tr>\n",
       "      <th>0.40</th>\n",
       "      <td>188639.571853</td>\n",
       "      <td>184353.018892</td>\n",
       "      <td>0.082854</td>\n",
       "      <td>0.014003</td>\n",
       "      <td>83238.180840</td>\n",
       "      <td>1.115622e+06</td>\n",
       "    </tr>\n",
       "    <tr>\n",
       "      <th>0.50</th>\n",
       "      <td>190077.508303</td>\n",
       "      <td>183481.634994</td>\n",
       "      <td>0.082786</td>\n",
       "      <td>0.015358</td>\n",
       "      <td>83317.847368</td>\n",
       "      <td>1.115187e+06</td>\n",
       "    </tr>\n",
       "    <tr>\n",
       "      <th>0.70</th>\n",
       "      <td>186338.165412</td>\n",
       "      <td>186020.625096</td>\n",
       "      <td>0.085512</td>\n",
       "      <td>0.022642</td>\n",
       "      <td>83877.778261</td>\n",
       "      <td>1.110079e+06</td>\n",
       "    </tr>\n",
       "    <tr>\n",
       "      <th>0.90</th>\n",
       "      <td>194082.416300</td>\n",
       "      <td>188469.154838</td>\n",
       "      <td>0.079268</td>\n",
       "      <td>-0.008284</td>\n",
       "      <td>81233.560000</td>\n",
       "      <td>1.125822e+06</td>\n",
       "    </tr>\n",
       "    <tr>\n",
       "      <th>0.95</th>\n",
       "      <td>206421.906735</td>\n",
       "      <td>186055.118621</td>\n",
       "      <td>0.086566</td>\n",
       "      <td>0.012027</td>\n",
       "      <td>83072.141253</td>\n",
       "      <td>1.112787e+06</td>\n",
       "    </tr>\n",
       "  </tbody>\n",
       "</table>\n",
       "</div>"
      ],
      "text/plain": [
       "               E_in          E_out        EV        R²            ME  \\\n",
       "0.05  185906.308796  200637.911847  0.087641  0.016804  80479.735650   \n",
       "0.10  186495.404230  192688.666428  0.084884  0.012022  80383.950295   \n",
       "0.15  187803.968328  184413.832571  0.083384  0.010177  80341.619560   \n",
       "0.20  187129.818880  188653.292034  0.082546  0.008734  80331.031870   \n",
       "0.25  187174.240352  188283.323401  0.082043  0.008558  80310.333789   \n",
       "0.33  187546.197194  187234.130711  0.084192  0.008652  80397.895797   \n",
       "0.40  188639.571853  184353.018892  0.082854  0.014003  83238.180840   \n",
       "0.50  190077.508303  183481.634994  0.082786  0.015358  83317.847368   \n",
       "0.70  186338.165412  186020.625096  0.085512  0.022642  83877.778261   \n",
       "0.90  194082.416300  188469.154838  0.079268 -0.008284  81233.560000   \n",
       "0.95  206421.906735  186055.118621  0.086566  0.012027  83072.141253   \n",
       "\n",
       "               MAE  \n",
       "0.05  1.142072e+06  \n",
       "0.10  1.145965e+06  \n",
       "0.15  1.147524e+06  \n",
       "0.20  1.148919e+06  \n",
       "0.25  1.149722e+06  \n",
       "0.33  1.148357e+06  \n",
       "0.40  1.115622e+06  \n",
       "0.50  1.115187e+06  \n",
       "0.70  1.110079e+06  \n",
       "0.90  1.125822e+06  \n",
       "0.95  1.112787e+06  "
      ]
     },
     "execution_count": 102,
     "metadata": {},
     "output_type": "execute_result"
    }
   ],
   "source": [
    "header = stat\n",
    "table = measurement(svm_roptd,test_size,Xd,Yd)\n",
    "print()\n",
    "print('Support Vector Machine (Regression) error for different training size:')\n",
    "pd.DataFrame(table, columns = header,index = test_size)"
   ]
  },
  {
   "cell_type": "code",
   "execution_count": 103,
   "metadata": {},
   "outputs": [
    {
     "ename": "KeyboardInterrupt",
     "evalue": "",
     "output_type": "error",
     "traceback": [
      "\u001b[1;31m---------------------------------------------------------------------------\u001b[0m",
      "\u001b[1;31mKeyboardInterrupt\u001b[0m                         Traceback (most recent call last)",
      "\u001b[1;32m<ipython-input-103-d28a39fa9e0f>\u001b[0m in \u001b[0;36m<module>\u001b[1;34m\u001b[0m\n\u001b[0;32m      1\u001b[0m \u001b[0mheader\u001b[0m \u001b[1;33m=\u001b[0m \u001b[0mstat\u001b[0m\u001b[1;33m\u001b[0m\u001b[1;33m\u001b[0m\u001b[0m\n\u001b[1;32m----> 2\u001b[1;33m \u001b[0mtable\u001b[0m \u001b[1;33m=\u001b[0m \u001b[0mmeasurement\u001b[0m\u001b[1;33m(\u001b[0m\u001b[0mDTR_optd\u001b[0m\u001b[1;33m,\u001b[0m\u001b[0mtest_size\u001b[0m\u001b[1;33m,\u001b[0m\u001b[0mXd\u001b[0m\u001b[1;33m,\u001b[0m\u001b[0mYd\u001b[0m\u001b[1;33m)\u001b[0m\u001b[1;33m\u001b[0m\u001b[1;33m\u001b[0m\u001b[0m\n\u001b[0m\u001b[0;32m      3\u001b[0m \u001b[0mprint\u001b[0m\u001b[1;33m(\u001b[0m\u001b[1;33m)\u001b[0m\u001b[1;33m\u001b[0m\u001b[1;33m\u001b[0m\u001b[0m\n\u001b[0;32m      4\u001b[0m \u001b[0mprint\u001b[0m\u001b[1;33m(\u001b[0m\u001b[1;34m'Decision Tree Regression error for different training size:'\u001b[0m\u001b[1;33m)\u001b[0m\u001b[1;33m\u001b[0m\u001b[1;33m\u001b[0m\u001b[0m\n\u001b[0;32m      5\u001b[0m \u001b[0mpd\u001b[0m\u001b[1;33m.\u001b[0m\u001b[0mDataFrame\u001b[0m\u001b[1;33m(\u001b[0m\u001b[0mtable\u001b[0m\u001b[1;33m,\u001b[0m \u001b[0mcolumns\u001b[0m \u001b[1;33m=\u001b[0m \u001b[0mheader\u001b[0m\u001b[1;33m,\u001b[0m\u001b[0mindex\u001b[0m \u001b[1;33m=\u001b[0m \u001b[0mtest_size\u001b[0m\u001b[1;33m)\u001b[0m\u001b[1;33m\u001b[0m\u001b[1;33m\u001b[0m\u001b[0m\n",
      "\u001b[1;32m<ipython-input-83-289e4e80ca10>\u001b[0m in \u001b[0;36mmeasurement\u001b[1;34m(model, test_size, X, Y)\u001b[0m\n\u001b[0;32m      4\u001b[0m     \u001b[1;32mfor\u001b[0m \u001b[0mi\u001b[0m \u001b[1;32min\u001b[0m \u001b[0mrange\u001b[0m\u001b[1;33m(\u001b[0m\u001b[0mlen\u001b[0m\u001b[1;33m(\u001b[0m\u001b[0mtest_size\u001b[0m\u001b[1;33m)\u001b[0m\u001b[1;33m)\u001b[0m\u001b[1;33m:\u001b[0m\u001b[1;33m\u001b[0m\u001b[1;33m\u001b[0m\u001b[0m\n\u001b[0;32m      5\u001b[0m         \u001b[0mx_train\u001b[0m\u001b[1;33m,\u001b[0m \u001b[0mx_test\u001b[0m\u001b[1;33m,\u001b[0m \u001b[0my_train\u001b[0m\u001b[1;33m,\u001b[0m \u001b[0my_test\u001b[0m \u001b[1;33m=\u001b[0m \u001b[0mtrain_test_split\u001b[0m\u001b[1;33m(\u001b[0m\u001b[0mX\u001b[0m\u001b[1;33m,\u001b[0m \u001b[0mY\u001b[0m\u001b[1;33m,\u001b[0m \u001b[0mtest_size\u001b[0m \u001b[1;33m=\u001b[0m \u001b[0mtest_size\u001b[0m\u001b[1;33m[\u001b[0m\u001b[0mi\u001b[0m\u001b[1;33m]\u001b[0m\u001b[1;33m,\u001b[0m \u001b[0mrandom_state\u001b[0m \u001b[1;33m=\u001b[0m \u001b[1;36m25\u001b[0m\u001b[1;33m)\u001b[0m\u001b[1;33m\u001b[0m\u001b[1;33m\u001b[0m\u001b[0m\n\u001b[1;32m----> 6\u001b[1;33m         \u001b[0mmodel\u001b[0m\u001b[1;33m.\u001b[0m\u001b[0mfit\u001b[0m\u001b[1;33m(\u001b[0m\u001b[0mx_train\u001b[0m\u001b[1;33m,\u001b[0m \u001b[0my_train\u001b[0m\u001b[1;33m)\u001b[0m\u001b[1;33m\u001b[0m\u001b[1;33m\u001b[0m\u001b[0m\n\u001b[0m\u001b[0;32m      7\u001b[0m         \u001b[0mE_in\u001b[0m \u001b[1;33m=\u001b[0m \u001b[0mnp\u001b[0m\u001b[1;33m.\u001b[0m\u001b[0msqrt\u001b[0m\u001b[1;33m(\u001b[0m\u001b[0mmean_squared_error\u001b[0m\u001b[1;33m(\u001b[0m\u001b[0my_train\u001b[0m\u001b[1;33m,\u001b[0m \u001b[0mmodel\u001b[0m\u001b[1;33m.\u001b[0m\u001b[0mpredict\u001b[0m\u001b[1;33m(\u001b[0m\u001b[0mx_train\u001b[0m\u001b[1;33m)\u001b[0m\u001b[1;33m)\u001b[0m\u001b[1;33m)\u001b[0m\u001b[1;33m\u001b[0m\u001b[1;33m\u001b[0m\u001b[0m\n\u001b[0;32m      8\u001b[0m         \u001b[0mE_out\u001b[0m \u001b[1;33m=\u001b[0m \u001b[0mnp\u001b[0m\u001b[1;33m.\u001b[0m\u001b[0msqrt\u001b[0m\u001b[1;33m(\u001b[0m\u001b[0mmean_squared_error\u001b[0m\u001b[1;33m(\u001b[0m\u001b[0my_test\u001b[0m\u001b[1;33m,\u001b[0m \u001b[0mmodel\u001b[0m\u001b[1;33m.\u001b[0m\u001b[0mpredict\u001b[0m\u001b[1;33m(\u001b[0m\u001b[0mx_test\u001b[0m\u001b[1;33m)\u001b[0m\u001b[1;33m)\u001b[0m\u001b[1;33m)\u001b[0m\u001b[1;33m\u001b[0m\u001b[1;33m\u001b[0m\u001b[0m\n",
      "\u001b[1;32mC:\\Anaconda\\envs\\Python Scripts\\lib\\site-packages\\sklearn\\model_selection\\_search.py\u001b[0m in \u001b[0;36mfit\u001b[1;34m(self, X, y, groups, **fit_params)\u001b[0m\n\u001b[0;32m    708\u001b[0m                 \u001b[1;32mreturn\u001b[0m \u001b[0mresults\u001b[0m\u001b[1;33m\u001b[0m\u001b[1;33m\u001b[0m\u001b[0m\n\u001b[0;32m    709\u001b[0m \u001b[1;33m\u001b[0m\u001b[0m\n\u001b[1;32m--> 710\u001b[1;33m             \u001b[0mself\u001b[0m\u001b[1;33m.\u001b[0m\u001b[0m_run_search\u001b[0m\u001b[1;33m(\u001b[0m\u001b[0mevaluate_candidates\u001b[0m\u001b[1;33m)\u001b[0m\u001b[1;33m\u001b[0m\u001b[1;33m\u001b[0m\u001b[0m\n\u001b[0m\u001b[0;32m    711\u001b[0m \u001b[1;33m\u001b[0m\u001b[0m\n\u001b[0;32m    712\u001b[0m         \u001b[1;31m# For multi-metric evaluation, store the best_index_, best_params_ and\u001b[0m\u001b[1;33m\u001b[0m\u001b[1;33m\u001b[0m\u001b[1;33m\u001b[0m\u001b[0m\n",
      "\u001b[1;32mC:\\Anaconda\\envs\\Python Scripts\\lib\\site-packages\\sklearn\\model_selection\\_search.py\u001b[0m in \u001b[0;36m_run_search\u001b[1;34m(self, evaluate_candidates)\u001b[0m\n\u001b[0;32m   1149\u001b[0m     \u001b[1;32mdef\u001b[0m \u001b[0m_run_search\u001b[0m\u001b[1;33m(\u001b[0m\u001b[0mself\u001b[0m\u001b[1;33m,\u001b[0m \u001b[0mevaluate_candidates\u001b[0m\u001b[1;33m)\u001b[0m\u001b[1;33m:\u001b[0m\u001b[1;33m\u001b[0m\u001b[1;33m\u001b[0m\u001b[0m\n\u001b[0;32m   1150\u001b[0m         \u001b[1;34m\"\"\"Search all candidates in param_grid\"\"\"\u001b[0m\u001b[1;33m\u001b[0m\u001b[1;33m\u001b[0m\u001b[0m\n\u001b[1;32m-> 1151\u001b[1;33m         \u001b[0mevaluate_candidates\u001b[0m\u001b[1;33m(\u001b[0m\u001b[0mParameterGrid\u001b[0m\u001b[1;33m(\u001b[0m\u001b[0mself\u001b[0m\u001b[1;33m.\u001b[0m\u001b[0mparam_grid\u001b[0m\u001b[1;33m)\u001b[0m\u001b[1;33m)\u001b[0m\u001b[1;33m\u001b[0m\u001b[1;33m\u001b[0m\u001b[0m\n\u001b[0m\u001b[0;32m   1152\u001b[0m \u001b[1;33m\u001b[0m\u001b[0m\n\u001b[0;32m   1153\u001b[0m \u001b[1;33m\u001b[0m\u001b[0m\n",
      "\u001b[1;32mC:\\Anaconda\\envs\\Python Scripts\\lib\\site-packages\\sklearn\\model_selection\\_search.py\u001b[0m in \u001b[0;36mevaluate_candidates\u001b[1;34m(candidate_params)\u001b[0m\n\u001b[0;32m    687\u001b[0m                                \u001b[1;32mfor\u001b[0m \u001b[0mparameters\u001b[0m\u001b[1;33m,\u001b[0m \u001b[1;33m(\u001b[0m\u001b[0mtrain\u001b[0m\u001b[1;33m,\u001b[0m \u001b[0mtest\u001b[0m\u001b[1;33m)\u001b[0m\u001b[1;33m\u001b[0m\u001b[1;33m\u001b[0m\u001b[0m\n\u001b[0;32m    688\u001b[0m                                in product(candidate_params,\n\u001b[1;32m--> 689\u001b[1;33m                                           cv.split(X, y, groups)))\n\u001b[0m\u001b[0;32m    690\u001b[0m \u001b[1;33m\u001b[0m\u001b[0m\n\u001b[0;32m    691\u001b[0m                 \u001b[1;32mif\u001b[0m \u001b[0mlen\u001b[0m\u001b[1;33m(\u001b[0m\u001b[0mout\u001b[0m\u001b[1;33m)\u001b[0m \u001b[1;33m<\u001b[0m \u001b[1;36m1\u001b[0m\u001b[1;33m:\u001b[0m\u001b[1;33m\u001b[0m\u001b[1;33m\u001b[0m\u001b[0m\n",
      "\u001b[1;32mC:\\Anaconda\\envs\\Python Scripts\\lib\\site-packages\\joblib\\parallel.py\u001b[0m in \u001b[0;36m__call__\u001b[1;34m(self, iterable)\u001b[0m\n\u001b[0;32m   1005\u001b[0m                 \u001b[0mself\u001b[0m\u001b[1;33m.\u001b[0m\u001b[0m_iterating\u001b[0m \u001b[1;33m=\u001b[0m \u001b[0mself\u001b[0m\u001b[1;33m.\u001b[0m\u001b[0m_original_iterator\u001b[0m \u001b[1;32mis\u001b[0m \u001b[1;32mnot\u001b[0m \u001b[1;32mNone\u001b[0m\u001b[1;33m\u001b[0m\u001b[1;33m\u001b[0m\u001b[0m\n\u001b[0;32m   1006\u001b[0m \u001b[1;33m\u001b[0m\u001b[0m\n\u001b[1;32m-> 1007\u001b[1;33m             \u001b[1;32mwhile\u001b[0m \u001b[0mself\u001b[0m\u001b[1;33m.\u001b[0m\u001b[0mdispatch_one_batch\u001b[0m\u001b[1;33m(\u001b[0m\u001b[0miterator\u001b[0m\u001b[1;33m)\u001b[0m\u001b[1;33m:\u001b[0m\u001b[1;33m\u001b[0m\u001b[1;33m\u001b[0m\u001b[0m\n\u001b[0m\u001b[0;32m   1008\u001b[0m                 \u001b[1;32mpass\u001b[0m\u001b[1;33m\u001b[0m\u001b[1;33m\u001b[0m\u001b[0m\n\u001b[0;32m   1009\u001b[0m \u001b[1;33m\u001b[0m\u001b[0m\n",
      "\u001b[1;32mC:\\Anaconda\\envs\\Python Scripts\\lib\\site-packages\\joblib\\parallel.py\u001b[0m in \u001b[0;36mdispatch_one_batch\u001b[1;34m(self, iterator)\u001b[0m\n\u001b[0;32m    833\u001b[0m                 \u001b[1;32mreturn\u001b[0m \u001b[1;32mFalse\u001b[0m\u001b[1;33m\u001b[0m\u001b[1;33m\u001b[0m\u001b[0m\n\u001b[0;32m    834\u001b[0m             \u001b[1;32melse\u001b[0m\u001b[1;33m:\u001b[0m\u001b[1;33m\u001b[0m\u001b[1;33m\u001b[0m\u001b[0m\n\u001b[1;32m--> 835\u001b[1;33m                 \u001b[0mself\u001b[0m\u001b[1;33m.\u001b[0m\u001b[0m_dispatch\u001b[0m\u001b[1;33m(\u001b[0m\u001b[0mtasks\u001b[0m\u001b[1;33m)\u001b[0m\u001b[1;33m\u001b[0m\u001b[1;33m\u001b[0m\u001b[0m\n\u001b[0m\u001b[0;32m    836\u001b[0m                 \u001b[1;32mreturn\u001b[0m \u001b[1;32mTrue\u001b[0m\u001b[1;33m\u001b[0m\u001b[1;33m\u001b[0m\u001b[0m\n\u001b[0;32m    837\u001b[0m \u001b[1;33m\u001b[0m\u001b[0m\n",
      "\u001b[1;32mC:\\Anaconda\\envs\\Python Scripts\\lib\\site-packages\\joblib\\parallel.py\u001b[0m in \u001b[0;36m_dispatch\u001b[1;34m(self, batch)\u001b[0m\n\u001b[0;32m    752\u001b[0m         \u001b[1;32mwith\u001b[0m \u001b[0mself\u001b[0m\u001b[1;33m.\u001b[0m\u001b[0m_lock\u001b[0m\u001b[1;33m:\u001b[0m\u001b[1;33m\u001b[0m\u001b[1;33m\u001b[0m\u001b[0m\n\u001b[0;32m    753\u001b[0m             \u001b[0mjob_idx\u001b[0m \u001b[1;33m=\u001b[0m \u001b[0mlen\u001b[0m\u001b[1;33m(\u001b[0m\u001b[0mself\u001b[0m\u001b[1;33m.\u001b[0m\u001b[0m_jobs\u001b[0m\u001b[1;33m)\u001b[0m\u001b[1;33m\u001b[0m\u001b[1;33m\u001b[0m\u001b[0m\n\u001b[1;32m--> 754\u001b[1;33m             \u001b[0mjob\u001b[0m \u001b[1;33m=\u001b[0m \u001b[0mself\u001b[0m\u001b[1;33m.\u001b[0m\u001b[0m_backend\u001b[0m\u001b[1;33m.\u001b[0m\u001b[0mapply_async\u001b[0m\u001b[1;33m(\u001b[0m\u001b[0mbatch\u001b[0m\u001b[1;33m,\u001b[0m \u001b[0mcallback\u001b[0m\u001b[1;33m=\u001b[0m\u001b[0mcb\u001b[0m\u001b[1;33m)\u001b[0m\u001b[1;33m\u001b[0m\u001b[1;33m\u001b[0m\u001b[0m\n\u001b[0m\u001b[0;32m    755\u001b[0m             \u001b[1;31m# A job can complete so quickly than its callback is\u001b[0m\u001b[1;33m\u001b[0m\u001b[1;33m\u001b[0m\u001b[1;33m\u001b[0m\u001b[0m\n\u001b[0;32m    756\u001b[0m             \u001b[1;31m# called before we get here, causing self._jobs to\u001b[0m\u001b[1;33m\u001b[0m\u001b[1;33m\u001b[0m\u001b[1;33m\u001b[0m\u001b[0m\n",
      "\u001b[1;32mC:\\Anaconda\\envs\\Python Scripts\\lib\\site-packages\\joblib\\_parallel_backends.py\u001b[0m in \u001b[0;36mapply_async\u001b[1;34m(self, func, callback)\u001b[0m\n\u001b[0;32m    207\u001b[0m     \u001b[1;32mdef\u001b[0m \u001b[0mapply_async\u001b[0m\u001b[1;33m(\u001b[0m\u001b[0mself\u001b[0m\u001b[1;33m,\u001b[0m \u001b[0mfunc\u001b[0m\u001b[1;33m,\u001b[0m \u001b[0mcallback\u001b[0m\u001b[1;33m=\u001b[0m\u001b[1;32mNone\u001b[0m\u001b[1;33m)\u001b[0m\u001b[1;33m:\u001b[0m\u001b[1;33m\u001b[0m\u001b[1;33m\u001b[0m\u001b[0m\n\u001b[0;32m    208\u001b[0m         \u001b[1;34m\"\"\"Schedule a func to be run\"\"\"\u001b[0m\u001b[1;33m\u001b[0m\u001b[1;33m\u001b[0m\u001b[0m\n\u001b[1;32m--> 209\u001b[1;33m         \u001b[0mresult\u001b[0m \u001b[1;33m=\u001b[0m \u001b[0mImmediateResult\u001b[0m\u001b[1;33m(\u001b[0m\u001b[0mfunc\u001b[0m\u001b[1;33m)\u001b[0m\u001b[1;33m\u001b[0m\u001b[1;33m\u001b[0m\u001b[0m\n\u001b[0m\u001b[0;32m    210\u001b[0m         \u001b[1;32mif\u001b[0m \u001b[0mcallback\u001b[0m\u001b[1;33m:\u001b[0m\u001b[1;33m\u001b[0m\u001b[1;33m\u001b[0m\u001b[0m\n\u001b[0;32m    211\u001b[0m             \u001b[0mcallback\u001b[0m\u001b[1;33m(\u001b[0m\u001b[0mresult\u001b[0m\u001b[1;33m)\u001b[0m\u001b[1;33m\u001b[0m\u001b[1;33m\u001b[0m\u001b[0m\n",
      "\u001b[1;32mC:\\Anaconda\\envs\\Python Scripts\\lib\\site-packages\\joblib\\_parallel_backends.py\u001b[0m in \u001b[0;36m__init__\u001b[1;34m(self, batch)\u001b[0m\n\u001b[0;32m    588\u001b[0m         \u001b[1;31m# Don't delay the application, to avoid keeping the input\u001b[0m\u001b[1;33m\u001b[0m\u001b[1;33m\u001b[0m\u001b[1;33m\u001b[0m\u001b[0m\n\u001b[0;32m    589\u001b[0m         \u001b[1;31m# arguments in memory\u001b[0m\u001b[1;33m\u001b[0m\u001b[1;33m\u001b[0m\u001b[1;33m\u001b[0m\u001b[0m\n\u001b[1;32m--> 590\u001b[1;33m         \u001b[0mself\u001b[0m\u001b[1;33m.\u001b[0m\u001b[0mresults\u001b[0m \u001b[1;33m=\u001b[0m \u001b[0mbatch\u001b[0m\u001b[1;33m(\u001b[0m\u001b[1;33m)\u001b[0m\u001b[1;33m\u001b[0m\u001b[1;33m\u001b[0m\u001b[0m\n\u001b[0m\u001b[0;32m    591\u001b[0m \u001b[1;33m\u001b[0m\u001b[0m\n\u001b[0;32m    592\u001b[0m     \u001b[1;32mdef\u001b[0m \u001b[0mget\u001b[0m\u001b[1;33m(\u001b[0m\u001b[0mself\u001b[0m\u001b[1;33m)\u001b[0m\u001b[1;33m:\u001b[0m\u001b[1;33m\u001b[0m\u001b[1;33m\u001b[0m\u001b[0m\n",
      "\u001b[1;32mC:\\Anaconda\\envs\\Python Scripts\\lib\\site-packages\\joblib\\parallel.py\u001b[0m in \u001b[0;36m__call__\u001b[1;34m(self)\u001b[0m\n\u001b[0;32m    254\u001b[0m         \u001b[1;32mwith\u001b[0m \u001b[0mparallel_backend\u001b[0m\u001b[1;33m(\u001b[0m\u001b[0mself\u001b[0m\u001b[1;33m.\u001b[0m\u001b[0m_backend\u001b[0m\u001b[1;33m,\u001b[0m \u001b[0mn_jobs\u001b[0m\u001b[1;33m=\u001b[0m\u001b[0mself\u001b[0m\u001b[1;33m.\u001b[0m\u001b[0m_n_jobs\u001b[0m\u001b[1;33m)\u001b[0m\u001b[1;33m:\u001b[0m\u001b[1;33m\u001b[0m\u001b[1;33m\u001b[0m\u001b[0m\n\u001b[0;32m    255\u001b[0m             return [func(*args, **kwargs)\n\u001b[1;32m--> 256\u001b[1;33m                     for func, args, kwargs in self.items]\n\u001b[0m\u001b[0;32m    257\u001b[0m \u001b[1;33m\u001b[0m\u001b[0m\n\u001b[0;32m    258\u001b[0m     \u001b[1;32mdef\u001b[0m \u001b[0m__len__\u001b[0m\u001b[1;33m(\u001b[0m\u001b[0mself\u001b[0m\u001b[1;33m)\u001b[0m\u001b[1;33m:\u001b[0m\u001b[1;33m\u001b[0m\u001b[1;33m\u001b[0m\u001b[0m\n",
      "\u001b[1;32mC:\\Anaconda\\envs\\Python Scripts\\lib\\site-packages\\joblib\\parallel.py\u001b[0m in \u001b[0;36m<listcomp>\u001b[1;34m(.0)\u001b[0m\n\u001b[0;32m    254\u001b[0m         \u001b[1;32mwith\u001b[0m \u001b[0mparallel_backend\u001b[0m\u001b[1;33m(\u001b[0m\u001b[0mself\u001b[0m\u001b[1;33m.\u001b[0m\u001b[0m_backend\u001b[0m\u001b[1;33m,\u001b[0m \u001b[0mn_jobs\u001b[0m\u001b[1;33m=\u001b[0m\u001b[0mself\u001b[0m\u001b[1;33m.\u001b[0m\u001b[0m_n_jobs\u001b[0m\u001b[1;33m)\u001b[0m\u001b[1;33m:\u001b[0m\u001b[1;33m\u001b[0m\u001b[1;33m\u001b[0m\u001b[0m\n\u001b[0;32m    255\u001b[0m             return [func(*args, **kwargs)\n\u001b[1;32m--> 256\u001b[1;33m                     for func, args, kwargs in self.items]\n\u001b[0m\u001b[0;32m    257\u001b[0m \u001b[1;33m\u001b[0m\u001b[0m\n\u001b[0;32m    258\u001b[0m     \u001b[1;32mdef\u001b[0m \u001b[0m__len__\u001b[0m\u001b[1;33m(\u001b[0m\u001b[0mself\u001b[0m\u001b[1;33m)\u001b[0m\u001b[1;33m:\u001b[0m\u001b[1;33m\u001b[0m\u001b[1;33m\u001b[0m\u001b[0m\n",
      "\u001b[1;32mC:\\Anaconda\\envs\\Python Scripts\\lib\\site-packages\\sklearn\\model_selection\\_validation.py\u001b[0m in \u001b[0;36m_fit_and_score\u001b[1;34m(estimator, X, y, scorer, train, test, verbose, parameters, fit_params, return_train_score, return_parameters, return_n_test_samples, return_times, return_estimator, error_score)\u001b[0m\n\u001b[0;32m    513\u001b[0m             \u001b[0mestimator\u001b[0m\u001b[1;33m.\u001b[0m\u001b[0mfit\u001b[0m\u001b[1;33m(\u001b[0m\u001b[0mX_train\u001b[0m\u001b[1;33m,\u001b[0m \u001b[1;33m**\u001b[0m\u001b[0mfit_params\u001b[0m\u001b[1;33m)\u001b[0m\u001b[1;33m\u001b[0m\u001b[1;33m\u001b[0m\u001b[0m\n\u001b[0;32m    514\u001b[0m         \u001b[1;32melse\u001b[0m\u001b[1;33m:\u001b[0m\u001b[1;33m\u001b[0m\u001b[1;33m\u001b[0m\u001b[0m\n\u001b[1;32m--> 515\u001b[1;33m             \u001b[0mestimator\u001b[0m\u001b[1;33m.\u001b[0m\u001b[0mfit\u001b[0m\u001b[1;33m(\u001b[0m\u001b[0mX_train\u001b[0m\u001b[1;33m,\u001b[0m \u001b[0my_train\u001b[0m\u001b[1;33m,\u001b[0m \u001b[1;33m**\u001b[0m\u001b[0mfit_params\u001b[0m\u001b[1;33m)\u001b[0m\u001b[1;33m\u001b[0m\u001b[1;33m\u001b[0m\u001b[0m\n\u001b[0m\u001b[0;32m    516\u001b[0m \u001b[1;33m\u001b[0m\u001b[0m\n\u001b[0;32m    517\u001b[0m     \u001b[1;32mexcept\u001b[0m \u001b[0mException\u001b[0m \u001b[1;32mas\u001b[0m \u001b[0me\u001b[0m\u001b[1;33m:\u001b[0m\u001b[1;33m\u001b[0m\u001b[1;33m\u001b[0m\u001b[0m\n",
      "\u001b[1;32mC:\\Anaconda\\envs\\Python Scripts\\lib\\site-packages\\sklearn\\tree\\_classes.py\u001b[0m in \u001b[0;36mfit\u001b[1;34m(self, X, y, sample_weight, check_input, X_idx_sorted)\u001b[0m\n\u001b[0;32m   1223\u001b[0m             \u001b[0msample_weight\u001b[0m\u001b[1;33m=\u001b[0m\u001b[0msample_weight\u001b[0m\u001b[1;33m,\u001b[0m\u001b[1;33m\u001b[0m\u001b[1;33m\u001b[0m\u001b[0m\n\u001b[0;32m   1224\u001b[0m             \u001b[0mcheck_input\u001b[0m\u001b[1;33m=\u001b[0m\u001b[0mcheck_input\u001b[0m\u001b[1;33m,\u001b[0m\u001b[1;33m\u001b[0m\u001b[1;33m\u001b[0m\u001b[0m\n\u001b[1;32m-> 1225\u001b[1;33m             X_idx_sorted=X_idx_sorted)\n\u001b[0m\u001b[0;32m   1226\u001b[0m         \u001b[1;32mreturn\u001b[0m \u001b[0mself\u001b[0m\u001b[1;33m\u001b[0m\u001b[1;33m\u001b[0m\u001b[0m\n\u001b[0;32m   1227\u001b[0m \u001b[1;33m\u001b[0m\u001b[0m\n",
      "\u001b[1;32mC:\\Anaconda\\envs\\Python Scripts\\lib\\site-packages\\sklearn\\tree\\_classes.py\u001b[0m in \u001b[0;36mfit\u001b[1;34m(self, X, y, sample_weight, check_input, X_idx_sorted)\u001b[0m\n\u001b[0;32m    365\u001b[0m                                            min_impurity_split)\n\u001b[0;32m    366\u001b[0m \u001b[1;33m\u001b[0m\u001b[0m\n\u001b[1;32m--> 367\u001b[1;33m         \u001b[0mbuilder\u001b[0m\u001b[1;33m.\u001b[0m\u001b[0mbuild\u001b[0m\u001b[1;33m(\u001b[0m\u001b[0mself\u001b[0m\u001b[1;33m.\u001b[0m\u001b[0mtree_\u001b[0m\u001b[1;33m,\u001b[0m \u001b[0mX\u001b[0m\u001b[1;33m,\u001b[0m \u001b[0my\u001b[0m\u001b[1;33m,\u001b[0m \u001b[0msample_weight\u001b[0m\u001b[1;33m,\u001b[0m \u001b[0mX_idx_sorted\u001b[0m\u001b[1;33m)\u001b[0m\u001b[1;33m\u001b[0m\u001b[1;33m\u001b[0m\u001b[0m\n\u001b[0m\u001b[0;32m    368\u001b[0m \u001b[1;33m\u001b[0m\u001b[0m\n\u001b[0;32m    369\u001b[0m         \u001b[1;32mif\u001b[0m \u001b[0mself\u001b[0m\u001b[1;33m.\u001b[0m\u001b[0mn_outputs_\u001b[0m \u001b[1;33m==\u001b[0m \u001b[1;36m1\u001b[0m \u001b[1;32mand\u001b[0m \u001b[0mis_classifier\u001b[0m\u001b[1;33m(\u001b[0m\u001b[0mself\u001b[0m\u001b[1;33m)\u001b[0m\u001b[1;33m:\u001b[0m\u001b[1;33m\u001b[0m\u001b[1;33m\u001b[0m\u001b[0m\n",
      "\u001b[1;31mKeyboardInterrupt\u001b[0m: "
     ]
    }
   ],
   "source": [
    "header = stat\n",
    "table = measurement(DTR_optd,test_size,Xd,Yd)\n",
    "print()\n",
    "print('Decision Tree Regression error for different training size:')\n",
    "pd.DataFrame(table, columns = header,index = test_size)"
   ]
  },
  {
   "cell_type": "code",
   "execution_count": 105,
   "metadata": {},
   "outputs": [
    {
     "ename": "KeyboardInterrupt",
     "evalue": "",
     "output_type": "error",
     "traceback": [
      "\u001b[1;31m---------------------------------------------------------------------------\u001b[0m",
      "\u001b[1;31mKeyboardInterrupt\u001b[0m                         Traceback (most recent call last)",
      "\u001b[1;32m<ipython-input-105-fb424b3dcda9>\u001b[0m in \u001b[0;36m<module>\u001b[1;34m\u001b[0m\n\u001b[0;32m      3\u001b[0m     \u001b[1;31m# ignore all caught warnings\u001b[0m\u001b[1;33m\u001b[0m\u001b[1;33m\u001b[0m\u001b[1;33m\u001b[0m\u001b[0m\n\u001b[0;32m      4\u001b[0m     \u001b[0mwarnings\u001b[0m\u001b[1;33m.\u001b[0m\u001b[0mfilterwarnings\u001b[0m\u001b[1;33m(\u001b[0m\u001b[1;34m\"ignore\"\u001b[0m\u001b[1;33m)\u001b[0m\u001b[1;33m\u001b[0m\u001b[1;33m\u001b[0m\u001b[0m\n\u001b[1;32m----> 5\u001b[1;33m     \u001b[0mtable\u001b[0m \u001b[1;33m=\u001b[0m \u001b[0mmeasurement\u001b[0m\u001b[1;33m(\u001b[0m\u001b[0mNNR_optd\u001b[0m\u001b[1;33m,\u001b[0m\u001b[0mtest_size\u001b[0m\u001b[1;33m,\u001b[0m\u001b[0mXd\u001b[0m\u001b[1;33m,\u001b[0m\u001b[0mYd\u001b[0m\u001b[1;33m)\u001b[0m\u001b[1;33m\u001b[0m\u001b[1;33m\u001b[0m\u001b[0m\n\u001b[0m\u001b[0;32m      6\u001b[0m \u001b[0mprint\u001b[0m\u001b[1;33m(\u001b[0m\u001b[1;33m)\u001b[0m\u001b[1;33m\u001b[0m\u001b[1;33m\u001b[0m\u001b[0m\n\u001b[0;32m      7\u001b[0m \u001b[0mprint\u001b[0m\u001b[1;33m(\u001b[0m\u001b[1;34m'Neural network Regression error for different training size:'\u001b[0m\u001b[1;33m)\u001b[0m\u001b[1;33m\u001b[0m\u001b[1;33m\u001b[0m\u001b[0m\n",
      "\u001b[1;32m<ipython-input-83-289e4e80ca10>\u001b[0m in \u001b[0;36mmeasurement\u001b[1;34m(model, test_size, X, Y)\u001b[0m\n\u001b[0;32m      4\u001b[0m     \u001b[1;32mfor\u001b[0m \u001b[0mi\u001b[0m \u001b[1;32min\u001b[0m \u001b[0mrange\u001b[0m\u001b[1;33m(\u001b[0m\u001b[0mlen\u001b[0m\u001b[1;33m(\u001b[0m\u001b[0mtest_size\u001b[0m\u001b[1;33m)\u001b[0m\u001b[1;33m)\u001b[0m\u001b[1;33m:\u001b[0m\u001b[1;33m\u001b[0m\u001b[1;33m\u001b[0m\u001b[0m\n\u001b[0;32m      5\u001b[0m         \u001b[0mx_train\u001b[0m\u001b[1;33m,\u001b[0m \u001b[0mx_test\u001b[0m\u001b[1;33m,\u001b[0m \u001b[0my_train\u001b[0m\u001b[1;33m,\u001b[0m \u001b[0my_test\u001b[0m \u001b[1;33m=\u001b[0m \u001b[0mtrain_test_split\u001b[0m\u001b[1;33m(\u001b[0m\u001b[0mX\u001b[0m\u001b[1;33m,\u001b[0m \u001b[0mY\u001b[0m\u001b[1;33m,\u001b[0m \u001b[0mtest_size\u001b[0m \u001b[1;33m=\u001b[0m \u001b[0mtest_size\u001b[0m\u001b[1;33m[\u001b[0m\u001b[0mi\u001b[0m\u001b[1;33m]\u001b[0m\u001b[1;33m,\u001b[0m \u001b[0mrandom_state\u001b[0m \u001b[1;33m=\u001b[0m \u001b[1;36m25\u001b[0m\u001b[1;33m)\u001b[0m\u001b[1;33m\u001b[0m\u001b[1;33m\u001b[0m\u001b[0m\n\u001b[1;32m----> 6\u001b[1;33m         \u001b[0mmodel\u001b[0m\u001b[1;33m.\u001b[0m\u001b[0mfit\u001b[0m\u001b[1;33m(\u001b[0m\u001b[0mx_train\u001b[0m\u001b[1;33m,\u001b[0m \u001b[0my_train\u001b[0m\u001b[1;33m)\u001b[0m\u001b[1;33m\u001b[0m\u001b[1;33m\u001b[0m\u001b[0m\n\u001b[0m\u001b[0;32m      7\u001b[0m         \u001b[0mE_in\u001b[0m \u001b[1;33m=\u001b[0m \u001b[0mnp\u001b[0m\u001b[1;33m.\u001b[0m\u001b[0msqrt\u001b[0m\u001b[1;33m(\u001b[0m\u001b[0mmean_squared_error\u001b[0m\u001b[1;33m(\u001b[0m\u001b[0my_train\u001b[0m\u001b[1;33m,\u001b[0m \u001b[0mmodel\u001b[0m\u001b[1;33m.\u001b[0m\u001b[0mpredict\u001b[0m\u001b[1;33m(\u001b[0m\u001b[0mx_train\u001b[0m\u001b[1;33m)\u001b[0m\u001b[1;33m)\u001b[0m\u001b[1;33m)\u001b[0m\u001b[1;33m\u001b[0m\u001b[1;33m\u001b[0m\u001b[0m\n\u001b[0;32m      8\u001b[0m         \u001b[0mE_out\u001b[0m \u001b[1;33m=\u001b[0m \u001b[0mnp\u001b[0m\u001b[1;33m.\u001b[0m\u001b[0msqrt\u001b[0m\u001b[1;33m(\u001b[0m\u001b[0mmean_squared_error\u001b[0m\u001b[1;33m(\u001b[0m\u001b[0my_test\u001b[0m\u001b[1;33m,\u001b[0m \u001b[0mmodel\u001b[0m\u001b[1;33m.\u001b[0m\u001b[0mpredict\u001b[0m\u001b[1;33m(\u001b[0m\u001b[0mx_test\u001b[0m\u001b[1;33m)\u001b[0m\u001b[1;33m)\u001b[0m\u001b[1;33m)\u001b[0m\u001b[1;33m\u001b[0m\u001b[1;33m\u001b[0m\u001b[0m\n",
      "\u001b[1;32mC:\\Anaconda\\envs\\Python Scripts\\lib\\site-packages\\sklearn\\model_selection\\_search.py\u001b[0m in \u001b[0;36mfit\u001b[1;34m(self, X, y, groups, **fit_params)\u001b[0m\n\u001b[0;32m    708\u001b[0m                 \u001b[1;32mreturn\u001b[0m \u001b[0mresults\u001b[0m\u001b[1;33m\u001b[0m\u001b[1;33m\u001b[0m\u001b[0m\n\u001b[0;32m    709\u001b[0m \u001b[1;33m\u001b[0m\u001b[0m\n\u001b[1;32m--> 710\u001b[1;33m             \u001b[0mself\u001b[0m\u001b[1;33m.\u001b[0m\u001b[0m_run_search\u001b[0m\u001b[1;33m(\u001b[0m\u001b[0mevaluate_candidates\u001b[0m\u001b[1;33m)\u001b[0m\u001b[1;33m\u001b[0m\u001b[1;33m\u001b[0m\u001b[0m\n\u001b[0m\u001b[0;32m    711\u001b[0m \u001b[1;33m\u001b[0m\u001b[0m\n\u001b[0;32m    712\u001b[0m         \u001b[1;31m# For multi-metric evaluation, store the best_index_, best_params_ and\u001b[0m\u001b[1;33m\u001b[0m\u001b[1;33m\u001b[0m\u001b[1;33m\u001b[0m\u001b[0m\n",
      "\u001b[1;32mC:\\Anaconda\\envs\\Python Scripts\\lib\\site-packages\\sklearn\\model_selection\\_search.py\u001b[0m in \u001b[0;36m_run_search\u001b[1;34m(self, evaluate_candidates)\u001b[0m\n\u001b[0;32m   1149\u001b[0m     \u001b[1;32mdef\u001b[0m \u001b[0m_run_search\u001b[0m\u001b[1;33m(\u001b[0m\u001b[0mself\u001b[0m\u001b[1;33m,\u001b[0m \u001b[0mevaluate_candidates\u001b[0m\u001b[1;33m)\u001b[0m\u001b[1;33m:\u001b[0m\u001b[1;33m\u001b[0m\u001b[1;33m\u001b[0m\u001b[0m\n\u001b[0;32m   1150\u001b[0m         \u001b[1;34m\"\"\"Search all candidates in param_grid\"\"\"\u001b[0m\u001b[1;33m\u001b[0m\u001b[1;33m\u001b[0m\u001b[0m\n\u001b[1;32m-> 1151\u001b[1;33m         \u001b[0mevaluate_candidates\u001b[0m\u001b[1;33m(\u001b[0m\u001b[0mParameterGrid\u001b[0m\u001b[1;33m(\u001b[0m\u001b[0mself\u001b[0m\u001b[1;33m.\u001b[0m\u001b[0mparam_grid\u001b[0m\u001b[1;33m)\u001b[0m\u001b[1;33m)\u001b[0m\u001b[1;33m\u001b[0m\u001b[1;33m\u001b[0m\u001b[0m\n\u001b[0m\u001b[0;32m   1152\u001b[0m \u001b[1;33m\u001b[0m\u001b[0m\n\u001b[0;32m   1153\u001b[0m \u001b[1;33m\u001b[0m\u001b[0m\n",
      "\u001b[1;32mC:\\Anaconda\\envs\\Python Scripts\\lib\\site-packages\\sklearn\\model_selection\\_search.py\u001b[0m in \u001b[0;36mevaluate_candidates\u001b[1;34m(candidate_params)\u001b[0m\n\u001b[0;32m    687\u001b[0m                                \u001b[1;32mfor\u001b[0m \u001b[0mparameters\u001b[0m\u001b[1;33m,\u001b[0m \u001b[1;33m(\u001b[0m\u001b[0mtrain\u001b[0m\u001b[1;33m,\u001b[0m \u001b[0mtest\u001b[0m\u001b[1;33m)\u001b[0m\u001b[1;33m\u001b[0m\u001b[1;33m\u001b[0m\u001b[0m\n\u001b[0;32m    688\u001b[0m                                in product(candidate_params,\n\u001b[1;32m--> 689\u001b[1;33m                                           cv.split(X, y, groups)))\n\u001b[0m\u001b[0;32m    690\u001b[0m \u001b[1;33m\u001b[0m\u001b[0m\n\u001b[0;32m    691\u001b[0m                 \u001b[1;32mif\u001b[0m \u001b[0mlen\u001b[0m\u001b[1;33m(\u001b[0m\u001b[0mout\u001b[0m\u001b[1;33m)\u001b[0m \u001b[1;33m<\u001b[0m \u001b[1;36m1\u001b[0m\u001b[1;33m:\u001b[0m\u001b[1;33m\u001b[0m\u001b[1;33m\u001b[0m\u001b[0m\n",
      "\u001b[1;32mC:\\Anaconda\\envs\\Python Scripts\\lib\\site-packages\\joblib\\parallel.py\u001b[0m in \u001b[0;36m__call__\u001b[1;34m(self, iterable)\u001b[0m\n\u001b[0;32m   1005\u001b[0m                 \u001b[0mself\u001b[0m\u001b[1;33m.\u001b[0m\u001b[0m_iterating\u001b[0m \u001b[1;33m=\u001b[0m \u001b[0mself\u001b[0m\u001b[1;33m.\u001b[0m\u001b[0m_original_iterator\u001b[0m \u001b[1;32mis\u001b[0m \u001b[1;32mnot\u001b[0m \u001b[1;32mNone\u001b[0m\u001b[1;33m\u001b[0m\u001b[1;33m\u001b[0m\u001b[0m\n\u001b[0;32m   1006\u001b[0m \u001b[1;33m\u001b[0m\u001b[0m\n\u001b[1;32m-> 1007\u001b[1;33m             \u001b[1;32mwhile\u001b[0m \u001b[0mself\u001b[0m\u001b[1;33m.\u001b[0m\u001b[0mdispatch_one_batch\u001b[0m\u001b[1;33m(\u001b[0m\u001b[0miterator\u001b[0m\u001b[1;33m)\u001b[0m\u001b[1;33m:\u001b[0m\u001b[1;33m\u001b[0m\u001b[1;33m\u001b[0m\u001b[0m\n\u001b[0m\u001b[0;32m   1008\u001b[0m                 \u001b[1;32mpass\u001b[0m\u001b[1;33m\u001b[0m\u001b[1;33m\u001b[0m\u001b[0m\n\u001b[0;32m   1009\u001b[0m \u001b[1;33m\u001b[0m\u001b[0m\n",
      "\u001b[1;32mC:\\Anaconda\\envs\\Python Scripts\\lib\\site-packages\\joblib\\parallel.py\u001b[0m in \u001b[0;36mdispatch_one_batch\u001b[1;34m(self, iterator)\u001b[0m\n\u001b[0;32m    833\u001b[0m                 \u001b[1;32mreturn\u001b[0m \u001b[1;32mFalse\u001b[0m\u001b[1;33m\u001b[0m\u001b[1;33m\u001b[0m\u001b[0m\n\u001b[0;32m    834\u001b[0m             \u001b[1;32melse\u001b[0m\u001b[1;33m:\u001b[0m\u001b[1;33m\u001b[0m\u001b[1;33m\u001b[0m\u001b[0m\n\u001b[1;32m--> 835\u001b[1;33m                 \u001b[0mself\u001b[0m\u001b[1;33m.\u001b[0m\u001b[0m_dispatch\u001b[0m\u001b[1;33m(\u001b[0m\u001b[0mtasks\u001b[0m\u001b[1;33m)\u001b[0m\u001b[1;33m\u001b[0m\u001b[1;33m\u001b[0m\u001b[0m\n\u001b[0m\u001b[0;32m    836\u001b[0m                 \u001b[1;32mreturn\u001b[0m \u001b[1;32mTrue\u001b[0m\u001b[1;33m\u001b[0m\u001b[1;33m\u001b[0m\u001b[0m\n\u001b[0;32m    837\u001b[0m \u001b[1;33m\u001b[0m\u001b[0m\n",
      "\u001b[1;32mC:\\Anaconda\\envs\\Python Scripts\\lib\\site-packages\\joblib\\parallel.py\u001b[0m in \u001b[0;36m_dispatch\u001b[1;34m(self, batch)\u001b[0m\n\u001b[0;32m    752\u001b[0m         \u001b[1;32mwith\u001b[0m \u001b[0mself\u001b[0m\u001b[1;33m.\u001b[0m\u001b[0m_lock\u001b[0m\u001b[1;33m:\u001b[0m\u001b[1;33m\u001b[0m\u001b[1;33m\u001b[0m\u001b[0m\n\u001b[0;32m    753\u001b[0m             \u001b[0mjob_idx\u001b[0m \u001b[1;33m=\u001b[0m \u001b[0mlen\u001b[0m\u001b[1;33m(\u001b[0m\u001b[0mself\u001b[0m\u001b[1;33m.\u001b[0m\u001b[0m_jobs\u001b[0m\u001b[1;33m)\u001b[0m\u001b[1;33m\u001b[0m\u001b[1;33m\u001b[0m\u001b[0m\n\u001b[1;32m--> 754\u001b[1;33m             \u001b[0mjob\u001b[0m \u001b[1;33m=\u001b[0m \u001b[0mself\u001b[0m\u001b[1;33m.\u001b[0m\u001b[0m_backend\u001b[0m\u001b[1;33m.\u001b[0m\u001b[0mapply_async\u001b[0m\u001b[1;33m(\u001b[0m\u001b[0mbatch\u001b[0m\u001b[1;33m,\u001b[0m \u001b[0mcallback\u001b[0m\u001b[1;33m=\u001b[0m\u001b[0mcb\u001b[0m\u001b[1;33m)\u001b[0m\u001b[1;33m\u001b[0m\u001b[1;33m\u001b[0m\u001b[0m\n\u001b[0m\u001b[0;32m    755\u001b[0m             \u001b[1;31m# A job can complete so quickly than its callback is\u001b[0m\u001b[1;33m\u001b[0m\u001b[1;33m\u001b[0m\u001b[1;33m\u001b[0m\u001b[0m\n\u001b[0;32m    756\u001b[0m             \u001b[1;31m# called before we get here, causing self._jobs to\u001b[0m\u001b[1;33m\u001b[0m\u001b[1;33m\u001b[0m\u001b[1;33m\u001b[0m\u001b[0m\n",
      "\u001b[1;32mC:\\Anaconda\\envs\\Python Scripts\\lib\\site-packages\\joblib\\_parallel_backends.py\u001b[0m in \u001b[0;36mapply_async\u001b[1;34m(self, func, callback)\u001b[0m\n\u001b[0;32m    207\u001b[0m     \u001b[1;32mdef\u001b[0m \u001b[0mapply_async\u001b[0m\u001b[1;33m(\u001b[0m\u001b[0mself\u001b[0m\u001b[1;33m,\u001b[0m \u001b[0mfunc\u001b[0m\u001b[1;33m,\u001b[0m \u001b[0mcallback\u001b[0m\u001b[1;33m=\u001b[0m\u001b[1;32mNone\u001b[0m\u001b[1;33m)\u001b[0m\u001b[1;33m:\u001b[0m\u001b[1;33m\u001b[0m\u001b[1;33m\u001b[0m\u001b[0m\n\u001b[0;32m    208\u001b[0m         \u001b[1;34m\"\"\"Schedule a func to be run\"\"\"\u001b[0m\u001b[1;33m\u001b[0m\u001b[1;33m\u001b[0m\u001b[0m\n\u001b[1;32m--> 209\u001b[1;33m         \u001b[0mresult\u001b[0m \u001b[1;33m=\u001b[0m \u001b[0mImmediateResult\u001b[0m\u001b[1;33m(\u001b[0m\u001b[0mfunc\u001b[0m\u001b[1;33m)\u001b[0m\u001b[1;33m\u001b[0m\u001b[1;33m\u001b[0m\u001b[0m\n\u001b[0m\u001b[0;32m    210\u001b[0m         \u001b[1;32mif\u001b[0m \u001b[0mcallback\u001b[0m\u001b[1;33m:\u001b[0m\u001b[1;33m\u001b[0m\u001b[1;33m\u001b[0m\u001b[0m\n\u001b[0;32m    211\u001b[0m             \u001b[0mcallback\u001b[0m\u001b[1;33m(\u001b[0m\u001b[0mresult\u001b[0m\u001b[1;33m)\u001b[0m\u001b[1;33m\u001b[0m\u001b[1;33m\u001b[0m\u001b[0m\n",
      "\u001b[1;32mC:\\Anaconda\\envs\\Python Scripts\\lib\\site-packages\\joblib\\_parallel_backends.py\u001b[0m in \u001b[0;36m__init__\u001b[1;34m(self, batch)\u001b[0m\n\u001b[0;32m    588\u001b[0m         \u001b[1;31m# Don't delay the application, to avoid keeping the input\u001b[0m\u001b[1;33m\u001b[0m\u001b[1;33m\u001b[0m\u001b[1;33m\u001b[0m\u001b[0m\n\u001b[0;32m    589\u001b[0m         \u001b[1;31m# arguments in memory\u001b[0m\u001b[1;33m\u001b[0m\u001b[1;33m\u001b[0m\u001b[1;33m\u001b[0m\u001b[0m\n\u001b[1;32m--> 590\u001b[1;33m         \u001b[0mself\u001b[0m\u001b[1;33m.\u001b[0m\u001b[0mresults\u001b[0m \u001b[1;33m=\u001b[0m \u001b[0mbatch\u001b[0m\u001b[1;33m(\u001b[0m\u001b[1;33m)\u001b[0m\u001b[1;33m\u001b[0m\u001b[1;33m\u001b[0m\u001b[0m\n\u001b[0m\u001b[0;32m    591\u001b[0m \u001b[1;33m\u001b[0m\u001b[0m\n\u001b[0;32m    592\u001b[0m     \u001b[1;32mdef\u001b[0m \u001b[0mget\u001b[0m\u001b[1;33m(\u001b[0m\u001b[0mself\u001b[0m\u001b[1;33m)\u001b[0m\u001b[1;33m:\u001b[0m\u001b[1;33m\u001b[0m\u001b[1;33m\u001b[0m\u001b[0m\n",
      "\u001b[1;32mC:\\Anaconda\\envs\\Python Scripts\\lib\\site-packages\\joblib\\parallel.py\u001b[0m in \u001b[0;36m__call__\u001b[1;34m(self)\u001b[0m\n\u001b[0;32m    254\u001b[0m         \u001b[1;32mwith\u001b[0m \u001b[0mparallel_backend\u001b[0m\u001b[1;33m(\u001b[0m\u001b[0mself\u001b[0m\u001b[1;33m.\u001b[0m\u001b[0m_backend\u001b[0m\u001b[1;33m,\u001b[0m \u001b[0mn_jobs\u001b[0m\u001b[1;33m=\u001b[0m\u001b[0mself\u001b[0m\u001b[1;33m.\u001b[0m\u001b[0m_n_jobs\u001b[0m\u001b[1;33m)\u001b[0m\u001b[1;33m:\u001b[0m\u001b[1;33m\u001b[0m\u001b[1;33m\u001b[0m\u001b[0m\n\u001b[0;32m    255\u001b[0m             return [func(*args, **kwargs)\n\u001b[1;32m--> 256\u001b[1;33m                     for func, args, kwargs in self.items]\n\u001b[0m\u001b[0;32m    257\u001b[0m \u001b[1;33m\u001b[0m\u001b[0m\n\u001b[0;32m    258\u001b[0m     \u001b[1;32mdef\u001b[0m \u001b[0m__len__\u001b[0m\u001b[1;33m(\u001b[0m\u001b[0mself\u001b[0m\u001b[1;33m)\u001b[0m\u001b[1;33m:\u001b[0m\u001b[1;33m\u001b[0m\u001b[1;33m\u001b[0m\u001b[0m\n",
      "\u001b[1;32mC:\\Anaconda\\envs\\Python Scripts\\lib\\site-packages\\joblib\\parallel.py\u001b[0m in \u001b[0;36m<listcomp>\u001b[1;34m(.0)\u001b[0m\n\u001b[0;32m    254\u001b[0m         \u001b[1;32mwith\u001b[0m \u001b[0mparallel_backend\u001b[0m\u001b[1;33m(\u001b[0m\u001b[0mself\u001b[0m\u001b[1;33m.\u001b[0m\u001b[0m_backend\u001b[0m\u001b[1;33m,\u001b[0m \u001b[0mn_jobs\u001b[0m\u001b[1;33m=\u001b[0m\u001b[0mself\u001b[0m\u001b[1;33m.\u001b[0m\u001b[0m_n_jobs\u001b[0m\u001b[1;33m)\u001b[0m\u001b[1;33m:\u001b[0m\u001b[1;33m\u001b[0m\u001b[1;33m\u001b[0m\u001b[0m\n\u001b[0;32m    255\u001b[0m             return [func(*args, **kwargs)\n\u001b[1;32m--> 256\u001b[1;33m                     for func, args, kwargs in self.items]\n\u001b[0m\u001b[0;32m    257\u001b[0m \u001b[1;33m\u001b[0m\u001b[0m\n\u001b[0;32m    258\u001b[0m     \u001b[1;32mdef\u001b[0m \u001b[0m__len__\u001b[0m\u001b[1;33m(\u001b[0m\u001b[0mself\u001b[0m\u001b[1;33m)\u001b[0m\u001b[1;33m:\u001b[0m\u001b[1;33m\u001b[0m\u001b[1;33m\u001b[0m\u001b[0m\n",
      "\u001b[1;32mC:\\Anaconda\\envs\\Python Scripts\\lib\\site-packages\\sklearn\\model_selection\\_validation.py\u001b[0m in \u001b[0;36m_fit_and_score\u001b[1;34m(estimator, X, y, scorer, train, test, verbose, parameters, fit_params, return_train_score, return_parameters, return_n_test_samples, return_times, return_estimator, error_score)\u001b[0m\n\u001b[0;32m    513\u001b[0m             \u001b[0mestimator\u001b[0m\u001b[1;33m.\u001b[0m\u001b[0mfit\u001b[0m\u001b[1;33m(\u001b[0m\u001b[0mX_train\u001b[0m\u001b[1;33m,\u001b[0m \u001b[1;33m**\u001b[0m\u001b[0mfit_params\u001b[0m\u001b[1;33m)\u001b[0m\u001b[1;33m\u001b[0m\u001b[1;33m\u001b[0m\u001b[0m\n\u001b[0;32m    514\u001b[0m         \u001b[1;32melse\u001b[0m\u001b[1;33m:\u001b[0m\u001b[1;33m\u001b[0m\u001b[1;33m\u001b[0m\u001b[0m\n\u001b[1;32m--> 515\u001b[1;33m             \u001b[0mestimator\u001b[0m\u001b[1;33m.\u001b[0m\u001b[0mfit\u001b[0m\u001b[1;33m(\u001b[0m\u001b[0mX_train\u001b[0m\u001b[1;33m,\u001b[0m \u001b[0my_train\u001b[0m\u001b[1;33m,\u001b[0m \u001b[1;33m**\u001b[0m\u001b[0mfit_params\u001b[0m\u001b[1;33m)\u001b[0m\u001b[1;33m\u001b[0m\u001b[1;33m\u001b[0m\u001b[0m\n\u001b[0m\u001b[0;32m    516\u001b[0m \u001b[1;33m\u001b[0m\u001b[0m\n\u001b[0;32m    517\u001b[0m     \u001b[1;32mexcept\u001b[0m \u001b[0mException\u001b[0m \u001b[1;32mas\u001b[0m \u001b[0me\u001b[0m\u001b[1;33m:\u001b[0m\u001b[1;33m\u001b[0m\u001b[1;33m\u001b[0m\u001b[0m\n",
      "\u001b[1;32mC:\\Anaconda\\envs\\Python Scripts\\lib\\site-packages\\sklearn\\neural_network\\_multilayer_perceptron.py\u001b[0m in \u001b[0;36mfit\u001b[1;34m(self, X, y)\u001b[0m\n\u001b[0;32m    625\u001b[0m         \u001b[0mself\u001b[0m \u001b[1;33m:\u001b[0m \u001b[0mreturns\u001b[0m \u001b[0ma\u001b[0m \u001b[0mtrained\u001b[0m \u001b[0mMLP\u001b[0m \u001b[0mmodel\u001b[0m\u001b[1;33m.\u001b[0m\u001b[1;33m\u001b[0m\u001b[1;33m\u001b[0m\u001b[0m\n\u001b[0;32m    626\u001b[0m         \"\"\"\n\u001b[1;32m--> 627\u001b[1;33m         \u001b[1;32mreturn\u001b[0m \u001b[0mself\u001b[0m\u001b[1;33m.\u001b[0m\u001b[0m_fit\u001b[0m\u001b[1;33m(\u001b[0m\u001b[0mX\u001b[0m\u001b[1;33m,\u001b[0m \u001b[0my\u001b[0m\u001b[1;33m,\u001b[0m \u001b[0mincremental\u001b[0m\u001b[1;33m=\u001b[0m\u001b[1;32mFalse\u001b[0m\u001b[1;33m)\u001b[0m\u001b[1;33m\u001b[0m\u001b[1;33m\u001b[0m\u001b[0m\n\u001b[0m\u001b[0;32m    628\u001b[0m \u001b[1;33m\u001b[0m\u001b[0m\n\u001b[0;32m    629\u001b[0m     \u001b[1;33m@\u001b[0m\u001b[0mproperty\u001b[0m\u001b[1;33m\u001b[0m\u001b[1;33m\u001b[0m\u001b[0m\n",
      "\u001b[1;32mC:\\Anaconda\\envs\\Python Scripts\\lib\\site-packages\\sklearn\\neural_network\\_multilayer_perceptron.py\u001b[0m in \u001b[0;36m_fit\u001b[1;34m(self, X, y, incremental)\u001b[0m\n\u001b[0;32m    373\u001b[0m         \u001b[1;32melif\u001b[0m \u001b[0mself\u001b[0m\u001b[1;33m.\u001b[0m\u001b[0msolver\u001b[0m \u001b[1;33m==\u001b[0m \u001b[1;34m'lbfgs'\u001b[0m\u001b[1;33m:\u001b[0m\u001b[1;33m\u001b[0m\u001b[1;33m\u001b[0m\u001b[0m\n\u001b[0;32m    374\u001b[0m             self._fit_lbfgs(X, y, activations, deltas, coef_grads,\n\u001b[1;32m--> 375\u001b[1;33m                             intercept_grads, layer_units)\n\u001b[0m\u001b[0;32m    376\u001b[0m         \u001b[1;32mreturn\u001b[0m \u001b[0mself\u001b[0m\u001b[1;33m\u001b[0m\u001b[1;33m\u001b[0m\u001b[0m\n\u001b[0;32m    377\u001b[0m \u001b[1;33m\u001b[0m\u001b[0m\n",
      "\u001b[1;32mC:\\Anaconda\\envs\\Python Scripts\\lib\\site-packages\\sklearn\\neural_network\\_multilayer_perceptron.py\u001b[0m in \u001b[0;36m_fit_lbfgs\u001b[1;34m(self, X, y, activations, deltas, coef_grads, intercept_grads, layer_units)\u001b[0m\n\u001b[0;32m    467\u001b[0m                     \u001b[1;34m\"gtol\"\u001b[0m\u001b[1;33m:\u001b[0m \u001b[0mself\u001b[0m\u001b[1;33m.\u001b[0m\u001b[0mtol\u001b[0m\u001b[1;33m\u001b[0m\u001b[1;33m\u001b[0m\u001b[0m\n\u001b[0;32m    468\u001b[0m                 },\n\u001b[1;32m--> 469\u001b[1;33m                 args=(X, y, activations, deltas, coef_grads, intercept_grads))\n\u001b[0m\u001b[0;32m    470\u001b[0m         \u001b[0mself\u001b[0m\u001b[1;33m.\u001b[0m\u001b[0mn_iter_\u001b[0m \u001b[1;33m=\u001b[0m \u001b[0m_check_optimize_result\u001b[0m\u001b[1;33m(\u001b[0m\u001b[1;34m\"lbfgs\"\u001b[0m\u001b[1;33m,\u001b[0m \u001b[0mopt_res\u001b[0m\u001b[1;33m,\u001b[0m \u001b[0mself\u001b[0m\u001b[1;33m.\u001b[0m\u001b[0mmax_iter\u001b[0m\u001b[1;33m)\u001b[0m\u001b[1;33m\u001b[0m\u001b[1;33m\u001b[0m\u001b[0m\n\u001b[0;32m    471\u001b[0m         \u001b[0mself\u001b[0m\u001b[1;33m.\u001b[0m\u001b[0mloss_\u001b[0m \u001b[1;33m=\u001b[0m \u001b[0mopt_res\u001b[0m\u001b[1;33m.\u001b[0m\u001b[0mfun\u001b[0m\u001b[1;33m\u001b[0m\u001b[1;33m\u001b[0m\u001b[0m\n",
      "\u001b[1;32m~\\AppData\\Roaming\\Python\\Python37\\site-packages\\scipy\\optimize\\_minimize.py\u001b[0m in \u001b[0;36mminimize\u001b[1;34m(fun, x0, args, method, jac, hess, hessp, bounds, constraints, tol, callback, options)\u001b[0m\n\u001b[0;32m    598\u001b[0m     \u001b[1;32melif\u001b[0m \u001b[0mmeth\u001b[0m \u001b[1;33m==\u001b[0m \u001b[1;34m'l-bfgs-b'\u001b[0m\u001b[1;33m:\u001b[0m\u001b[1;33m\u001b[0m\u001b[1;33m\u001b[0m\u001b[0m\n\u001b[0;32m    599\u001b[0m         return _minimize_lbfgsb(fun, x0, args, jac, bounds,\n\u001b[1;32m--> 600\u001b[1;33m                                 callback=callback, **options)\n\u001b[0m\u001b[0;32m    601\u001b[0m     \u001b[1;32melif\u001b[0m \u001b[0mmeth\u001b[0m \u001b[1;33m==\u001b[0m \u001b[1;34m'tnc'\u001b[0m\u001b[1;33m:\u001b[0m\u001b[1;33m\u001b[0m\u001b[1;33m\u001b[0m\u001b[0m\n\u001b[0;32m    602\u001b[0m         return _minimize_tnc(fun, x0, args, jac, bounds, callback=callback,\n",
      "\u001b[1;32m~\\AppData\\Roaming\\Python\\Python37\\site-packages\\scipy\\optimize\\lbfgsb.py\u001b[0m in \u001b[0;36m_minimize_lbfgsb\u001b[1;34m(fun, x0, args, jac, bounds, disp, maxcor, ftol, gtol, eps, maxfun, maxiter, iprint, callback, maxls, **unknown_options)\u001b[0m\n\u001b[0;32m    333\u001b[0m             \u001b[1;31m# until the completion of the current minimization iteration.\u001b[0m\u001b[1;33m\u001b[0m\u001b[1;33m\u001b[0m\u001b[1;33m\u001b[0m\u001b[0m\n\u001b[0;32m    334\u001b[0m             \u001b[1;31m# Overwrite f and g:\u001b[0m\u001b[1;33m\u001b[0m\u001b[1;33m\u001b[0m\u001b[1;33m\u001b[0m\u001b[0m\n\u001b[1;32m--> 335\u001b[1;33m             \u001b[0mf\u001b[0m\u001b[1;33m,\u001b[0m \u001b[0mg\u001b[0m \u001b[1;33m=\u001b[0m \u001b[0mfunc_and_grad\u001b[0m\u001b[1;33m(\u001b[0m\u001b[0mx\u001b[0m\u001b[1;33m)\u001b[0m\u001b[1;33m\u001b[0m\u001b[1;33m\u001b[0m\u001b[0m\n\u001b[0m\u001b[0;32m    336\u001b[0m         \u001b[1;32melif\u001b[0m \u001b[0mtask_str\u001b[0m\u001b[1;33m.\u001b[0m\u001b[0mstartswith\u001b[0m\u001b[1;33m(\u001b[0m\u001b[1;34mb'NEW_X'\u001b[0m\u001b[1;33m)\u001b[0m\u001b[1;33m:\u001b[0m\u001b[1;33m\u001b[0m\u001b[1;33m\u001b[0m\u001b[0m\n\u001b[0;32m    337\u001b[0m             \u001b[1;31m# new iteration\u001b[0m\u001b[1;33m\u001b[0m\u001b[1;33m\u001b[0m\u001b[1;33m\u001b[0m\u001b[0m\n",
      "\u001b[1;32m~\\AppData\\Roaming\\Python\\Python37\\site-packages\\scipy\\optimize\\lbfgsb.py\u001b[0m in \u001b[0;36mfunc_and_grad\u001b[1;34m(x)\u001b[0m\n\u001b[0;32m    283\u001b[0m     \u001b[1;32melse\u001b[0m\u001b[1;33m:\u001b[0m\u001b[1;33m\u001b[0m\u001b[1;33m\u001b[0m\u001b[0m\n\u001b[0;32m    284\u001b[0m         \u001b[1;32mdef\u001b[0m \u001b[0mfunc_and_grad\u001b[0m\u001b[1;33m(\u001b[0m\u001b[0mx\u001b[0m\u001b[1;33m)\u001b[0m\u001b[1;33m:\u001b[0m\u001b[1;33m\u001b[0m\u001b[1;33m\u001b[0m\u001b[0m\n\u001b[1;32m--> 285\u001b[1;33m             \u001b[0mf\u001b[0m \u001b[1;33m=\u001b[0m \u001b[0mfun\u001b[0m\u001b[1;33m(\u001b[0m\u001b[0mx\u001b[0m\u001b[1;33m,\u001b[0m \u001b[1;33m*\u001b[0m\u001b[0margs\u001b[0m\u001b[1;33m)\u001b[0m\u001b[1;33m\u001b[0m\u001b[1;33m\u001b[0m\u001b[0m\n\u001b[0m\u001b[0;32m    286\u001b[0m             \u001b[0mg\u001b[0m \u001b[1;33m=\u001b[0m \u001b[0mjac\u001b[0m\u001b[1;33m(\u001b[0m\u001b[0mx\u001b[0m\u001b[1;33m,\u001b[0m \u001b[1;33m*\u001b[0m\u001b[0margs\u001b[0m\u001b[1;33m)\u001b[0m\u001b[1;33m\u001b[0m\u001b[1;33m\u001b[0m\u001b[0m\n\u001b[0;32m    287\u001b[0m             \u001b[1;32mreturn\u001b[0m \u001b[0mf\u001b[0m\u001b[1;33m,\u001b[0m \u001b[0mg\u001b[0m\u001b[1;33m\u001b[0m\u001b[1;33m\u001b[0m\u001b[0m\n",
      "\u001b[1;32m~\\AppData\\Roaming\\Python\\Python37\\site-packages\\scipy\\optimize\\optimize.py\u001b[0m in \u001b[0;36mfunction_wrapper\u001b[1;34m(*wrapper_args)\u001b[0m\n\u001b[0;32m    325\u001b[0m     \u001b[1;32mdef\u001b[0m \u001b[0mfunction_wrapper\u001b[0m\u001b[1;33m(\u001b[0m\u001b[1;33m*\u001b[0m\u001b[0mwrapper_args\u001b[0m\u001b[1;33m)\u001b[0m\u001b[1;33m:\u001b[0m\u001b[1;33m\u001b[0m\u001b[1;33m\u001b[0m\u001b[0m\n\u001b[0;32m    326\u001b[0m         \u001b[0mncalls\u001b[0m\u001b[1;33m[\u001b[0m\u001b[1;36m0\u001b[0m\u001b[1;33m]\u001b[0m \u001b[1;33m+=\u001b[0m \u001b[1;36m1\u001b[0m\u001b[1;33m\u001b[0m\u001b[1;33m\u001b[0m\u001b[0m\n\u001b[1;32m--> 327\u001b[1;33m         \u001b[1;32mreturn\u001b[0m \u001b[0mfunction\u001b[0m\u001b[1;33m(\u001b[0m\u001b[1;33m*\u001b[0m\u001b[1;33m(\u001b[0m\u001b[0mwrapper_args\u001b[0m \u001b[1;33m+\u001b[0m \u001b[0margs\u001b[0m\u001b[1;33m)\u001b[0m\u001b[1;33m)\u001b[0m\u001b[1;33m\u001b[0m\u001b[1;33m\u001b[0m\u001b[0m\n\u001b[0m\u001b[0;32m    328\u001b[0m \u001b[1;33m\u001b[0m\u001b[0m\n\u001b[0;32m    329\u001b[0m     \u001b[1;32mreturn\u001b[0m \u001b[0mncalls\u001b[0m\u001b[1;33m,\u001b[0m \u001b[0mfunction_wrapper\u001b[0m\u001b[1;33m\u001b[0m\u001b[1;33m\u001b[0m\u001b[0m\n",
      "\u001b[1;32m~\\AppData\\Roaming\\Python\\Python37\\site-packages\\scipy\\optimize\\optimize.py\u001b[0m in \u001b[0;36m__call__\u001b[1;34m(self, x, *args)\u001b[0m\n\u001b[0;32m     63\u001b[0m     \u001b[1;32mdef\u001b[0m \u001b[0m__call__\u001b[0m\u001b[1;33m(\u001b[0m\u001b[0mself\u001b[0m\u001b[1;33m,\u001b[0m \u001b[0mx\u001b[0m\u001b[1;33m,\u001b[0m \u001b[1;33m*\u001b[0m\u001b[0margs\u001b[0m\u001b[1;33m)\u001b[0m\u001b[1;33m:\u001b[0m\u001b[1;33m\u001b[0m\u001b[1;33m\u001b[0m\u001b[0m\n\u001b[0;32m     64\u001b[0m         \u001b[0mself\u001b[0m\u001b[1;33m.\u001b[0m\u001b[0mx\u001b[0m \u001b[1;33m=\u001b[0m \u001b[0mnumpy\u001b[0m\u001b[1;33m.\u001b[0m\u001b[0masarray\u001b[0m\u001b[1;33m(\u001b[0m\u001b[0mx\u001b[0m\u001b[1;33m)\u001b[0m\u001b[1;33m.\u001b[0m\u001b[0mcopy\u001b[0m\u001b[1;33m(\u001b[0m\u001b[1;33m)\u001b[0m\u001b[1;33m\u001b[0m\u001b[1;33m\u001b[0m\u001b[0m\n\u001b[1;32m---> 65\u001b[1;33m         \u001b[0mfg\u001b[0m \u001b[1;33m=\u001b[0m \u001b[0mself\u001b[0m\u001b[1;33m.\u001b[0m\u001b[0mfun\u001b[0m\u001b[1;33m(\u001b[0m\u001b[0mx\u001b[0m\u001b[1;33m,\u001b[0m \u001b[1;33m*\u001b[0m\u001b[0margs\u001b[0m\u001b[1;33m)\u001b[0m\u001b[1;33m\u001b[0m\u001b[1;33m\u001b[0m\u001b[0m\n\u001b[0m\u001b[0;32m     66\u001b[0m         \u001b[0mself\u001b[0m\u001b[1;33m.\u001b[0m\u001b[0mjac\u001b[0m \u001b[1;33m=\u001b[0m \u001b[0mfg\u001b[0m\u001b[1;33m[\u001b[0m\u001b[1;36m1\u001b[0m\u001b[1;33m]\u001b[0m\u001b[1;33m\u001b[0m\u001b[1;33m\u001b[0m\u001b[0m\n\u001b[0;32m     67\u001b[0m         \u001b[1;32mreturn\u001b[0m \u001b[0mfg\u001b[0m\u001b[1;33m[\u001b[0m\u001b[1;36m0\u001b[0m\u001b[1;33m]\u001b[0m\u001b[1;33m\u001b[0m\u001b[1;33m\u001b[0m\u001b[0m\n",
      "\u001b[1;32mC:\\Anaconda\\envs\\Python Scripts\\lib\\site-packages\\sklearn\\neural_network\\_multilayer_perceptron.py\u001b[0m in \u001b[0;36m_loss_grad_lbfgs\u001b[1;34m(self, packed_coef_inter, X, y, activations, deltas, coef_grads, intercept_grads)\u001b[0m\n\u001b[0;32m    175\u001b[0m         \u001b[0mself\u001b[0m\u001b[1;33m.\u001b[0m\u001b[0m_unpack\u001b[0m\u001b[1;33m(\u001b[0m\u001b[0mpacked_coef_inter\u001b[0m\u001b[1;33m)\u001b[0m\u001b[1;33m\u001b[0m\u001b[1;33m\u001b[0m\u001b[0m\n\u001b[0;32m    176\u001b[0m         loss, coef_grads, intercept_grads = self._backprop(\n\u001b[1;32m--> 177\u001b[1;33m             X, y, activations, deltas, coef_grads, intercept_grads)\n\u001b[0m\u001b[0;32m    178\u001b[0m         \u001b[0mgrad\u001b[0m \u001b[1;33m=\u001b[0m \u001b[0m_pack\u001b[0m\u001b[1;33m(\u001b[0m\u001b[0mcoef_grads\u001b[0m\u001b[1;33m,\u001b[0m \u001b[0mintercept_grads\u001b[0m\u001b[1;33m)\u001b[0m\u001b[1;33m\u001b[0m\u001b[1;33m\u001b[0m\u001b[0m\n\u001b[0;32m    179\u001b[0m         \u001b[1;32mreturn\u001b[0m \u001b[0mloss\u001b[0m\u001b[1;33m,\u001b[0m \u001b[0mgrad\u001b[0m\u001b[1;33m\u001b[0m\u001b[1;33m\u001b[0m\u001b[0m\n",
      "\u001b[1;32mC:\\Anaconda\\envs\\Python Scripts\\lib\\site-packages\\sklearn\\neural_network\\_multilayer_perceptron.py\u001b[0m in \u001b[0;36m_backprop\u001b[1;34m(self, X, y, activations, deltas, coef_grads, intercept_grads)\u001b[0m\n\u001b[0;32m    219\u001b[0m \u001b[1;33m\u001b[0m\u001b[0m\n\u001b[0;32m    220\u001b[0m         \u001b[1;31m# Forward propagate\u001b[0m\u001b[1;33m\u001b[0m\u001b[1;33m\u001b[0m\u001b[1;33m\u001b[0m\u001b[0m\n\u001b[1;32m--> 221\u001b[1;33m         \u001b[0mactivations\u001b[0m \u001b[1;33m=\u001b[0m \u001b[0mself\u001b[0m\u001b[1;33m.\u001b[0m\u001b[0m_forward_pass\u001b[0m\u001b[1;33m(\u001b[0m\u001b[0mactivations\u001b[0m\u001b[1;33m)\u001b[0m\u001b[1;33m\u001b[0m\u001b[1;33m\u001b[0m\u001b[0m\n\u001b[0m\u001b[0;32m    222\u001b[0m \u001b[1;33m\u001b[0m\u001b[0m\n\u001b[0;32m    223\u001b[0m         \u001b[1;31m# Get loss\u001b[0m\u001b[1;33m\u001b[0m\u001b[1;33m\u001b[0m\u001b[1;33m\u001b[0m\u001b[0m\n",
      "\u001b[1;32mC:\\Anaconda\\envs\\Python Scripts\\lib\\site-packages\\sklearn\\neural_network\\_multilayer_perceptron.py\u001b[0m in \u001b[0;36m_forward_pass\u001b[1;34m(self, activations)\u001b[0m\n\u001b[0;32m    107\u001b[0m             \u001b[1;31m# For the hidden layers\u001b[0m\u001b[1;33m\u001b[0m\u001b[1;33m\u001b[0m\u001b[1;33m\u001b[0m\u001b[0m\n\u001b[0;32m    108\u001b[0m             \u001b[1;32mif\u001b[0m \u001b[1;33m(\u001b[0m\u001b[0mi\u001b[0m \u001b[1;33m+\u001b[0m \u001b[1;36m1\u001b[0m\u001b[1;33m)\u001b[0m \u001b[1;33m!=\u001b[0m \u001b[1;33m(\u001b[0m\u001b[0mself\u001b[0m\u001b[1;33m.\u001b[0m\u001b[0mn_layers_\u001b[0m \u001b[1;33m-\u001b[0m \u001b[1;36m1\u001b[0m\u001b[1;33m)\u001b[0m\u001b[1;33m:\u001b[0m\u001b[1;33m\u001b[0m\u001b[1;33m\u001b[0m\u001b[0m\n\u001b[1;32m--> 109\u001b[1;33m                 \u001b[0mactivations\u001b[0m\u001b[1;33m[\u001b[0m\u001b[0mi\u001b[0m \u001b[1;33m+\u001b[0m \u001b[1;36m1\u001b[0m\u001b[1;33m]\u001b[0m \u001b[1;33m=\u001b[0m \u001b[0mhidden_activation\u001b[0m\u001b[1;33m(\u001b[0m\u001b[0mactivations\u001b[0m\u001b[1;33m[\u001b[0m\u001b[0mi\u001b[0m \u001b[1;33m+\u001b[0m \u001b[1;36m1\u001b[0m\u001b[1;33m]\u001b[0m\u001b[1;33m)\u001b[0m\u001b[1;33m\u001b[0m\u001b[1;33m\u001b[0m\u001b[0m\n\u001b[0m\u001b[0;32m    110\u001b[0m \u001b[1;33m\u001b[0m\u001b[0m\n\u001b[0;32m    111\u001b[0m         \u001b[1;31m# For the last layer\u001b[0m\u001b[1;33m\u001b[0m\u001b[1;33m\u001b[0m\u001b[1;33m\u001b[0m\u001b[0m\n",
      "\u001b[1;32mC:\\Anaconda\\envs\\Python Scripts\\lib\\site-packages\\sklearn\\neural_network\\_base.py\u001b[0m in \u001b[0;36mlogistic\u001b[1;34m(X)\u001b[0m\n\u001b[0;32m     41\u001b[0m         \u001b[0mThe\u001b[0m \u001b[0mtransformed\u001b[0m \u001b[0mdata\u001b[0m\u001b[1;33m.\u001b[0m\u001b[1;33m\u001b[0m\u001b[1;33m\u001b[0m\u001b[0m\n\u001b[0;32m     42\u001b[0m     \"\"\"\n\u001b[1;32m---> 43\u001b[1;33m     \u001b[1;32mreturn\u001b[0m \u001b[0mlogistic_sigmoid\u001b[0m\u001b[1;33m(\u001b[0m\u001b[0mX\u001b[0m\u001b[1;33m,\u001b[0m \u001b[0mout\u001b[0m\u001b[1;33m=\u001b[0m\u001b[0mX\u001b[0m\u001b[1;33m)\u001b[0m\u001b[1;33m\u001b[0m\u001b[1;33m\u001b[0m\u001b[0m\n\u001b[0m\u001b[0;32m     44\u001b[0m \u001b[1;33m\u001b[0m\u001b[0m\n\u001b[0;32m     45\u001b[0m \u001b[1;33m\u001b[0m\u001b[0m\n",
      "\u001b[1;31mKeyboardInterrupt\u001b[0m: "
     ]
    }
   ],
   "source": [
    "header = stat\n",
    "with warnings.catch_warnings():\n",
    "    # ignore all caught warnings\n",
    "    warnings.filterwarnings(\"ignore\")\n",
    "    table = measurement(NNR_optd,test_size,Xd,Yd)\n",
    "print()\n",
    "print('Neural network Regression error for different training size:')\n",
    "pd.DataFrame(table, columns = header,index = test_size)"
   ]
  },
  {
   "cell_type": "code",
   "execution_count": 104,
   "metadata": {},
   "outputs": [
    {
     "name": "stdout",
     "output_type": "stream",
     "text": [
      "\n",
      "K Nearest neighbors error for different training size:\n"
     ]
    },
    {
     "data": {
      "text/html": [
       "<div>\n",
       "<style scoped>\n",
       "    .dataframe tbody tr th:only-of-type {\n",
       "        vertical-align: middle;\n",
       "    }\n",
       "\n",
       "    .dataframe tbody tr th {\n",
       "        vertical-align: top;\n",
       "    }\n",
       "\n",
       "    .dataframe thead th {\n",
       "        text-align: right;\n",
       "    }\n",
       "</style>\n",
       "<table border=\"1\" class=\"dataframe\">\n",
       "  <thead>\n",
       "    <tr style=\"text-align: right;\">\n",
       "      <th></th>\n",
       "      <th>E_in</th>\n",
       "      <th>E_out</th>\n",
       "      <th>EV</th>\n",
       "      <th>R²</th>\n",
       "      <th>ME</th>\n",
       "      <th>MAE</th>\n",
       "    </tr>\n",
       "  </thead>\n",
       "  <tbody>\n",
       "    <tr>\n",
       "      <th>0.05</th>\n",
       "      <td>174301.419220</td>\n",
       "      <td>192047.553057</td>\n",
       "      <td>0.133642</td>\n",
       "      <td>0.133610</td>\n",
       "      <td>90675.666667</td>\n",
       "      <td>1.080972e+06</td>\n",
       "    </tr>\n",
       "    <tr>\n",
       "      <th>0.10</th>\n",
       "      <td>173907.331674</td>\n",
       "      <td>192232.989708</td>\n",
       "      <td>0.128114</td>\n",
       "      <td>0.127715</td>\n",
       "      <td>88821.333333</td>\n",
       "      <td>1.081139e+06</td>\n",
       "    </tr>\n",
       "    <tr>\n",
       "      <th>0.15</th>\n",
       "      <td>173600.665305</td>\n",
       "      <td>186732.063014</td>\n",
       "      <td>0.129771</td>\n",
       "      <td>0.129627</td>\n",
       "      <td>90112.666667</td>\n",
       "      <td>1.008635e+06</td>\n",
       "    </tr>\n",
       "    <tr>\n",
       "      <th>0.20</th>\n",
       "      <td>173423.220396</td>\n",
       "      <td>186659.387618</td>\n",
       "      <td>0.124527</td>\n",
       "      <td>0.124509</td>\n",
       "      <td>92052.222222</td>\n",
       "      <td>1.085822e+06</td>\n",
       "    </tr>\n",
       "    <tr>\n",
       "      <th>0.25</th>\n",
       "      <td>172835.883031</td>\n",
       "      <td>187497.633470</td>\n",
       "      <td>0.120043</td>\n",
       "      <td>0.119871</td>\n",
       "      <td>92633.777778</td>\n",
       "      <td>1.089261e+06</td>\n",
       "    </tr>\n",
       "    <tr>\n",
       "      <th>0.33</th>\n",
       "      <td>172384.253582</td>\n",
       "      <td>187475.547772</td>\n",
       "      <td>0.111026</td>\n",
       "      <td>0.110970</td>\n",
       "      <td>92121.000000</td>\n",
       "      <td>1.095321e+06</td>\n",
       "    </tr>\n",
       "    <tr>\n",
       "      <th>0.40</th>\n",
       "      <td>171989.325927</td>\n",
       "      <td>184442.319217</td>\n",
       "      <td>0.115300</td>\n",
       "      <td>0.115284</td>\n",
       "      <td>91829.333333</td>\n",
       "      <td>1.110685e+06</td>\n",
       "    </tr>\n",
       "    <tr>\n",
       "      <th>0.50</th>\n",
       "      <td>170318.030550</td>\n",
       "      <td>186958.644470</td>\n",
       "      <td>0.097903</td>\n",
       "      <td>0.097635</td>\n",
       "      <td>93650.333333</td>\n",
       "      <td>1.100244e+06</td>\n",
       "    </tr>\n",
       "    <tr>\n",
       "      <th>0.70</th>\n",
       "      <td>166033.527338</td>\n",
       "      <td>185649.720846</td>\n",
       "      <td>0.086006</td>\n",
       "      <td>0.085914</td>\n",
       "      <td>95047.111111</td>\n",
       "      <td>1.122682e+06</td>\n",
       "    </tr>\n",
       "    <tr>\n",
       "      <th>0.90</th>\n",
       "      <td>170594.002195</td>\n",
       "      <td>190040.102483</td>\n",
       "      <td>0.000781</td>\n",
       "      <td>0.000767</td>\n",
       "      <td>95258.111111</td>\n",
       "      <td>1.119427e+06</td>\n",
       "    </tr>\n",
       "    <tr>\n",
       "      <th>0.95</th>\n",
       "      <td>181399.397100</td>\n",
       "      <td>186160.261364</td>\n",
       "      <td>0.024819</td>\n",
       "      <td>0.024640</td>\n",
       "      <td>96083.333333</td>\n",
       "      <td>1.117816e+06</td>\n",
       "    </tr>\n",
       "  </tbody>\n",
       "</table>\n",
       "</div>"
      ],
      "text/plain": [
       "               E_in          E_out        EV        R²            ME  \\\n",
       "0.05  174301.419220  192047.553057  0.133642  0.133610  90675.666667   \n",
       "0.10  173907.331674  192232.989708  0.128114  0.127715  88821.333333   \n",
       "0.15  173600.665305  186732.063014  0.129771  0.129627  90112.666667   \n",
       "0.20  173423.220396  186659.387618  0.124527  0.124509  92052.222222   \n",
       "0.25  172835.883031  187497.633470  0.120043  0.119871  92633.777778   \n",
       "0.33  172384.253582  187475.547772  0.111026  0.110970  92121.000000   \n",
       "0.40  171989.325927  184442.319217  0.115300  0.115284  91829.333333   \n",
       "0.50  170318.030550  186958.644470  0.097903  0.097635  93650.333333   \n",
       "0.70  166033.527338  185649.720846  0.086006  0.085914  95047.111111   \n",
       "0.90  170594.002195  190040.102483  0.000781  0.000767  95258.111111   \n",
       "0.95  181399.397100  186160.261364  0.024819  0.024640  96083.333333   \n",
       "\n",
       "               MAE  \n",
       "0.05  1.080972e+06  \n",
       "0.10  1.081139e+06  \n",
       "0.15  1.008635e+06  \n",
       "0.20  1.085822e+06  \n",
       "0.25  1.089261e+06  \n",
       "0.33  1.095321e+06  \n",
       "0.40  1.110685e+06  \n",
       "0.50  1.100244e+06  \n",
       "0.70  1.122682e+06  \n",
       "0.90  1.119427e+06  \n",
       "0.95  1.117816e+06  "
      ]
     },
     "execution_count": 104,
     "metadata": {},
     "output_type": "execute_result"
    }
   ],
   "source": [
    "header = stat\n",
    "table = measurement(knn_optd,test_size,Xd,Yd)\n",
    "print()\n",
    "print('K Nearest neighbors error for different training size:')\n",
    "pd.DataFrame(table, columns = header,index = test_size)"
   ]
  },
  {
   "cell_type": "markdown",
   "metadata": {},
   "source": [
    "### Discusion"
   ]
  },
  {
   "cell_type": "markdown",
   "metadata": {},
   "source": []
  },
  {
   "cell_type": "markdown",
   "metadata": {},
   "source": [
    "## Conclusion "
   ]
  },
  {
   "cell_type": "code",
   "execution_count": null,
   "metadata": {},
   "outputs": [],
   "source": []
  },
  {
   "cell_type": "markdown",
   "metadata": {},
   "source": [
    "## Bibliography"
   ]
  },
  {
   "cell_type": "markdown",
   "metadata": {},
   "source": [
    " Lecture + ..."
   ]
  },
  {
   "cell_type": "markdown",
   "metadata": {},
   "source": [
    "regression validation: https://dziganto.github.io/cross-validation/data%20science/machine%20learning/model%20tuning/python/Model-Tuning-with-Validation-and-Cross-Validation/\n",
    "regression validation : https://scikit-learn.org/stable/modules/model_evaluation.html\n",
    "\n",
    "#####################################################\"\n",
    "https://www.youtube.com/watch?v=Gol_qOgRqfA\n"
   ]
  }
 ],
 "metadata": {
  "kernelspec": {
   "display_name": "Python 3",
   "language": "python",
   "name": "python3"
  },
  "language_info": {
   "codemirror_mode": {
    "name": "ipython",
    "version": 3
   },
   "file_extension": ".py",
   "mimetype": "text/x-python",
   "name": "python",
   "nbconvert_exporter": "python",
   "pygments_lexer": "ipython3",
   "version": "3.7.3"
  }
 },
 "nbformat": 4,
 "nbformat_minor": 2
}
